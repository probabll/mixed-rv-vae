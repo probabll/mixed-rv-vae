{
  "nbformat": 4,
  "nbformat_minor": 0,
  "metadata": {
    "accelerator": "GPU",
    "colab": {
      "name": "mixed-rv-MNIST.ipynb",
      "provenance": [],
      "collapsed_sections": [],
      "toc_visible": true,
      "include_colab_link": true
    },
    "kernelspec": {
      "display_name": "Python 3",
      "language": "python",
      "name": "python3"
    },
    "language_info": {
      "codemirror_mode": {
        "name": "ipython",
        "version": 3
      },
      "file_extension": ".py",
      "mimetype": "text/x-python",
      "name": "python",
      "nbconvert_exporter": "python",
      "pygments_lexer": "ipython3",
      "version": "3.7.3"
    },
    "widgets": {
      "application/vnd.jupyter.widget-state+json": {
        "e65de971dd04492aae6c5c57d27a32e7": {
          "model_module": "@jupyter-widgets/controls",
          "model_name": "HBoxModel",
          "state": {
            "_view_name": "HBoxView",
            "_dom_classes": [],
            "_model_name": "HBoxModel",
            "_view_module": "@jupyter-widgets/controls",
            "_model_module_version": "1.5.0",
            "_view_count": null,
            "_view_module_version": "1.5.0",
            "box_style": "",
            "layout": "IPY_MODEL_d4b650e82a5546c291a36670097985af",
            "_model_module": "@jupyter-widgets/controls",
            "children": [
              "IPY_MODEL_57e91e953f8c439db170f7e032123766",
              "IPY_MODEL_57e92512599a4e8c857c64618fd42699"
            ]
          }
        },
        "d4b650e82a5546c291a36670097985af": {
          "model_module": "@jupyter-widgets/base",
          "model_name": "LayoutModel",
          "state": {
            "_view_name": "LayoutView",
            "grid_template_rows": null,
            "right": null,
            "justify_content": null,
            "_view_module": "@jupyter-widgets/base",
            "overflow": null,
            "_model_module_version": "1.2.0",
            "_view_count": null,
            "flex_flow": null,
            "width": null,
            "min_width": null,
            "border": null,
            "align_items": null,
            "bottom": null,
            "_model_module": "@jupyter-widgets/base",
            "top": null,
            "grid_column": null,
            "overflow_y": null,
            "overflow_x": null,
            "grid_auto_flow": null,
            "grid_area": null,
            "grid_template_columns": null,
            "flex": null,
            "_model_name": "LayoutModel",
            "justify_items": null,
            "grid_row": null,
            "max_height": null,
            "align_content": null,
            "visibility": null,
            "align_self": null,
            "height": null,
            "min_height": null,
            "padding": null,
            "grid_auto_rows": null,
            "grid_gap": null,
            "max_width": null,
            "order": null,
            "_view_module_version": "1.2.0",
            "grid_template_areas": null,
            "object_position": null,
            "object_fit": null,
            "grid_auto_columns": null,
            "margin": null,
            "display": null,
            "left": null
          }
        },
        "57e91e953f8c439db170f7e032123766": {
          "model_module": "@jupyter-widgets/controls",
          "model_name": "FloatProgressModel",
          "state": {
            "_view_name": "ProgressView",
            "style": "IPY_MODEL_f0e57ee7fb51432ba195411825fc332f",
            "_dom_classes": [],
            "description": "Epoch   1: 100%",
            "_model_name": "FloatProgressModel",
            "bar_style": "success",
            "max": 275,
            "_view_module": "@jupyter-widgets/controls",
            "_model_module_version": "1.5.0",
            "value": 275,
            "_view_count": null,
            "_view_module_version": "1.5.0",
            "orientation": "horizontal",
            "min": 0,
            "description_tooltip": null,
            "_model_module": "@jupyter-widgets/controls",
            "layout": "IPY_MODEL_a506a97e2aee42a1bf7b831906fbf42a"
          }
        },
        "57e92512599a4e8c857c64618fd42699": {
          "model_module": "@jupyter-widgets/controls",
          "model_name": "HTMLModel",
          "state": {
            "_view_name": "HTMLView",
            "style": "IPY_MODEL_b9c042a32598438e8d93dfecc02f4441",
            "_dom_classes": [],
            "description": "",
            "_model_name": "HTMLModel",
            "placeholder": "​",
            "_view_module": "@jupyter-widgets/controls",
            "_model_module_version": "1.5.0",
            "value": " 275/275 [03:22&lt;00:00,  1.36it/s, loss=327, LL=-194, KL_F=3.08, KL_Y=0.473, SFE_base_reward_mean=-195, SFE_base_reward_std=49.7, SFE_reward_mean=29.9, SFE_reward_std=49.7]",
            "_view_count": null,
            "_view_module_version": "1.5.0",
            "description_tooltip": null,
            "_model_module": "@jupyter-widgets/controls",
            "layout": "IPY_MODEL_e5a27a063aa34b438a1ccf2ded479bb6"
          }
        },
        "f0e57ee7fb51432ba195411825fc332f": {
          "model_module": "@jupyter-widgets/controls",
          "model_name": "ProgressStyleModel",
          "state": {
            "_view_name": "StyleView",
            "_model_name": "ProgressStyleModel",
            "description_width": "initial",
            "_view_module": "@jupyter-widgets/base",
            "_model_module_version": "1.5.0",
            "_view_count": null,
            "_view_module_version": "1.2.0",
            "bar_color": null,
            "_model_module": "@jupyter-widgets/controls"
          }
        },
        "a506a97e2aee42a1bf7b831906fbf42a": {
          "model_module": "@jupyter-widgets/base",
          "model_name": "LayoutModel",
          "state": {
            "_view_name": "LayoutView",
            "grid_template_rows": null,
            "right": null,
            "justify_content": null,
            "_view_module": "@jupyter-widgets/base",
            "overflow": null,
            "_model_module_version": "1.2.0",
            "_view_count": null,
            "flex_flow": null,
            "width": null,
            "min_width": null,
            "border": null,
            "align_items": null,
            "bottom": null,
            "_model_module": "@jupyter-widgets/base",
            "top": null,
            "grid_column": null,
            "overflow_y": null,
            "overflow_x": null,
            "grid_auto_flow": null,
            "grid_area": null,
            "grid_template_columns": null,
            "flex": null,
            "_model_name": "LayoutModel",
            "justify_items": null,
            "grid_row": null,
            "max_height": null,
            "align_content": null,
            "visibility": null,
            "align_self": null,
            "height": null,
            "min_height": null,
            "padding": null,
            "grid_auto_rows": null,
            "grid_gap": null,
            "max_width": null,
            "order": null,
            "_view_module_version": "1.2.0",
            "grid_template_areas": null,
            "object_position": null,
            "object_fit": null,
            "grid_auto_columns": null,
            "margin": null,
            "display": null,
            "left": null
          }
        },
        "b9c042a32598438e8d93dfecc02f4441": {
          "model_module": "@jupyter-widgets/controls",
          "model_name": "DescriptionStyleModel",
          "state": {
            "_view_name": "StyleView",
            "_model_name": "DescriptionStyleModel",
            "description_width": "",
            "_view_module": "@jupyter-widgets/base",
            "_model_module_version": "1.5.0",
            "_view_count": null,
            "_view_module_version": "1.2.0",
            "_model_module": "@jupyter-widgets/controls"
          }
        },
        "e5a27a063aa34b438a1ccf2ded479bb6": {
          "model_module": "@jupyter-widgets/base",
          "model_name": "LayoutModel",
          "state": {
            "_view_name": "LayoutView",
            "grid_template_rows": null,
            "right": null,
            "justify_content": null,
            "_view_module": "@jupyter-widgets/base",
            "overflow": null,
            "_model_module_version": "1.2.0",
            "_view_count": null,
            "flex_flow": null,
            "width": null,
            "min_width": null,
            "border": null,
            "align_items": null,
            "bottom": null,
            "_model_module": "@jupyter-widgets/base",
            "top": null,
            "grid_column": null,
            "overflow_y": null,
            "overflow_x": null,
            "grid_auto_flow": null,
            "grid_area": null,
            "grid_template_columns": null,
            "flex": null,
            "_model_name": "LayoutModel",
            "justify_items": null,
            "grid_row": null,
            "max_height": null,
            "align_content": null,
            "visibility": null,
            "align_self": null,
            "height": null,
            "min_height": null,
            "padding": null,
            "grid_auto_rows": null,
            "grid_gap": null,
            "max_width": null,
            "order": null,
            "_view_module_version": "1.2.0",
            "grid_template_areas": null,
            "object_position": null,
            "object_fit": null,
            "grid_auto_columns": null,
            "margin": null,
            "display": null,
            "left": null
          }
        },
        "6b4734cbd6b44c6e8c45ff24cebd2fc7": {
          "model_module": "@jupyter-widgets/controls",
          "model_name": "HBoxModel",
          "state": {
            "_view_name": "HBoxView",
            "_dom_classes": [],
            "_model_name": "HBoxModel",
            "_view_module": "@jupyter-widgets/controls",
            "_model_module_version": "1.5.0",
            "_view_count": null,
            "_view_module_version": "1.5.0",
            "box_style": "",
            "layout": "IPY_MODEL_5a9d597af3614b78aaad13d6d8e22ad4",
            "_model_module": "@jupyter-widgets/controls",
            "children": [
              "IPY_MODEL_319b2e9f83dc44d283ede8f86cf188bd",
              "IPY_MODEL_83e46cdfd35d48789a8810b7e91bb9a7"
            ]
          }
        },
        "5a9d597af3614b78aaad13d6d8e22ad4": {
          "model_module": "@jupyter-widgets/base",
          "model_name": "LayoutModel",
          "state": {
            "_view_name": "LayoutView",
            "grid_template_rows": null,
            "right": null,
            "justify_content": null,
            "_view_module": "@jupyter-widgets/base",
            "overflow": null,
            "_model_module_version": "1.2.0",
            "_view_count": null,
            "flex_flow": null,
            "width": null,
            "min_width": null,
            "border": null,
            "align_items": null,
            "bottom": null,
            "_model_module": "@jupyter-widgets/base",
            "top": null,
            "grid_column": null,
            "overflow_y": null,
            "overflow_x": null,
            "grid_auto_flow": null,
            "grid_area": null,
            "grid_template_columns": null,
            "flex": null,
            "_model_name": "LayoutModel",
            "justify_items": null,
            "grid_row": null,
            "max_height": null,
            "align_content": null,
            "visibility": null,
            "align_self": null,
            "height": null,
            "min_height": null,
            "padding": null,
            "grid_auto_rows": null,
            "grid_gap": null,
            "max_width": null,
            "order": null,
            "_view_module_version": "1.2.0",
            "grid_template_areas": null,
            "object_position": null,
            "object_fit": null,
            "grid_auto_columns": null,
            "margin": null,
            "display": null,
            "left": null
          }
        },
        "319b2e9f83dc44d283ede8f86cf188bd": {
          "model_module": "@jupyter-widgets/controls",
          "model_name": "FloatProgressModel",
          "state": {
            "_view_name": "ProgressView",
            "style": "IPY_MODEL_80c11d2679694bfa97d1a284b3155cd9",
            "_dom_classes": [],
            "description": "Epoch   2: 100%",
            "_model_name": "FloatProgressModel",
            "bar_style": "success",
            "max": 275,
            "_view_module": "@jupyter-widgets/controls",
            "_model_module_version": "1.5.0",
            "value": 275,
            "_view_count": null,
            "_view_module_version": "1.5.0",
            "orientation": "horizontal",
            "min": 0,
            "description_tooltip": null,
            "_model_module": "@jupyter-widgets/controls",
            "layout": "IPY_MODEL_9b4ef8aba2c547949982493856417144"
          }
        },
        "83e46cdfd35d48789a8810b7e91bb9a7": {
          "model_module": "@jupyter-widgets/controls",
          "model_name": "HTMLModel",
          "state": {
            "_view_name": "HTMLView",
            "style": "IPY_MODEL_b2f19ce0b3aa436baa1059d73c76a457",
            "_dom_classes": [],
            "description": "",
            "_model_name": "HTMLModel",
            "placeholder": "​",
            "_view_module": "@jupyter-widgets/controls",
            "_model_module_version": "1.5.0",
            "value": " 275/275 [03:01&lt;00:00,  1.51it/s, loss=200, LL=-187, KL_F=5.45, KL_Y=0.537, SFE_base_reward_mean=-187, SFE_base_reward_std=46.5, SFE_reward_mean=19.6, SFE_reward_std=46.5]",
            "_view_count": null,
            "_view_module_version": "1.5.0",
            "description_tooltip": null,
            "_model_module": "@jupyter-widgets/controls",
            "layout": "IPY_MODEL_f447d97deb5049d585ed3444b986ef7b"
          }
        },
        "80c11d2679694bfa97d1a284b3155cd9": {
          "model_module": "@jupyter-widgets/controls",
          "model_name": "ProgressStyleModel",
          "state": {
            "_view_name": "StyleView",
            "_model_name": "ProgressStyleModel",
            "description_width": "initial",
            "_view_module": "@jupyter-widgets/base",
            "_model_module_version": "1.5.0",
            "_view_count": null,
            "_view_module_version": "1.2.0",
            "bar_color": null,
            "_model_module": "@jupyter-widgets/controls"
          }
        },
        "9b4ef8aba2c547949982493856417144": {
          "model_module": "@jupyter-widgets/base",
          "model_name": "LayoutModel",
          "state": {
            "_view_name": "LayoutView",
            "grid_template_rows": null,
            "right": null,
            "justify_content": null,
            "_view_module": "@jupyter-widgets/base",
            "overflow": null,
            "_model_module_version": "1.2.0",
            "_view_count": null,
            "flex_flow": null,
            "width": null,
            "min_width": null,
            "border": null,
            "align_items": null,
            "bottom": null,
            "_model_module": "@jupyter-widgets/base",
            "top": null,
            "grid_column": null,
            "overflow_y": null,
            "overflow_x": null,
            "grid_auto_flow": null,
            "grid_area": null,
            "grid_template_columns": null,
            "flex": null,
            "_model_name": "LayoutModel",
            "justify_items": null,
            "grid_row": null,
            "max_height": null,
            "align_content": null,
            "visibility": null,
            "align_self": null,
            "height": null,
            "min_height": null,
            "padding": null,
            "grid_auto_rows": null,
            "grid_gap": null,
            "max_width": null,
            "order": null,
            "_view_module_version": "1.2.0",
            "grid_template_areas": null,
            "object_position": null,
            "object_fit": null,
            "grid_auto_columns": null,
            "margin": null,
            "display": null,
            "left": null
          }
        },
        "b2f19ce0b3aa436baa1059d73c76a457": {
          "model_module": "@jupyter-widgets/controls",
          "model_name": "DescriptionStyleModel",
          "state": {
            "_view_name": "StyleView",
            "_model_name": "DescriptionStyleModel",
            "description_width": "",
            "_view_module": "@jupyter-widgets/base",
            "_model_module_version": "1.5.0",
            "_view_count": null,
            "_view_module_version": "1.2.0",
            "_model_module": "@jupyter-widgets/controls"
          }
        },
        "f447d97deb5049d585ed3444b986ef7b": {
          "model_module": "@jupyter-widgets/base",
          "model_name": "LayoutModel",
          "state": {
            "_view_name": "LayoutView",
            "grid_template_rows": null,
            "right": null,
            "justify_content": null,
            "_view_module": "@jupyter-widgets/base",
            "overflow": null,
            "_model_module_version": "1.2.0",
            "_view_count": null,
            "flex_flow": null,
            "width": null,
            "min_width": null,
            "border": null,
            "align_items": null,
            "bottom": null,
            "_model_module": "@jupyter-widgets/base",
            "top": null,
            "grid_column": null,
            "overflow_y": null,
            "overflow_x": null,
            "grid_auto_flow": null,
            "grid_area": null,
            "grid_template_columns": null,
            "flex": null,
            "_model_name": "LayoutModel",
            "justify_items": null,
            "grid_row": null,
            "max_height": null,
            "align_content": null,
            "visibility": null,
            "align_self": null,
            "height": null,
            "min_height": null,
            "padding": null,
            "grid_auto_rows": null,
            "grid_gap": null,
            "max_width": null,
            "order": null,
            "_view_module_version": "1.2.0",
            "grid_template_areas": null,
            "object_position": null,
            "object_fit": null,
            "grid_auto_columns": null,
            "margin": null,
            "display": null,
            "left": null
          }
        },
        "b6e7f02cb3a2422b93f9684657336878": {
          "model_module": "@jupyter-widgets/controls",
          "model_name": "HBoxModel",
          "state": {
            "_view_name": "HBoxView",
            "_dom_classes": [],
            "_model_name": "HBoxModel",
            "_view_module": "@jupyter-widgets/controls",
            "_model_module_version": "1.5.0",
            "_view_count": null,
            "_view_module_version": "1.5.0",
            "box_style": "",
            "layout": "IPY_MODEL_55459517c62f45109d5b107d382cf84f",
            "_model_module": "@jupyter-widgets/controls",
            "children": [
              "IPY_MODEL_c83b6eaffd654aceba5e260d68c68637",
              "IPY_MODEL_62c49c77cff3458eaafe162aa3272be9"
            ]
          }
        },
        "55459517c62f45109d5b107d382cf84f": {
          "model_module": "@jupyter-widgets/base",
          "model_name": "LayoutModel",
          "state": {
            "_view_name": "LayoutView",
            "grid_template_rows": null,
            "right": null,
            "justify_content": null,
            "_view_module": "@jupyter-widgets/base",
            "overflow": null,
            "_model_module_version": "1.2.0",
            "_view_count": null,
            "flex_flow": null,
            "width": null,
            "min_width": null,
            "border": null,
            "align_items": null,
            "bottom": null,
            "_model_module": "@jupyter-widgets/base",
            "top": null,
            "grid_column": null,
            "overflow_y": null,
            "overflow_x": null,
            "grid_auto_flow": null,
            "grid_area": null,
            "grid_template_columns": null,
            "flex": null,
            "_model_name": "LayoutModel",
            "justify_items": null,
            "grid_row": null,
            "max_height": null,
            "align_content": null,
            "visibility": null,
            "align_self": null,
            "height": null,
            "min_height": null,
            "padding": null,
            "grid_auto_rows": null,
            "grid_gap": null,
            "max_width": null,
            "order": null,
            "_view_module_version": "1.2.0",
            "grid_template_areas": null,
            "object_position": null,
            "object_fit": null,
            "grid_auto_columns": null,
            "margin": null,
            "display": null,
            "left": null
          }
        },
        "c83b6eaffd654aceba5e260d68c68637": {
          "model_module": "@jupyter-widgets/controls",
          "model_name": "FloatProgressModel",
          "state": {
            "_view_name": "ProgressView",
            "style": "IPY_MODEL_f72cafedcdd9400d8ae145dcf7859d38",
            "_dom_classes": [],
            "description": "Epoch   3: 100%",
            "_model_name": "FloatProgressModel",
            "bar_style": "success",
            "max": 275,
            "_view_module": "@jupyter-widgets/controls",
            "_model_module_version": "1.5.0",
            "value": 275,
            "_view_count": null,
            "_view_module_version": "1.5.0",
            "orientation": "horizontal",
            "min": 0,
            "description_tooltip": null,
            "_model_module": "@jupyter-widgets/controls",
            "layout": "IPY_MODEL_d999a68cca6548c592eeff4c6a4b3a75"
          }
        },
        "62c49c77cff3458eaafe162aa3272be9": {
          "model_module": "@jupyter-widgets/controls",
          "model_name": "HTMLModel",
          "state": {
            "_view_name": "HTMLView",
            "style": "IPY_MODEL_da2f98c43d734d39a132f6e8b2dd06a4",
            "_dom_classes": [],
            "description": "",
            "_model_name": "HTMLModel",
            "placeholder": "​",
            "_view_module": "@jupyter-widgets/controls",
            "_model_module_version": "1.5.0",
            "value": " 275/275 [00:19&lt;00:00, 13.85it/s, loss=198, LL=-172, KL_F=6.09, KL_Y=0.958, SFE_base_reward_mean=-173, SFE_base_reward_std=44.8, SFE_reward_mean=25, SFE_reward_std=44.8]",
            "_view_count": null,
            "_view_module_version": "1.5.0",
            "description_tooltip": null,
            "_model_module": "@jupyter-widgets/controls",
            "layout": "IPY_MODEL_ab31e69ce8004edbbaa79f6b69dc5beb"
          }
        },
        "f72cafedcdd9400d8ae145dcf7859d38": {
          "model_module": "@jupyter-widgets/controls",
          "model_name": "ProgressStyleModel",
          "state": {
            "_view_name": "StyleView",
            "_model_name": "ProgressStyleModel",
            "description_width": "initial",
            "_view_module": "@jupyter-widgets/base",
            "_model_module_version": "1.5.0",
            "_view_count": null,
            "_view_module_version": "1.2.0",
            "bar_color": null,
            "_model_module": "@jupyter-widgets/controls"
          }
        },
        "d999a68cca6548c592eeff4c6a4b3a75": {
          "model_module": "@jupyter-widgets/base",
          "model_name": "LayoutModel",
          "state": {
            "_view_name": "LayoutView",
            "grid_template_rows": null,
            "right": null,
            "justify_content": null,
            "_view_module": "@jupyter-widgets/base",
            "overflow": null,
            "_model_module_version": "1.2.0",
            "_view_count": null,
            "flex_flow": null,
            "width": null,
            "min_width": null,
            "border": null,
            "align_items": null,
            "bottom": null,
            "_model_module": "@jupyter-widgets/base",
            "top": null,
            "grid_column": null,
            "overflow_y": null,
            "overflow_x": null,
            "grid_auto_flow": null,
            "grid_area": null,
            "grid_template_columns": null,
            "flex": null,
            "_model_name": "LayoutModel",
            "justify_items": null,
            "grid_row": null,
            "max_height": null,
            "align_content": null,
            "visibility": null,
            "align_self": null,
            "height": null,
            "min_height": null,
            "padding": null,
            "grid_auto_rows": null,
            "grid_gap": null,
            "max_width": null,
            "order": null,
            "_view_module_version": "1.2.0",
            "grid_template_areas": null,
            "object_position": null,
            "object_fit": null,
            "grid_auto_columns": null,
            "margin": null,
            "display": null,
            "left": null
          }
        },
        "da2f98c43d734d39a132f6e8b2dd06a4": {
          "model_module": "@jupyter-widgets/controls",
          "model_name": "DescriptionStyleModel",
          "state": {
            "_view_name": "StyleView",
            "_model_name": "DescriptionStyleModel",
            "description_width": "",
            "_view_module": "@jupyter-widgets/base",
            "_model_module_version": "1.5.0",
            "_view_count": null,
            "_view_module_version": "1.2.0",
            "_model_module": "@jupyter-widgets/controls"
          }
        },
        "ab31e69ce8004edbbaa79f6b69dc5beb": {
          "model_module": "@jupyter-widgets/base",
          "model_name": "LayoutModel",
          "state": {
            "_view_name": "LayoutView",
            "grid_template_rows": null,
            "right": null,
            "justify_content": null,
            "_view_module": "@jupyter-widgets/base",
            "overflow": null,
            "_model_module_version": "1.2.0",
            "_view_count": null,
            "flex_flow": null,
            "width": null,
            "min_width": null,
            "border": null,
            "align_items": null,
            "bottom": null,
            "_model_module": "@jupyter-widgets/base",
            "top": null,
            "grid_column": null,
            "overflow_y": null,
            "overflow_x": null,
            "grid_auto_flow": null,
            "grid_area": null,
            "grid_template_columns": null,
            "flex": null,
            "_model_name": "LayoutModel",
            "justify_items": null,
            "grid_row": null,
            "max_height": null,
            "align_content": null,
            "visibility": null,
            "align_self": null,
            "height": null,
            "min_height": null,
            "padding": null,
            "grid_auto_rows": null,
            "grid_gap": null,
            "max_width": null,
            "order": null,
            "_view_module_version": "1.2.0",
            "grid_template_areas": null,
            "object_position": null,
            "object_fit": null,
            "grid_auto_columns": null,
            "margin": null,
            "display": null,
            "left": null
          }
        },
        "f07e33efeddd43c8aa16fe149f93253c": {
          "model_module": "@jupyter-widgets/controls",
          "model_name": "HBoxModel",
          "state": {
            "_view_name": "HBoxView",
            "_dom_classes": [],
            "_model_name": "HBoxModel",
            "_view_module": "@jupyter-widgets/controls",
            "_model_module_version": "1.5.0",
            "_view_count": null,
            "_view_module_version": "1.5.0",
            "box_style": "",
            "layout": "IPY_MODEL_1c2d57e1fcfe426885a9501881576b95",
            "_model_module": "@jupyter-widgets/controls",
            "children": [
              "IPY_MODEL_f964db1c75a04a4c9023501cc1bf1aa7",
              "IPY_MODEL_8e4e8812bef544af9c8109412666c4c6"
            ]
          }
        },
        "1c2d57e1fcfe426885a9501881576b95": {
          "model_module": "@jupyter-widgets/base",
          "model_name": "LayoutModel",
          "state": {
            "_view_name": "LayoutView",
            "grid_template_rows": null,
            "right": null,
            "justify_content": null,
            "_view_module": "@jupyter-widgets/base",
            "overflow": null,
            "_model_module_version": "1.2.0",
            "_view_count": null,
            "flex_flow": null,
            "width": null,
            "min_width": null,
            "border": null,
            "align_items": null,
            "bottom": null,
            "_model_module": "@jupyter-widgets/base",
            "top": null,
            "grid_column": null,
            "overflow_y": null,
            "overflow_x": null,
            "grid_auto_flow": null,
            "grid_area": null,
            "grid_template_columns": null,
            "flex": null,
            "_model_name": "LayoutModel",
            "justify_items": null,
            "grid_row": null,
            "max_height": null,
            "align_content": null,
            "visibility": null,
            "align_self": null,
            "height": null,
            "min_height": null,
            "padding": null,
            "grid_auto_rows": null,
            "grid_gap": null,
            "max_width": null,
            "order": null,
            "_view_module_version": "1.2.0",
            "grid_template_areas": null,
            "object_position": null,
            "object_fit": null,
            "grid_auto_columns": null,
            "margin": null,
            "display": null,
            "left": null
          }
        },
        "f964db1c75a04a4c9023501cc1bf1aa7": {
          "model_module": "@jupyter-widgets/controls",
          "model_name": "FloatProgressModel",
          "state": {
            "_view_name": "ProgressView",
            "style": "IPY_MODEL_82acb5fd61f24c93a0f10784eda610bc",
            "_dom_classes": [],
            "description": "Epoch   4: 100%",
            "_model_name": "FloatProgressModel",
            "bar_style": "success",
            "max": 275,
            "_view_module": "@jupyter-widgets/controls",
            "_model_module_version": "1.5.0",
            "value": 275,
            "_view_count": null,
            "_view_module_version": "1.5.0",
            "orientation": "horizontal",
            "min": 0,
            "description_tooltip": null,
            "_model_module": "@jupyter-widgets/controls",
            "layout": "IPY_MODEL_0a5172a90f64416ca94cf272f61f1fe5"
          }
        },
        "8e4e8812bef544af9c8109412666c4c6": {
          "model_module": "@jupyter-widgets/controls",
          "model_name": "HTMLModel",
          "state": {
            "_view_name": "HTMLView",
            "style": "IPY_MODEL_629f21eb75f34887aad25297d2d015a0",
            "_dom_classes": [],
            "description": "",
            "_model_name": "HTMLModel",
            "placeholder": "​",
            "_view_module": "@jupyter-widgets/controls",
            "_model_module_version": "1.5.0",
            "value": " 275/275 [02:21&lt;00:00,  1.94it/s, loss=188, LL=-164, KL_F=6.43, KL_Y=1.07, SFE_base_reward_mean=-165, SFE_base_reward_std=43.5, SFE_reward_mean=26.4, SFE_reward_std=43.5]",
            "_view_count": null,
            "_view_module_version": "1.5.0",
            "description_tooltip": null,
            "_model_module": "@jupyter-widgets/controls",
            "layout": "IPY_MODEL_6fa3356ebf16403e9cceffca45b78728"
          }
        },
        "82acb5fd61f24c93a0f10784eda610bc": {
          "model_module": "@jupyter-widgets/controls",
          "model_name": "ProgressStyleModel",
          "state": {
            "_view_name": "StyleView",
            "_model_name": "ProgressStyleModel",
            "description_width": "initial",
            "_view_module": "@jupyter-widgets/base",
            "_model_module_version": "1.5.0",
            "_view_count": null,
            "_view_module_version": "1.2.0",
            "bar_color": null,
            "_model_module": "@jupyter-widgets/controls"
          }
        },
        "0a5172a90f64416ca94cf272f61f1fe5": {
          "model_module": "@jupyter-widgets/base",
          "model_name": "LayoutModel",
          "state": {
            "_view_name": "LayoutView",
            "grid_template_rows": null,
            "right": null,
            "justify_content": null,
            "_view_module": "@jupyter-widgets/base",
            "overflow": null,
            "_model_module_version": "1.2.0",
            "_view_count": null,
            "flex_flow": null,
            "width": null,
            "min_width": null,
            "border": null,
            "align_items": null,
            "bottom": null,
            "_model_module": "@jupyter-widgets/base",
            "top": null,
            "grid_column": null,
            "overflow_y": null,
            "overflow_x": null,
            "grid_auto_flow": null,
            "grid_area": null,
            "grid_template_columns": null,
            "flex": null,
            "_model_name": "LayoutModel",
            "justify_items": null,
            "grid_row": null,
            "max_height": null,
            "align_content": null,
            "visibility": null,
            "align_self": null,
            "height": null,
            "min_height": null,
            "padding": null,
            "grid_auto_rows": null,
            "grid_gap": null,
            "max_width": null,
            "order": null,
            "_view_module_version": "1.2.0",
            "grid_template_areas": null,
            "object_position": null,
            "object_fit": null,
            "grid_auto_columns": null,
            "margin": null,
            "display": null,
            "left": null
          }
        },
        "629f21eb75f34887aad25297d2d015a0": {
          "model_module": "@jupyter-widgets/controls",
          "model_name": "DescriptionStyleModel",
          "state": {
            "_view_name": "StyleView",
            "_model_name": "DescriptionStyleModel",
            "description_width": "",
            "_view_module": "@jupyter-widgets/base",
            "_model_module_version": "1.5.0",
            "_view_count": null,
            "_view_module_version": "1.2.0",
            "_model_module": "@jupyter-widgets/controls"
          }
        },
        "6fa3356ebf16403e9cceffca45b78728": {
          "model_module": "@jupyter-widgets/base",
          "model_name": "LayoutModel",
          "state": {
            "_view_name": "LayoutView",
            "grid_template_rows": null,
            "right": null,
            "justify_content": null,
            "_view_module": "@jupyter-widgets/base",
            "overflow": null,
            "_model_module_version": "1.2.0",
            "_view_count": null,
            "flex_flow": null,
            "width": null,
            "min_width": null,
            "border": null,
            "align_items": null,
            "bottom": null,
            "_model_module": "@jupyter-widgets/base",
            "top": null,
            "grid_column": null,
            "overflow_y": null,
            "overflow_x": null,
            "grid_auto_flow": null,
            "grid_area": null,
            "grid_template_columns": null,
            "flex": null,
            "_model_name": "LayoutModel",
            "justify_items": null,
            "grid_row": null,
            "max_height": null,
            "align_content": null,
            "visibility": null,
            "align_self": null,
            "height": null,
            "min_height": null,
            "padding": null,
            "grid_auto_rows": null,
            "grid_gap": null,
            "max_width": null,
            "order": null,
            "_view_module_version": "1.2.0",
            "grid_template_areas": null,
            "object_position": null,
            "object_fit": null,
            "grid_auto_columns": null,
            "margin": null,
            "display": null,
            "left": null
          }
        },
        "f0cfdaae699f435c9935ea118d48b678": {
          "model_module": "@jupyter-widgets/controls",
          "model_name": "HBoxModel",
          "state": {
            "_view_name": "HBoxView",
            "_dom_classes": [],
            "_model_name": "HBoxModel",
            "_view_module": "@jupyter-widgets/controls",
            "_model_module_version": "1.5.0",
            "_view_count": null,
            "_view_module_version": "1.5.0",
            "box_style": "",
            "layout": "IPY_MODEL_b00e7139c947464c8fb611545266aa6a",
            "_model_module": "@jupyter-widgets/controls",
            "children": [
              "IPY_MODEL_53270b472ac1424ab9db80b5aec5a08b",
              "IPY_MODEL_756cfc2562d74babb1982157096d6234"
            ]
          }
        },
        "b00e7139c947464c8fb611545266aa6a": {
          "model_module": "@jupyter-widgets/base",
          "model_name": "LayoutModel",
          "state": {
            "_view_name": "LayoutView",
            "grid_template_rows": null,
            "right": null,
            "justify_content": null,
            "_view_module": "@jupyter-widgets/base",
            "overflow": null,
            "_model_module_version": "1.2.0",
            "_view_count": null,
            "flex_flow": null,
            "width": null,
            "min_width": null,
            "border": null,
            "align_items": null,
            "bottom": null,
            "_model_module": "@jupyter-widgets/base",
            "top": null,
            "grid_column": null,
            "overflow_y": null,
            "overflow_x": null,
            "grid_auto_flow": null,
            "grid_area": null,
            "grid_template_columns": null,
            "flex": null,
            "_model_name": "LayoutModel",
            "justify_items": null,
            "grid_row": null,
            "max_height": null,
            "align_content": null,
            "visibility": null,
            "align_self": null,
            "height": null,
            "min_height": null,
            "padding": null,
            "grid_auto_rows": null,
            "grid_gap": null,
            "max_width": null,
            "order": null,
            "_view_module_version": "1.2.0",
            "grid_template_areas": null,
            "object_position": null,
            "object_fit": null,
            "grid_auto_columns": null,
            "margin": null,
            "display": null,
            "left": null
          }
        },
        "53270b472ac1424ab9db80b5aec5a08b": {
          "model_module": "@jupyter-widgets/controls",
          "model_name": "FloatProgressModel",
          "state": {
            "_view_name": "ProgressView",
            "style": "IPY_MODEL_a16c940adf594510a7be305489ad4a4e",
            "_dom_classes": [],
            "description": "Epoch   5: 100%",
            "_model_name": "FloatProgressModel",
            "bar_style": "success",
            "max": 275,
            "_view_module": "@jupyter-widgets/controls",
            "_model_module_version": "1.5.0",
            "value": 275,
            "_view_count": null,
            "_view_module_version": "1.5.0",
            "orientation": "horizontal",
            "min": 0,
            "description_tooltip": null,
            "_model_module": "@jupyter-widgets/controls",
            "layout": "IPY_MODEL_2d2aa1355afe4e68b6b25b90b586d343"
          }
        },
        "756cfc2562d74babb1982157096d6234": {
          "model_module": "@jupyter-widgets/controls",
          "model_name": "HTMLModel",
          "state": {
            "_view_name": "HTMLView",
            "style": "IPY_MODEL_286c90e15c1c4ab187573f5ad2fcbdb2",
            "_dom_classes": [],
            "description": "",
            "_model_name": "HTMLModel",
            "placeholder": "​",
            "_view_module": "@jupyter-widgets/controls",
            "_model_module_version": "1.5.0",
            "value": " 275/275 [02:01&lt;00:00,  2.26it/s, loss=174, LL=-155, KL_F=6.5, KL_Y=1.13, SFE_base_reward_mean=-156, SFE_base_reward_std=49.6, SFE_reward_mean=30.6, SFE_reward_std=49.6]",
            "_view_count": null,
            "_view_module_version": "1.5.0",
            "description_tooltip": null,
            "_model_module": "@jupyter-widgets/controls",
            "layout": "IPY_MODEL_4d5e50410c5a46099915d54c9dec0662"
          }
        },
        "a16c940adf594510a7be305489ad4a4e": {
          "model_module": "@jupyter-widgets/controls",
          "model_name": "ProgressStyleModel",
          "state": {
            "_view_name": "StyleView",
            "_model_name": "ProgressStyleModel",
            "description_width": "initial",
            "_view_module": "@jupyter-widgets/base",
            "_model_module_version": "1.5.0",
            "_view_count": null,
            "_view_module_version": "1.2.0",
            "bar_color": null,
            "_model_module": "@jupyter-widgets/controls"
          }
        },
        "2d2aa1355afe4e68b6b25b90b586d343": {
          "model_module": "@jupyter-widgets/base",
          "model_name": "LayoutModel",
          "state": {
            "_view_name": "LayoutView",
            "grid_template_rows": null,
            "right": null,
            "justify_content": null,
            "_view_module": "@jupyter-widgets/base",
            "overflow": null,
            "_model_module_version": "1.2.0",
            "_view_count": null,
            "flex_flow": null,
            "width": null,
            "min_width": null,
            "border": null,
            "align_items": null,
            "bottom": null,
            "_model_module": "@jupyter-widgets/base",
            "top": null,
            "grid_column": null,
            "overflow_y": null,
            "overflow_x": null,
            "grid_auto_flow": null,
            "grid_area": null,
            "grid_template_columns": null,
            "flex": null,
            "_model_name": "LayoutModel",
            "justify_items": null,
            "grid_row": null,
            "max_height": null,
            "align_content": null,
            "visibility": null,
            "align_self": null,
            "height": null,
            "min_height": null,
            "padding": null,
            "grid_auto_rows": null,
            "grid_gap": null,
            "max_width": null,
            "order": null,
            "_view_module_version": "1.2.0",
            "grid_template_areas": null,
            "object_position": null,
            "object_fit": null,
            "grid_auto_columns": null,
            "margin": null,
            "display": null,
            "left": null
          }
        },
        "286c90e15c1c4ab187573f5ad2fcbdb2": {
          "model_module": "@jupyter-widgets/controls",
          "model_name": "DescriptionStyleModel",
          "state": {
            "_view_name": "StyleView",
            "_model_name": "DescriptionStyleModel",
            "description_width": "",
            "_view_module": "@jupyter-widgets/base",
            "_model_module_version": "1.5.0",
            "_view_count": null,
            "_view_module_version": "1.2.0",
            "_model_module": "@jupyter-widgets/controls"
          }
        },
        "4d5e50410c5a46099915d54c9dec0662": {
          "model_module": "@jupyter-widgets/base",
          "model_name": "LayoutModel",
          "state": {
            "_view_name": "LayoutView",
            "grid_template_rows": null,
            "right": null,
            "justify_content": null,
            "_view_module": "@jupyter-widgets/base",
            "overflow": null,
            "_model_module_version": "1.2.0",
            "_view_count": null,
            "flex_flow": null,
            "width": null,
            "min_width": null,
            "border": null,
            "align_items": null,
            "bottom": null,
            "_model_module": "@jupyter-widgets/base",
            "top": null,
            "grid_column": null,
            "overflow_y": null,
            "overflow_x": null,
            "grid_auto_flow": null,
            "grid_area": null,
            "grid_template_columns": null,
            "flex": null,
            "_model_name": "LayoutModel",
            "justify_items": null,
            "grid_row": null,
            "max_height": null,
            "align_content": null,
            "visibility": null,
            "align_self": null,
            "height": null,
            "min_height": null,
            "padding": null,
            "grid_auto_rows": null,
            "grid_gap": null,
            "max_width": null,
            "order": null,
            "_view_module_version": "1.2.0",
            "grid_template_areas": null,
            "object_position": null,
            "object_fit": null,
            "grid_auto_columns": null,
            "margin": null,
            "display": null,
            "left": null
          }
        },
        "5d1ea3cf72594ec8aeb4fe4f85854f68": {
          "model_module": "@jupyter-widgets/controls",
          "model_name": "HBoxModel",
          "state": {
            "_view_name": "HBoxView",
            "_dom_classes": [],
            "_model_name": "HBoxModel",
            "_view_module": "@jupyter-widgets/controls",
            "_model_module_version": "1.5.0",
            "_view_count": null,
            "_view_module_version": "1.5.0",
            "box_style": "",
            "layout": "IPY_MODEL_e0fef07f7d9041d9b16e3c61121e67e0",
            "_model_module": "@jupyter-widgets/controls",
            "children": [
              "IPY_MODEL_b97d27f293bf49e6b3cf113d7e7b1603",
              "IPY_MODEL_46f1c81a50db4bb2876da8721e147e1c"
            ]
          }
        },
        "e0fef07f7d9041d9b16e3c61121e67e0": {
          "model_module": "@jupyter-widgets/base",
          "model_name": "LayoutModel",
          "state": {
            "_view_name": "LayoutView",
            "grid_template_rows": null,
            "right": null,
            "justify_content": null,
            "_view_module": "@jupyter-widgets/base",
            "overflow": null,
            "_model_module_version": "1.2.0",
            "_view_count": null,
            "flex_flow": null,
            "width": null,
            "min_width": null,
            "border": null,
            "align_items": null,
            "bottom": null,
            "_model_module": "@jupyter-widgets/base",
            "top": null,
            "grid_column": null,
            "overflow_y": null,
            "overflow_x": null,
            "grid_auto_flow": null,
            "grid_area": null,
            "grid_template_columns": null,
            "flex": null,
            "_model_name": "LayoutModel",
            "justify_items": null,
            "grid_row": null,
            "max_height": null,
            "align_content": null,
            "visibility": null,
            "align_self": null,
            "height": null,
            "min_height": null,
            "padding": null,
            "grid_auto_rows": null,
            "grid_gap": null,
            "max_width": null,
            "order": null,
            "_view_module_version": "1.2.0",
            "grid_template_areas": null,
            "object_position": null,
            "object_fit": null,
            "grid_auto_columns": null,
            "margin": null,
            "display": null,
            "left": null
          }
        },
        "b97d27f293bf49e6b3cf113d7e7b1603": {
          "model_module": "@jupyter-widgets/controls",
          "model_name": "FloatProgressModel",
          "state": {
            "_view_name": "ProgressView",
            "style": "IPY_MODEL_dd6767b5a29a4a48ab1d1403aa05bea5",
            "_dom_classes": [],
            "description": "Epoch   6: 100%",
            "_model_name": "FloatProgressModel",
            "bar_style": "success",
            "max": 275,
            "_view_module": "@jupyter-widgets/controls",
            "_model_module_version": "1.5.0",
            "value": 275,
            "_view_count": null,
            "_view_module_version": "1.5.0",
            "orientation": "horizontal",
            "min": 0,
            "description_tooltip": null,
            "_model_module": "@jupyter-widgets/controls",
            "layout": "IPY_MODEL_2794b91d3bac4a12af3e9d07f26cd96c"
          }
        },
        "46f1c81a50db4bb2876da8721e147e1c": {
          "model_module": "@jupyter-widgets/controls",
          "model_name": "HTMLModel",
          "state": {
            "_view_name": "HTMLView",
            "style": "IPY_MODEL_6bcca88f9dad4314aba058d9d6ba724a",
            "_dom_classes": [],
            "description": "",
            "_model_name": "HTMLModel",
            "placeholder": "​",
            "_view_module": "@jupyter-widgets/controls",
            "_model_module_version": "1.5.0",
            "value": " 275/275 [01:40&lt;00:00,  2.73it/s, loss=176, LL=-159, KL_F=6.38, KL_Y=1.46, SFE_base_reward_mean=-160, SFE_base_reward_std=46.7, SFE_reward_mean=22.7, SFE_reward_std=46.7]",
            "_view_count": null,
            "_view_module_version": "1.5.0",
            "description_tooltip": null,
            "_model_module": "@jupyter-widgets/controls",
            "layout": "IPY_MODEL_20e33d40429347d9b129446a122a6fa4"
          }
        },
        "dd6767b5a29a4a48ab1d1403aa05bea5": {
          "model_module": "@jupyter-widgets/controls",
          "model_name": "ProgressStyleModel",
          "state": {
            "_view_name": "StyleView",
            "_model_name": "ProgressStyleModel",
            "description_width": "initial",
            "_view_module": "@jupyter-widgets/base",
            "_model_module_version": "1.5.0",
            "_view_count": null,
            "_view_module_version": "1.2.0",
            "bar_color": null,
            "_model_module": "@jupyter-widgets/controls"
          }
        },
        "2794b91d3bac4a12af3e9d07f26cd96c": {
          "model_module": "@jupyter-widgets/base",
          "model_name": "LayoutModel",
          "state": {
            "_view_name": "LayoutView",
            "grid_template_rows": null,
            "right": null,
            "justify_content": null,
            "_view_module": "@jupyter-widgets/base",
            "overflow": null,
            "_model_module_version": "1.2.0",
            "_view_count": null,
            "flex_flow": null,
            "width": null,
            "min_width": null,
            "border": null,
            "align_items": null,
            "bottom": null,
            "_model_module": "@jupyter-widgets/base",
            "top": null,
            "grid_column": null,
            "overflow_y": null,
            "overflow_x": null,
            "grid_auto_flow": null,
            "grid_area": null,
            "grid_template_columns": null,
            "flex": null,
            "_model_name": "LayoutModel",
            "justify_items": null,
            "grid_row": null,
            "max_height": null,
            "align_content": null,
            "visibility": null,
            "align_self": null,
            "height": null,
            "min_height": null,
            "padding": null,
            "grid_auto_rows": null,
            "grid_gap": null,
            "max_width": null,
            "order": null,
            "_view_module_version": "1.2.0",
            "grid_template_areas": null,
            "object_position": null,
            "object_fit": null,
            "grid_auto_columns": null,
            "margin": null,
            "display": null,
            "left": null
          }
        },
        "6bcca88f9dad4314aba058d9d6ba724a": {
          "model_module": "@jupyter-widgets/controls",
          "model_name": "DescriptionStyleModel",
          "state": {
            "_view_name": "StyleView",
            "_model_name": "DescriptionStyleModel",
            "description_width": "",
            "_view_module": "@jupyter-widgets/base",
            "_model_module_version": "1.5.0",
            "_view_count": null,
            "_view_module_version": "1.2.0",
            "_model_module": "@jupyter-widgets/controls"
          }
        },
        "20e33d40429347d9b129446a122a6fa4": {
          "model_module": "@jupyter-widgets/base",
          "model_name": "LayoutModel",
          "state": {
            "_view_name": "LayoutView",
            "grid_template_rows": null,
            "right": null,
            "justify_content": null,
            "_view_module": "@jupyter-widgets/base",
            "overflow": null,
            "_model_module_version": "1.2.0",
            "_view_count": null,
            "flex_flow": null,
            "width": null,
            "min_width": null,
            "border": null,
            "align_items": null,
            "bottom": null,
            "_model_module": "@jupyter-widgets/base",
            "top": null,
            "grid_column": null,
            "overflow_y": null,
            "overflow_x": null,
            "grid_auto_flow": null,
            "grid_area": null,
            "grid_template_columns": null,
            "flex": null,
            "_model_name": "LayoutModel",
            "justify_items": null,
            "grid_row": null,
            "max_height": null,
            "align_content": null,
            "visibility": null,
            "align_self": null,
            "height": null,
            "min_height": null,
            "padding": null,
            "grid_auto_rows": null,
            "grid_gap": null,
            "max_width": null,
            "order": null,
            "_view_module_version": "1.2.0",
            "grid_template_areas": null,
            "object_position": null,
            "object_fit": null,
            "grid_auto_columns": null,
            "margin": null,
            "display": null,
            "left": null
          }
        },
        "01737ca7107b4a49a2a8b307869e1642": {
          "model_module": "@jupyter-widgets/controls",
          "model_name": "HBoxModel",
          "state": {
            "_view_name": "HBoxView",
            "_dom_classes": [],
            "_model_name": "HBoxModel",
            "_view_module": "@jupyter-widgets/controls",
            "_model_module_version": "1.5.0",
            "_view_count": null,
            "_view_module_version": "1.5.0",
            "box_style": "",
            "layout": "IPY_MODEL_1d3ed1ce3d2a409fbb44380ede93885f",
            "_model_module": "@jupyter-widgets/controls",
            "children": [
              "IPY_MODEL_1c221abab5d047229de5b6f597d81958",
              "IPY_MODEL_2415bb855f0748179f20492add38c8a1"
            ]
          }
        },
        "1d3ed1ce3d2a409fbb44380ede93885f": {
          "model_module": "@jupyter-widgets/base",
          "model_name": "LayoutModel",
          "state": {
            "_view_name": "LayoutView",
            "grid_template_rows": null,
            "right": null,
            "justify_content": null,
            "_view_module": "@jupyter-widgets/base",
            "overflow": null,
            "_model_module_version": "1.2.0",
            "_view_count": null,
            "flex_flow": null,
            "width": null,
            "min_width": null,
            "border": null,
            "align_items": null,
            "bottom": null,
            "_model_module": "@jupyter-widgets/base",
            "top": null,
            "grid_column": null,
            "overflow_y": null,
            "overflow_x": null,
            "grid_auto_flow": null,
            "grid_area": null,
            "grid_template_columns": null,
            "flex": null,
            "_model_name": "LayoutModel",
            "justify_items": null,
            "grid_row": null,
            "max_height": null,
            "align_content": null,
            "visibility": null,
            "align_self": null,
            "height": null,
            "min_height": null,
            "padding": null,
            "grid_auto_rows": null,
            "grid_gap": null,
            "max_width": null,
            "order": null,
            "_view_module_version": "1.2.0",
            "grid_template_areas": null,
            "object_position": null,
            "object_fit": null,
            "grid_auto_columns": null,
            "margin": null,
            "display": null,
            "left": null
          }
        },
        "1c221abab5d047229de5b6f597d81958": {
          "model_module": "@jupyter-widgets/controls",
          "model_name": "FloatProgressModel",
          "state": {
            "_view_name": "ProgressView",
            "style": "IPY_MODEL_55d4182d42444789b534cc2493f54adc",
            "_dom_classes": [],
            "description": "Epoch   7: 100%",
            "_model_name": "FloatProgressModel",
            "bar_style": "success",
            "max": 275,
            "_view_module": "@jupyter-widgets/controls",
            "_model_module_version": "1.5.0",
            "value": 275,
            "_view_count": null,
            "_view_module_version": "1.5.0",
            "orientation": "horizontal",
            "min": 0,
            "description_tooltip": null,
            "_model_module": "@jupyter-widgets/controls",
            "layout": "IPY_MODEL_0ce86165548246b59ab4eebcf0fb30d0"
          }
        },
        "2415bb855f0748179f20492add38c8a1": {
          "model_module": "@jupyter-widgets/controls",
          "model_name": "HTMLModel",
          "state": {
            "_view_name": "HTMLView",
            "style": "IPY_MODEL_5ef249839d6147dabc01c4aaf807dd55",
            "_dom_classes": [],
            "description": "",
            "_model_name": "HTMLModel",
            "placeholder": "​",
            "_view_module": "@jupyter-widgets/controls",
            "_model_module_version": "1.5.0",
            "value": " 275/275 [00:20&lt;00:00, 13.51it/s, loss=170, LL=-159, KL_F=6.55, KL_Y=1.12, SFE_base_reward_mean=-160, SFE_base_reward_std=46.4, SFE_reward_mean=19.2, SFE_reward_std=46.4]",
            "_view_count": null,
            "_view_module_version": "1.5.0",
            "description_tooltip": null,
            "_model_module": "@jupyter-widgets/controls",
            "layout": "IPY_MODEL_46c72b8b0c44435894212cad20a2e344"
          }
        },
        "55d4182d42444789b534cc2493f54adc": {
          "model_module": "@jupyter-widgets/controls",
          "model_name": "ProgressStyleModel",
          "state": {
            "_view_name": "StyleView",
            "_model_name": "ProgressStyleModel",
            "description_width": "initial",
            "_view_module": "@jupyter-widgets/base",
            "_model_module_version": "1.5.0",
            "_view_count": null,
            "_view_module_version": "1.2.0",
            "bar_color": null,
            "_model_module": "@jupyter-widgets/controls"
          }
        },
        "0ce86165548246b59ab4eebcf0fb30d0": {
          "model_module": "@jupyter-widgets/base",
          "model_name": "LayoutModel",
          "state": {
            "_view_name": "LayoutView",
            "grid_template_rows": null,
            "right": null,
            "justify_content": null,
            "_view_module": "@jupyter-widgets/base",
            "overflow": null,
            "_model_module_version": "1.2.0",
            "_view_count": null,
            "flex_flow": null,
            "width": null,
            "min_width": null,
            "border": null,
            "align_items": null,
            "bottom": null,
            "_model_module": "@jupyter-widgets/base",
            "top": null,
            "grid_column": null,
            "overflow_y": null,
            "overflow_x": null,
            "grid_auto_flow": null,
            "grid_area": null,
            "grid_template_columns": null,
            "flex": null,
            "_model_name": "LayoutModel",
            "justify_items": null,
            "grid_row": null,
            "max_height": null,
            "align_content": null,
            "visibility": null,
            "align_self": null,
            "height": null,
            "min_height": null,
            "padding": null,
            "grid_auto_rows": null,
            "grid_gap": null,
            "max_width": null,
            "order": null,
            "_view_module_version": "1.2.0",
            "grid_template_areas": null,
            "object_position": null,
            "object_fit": null,
            "grid_auto_columns": null,
            "margin": null,
            "display": null,
            "left": null
          }
        },
        "5ef249839d6147dabc01c4aaf807dd55": {
          "model_module": "@jupyter-widgets/controls",
          "model_name": "DescriptionStyleModel",
          "state": {
            "_view_name": "StyleView",
            "_model_name": "DescriptionStyleModel",
            "description_width": "",
            "_view_module": "@jupyter-widgets/base",
            "_model_module_version": "1.5.0",
            "_view_count": null,
            "_view_module_version": "1.2.0",
            "_model_module": "@jupyter-widgets/controls"
          }
        },
        "46c72b8b0c44435894212cad20a2e344": {
          "model_module": "@jupyter-widgets/base",
          "model_name": "LayoutModel",
          "state": {
            "_view_name": "LayoutView",
            "grid_template_rows": null,
            "right": null,
            "justify_content": null,
            "_view_module": "@jupyter-widgets/base",
            "overflow": null,
            "_model_module_version": "1.2.0",
            "_view_count": null,
            "flex_flow": null,
            "width": null,
            "min_width": null,
            "border": null,
            "align_items": null,
            "bottom": null,
            "_model_module": "@jupyter-widgets/base",
            "top": null,
            "grid_column": null,
            "overflow_y": null,
            "overflow_x": null,
            "grid_auto_flow": null,
            "grid_area": null,
            "grid_template_columns": null,
            "flex": null,
            "_model_name": "LayoutModel",
            "justify_items": null,
            "grid_row": null,
            "max_height": null,
            "align_content": null,
            "visibility": null,
            "align_self": null,
            "height": null,
            "min_height": null,
            "padding": null,
            "grid_auto_rows": null,
            "grid_gap": null,
            "max_width": null,
            "order": null,
            "_view_module_version": "1.2.0",
            "grid_template_areas": null,
            "object_position": null,
            "object_fit": null,
            "grid_auto_columns": null,
            "margin": null,
            "display": null,
            "left": null
          }
        },
        "b9046590ad494aa6839ba3f64647193d": {
          "model_module": "@jupyter-widgets/controls",
          "model_name": "HBoxModel",
          "state": {
            "_view_name": "HBoxView",
            "_dom_classes": [],
            "_model_name": "HBoxModel",
            "_view_module": "@jupyter-widgets/controls",
            "_model_module_version": "1.5.0",
            "_view_count": null,
            "_view_module_version": "1.5.0",
            "box_style": "",
            "layout": "IPY_MODEL_38f6cef84a464f4aa08e125ddb0937c1",
            "_model_module": "@jupyter-widgets/controls",
            "children": [
              "IPY_MODEL_3136f81cbc55488cbcf5bcb7c43aaa8a",
              "IPY_MODEL_c17b22072eff4c3bbf1c0bd7a3bf9fd5"
            ]
          }
        },
        "38f6cef84a464f4aa08e125ddb0937c1": {
          "model_module": "@jupyter-widgets/base",
          "model_name": "LayoutModel",
          "state": {
            "_view_name": "LayoutView",
            "grid_template_rows": null,
            "right": null,
            "justify_content": null,
            "_view_module": "@jupyter-widgets/base",
            "overflow": null,
            "_model_module_version": "1.2.0",
            "_view_count": null,
            "flex_flow": null,
            "width": null,
            "min_width": null,
            "border": null,
            "align_items": null,
            "bottom": null,
            "_model_module": "@jupyter-widgets/base",
            "top": null,
            "grid_column": null,
            "overflow_y": null,
            "overflow_x": null,
            "grid_auto_flow": null,
            "grid_area": null,
            "grid_template_columns": null,
            "flex": null,
            "_model_name": "LayoutModel",
            "justify_items": null,
            "grid_row": null,
            "max_height": null,
            "align_content": null,
            "visibility": null,
            "align_self": null,
            "height": null,
            "min_height": null,
            "padding": null,
            "grid_auto_rows": null,
            "grid_gap": null,
            "max_width": null,
            "order": null,
            "_view_module_version": "1.2.0",
            "grid_template_areas": null,
            "object_position": null,
            "object_fit": null,
            "grid_auto_columns": null,
            "margin": null,
            "display": null,
            "left": null
          }
        },
        "3136f81cbc55488cbcf5bcb7c43aaa8a": {
          "model_module": "@jupyter-widgets/controls",
          "model_name": "FloatProgressModel",
          "state": {
            "_view_name": "ProgressView",
            "style": "IPY_MODEL_16f7c0041220484f9cfbc1bc13d3a68a",
            "_dom_classes": [],
            "description": "Epoch   8: 100%",
            "_model_name": "FloatProgressModel",
            "bar_style": "success",
            "max": 275,
            "_view_module": "@jupyter-widgets/controls",
            "_model_module_version": "1.5.0",
            "value": 275,
            "_view_count": null,
            "_view_module_version": "1.5.0",
            "orientation": "horizontal",
            "min": 0,
            "description_tooltip": null,
            "_model_module": "@jupyter-widgets/controls",
            "layout": "IPY_MODEL_6bd26b2077614c6d98589733f5d096be"
          }
        },
        "c17b22072eff4c3bbf1c0bd7a3bf9fd5": {
          "model_module": "@jupyter-widgets/controls",
          "model_name": "HTMLModel",
          "state": {
            "_view_name": "HTMLView",
            "style": "IPY_MODEL_8ecdd696b28944e2abe6c26d29c375b9",
            "_dom_classes": [],
            "description": "",
            "_model_name": "HTMLModel",
            "placeholder": "​",
            "_view_module": "@jupyter-widgets/controls",
            "_model_module_version": "1.5.0",
            "value": " 275/275 [01:00&lt;00:00,  4.57it/s, loss=168, LL=-153, KL_F=6.57, KL_Y=1.42, SFE_base_reward_mean=-155, SFE_base_reward_std=50.6, SFE_reward_mean=21.6, SFE_reward_std=50.6]",
            "_view_count": null,
            "_view_module_version": "1.5.0",
            "description_tooltip": null,
            "_model_module": "@jupyter-widgets/controls",
            "layout": "IPY_MODEL_28fbfcdd7d9942a28a6eea047afc64ff"
          }
        },
        "16f7c0041220484f9cfbc1bc13d3a68a": {
          "model_module": "@jupyter-widgets/controls",
          "model_name": "ProgressStyleModel",
          "state": {
            "_view_name": "StyleView",
            "_model_name": "ProgressStyleModel",
            "description_width": "initial",
            "_view_module": "@jupyter-widgets/base",
            "_model_module_version": "1.5.0",
            "_view_count": null,
            "_view_module_version": "1.2.0",
            "bar_color": null,
            "_model_module": "@jupyter-widgets/controls"
          }
        },
        "6bd26b2077614c6d98589733f5d096be": {
          "model_module": "@jupyter-widgets/base",
          "model_name": "LayoutModel",
          "state": {
            "_view_name": "LayoutView",
            "grid_template_rows": null,
            "right": null,
            "justify_content": null,
            "_view_module": "@jupyter-widgets/base",
            "overflow": null,
            "_model_module_version": "1.2.0",
            "_view_count": null,
            "flex_flow": null,
            "width": null,
            "min_width": null,
            "border": null,
            "align_items": null,
            "bottom": null,
            "_model_module": "@jupyter-widgets/base",
            "top": null,
            "grid_column": null,
            "overflow_y": null,
            "overflow_x": null,
            "grid_auto_flow": null,
            "grid_area": null,
            "grid_template_columns": null,
            "flex": null,
            "_model_name": "LayoutModel",
            "justify_items": null,
            "grid_row": null,
            "max_height": null,
            "align_content": null,
            "visibility": null,
            "align_self": null,
            "height": null,
            "min_height": null,
            "padding": null,
            "grid_auto_rows": null,
            "grid_gap": null,
            "max_width": null,
            "order": null,
            "_view_module_version": "1.2.0",
            "grid_template_areas": null,
            "object_position": null,
            "object_fit": null,
            "grid_auto_columns": null,
            "margin": null,
            "display": null,
            "left": null
          }
        },
        "8ecdd696b28944e2abe6c26d29c375b9": {
          "model_module": "@jupyter-widgets/controls",
          "model_name": "DescriptionStyleModel",
          "state": {
            "_view_name": "StyleView",
            "_model_name": "DescriptionStyleModel",
            "description_width": "",
            "_view_module": "@jupyter-widgets/base",
            "_model_module_version": "1.5.0",
            "_view_count": null,
            "_view_module_version": "1.2.0",
            "_model_module": "@jupyter-widgets/controls"
          }
        },
        "28fbfcdd7d9942a28a6eea047afc64ff": {
          "model_module": "@jupyter-widgets/base",
          "model_name": "LayoutModel",
          "state": {
            "_view_name": "LayoutView",
            "grid_template_rows": null,
            "right": null,
            "justify_content": null,
            "_view_module": "@jupyter-widgets/base",
            "overflow": null,
            "_model_module_version": "1.2.0",
            "_view_count": null,
            "flex_flow": null,
            "width": null,
            "min_width": null,
            "border": null,
            "align_items": null,
            "bottom": null,
            "_model_module": "@jupyter-widgets/base",
            "top": null,
            "grid_column": null,
            "overflow_y": null,
            "overflow_x": null,
            "grid_auto_flow": null,
            "grid_area": null,
            "grid_template_columns": null,
            "flex": null,
            "_model_name": "LayoutModel",
            "justify_items": null,
            "grid_row": null,
            "max_height": null,
            "align_content": null,
            "visibility": null,
            "align_self": null,
            "height": null,
            "min_height": null,
            "padding": null,
            "grid_auto_rows": null,
            "grid_gap": null,
            "max_width": null,
            "order": null,
            "_view_module_version": "1.2.0",
            "grid_template_areas": null,
            "object_position": null,
            "object_fit": null,
            "grid_auto_columns": null,
            "margin": null,
            "display": null,
            "left": null
          }
        },
        "f7d638b94e54484fbf4dabba71b5b1f1": {
          "model_module": "@jupyter-widgets/controls",
          "model_name": "HBoxModel",
          "state": {
            "_view_name": "HBoxView",
            "_dom_classes": [],
            "_model_name": "HBoxModel",
            "_view_module": "@jupyter-widgets/controls",
            "_model_module_version": "1.5.0",
            "_view_count": null,
            "_view_module_version": "1.5.0",
            "box_style": "",
            "layout": "IPY_MODEL_7d6acefb73e74535be1c87a25c1ca092",
            "_model_module": "@jupyter-widgets/controls",
            "children": [
              "IPY_MODEL_5c21732893bf4f23894b4b47b6303716",
              "IPY_MODEL_b8ead54f6a514212acc9a599ca4f4940"
            ]
          }
        },
        "7d6acefb73e74535be1c87a25c1ca092": {
          "model_module": "@jupyter-widgets/base",
          "model_name": "LayoutModel",
          "state": {
            "_view_name": "LayoutView",
            "grid_template_rows": null,
            "right": null,
            "justify_content": null,
            "_view_module": "@jupyter-widgets/base",
            "overflow": null,
            "_model_module_version": "1.2.0",
            "_view_count": null,
            "flex_flow": null,
            "width": null,
            "min_width": null,
            "border": null,
            "align_items": null,
            "bottom": null,
            "_model_module": "@jupyter-widgets/base",
            "top": null,
            "grid_column": null,
            "overflow_y": null,
            "overflow_x": null,
            "grid_auto_flow": null,
            "grid_area": null,
            "grid_template_columns": null,
            "flex": null,
            "_model_name": "LayoutModel",
            "justify_items": null,
            "grid_row": null,
            "max_height": null,
            "align_content": null,
            "visibility": null,
            "align_self": null,
            "height": null,
            "min_height": null,
            "padding": null,
            "grid_auto_rows": null,
            "grid_gap": null,
            "max_width": null,
            "order": null,
            "_view_module_version": "1.2.0",
            "grid_template_areas": null,
            "object_position": null,
            "object_fit": null,
            "grid_auto_columns": null,
            "margin": null,
            "display": null,
            "left": null
          }
        },
        "5c21732893bf4f23894b4b47b6303716": {
          "model_module": "@jupyter-widgets/controls",
          "model_name": "FloatProgressModel",
          "state": {
            "_view_name": "ProgressView",
            "style": "IPY_MODEL_9748605cbe464699bdd483f524afc847",
            "_dom_classes": [],
            "description": "Epoch   9: 100%",
            "_model_name": "FloatProgressModel",
            "bar_style": "success",
            "max": 275,
            "_view_module": "@jupyter-widgets/controls",
            "_model_module_version": "1.5.0",
            "value": 275,
            "_view_count": null,
            "_view_module_version": "1.5.0",
            "orientation": "horizontal",
            "min": 0,
            "description_tooltip": null,
            "_model_module": "@jupyter-widgets/controls",
            "layout": "IPY_MODEL_c2526bbb60404ac0809be8899ecef047"
          }
        },
        "b8ead54f6a514212acc9a599ca4f4940": {
          "model_module": "@jupyter-widgets/controls",
          "model_name": "HTMLModel",
          "state": {
            "_view_name": "HTMLView",
            "style": "IPY_MODEL_5b82bbd3783b404a83697dffb53d520c",
            "_dom_classes": [],
            "description": "",
            "_model_name": "HTMLModel",
            "placeholder": "​",
            "_view_module": "@jupyter-widgets/controls",
            "_model_module_version": "1.5.0",
            "value": " 275/275 [00:39&lt;00:00,  6.89it/s, loss=166, LL=-155, KL_F=6.61, KL_Y=1.48, SFE_base_reward_mean=-157, SFE_base_reward_std=46.4, SFE_reward_mean=17.4, SFE_reward_std=46.4]",
            "_view_count": null,
            "_view_module_version": "1.5.0",
            "description_tooltip": null,
            "_model_module": "@jupyter-widgets/controls",
            "layout": "IPY_MODEL_e2a0534a7acc459ba81cb64ac63102c3"
          }
        },
        "9748605cbe464699bdd483f524afc847": {
          "model_module": "@jupyter-widgets/controls",
          "model_name": "ProgressStyleModel",
          "state": {
            "_view_name": "StyleView",
            "_model_name": "ProgressStyleModel",
            "description_width": "initial",
            "_view_module": "@jupyter-widgets/base",
            "_model_module_version": "1.5.0",
            "_view_count": null,
            "_view_module_version": "1.2.0",
            "bar_color": null,
            "_model_module": "@jupyter-widgets/controls"
          }
        },
        "c2526bbb60404ac0809be8899ecef047": {
          "model_module": "@jupyter-widgets/base",
          "model_name": "LayoutModel",
          "state": {
            "_view_name": "LayoutView",
            "grid_template_rows": null,
            "right": null,
            "justify_content": null,
            "_view_module": "@jupyter-widgets/base",
            "overflow": null,
            "_model_module_version": "1.2.0",
            "_view_count": null,
            "flex_flow": null,
            "width": null,
            "min_width": null,
            "border": null,
            "align_items": null,
            "bottom": null,
            "_model_module": "@jupyter-widgets/base",
            "top": null,
            "grid_column": null,
            "overflow_y": null,
            "overflow_x": null,
            "grid_auto_flow": null,
            "grid_area": null,
            "grid_template_columns": null,
            "flex": null,
            "_model_name": "LayoutModel",
            "justify_items": null,
            "grid_row": null,
            "max_height": null,
            "align_content": null,
            "visibility": null,
            "align_self": null,
            "height": null,
            "min_height": null,
            "padding": null,
            "grid_auto_rows": null,
            "grid_gap": null,
            "max_width": null,
            "order": null,
            "_view_module_version": "1.2.0",
            "grid_template_areas": null,
            "object_position": null,
            "object_fit": null,
            "grid_auto_columns": null,
            "margin": null,
            "display": null,
            "left": null
          }
        },
        "5b82bbd3783b404a83697dffb53d520c": {
          "model_module": "@jupyter-widgets/controls",
          "model_name": "DescriptionStyleModel",
          "state": {
            "_view_name": "StyleView",
            "_model_name": "DescriptionStyleModel",
            "description_width": "",
            "_view_module": "@jupyter-widgets/base",
            "_model_module_version": "1.5.0",
            "_view_count": null,
            "_view_module_version": "1.2.0",
            "_model_module": "@jupyter-widgets/controls"
          }
        },
        "e2a0534a7acc459ba81cb64ac63102c3": {
          "model_module": "@jupyter-widgets/base",
          "model_name": "LayoutModel",
          "state": {
            "_view_name": "LayoutView",
            "grid_template_rows": null,
            "right": null,
            "justify_content": null,
            "_view_module": "@jupyter-widgets/base",
            "overflow": null,
            "_model_module_version": "1.2.0",
            "_view_count": null,
            "flex_flow": null,
            "width": null,
            "min_width": null,
            "border": null,
            "align_items": null,
            "bottom": null,
            "_model_module": "@jupyter-widgets/base",
            "top": null,
            "grid_column": null,
            "overflow_y": null,
            "overflow_x": null,
            "grid_auto_flow": null,
            "grid_area": null,
            "grid_template_columns": null,
            "flex": null,
            "_model_name": "LayoutModel",
            "justify_items": null,
            "grid_row": null,
            "max_height": null,
            "align_content": null,
            "visibility": null,
            "align_self": null,
            "height": null,
            "min_height": null,
            "padding": null,
            "grid_auto_rows": null,
            "grid_gap": null,
            "max_width": null,
            "order": null,
            "_view_module_version": "1.2.0",
            "grid_template_areas": null,
            "object_position": null,
            "object_fit": null,
            "grid_auto_columns": null,
            "margin": null,
            "display": null,
            "left": null
          }
        },
        "f5438f9995424e56850ada97bad51f08": {
          "model_module": "@jupyter-widgets/controls",
          "model_name": "HBoxModel",
          "state": {
            "_view_name": "HBoxView",
            "_dom_classes": [],
            "_model_name": "HBoxModel",
            "_view_module": "@jupyter-widgets/controls",
            "_model_module_version": "1.5.0",
            "_view_count": null,
            "_view_module_version": "1.5.0",
            "box_style": "",
            "layout": "IPY_MODEL_87f8b4a9e3c74a8f8306f884df1f8059",
            "_model_module": "@jupyter-widgets/controls",
            "children": [
              "IPY_MODEL_0309d8aceed447a496ad5007c4970e7f",
              "IPY_MODEL_8dfcf0c0114647768460a92c472467c6"
            ]
          }
        },
        "87f8b4a9e3c74a8f8306f884df1f8059": {
          "model_module": "@jupyter-widgets/base",
          "model_name": "LayoutModel",
          "state": {
            "_view_name": "LayoutView",
            "grid_template_rows": null,
            "right": null,
            "justify_content": null,
            "_view_module": "@jupyter-widgets/base",
            "overflow": null,
            "_model_module_version": "1.2.0",
            "_view_count": null,
            "flex_flow": null,
            "width": null,
            "min_width": null,
            "border": null,
            "align_items": null,
            "bottom": null,
            "_model_module": "@jupyter-widgets/base",
            "top": null,
            "grid_column": null,
            "overflow_y": null,
            "overflow_x": null,
            "grid_auto_flow": null,
            "grid_area": null,
            "grid_template_columns": null,
            "flex": null,
            "_model_name": "LayoutModel",
            "justify_items": null,
            "grid_row": null,
            "max_height": null,
            "align_content": null,
            "visibility": null,
            "align_self": null,
            "height": null,
            "min_height": null,
            "padding": null,
            "grid_auto_rows": null,
            "grid_gap": null,
            "max_width": null,
            "order": null,
            "_view_module_version": "1.2.0",
            "grid_template_areas": null,
            "object_position": null,
            "object_fit": null,
            "grid_auto_columns": null,
            "margin": null,
            "display": null,
            "left": null
          }
        },
        "0309d8aceed447a496ad5007c4970e7f": {
          "model_module": "@jupyter-widgets/controls",
          "model_name": "FloatProgressModel",
          "state": {
            "_view_name": "ProgressView",
            "style": "IPY_MODEL_d904fd8a3fac41f1bfe188efacb962ce",
            "_dom_classes": [],
            "description": "Epoch  10: 100%",
            "_model_name": "FloatProgressModel",
            "bar_style": "success",
            "max": 275,
            "_view_module": "@jupyter-widgets/controls",
            "_model_module_version": "1.5.0",
            "value": 275,
            "_view_count": null,
            "_view_module_version": "1.5.0",
            "orientation": "horizontal",
            "min": 0,
            "description_tooltip": null,
            "_model_module": "@jupyter-widgets/controls",
            "layout": "IPY_MODEL_51bff69c66e94165920f2f88041002d5"
          }
        },
        "8dfcf0c0114647768460a92c472467c6": {
          "model_module": "@jupyter-widgets/controls",
          "model_name": "HTMLModel",
          "state": {
            "_view_name": "HTMLView",
            "style": "IPY_MODEL_25532a7e47b948ac9366c5723b966f0b",
            "_dom_classes": [],
            "description": "",
            "_model_name": "HTMLModel",
            "placeholder": "​",
            "_view_module": "@jupyter-widgets/controls",
            "_model_module_version": "1.5.0",
            "value": " 275/275 [00:14&lt;00:00, 19.25it/s, loss=155, LL=-149, KL_F=6.64, KL_Y=1.22, SFE_base_reward_mean=-150, SFE_base_reward_std=43.7, SFE_reward_mean=21.6, SFE_reward_std=43.7]",
            "_view_count": null,
            "_view_module_version": "1.5.0",
            "description_tooltip": null,
            "_model_module": "@jupyter-widgets/controls",
            "layout": "IPY_MODEL_6eb8b5d89bac47dfb7338d74edac2b0c"
          }
        },
        "d904fd8a3fac41f1bfe188efacb962ce": {
          "model_module": "@jupyter-widgets/controls",
          "model_name": "ProgressStyleModel",
          "state": {
            "_view_name": "StyleView",
            "_model_name": "ProgressStyleModel",
            "description_width": "initial",
            "_view_module": "@jupyter-widgets/base",
            "_model_module_version": "1.5.0",
            "_view_count": null,
            "_view_module_version": "1.2.0",
            "bar_color": null,
            "_model_module": "@jupyter-widgets/controls"
          }
        },
        "51bff69c66e94165920f2f88041002d5": {
          "model_module": "@jupyter-widgets/base",
          "model_name": "LayoutModel",
          "state": {
            "_view_name": "LayoutView",
            "grid_template_rows": null,
            "right": null,
            "justify_content": null,
            "_view_module": "@jupyter-widgets/base",
            "overflow": null,
            "_model_module_version": "1.2.0",
            "_view_count": null,
            "flex_flow": null,
            "width": null,
            "min_width": null,
            "border": null,
            "align_items": null,
            "bottom": null,
            "_model_module": "@jupyter-widgets/base",
            "top": null,
            "grid_column": null,
            "overflow_y": null,
            "overflow_x": null,
            "grid_auto_flow": null,
            "grid_area": null,
            "grid_template_columns": null,
            "flex": null,
            "_model_name": "LayoutModel",
            "justify_items": null,
            "grid_row": null,
            "max_height": null,
            "align_content": null,
            "visibility": null,
            "align_self": null,
            "height": null,
            "min_height": null,
            "padding": null,
            "grid_auto_rows": null,
            "grid_gap": null,
            "max_width": null,
            "order": null,
            "_view_module_version": "1.2.0",
            "grid_template_areas": null,
            "object_position": null,
            "object_fit": null,
            "grid_auto_columns": null,
            "margin": null,
            "display": null,
            "left": null
          }
        },
        "25532a7e47b948ac9366c5723b966f0b": {
          "model_module": "@jupyter-widgets/controls",
          "model_name": "DescriptionStyleModel",
          "state": {
            "_view_name": "StyleView",
            "_model_name": "DescriptionStyleModel",
            "description_width": "",
            "_view_module": "@jupyter-widgets/base",
            "_model_module_version": "1.5.0",
            "_view_count": null,
            "_view_module_version": "1.2.0",
            "_model_module": "@jupyter-widgets/controls"
          }
        },
        "6eb8b5d89bac47dfb7338d74edac2b0c": {
          "model_module": "@jupyter-widgets/base",
          "model_name": "LayoutModel",
          "state": {
            "_view_name": "LayoutView",
            "grid_template_rows": null,
            "right": null,
            "justify_content": null,
            "_view_module": "@jupyter-widgets/base",
            "overflow": null,
            "_model_module_version": "1.2.0",
            "_view_count": null,
            "flex_flow": null,
            "width": null,
            "min_width": null,
            "border": null,
            "align_items": null,
            "bottom": null,
            "_model_module": "@jupyter-widgets/base",
            "top": null,
            "grid_column": null,
            "overflow_y": null,
            "overflow_x": null,
            "grid_auto_flow": null,
            "grid_area": null,
            "grid_template_columns": null,
            "flex": null,
            "_model_name": "LayoutModel",
            "justify_items": null,
            "grid_row": null,
            "max_height": null,
            "align_content": null,
            "visibility": null,
            "align_self": null,
            "height": null,
            "min_height": null,
            "padding": null,
            "grid_auto_rows": null,
            "grid_gap": null,
            "max_width": null,
            "order": null,
            "_view_module_version": "1.2.0",
            "grid_template_areas": null,
            "object_position": null,
            "object_fit": null,
            "grid_auto_columns": null,
            "margin": null,
            "display": null,
            "left": null
          }
        }
      }
    }
  },
  "cells": [
    {
      "cell_type": "markdown",
      "metadata": {
        "id": "view-in-github",
        "colab_type": "text"
      },
      "source": [
        "<a href=\"https://colab.research.google.com/github/probabll/mixed-rv-vae/blob/master/MNIST.ipynb\" target=\"_parent\"><img src=\"https://colab.research.google.com/assets/colab-badge.svg\" alt=\"Open In Colab\"/></a>"
      ]
    },
    {
      "cell_type": "code",
      "metadata": {
        "id": "27kJjsfhhrYd"
      },
      "source": [
        "#%load_ext autoreload\n",
        "#%autoreload 2"
      ],
      "execution_count": null,
      "outputs": []
    },
    {
      "cell_type": "markdown",
      "metadata": {
        "id": "vOw649yX5KpI"
      },
      "source": [
        "You will need to clone and install [probabll/dists.pt](https://github.com/probabll/dists.pt.git)"
      ]
    },
    {
      "cell_type": "code",
      "metadata": {
        "colab": {
          "base_uri": "https://localhost:8080/"
        },
        "id": "V5QyPKcz1BAf",
        "outputId": "43c343d7-8126-4c34-fcf9-95e68829bf06"
      },
      "source": [
        "!git clone https://github.com/probabll/dists.pt.git"
      ],
      "execution_count": null,
      "outputs": [
        {
          "output_type": "stream",
          "text": [
            "fatal: destination path 'dists.pt' already exists and is not an empty directory.\n"
          ],
          "name": "stdout"
        }
      ]
    },
    {
      "cell_type": "code",
      "metadata": {
        "colab": {
          "base_uri": "https://localhost:8080/"
        },
        "id": "M8R18qa6h1tc",
        "outputId": "012eeea1-74a4-4f53-abcb-10b5e15bb1f7"
      },
      "source": [
        "cd dists.pt"
      ],
      "execution_count": null,
      "outputs": [
        {
          "output_type": "stream",
          "text": [
            "/content/dists.pt\n"
          ],
          "name": "stdout"
        }
      ]
    },
    {
      "cell_type": "code",
      "metadata": {
        "colab": {
          "base_uri": "https://localhost:8080/"
        },
        "id": "zkmokBs3h2zJ",
        "outputId": "fc937113-164a-4a26-d06c-778acf0b34e0"
      },
      "source": [
        "!git pull"
      ],
      "execution_count": null,
      "outputs": [
        {
          "output_type": "stream",
          "text": [
            "Already up to date.\n"
          ],
          "name": "stdout"
        }
      ]
    },
    {
      "cell_type": "code",
      "metadata": {
        "colab": {
          "base_uri": "https://localhost:8080/"
        },
        "id": "i5rupaQRh3wr",
        "outputId": "2b14b2e1-0550-4429-b111-57602938bb5b"
      },
      "source": [
        "pip install ."
      ],
      "execution_count": null,
      "outputs": [
        {
          "output_type": "stream",
          "text": [
            "Processing /content/dists.pt\n",
            "Building wheels for collected packages: probabll.distributions\n",
            "  Building wheel for probabll.distributions (setup.py) ... \u001b[?25l\u001b[?25hdone\n",
            "  Created wheel for probabll.distributions: filename=probabll.distributions-1.0-cp37-none-any.whl size=27347 sha256=4347d4806de4715d8e7658679ec4c0d7c959c4e45ddbccd72fe460d828fb2bb0\n",
            "  Stored in directory: /tmp/pip-ephem-wheel-cache-fpyorfv6/wheels/57/1a/2b/f7ce4003f5bac13f5913d519a9aa2be4bf97f8a37496f3ecbe\n",
            "Successfully built probabll.distributions\n",
            "Installing collected packages: probabll.distributions\n",
            "  Found existing installation: probabll.distributions 1.0\n",
            "    Uninstalling probabll.distributions-1.0:\n",
            "      Successfully uninstalled probabll.distributions-1.0\n",
            "Successfully installed probabll.distributions-1.0\n"
          ],
          "name": "stdout"
        }
      ]
    },
    {
      "cell_type": "code",
      "metadata": {
        "colab": {
          "base_uri": "https://localhost:8080/"
        },
        "id": "ezUAe5PHh4zi",
        "outputId": "672c83bb-f5e7-45b7-a233-3f714f7d2744"
      },
      "source": [
        "cd .."
      ],
      "execution_count": null,
      "outputs": [
        {
          "output_type": "stream",
          "text": [
            "/content\n"
          ],
          "name": "stdout"
        }
      ]
    },
    {
      "cell_type": "markdown",
      "metadata": {
        "id": "iJZAyDDxtVBO"
      },
      "source": [
        "# Mixed RVs via Mixture of Dirichlets\n",
        "\n",
        "In this notebook I develop a mixed rv on $\\Delta_{K-1}$ via the so called *stratified representation*, that is, as a finite mixture of distributions on the faces of $K-1$-dimensional simplex.\n",
        "\n",
        "\n",
        "\n"
      ]
    },
    {
      "cell_type": "markdown",
      "metadata": {
        "id": "kpDbS_HXPeW6"
      },
      "source": [
        "## Stratified Representation\n",
        "\n",
        "\n",
        "Let $Z$ be an rv taking on values in the simplex $\\Delta_{K-1}$. The density assigned to an outcome $y \\in \\Delta_{K-1}$ is given by\n",
        "\n",
        "\\begin{align}\n",
        "  p_{Y}(y|\\alpha, \\omega) &= \\sum_{f} p_F(f|\\omega) p_{Y|F}(y|f, \\alpha) \\\\\n",
        "  &= \\sum_f \\mathrm{Cat}(f|\\omega) \\mathrm{Dir}(y|\\alpha_f)\n",
        "\\end{align}\n",
        "\n",
        "where $f$ is a face of dimensionality $\\mathrm{dim}(f)$ and we choose a $\\mathrm{dim}(f)$-dimensional Dirichlet distribution for $Y|F=f$. There are $2^K-1$ non-empty faces, thus $\\omega \\in \\Delta_{2^K-2}$. An efficient parameterisation of the Categorical distribution is possible (see notebook on using FSA to represent discrete distributions), but in this implementation we will assume the parameter $\\omega$ can be stored/predicted explicitly. Similarly, the parameters $\\alpha_f \\in \\mathbb R_{>0}^{\\mathrm{dim}(f)}$ can be stored or predicted for all faces.\n",
        "\n",
        "\n",
        "**Gradient estimation**\n",
        "\n",
        "We assume samples from $Y|F=f, \\alpha$ can be reparameterised in terms of samples from a fixed distribution $\\Phi$ independent of $\\alpha$, i.e. $\\epsilon = \\mathcal T^{-1}(y; \\alpha_f) \\sim \\Phi$, \n",
        "and use score function estimation for gradient estimation with respect to $\\omega$:\n",
        "\n",
        "\\begin{align}\n",
        "    \\nabla_{\\alpha,\\omega} \\mathbb E_{Y|\\alpha, \\omega}\\left[ \\psi(z) \\right] &= \\nabla_{\\omega} \\mathbb E_{F|\\omega}\\left[ \\nabla_{\\alpha} \\mathbb E_{Y|F,\\alpha} \\left[ \\psi(z) \\right] \\right] \\\\\n",
        "    &= \\mathbb E_{F|\\omega}\\left[ \\left( \\nabla_{\\alpha} \\mathbb E_{Y|F,\\alpha} \\left[ \\psi(z) \\right] \\right)\\nabla_{\\omega} \\log p_F(f) \\right] \\\\\n",
        "    &= \\mathbb E_{F|\\omega}\\left[  \\mathbb E_{} \\left[ \\nabla_{y} \\psi(y) \\nabla_{\\alpha_f} \\mathcal T(\\epsilon; \\alpha_f) \\right] \\nabla_{\\omega} \\log p_F(f) \\right]\n",
        "\\end{align}\n",
        "\n",
        "For variance reduction we can use baselines based on summary statistics (e.g., mean, standard deviation), on trained MLPs, or based on $\\nabla_{\\alpha} \\mathbb E_{Y|F,\\alpha}[ \\psi(y')]$ assessed at an additional sample $y'$ (this is known as  a self-critic). More sophisticated techniques are possible (but hopefully won't be needed).\n",
        "\n",
        "\n"
      ]
    },
    {
      "cell_type": "code",
      "metadata": {
        "colab": {
          "base_uri": "https://localhost:8080/",
          "height": 37
        },
        "id": "El49NgachrYj",
        "outputId": "68f0bb7b-f7d0-4f84-d97b-31c663d67290"
      },
      "source": [
        "import torch\n",
        "torch.__version__"
      ],
      "execution_count": null,
      "outputs": [
        {
          "output_type": "execute_result",
          "data": {
            "application/vnd.google.colaboratory.intrinsic+json": {
              "type": "string"
            },
            "text/plain": [
              "'1.8.1+cu101'"
            ]
          },
          "metadata": {
            "tags": []
          },
          "execution_count": 7
        }
      ]
    },
    {
      "cell_type": "code",
      "metadata": {
        "id": "Dumky9Ut1vHJ"
      },
      "source": [
        "import numpy as np\n",
        "import torch\n",
        "import torch.distributions as td\n",
        "import probabll.distributions as pd"
      ],
      "execution_count": null,
      "outputs": []
    },
    {
      "cell_type": "markdown",
      "metadata": {
        "id": "w54zAmpbhrYl"
      },
      "source": [
        "# VAE\n",
        "\n",
        "A variational auto-encoder approximates the distribution of $X$ on sample space $\\mathcal X$ as a marginal of a joint distribution $X,Y|\\theta$ whose pdf factorises $p_{XY}(x, y|\\theta) = p_{Y}(y|\\theta)p_{X|Y}(x|y, \\theta)$. Inference employs an independently parameterised  approximation $Y|X=x, \\lambda$ to the true posterior distribution $Y|X=x, \\theta$. The parameters $\\theta$ of the generative model and $\\lambda$ of the inference model are estimated jointly to maximise a lowerbound on the log-evidence (the ELBO):\n",
        "\n",
        "\\begin{align}\n",
        "\\theta^\\star, \\theta^\\star &= \\arg\\,\\max_{\\theta, \\lambda} ~ \\sum_{x \\sim \\mathcal D}\\mathrm{ELBO}_x(\\theta, \\lambda) \\\\\n",
        "&= \\arg\\,\\max_{\\theta, \\lambda} ~ \\sum_{x \\sim \\mathcal D} \\mathbb E_{Y|X,\\lambda}\\left[ \\log \\frac{p_{XY}(x, y|\\theta)}{q_{Y|X}(y|x, \\lambda)} \\right]\n",
        "\\end{align}\n",
        "\n",
        "For us, $Y$ is a mixed rv, and we will use the stratified representation explained above. And, in this notebook, an observed data point $x$ is an MNIST digit, i.e., $x\\in \\{0, 1\\}^{H\\times W}$."
      ]
    },
    {
      "cell_type": "code",
      "metadata": {
        "id": "96WZPip8t0hT"
      },
      "source": [
        "import torch.nn as nn\n",
        "\n",
        "\n",
        "def assert_shape(t, shape, message):\n",
        "    assert t.shape == shape, f\"{message} has the wrong shape: got {t.shape}, expected {shape}\"        \n"
      ],
      "execution_count": null,
      "outputs": []
    },
    {
      "cell_type": "markdown",
      "metadata": {
        "id": "fKxwIf6_t1YB"
      },
      "source": [
        "## Generative model\n",
        "\n",
        "\\begin{align}\n",
        "p_{XYF}(x, y, f|\\theta) &= p_{F}(f)p_{Y|F}(y|f, \\theta)p_{X|Y}(x|y, \\theta) \\\\\n",
        "&= \\mathrm{Gibbs}(f|\\mathbf 0_K) \\times \\mathrm{Dir}(y|\\mathbf 1_{\\mathrm{dim}(f)}) \\times \\prod_{d=1}^D \\mathrm{Bern}(x_d|b_d(x, y; \\theta))\n",
        "\\end{align}\n",
        "\n",
        "where the Gibbs distribution is constrained to supporting all but the empty face of $\\Delta_{K-1}$, and $\\mathbf b(x, y;\\theta) \\in (0,1)^D$ is the output of an NN with parameters $\\theta$.\n"
      ]
    },
    {
      "cell_type": "code",
      "metadata": {
        "id": "WDWb-ohmPxy_"
      },
      "source": [
        "class GenerativeModel(nn.Module):\n",
        "\n",
        "    def __init__(self, latent_dim, data_dim, hidden_dec_size):\n",
        "        super().__init__()\n",
        "        self._latent_dim = latent_dim    \n",
        "        self._data_dim = data_dim   \n",
        "        self._y_to_logits = nn.Sequential(\n",
        "            nn.Linear(latent_dim, hidden_dec_size),\n",
        "            nn.ReLU(),\n",
        "            nn.Linear(hidden_dec_size, hidden_dec_size),\n",
        "            nn.ReLU(),\n",
        "            nn.Linear(hidden_dec_size, data_dim),\n",
        "        )\n",
        "        self.register_buffer(\"_prior_scores\", torch.zeros(latent_dim, requires_grad=False))\n",
        " \n",
        "\n",
        "    def F(self, predictors=None):\n",
        "        \"\"\"\n",
        "        :param predictors: input predictors, this is reserved for future use\n",
        "        \"\"\"\n",
        "        return pd.NonEmptyBitVector(scores=self._prior_scores)\n",
        "\n",
        "    def Y(self, f, predictors=None):\n",
        "        \"\"\"\n",
        "        :param f: face-encoding [batch_size, K]\n",
        "        :param predictors: input predictors, this is reserved for future use\n",
        "        \"\"\"\n",
        "        return pd.MaskedDirichlet(f.bool(), torch.ones_like(f))\n",
        "\n",
        "    def X(self, y, predictors=None):\n",
        "        logits = self._y_to_logits(y)\n",
        "        return td.Independent(td.Bernoulli(logits=logits), 1)  \n",
        "    \n",
        "    def sample(self, sample_shape=torch.Size([])):\n",
        "        # [sample_shape, K]\n",
        "        f = self.F().sample(sample_shape)\n",
        "        # [sample_shape, K]\n",
        "        y = self.Y(f).sample()\n",
        "        # [sample_shape, D]\n",
        "        x = self.X(y).sample()\n",
        "        return f, y, x\n",
        "    \n",
        "    def log_prob(self, f, y, x, per_bit=False):\n",
        "        if per_bit:\n",
        "            return self.F().log_prob(f), self.Y(f).log_prob(y), self.X(y).base_dist.log_prob(x)\n",
        "        else:\n",
        "            return self.F().log_prob(f), self.Y(f).log_prob(y), self.X(y).log_prob(x)\n",
        "    "
      ],
      "execution_count": null,
      "outputs": []
    },
    {
      "cell_type": "markdown",
      "metadata": {
        "id": "7hxVyVWYt9eQ"
      },
      "source": [
        "## Inference model\n",
        "\n",
        "\\begin{align}\n",
        "q_{YF|X}(y,f|x,\\lambda) &= q_{F|X}(f|x, \\lambda) q_{Y|FX}(y|f,x, \\lambda) \\\\\n",
        "&= \\mathrm{Gibbs}(f|\\mathbf s(x; \\lambda)) \\times \\mathrm{Dir}(y|\\mathbf a(x, f;\\lambda))\n",
        "\\end{align}\n",
        "\n",
        "where $\\mathbf s(x; \\lambda) \\in \\mathbb R^K$ is a vector of scores predicted by an NN, and $\\mathbf a(x, f; \\lambda) \\in \\mathbb R_{>0}^{\\mathrm{dim}(f)}$ is a vector of concentrations predicted by an NN; $\\lambda$ denotes the NN parameters."
      ]
    },
    {
      "cell_type": "code",
      "metadata": {
        "id": "DvwA2H8Bt8Qb"
      },
      "source": [
        "class InferenceModel(nn.Module):\n",
        "\n",
        "    def __init__(self, latent_dim, data_dim, hidden_size, hidden_enc_size):\n",
        "        super().__init__()\n",
        "\n",
        "        self._x_to_scores = nn.Sequential(\n",
        "            nn.Linear(data_dim, hidden_enc_size),\n",
        "            nn.ReLU(),\n",
        "            nn.Linear(hidden_enc_size, hidden_enc_size),\n",
        "            nn.ReLU(),\n",
        "            nn.Linear(hidden_enc_size, latent_dim)\n",
        "        )\n",
        "        # TODO: condition on x (in addition to f) to predict concentrations\n",
        "        self._f_to_concentrations = nn.Sequential(\n",
        "            nn.Linear(latent_dim, hidden_size),\n",
        "            nn.ReLU(),\n",
        "            nn.Linear(hidden_size, hidden_size),\n",
        "            nn.ReLU(),\n",
        "            nn.Linear(hidden_size, latent_dim),\n",
        "            nn.Softplus()\n",
        "        )\n",
        "\n",
        "    def F(self, x, predictors=None):\n",
        "        # [B, K]\n",
        "        scores = self._x_to_scores(x) \n",
        "        return pd.NonEmptyBitVector(scores)\n",
        "\n",
        "    def Y(self, f, x, predictors=None):\n",
        "        concentration = self._f_to_concentrations(f)\n",
        "        return pd.MaskedDirichlet(f.bool(), concentration)\n",
        "    \n",
        "    def sample(self, x, sample_shape=torch.Size([])):\n",
        "        # [sample_shape, B, K]\n",
        "        f = self.F(x).sample(sample_shape)\n",
        "        # [sample_shape, B, K]\n",
        "        y = self.Y(f, x).sample()\n",
        "        return f, y\n",
        "    \n",
        "    def log_prob(self, f, y, x):\n",
        "        return self.F(x).log_prob(f), self.Y(f, x).log_prob(y)"
      ],
      "execution_count": null,
      "outputs": []
    },
    {
      "cell_type": "markdown",
      "metadata": {
        "id": "j773KVdTuDYn"
      },
      "source": [
        "## ELBO\n",
        "\n",
        "For a single observation $x$, our ELBO corresponds to:\n",
        "\n",
        "\\begin{align}\n",
        "\\mathrm{ELBO}_x(\\theta, \\lambda) \n",
        "&=  \\mathbb E_{F|X=x,\\lambda} \\mathbb E_{Y|X=x,\\lambda}\\left[ \\log p_{X|Y}(x| y,\\theta) \\right]\\\\\n",
        "&- \\mathbb E_{F|X=x,\\lambda}\\left[ \\mathrm{KL}(Y|X=x,F=f,\\lambda || Y|F=f,\\theta) \\right] \\\\\n",
        "&- \\mathrm{KL}(F|X=x,\\lambda \\mid\\mid F|\\theta )\n",
        "\\end{align}\n",
        "\n",
        "A gradient estimator for $\\theta$ can be obtained via\n",
        "\\begin{align}\n",
        "\\nabla_\\theta \\mathrm{ELBO}_x(\\theta, \\lambda)&\\approx \\nabla_\\theta \\log p_{X|Y}(x|y, \\theta) \\\\\n",
        "&- \\nabla_\\theta \\mathrm{KL}(Y|X=x,F=f,\\lambda || Y|F=f,\\theta) \\\\\n",
        "&- \\nabla_\\theta \\mathrm{KL}(F|X=x,\\lambda \\mid\\mid F|\\theta )\n",
        "\\end{align}\n",
        "with $y,f \\sim Y,F|X=x, \\lambda$.\n",
        "\n",
        "A gradient estimator for $\\lambda$ can be obtained via\n",
        "\\begin{align}\n",
        "\\nabla_\\lambda  \\mathrm{ELBO}_x(\\theta, \\lambda) &\\approx \\nabla_{\\lambda} \\log p_{X|Y}(x|y=\\mathcal T(\\epsilon; \\lambda), \\theta) \\\\\n",
        "&-\\nabla_\\lambda \\mathrm{KL}(Y|X=x,F=f,\\lambda || Y|F=f,\\theta) \\\\\n",
        "&-\\nabla_\\lambda \\mathrm{KL}(F|X=x,\\lambda \\mid\\mid F|\\theta ) \\\\\n",
        "&+\\left( \\log p_{X|Y}(x|y, \\theta) -  \\mathrm{KL}(Y|X=x,F=f,\\lambda || Y|F=f,\\theta) \\right) \\nabla_\\lambda \\log q_{F|X}(f|x,\\lambda)\n",
        "\\end{align}\n",
        "with $f \\sim F|X=x,\\lambda$ and $y = \\mathcal T(\\epsilon; \\lambda)$ for $\\epsilon \\sim \\Phi$.\n",
        "\n",
        "A surrogate in `pytorch` is given by \n",
        "\\begin{align}\n",
        "&\\log p_{X|Y}(x|y, \\theta) \\\\\n",
        "&- \\mathrm{KL}(Y|X=x,F=f,\\lambda || Y|F=f,\\theta) \\\\\n",
        "&- \\mathrm{KL}(F|X=x,\\lambda \\mid\\mid F|\\theta )\\\\\n",
        "&+ \\mathrm{detach}\\left( \\log p_{X|Y}(x|y, \\theta) -  \\mathrm{KL}(Y|X=x,F=f,\\lambda || Y|F=f,\\theta) \\right) \\log q_{F|X}(f|x,\\lambda)\n",
        "\\end{align}\n",
        "again with $f \\sim F|X=x,\\lambda$ and $y = \\mathcal T(\\epsilon; \\lambda)$ for $\\epsilon \\sim \\Phi$."
      ]
    },
    {
      "cell_type": "code",
      "metadata": {
        "id": "joQjUIlPhrYn"
      },
      "source": [
        "from collections import OrderedDict\n",
        "\n",
        "\n",
        "class VAE:\n",
        "\n",
        "    def __init__(self, p, q):\n",
        "        self.p = p\n",
        "        self.q = q\n",
        "\n",
        "    def train(self):\n",
        "        self.p.train()\n",
        "        self.q.train()\n",
        "\n",
        "    def eval(self):\n",
        "        self.p.eval()\n",
        "        self.q.eval()\n",
        "\n",
        "    def gen_parameters(self):\n",
        "        return self.p.parameters()\n",
        "\n",
        "    def inf_parameters(self):\n",
        "        return self.q.parameters()\n",
        "\n",
        "    def loss(self, x_obs, reward_avg=0.0, reward_std=1.0):\n",
        "        \"\"\"\n",
        "        :param x_obs: [B, D]\n",
        "        \"\"\"\n",
        "        B, K, D = x_obs.shape[0], p._latent_dim, p._data_dim\n",
        "\n",
        "        # [B, K]\n",
        "        q_F = self.q.F(x_obs)\n",
        "        f = q_F.sample()\n",
        "        assert_shape(f, (B, K), \"f ~ F|X=x, \\lambda\")\n",
        "        q_Y = self.q.Y(f, x_obs)\n",
        "        y = q_Y.rsample()\n",
        "        assert_shape(y, (B, K), \"y ~ Y|F=f, \\lambda\")\n",
        "        \n",
        "        p_F = self.p.F()\n",
        "        if p_F.batch_shape != x_obs.shape[:1]:\n",
        "            p_F = p_F.expand(x_obs.shape[:1] + p_F.batch_shape)\n",
        "        \n",
        "        p_Y = self.p.Y(f)  # we condition on f ~ q_F         \n",
        "        p_X = self.p.X(y)  # we condition on y ~ q_Y\n",
        "\n",
        "        # ELBO: the first term is an MC estimate (we sampled (f,y))\n",
        "        # the second term is exact \n",
        "        # the third term is an MC estimate (we sampled f)\n",
        "        ll = p_X.log_prob(x_obs)\n",
        "        kl_Y_given_f = td.kl_divergence(q_Y, p_Y)\n",
        "        kl_F = td.kl_divergence(q_F, p_F)\n",
        "        \n",
        "        # E_FY[ log p(x|y,f)] - KL(F) - E_F[ KL(Y) ]\n",
        "        # E_F[ E_Y[  log p(x|y,f) ] - KL(Y) ] - KL(F)\n",
        "        # E_F[ r(F) ] for r(f) = log p(x|y,f)\n",
        "        # r(f).detach() * log q(f)\n",
        "        base_reward = (ll - kl_Y_given_f).detach()\n",
        "        reward = (base_reward - reward_avg) / np.minimum(reward_std, 1.0)\n",
        "        sfe_surrogate = reward * q_F.log_prob(f)\n",
        "        grep_surrogate = ll - kl_F - kl_Y_given_f\n",
        "        loss = -(grep_surrogate + sfe_surrogate).mean(0)\n",
        "        ret = OrderedDict(\n",
        "            loss=loss.item(),\n",
        "            LL=ll.mean(0).item(),\n",
        "            KL_F=kl_F.mean(0).item(),\n",
        "            KL_Y=kl_Y_given_f.mean(0).item(),\n",
        "            SFE_base_reward_mean=base_reward.mean(0).item(),\n",
        "            SFE_base_reward_std=base_reward.std(0).item(),\n",
        "            SFE_reward_mean=reward.mean(0).item(),\n",
        "            SFE_reward_std=reward.std(0).item(),\n",
        "        )\n",
        "        return loss, ret\n",
        "\n",
        "    def estimate_ll(self, x_obs, num_samples):     \n",
        "        with torch.no_grad():\n",
        "            self.eval()\n",
        "            \n",
        "            # log 1/K \\sum_{k} p(x, z_k)/q(z_k|x)\n",
        "            # [N, B, K]\n",
        "            f, y = self.q.sample(x_obs, (num_samples,))\n",
        "            # [N, B]\n",
        "            log_p = torch.stack(self.p.log_prob(f, y, x_obs), -1).sum(-1)\n",
        "            log_q = torch.stack(self.q.log_prob(f, y, x_obs), -1).sum(-1)\n",
        "            # [B]\n",
        "            ll = torch.logsumexp(log_p - log_q, 0) - np.log(num_samples)                    \n",
        "        return ll\n",
        "\n",
        "    def estimate_ll_per_bit(self, x_obs, num_samples):     \n",
        "        with torch.no_grad():\n",
        "            self.eval()\n",
        "            \n",
        "            # log 1/K \\sum_{k} p(x, z_k)/q(z_k|x)\n",
        "            # [N, B, K]\n",
        "            f, y = self.q.sample(x_obs, (num_samples,))        \n",
        "            # [N, B], [N, B], [N, B, D]\n",
        "            log_pf, log_py, log_px = self.p.log_prob(f, y, x_obs, per_bit=True)\n",
        "            # [N, B, D]\n",
        "            log_p = log_pf.unsqueeze(-1) + log_py.unsqueeze(-1) + log_px\n",
        "            # [N, B]\n",
        "            log_q = torch.stack(self.q.log_prob(f, y, x_obs), -1).sum(-1)\n",
        "            # [B, D]\n",
        "            ll = torch.logsumexp(log_p - log_q.unsqueeze(-1), 0) - np.log(num_samples)\n",
        "                    \n",
        "        return ll"
      ],
      "execution_count": null,
      "outputs": []
    },
    {
      "cell_type": "markdown",
      "metadata": {
        "id": "dfF4Ick8jiZX"
      },
      "source": [
        "# MNIST \n",
        "\n",
        "* Download\n",
        "* Preprocess\n",
        "* Batcher"
      ]
    },
    {
      "cell_type": "markdown",
      "metadata": {
        "id": "y7qfip0KvH_h"
      },
      "source": [
        "## Data and Batcher"
      ]
    },
    {
      "cell_type": "code",
      "metadata": {
        "id": "geaiBwByZ5GJ"
      },
      "source": [
        "import pathlib\n",
        "import numpy as np\n",
        "import torch\n",
        "import torch.utils.data\n",
        "from torchvision import datasets, transforms\n",
        "\n",
        "\n",
        "def boolean_argument(string):\n",
        "    return str(string).lower() in {\"true\", \"yes\", \"1\"}\n",
        "\n",
        "\n",
        "def list_argument(dtype, separator=\",\"):\n",
        "    def constructor(string):\n",
        "        return [dtype(x) for x in string.split(separator)]\n",
        "    return constructor\n",
        "\n",
        "def print_digit(matrix):\n",
        "    rows = []\n",
        "    for i in range(matrix.size(0)):\n",
        "        row = \"\"\n",
        "        for j in range(matrix.size(1)):\n",
        "            row += \"x\" if matrix[i,j] >= 0.5 else \" \"\n",
        "        rows.append(row)\n",
        "    return \"\\n\".join(rows)\n",
        "\n",
        "\n",
        "def load_mnist(batch_size, save_to, height=28, width=28):\n",
        "    \"\"\"\n",
        "    :param batch_size: the dataloader will create batches of this size\n",
        "    :param save_to: a folder where we download the data into    \n",
        "    :param height: using something other than 28 implies a Resize transformation\n",
        "    :param width: using something other than 28 implies a Resize transformation\n",
        "    :return: 3 data loaders\n",
        "        training, validation, test\n",
        "    \"\"\"\n",
        "    # create directory\n",
        "    pathlib.Path(save_to).mkdir(parents=True, exist_ok=True)\n",
        "    \n",
        "    if height == width == 28:\n",
        "        transform = transforms.ToTensor()    \n",
        "    else:        \n",
        "        transform = transforms.Compose([\n",
        "            transforms.Resize((height, width)), \n",
        "            transforms.ToTensor()]\n",
        "        )\n",
        "\n",
        "    train_loader = torch.utils.data.DataLoader(\n",
        "        torch.utils.data.Subset(\n",
        "            datasets.MNIST(\n",
        "                save_to,\n",
        "                train=True, \n",
        "                download=True, \n",
        "                transform=transform),\n",
        "            indices=range(55000)), \n",
        "        batch_size=batch_size,\n",
        "        shuffle=True\n",
        "    )\n",
        "    valid_loader = torch.utils.data.DataLoader(\n",
        "        torch.utils.data.Subset(\n",
        "            datasets.MNIST(\n",
        "                save_to,\n",
        "                train=True, \n",
        "                download=True, \n",
        "                transform=transform),\n",
        "            indices=range(55000, 60000)), \n",
        "        batch_size=batch_size,\n",
        "        shuffle=True\n",
        "    )\n",
        "    test_loader = torch.utils.data.DataLoader(\n",
        "        datasets.MNIST(\n",
        "            save_to,\n",
        "            train=False, \n",
        "            download=True, \n",
        "            transform=transform),\n",
        "        batch_size=batch_size\n",
        "    )\n",
        "    return train_loader, valid_loader, test_loader\n",
        "\n",
        "\n",
        "class Batcher:\n",
        "    \"\"\"\n",
        "    Deals with options such as\n",
        "        * dynamic binarization\n",
        "        * change to device\n",
        "        * shape\n",
        "        * one-hot encoding of digits\n",
        "    \"\"\"\n",
        "    \n",
        "    def __init__(self, data_loader, height, width, device, binarize=False, onehot=False, num_classes=10): \n",
        "        self.data_loader = data_loader\n",
        "        self.height = height\n",
        "        self.width = width\n",
        "        self.device = device\n",
        "        self.binarize = binarize\n",
        "        self.num_batches = len(data_loader)\n",
        "        self.onehot = onehot\n",
        "        self.num_classes = num_classes\n",
        "            \n",
        "    def __len__(self):\n",
        "        return self.num_batches\n",
        "    \n",
        "    def __iter__(self):\n",
        "        \"\"\"        \n",
        "        Yields\n",
        "            x: [B, H, W], y: [B]\n",
        "        or\n",
        "            x: [B, H, W], y: [B, 10]\n",
        "        \"\"\"\n",
        "        for x, y in self.data_loader: \n",
        "            # x: [B, C=1, H, W], y: [B]\n",
        "            # [B, H, W]\n",
        "            x = x.reshape(x.size(0), self.height, self.width).to(self.device)\n",
        "            if self.binarize:\n",
        "                x = (x > torch.rand_like(x)).float()\n",
        "            # [B]\n",
        "            y = y.to(self.device)\n",
        "            if self.onehot:\n",
        "                # [B, 10]\n",
        "                y = torch.nn.functional.one_hot(y, num_classes=self.num_classes)\n",
        "            yield x, y\n",
        "                \n"
      ],
      "execution_count": null,
      "outputs": []
    },
    {
      "cell_type": "markdown",
      "metadata": {
        "id": "sfyA6CapvEbC"
      },
      "source": [
        "## Hyperparameters"
      ]
    },
    {
      "cell_type": "code",
      "metadata": {
        "id": "QwDEnApvimc0"
      },
      "source": [
        "from collections import namedtuple\n",
        "cfg = dict(\n",
        "    batch_size=200,\n",
        "    data_dir='tmp',\n",
        "    height=28,\n",
        "    width=28, \n",
        "    device='cuda:0',\n",
        "    epochs=10,\n",
        "    grad_clip=5.0,\n",
        "    num_samples=1000,\n",
        "    hidden_enc_size=500,\n",
        "    hidden_dec_size=500,\n",
        "    latent_dim=10,\n",
        "    hidden_face2dir=10,\n",
        ")\n",
        "args = namedtuple('Config', cfg.keys())(*cfg.values())"
      ],
      "execution_count": null,
      "outputs": []
    },
    {
      "cell_type": "code",
      "metadata": {
        "id": "QP01-3NGhrYq"
      },
      "source": [
        "# You can skip this on Colab\n",
        "\n",
        "# Download MNIST\n",
        "#!wget www.di.ens.fr/~lelarge/MNIST.tar.gz\n",
        "#!tar -zxvf MNIST.tar.gz"
      ],
      "execution_count": null,
      "outputs": []
    },
    {
      "cell_type": "code",
      "metadata": {
        "id": "lymJpzWjiAr2"
      },
      "source": [
        "train_loader, valid_loader, test_loader = load_mnist(\n",
        "    args.batch_size, \n",
        "    save_to='./', \n",
        "    height=args.height, \n",
        "    width=args.width\n",
        ")"
      ],
      "execution_count": null,
      "outputs": []
    },
    {
      "cell_type": "code",
      "metadata": {
        "id": "D14BEA5miVQA"
      },
      "source": [
        "def get_batcher(data_loader, args):\n",
        "    batcher = Batcher(\n",
        "        data_loader, \n",
        "        height=args.height, \n",
        "        width=args.width, \n",
        "        device=torch.device(args.device), \n",
        "        binarize=True, \n",
        "        num_classes=10,\n",
        "        onehot=True\n",
        "    )\n",
        "    return batcher"
      ],
      "execution_count": null,
      "outputs": []
    },
    {
      "cell_type": "markdown",
      "metadata": {
        "id": "7U-fMXd6vL9K"
      },
      "source": [
        "## Model"
      ]
    },
    {
      "cell_type": "code",
      "metadata": {
        "id": "-HOehRT3hrYs"
      },
      "source": [
        "p = GenerativeModel(\n",
        "    latent_dim=args.latent_dim, \n",
        "    data_dim=args.height * args.width, \n",
        "    hidden_dec_size=args.hidden_dec_size,\n",
        ").to(torch.device(args.device))"
      ],
      "execution_count": null,
      "outputs": []
    },
    {
      "cell_type": "code",
      "metadata": {
        "id": "Xv813v7HhrYs"
      },
      "source": [
        "q = InferenceModel(\n",
        "    latent_dim=10, \n",
        "    data_dim=args.height * args.width, \n",
        "    hidden_size=args.hidden_face2dir, \n",
        "    hidden_enc_size=args.hidden_enc_size\n",
        ").to(torch.device(args.device))"
      ],
      "execution_count": null,
      "outputs": []
    },
    {
      "cell_type": "code",
      "metadata": {
        "colab": {
          "base_uri": "https://localhost:8080/"
        },
        "id": "GFWDrzGdmij9",
        "outputId": "4765cc66-261b-4e8e-d117-28a48a95367d"
      },
      "source": [
        "q.sample(p.sample()[-1])"
      ],
      "execution_count": null,
      "outputs": [
        {
          "output_type": "execute_result",
          "data": {
            "text/plain": [
              "(tensor([0., 1., 0., 0., 0., 0., 0., 0., 0., 0.], device='cuda:0'),\n",
              " tensor([0., 1., 0., 0., 0., 0., 0., 0., 0., 0.], device='cuda:0'))"
            ]
          },
          "metadata": {
            "tags": []
          },
          "execution_count": 20
        }
      ]
    },
    {
      "cell_type": "code",
      "metadata": {
        "id": "V3-92i2xhrYt"
      },
      "source": [
        "vae = VAE(p, q)"
      ],
      "execution_count": null,
      "outputs": []
    },
    {
      "cell_type": "markdown",
      "metadata": {
        "id": "xZXxLFbepKxI"
      },
      "source": [
        "## Visualisations\n",
        "\n",
        "* Compare statistics of samples from $p$ to those of samples from $q$\n",
        "* Visualise a few generations"
      ]
    },
    {
      "cell_type": "code",
      "metadata": {
        "id": "2ApPTuJLumgJ"
      },
      "source": [
        "from matplotlib import pyplot as plt\n",
        "from collections import defaultdict"
      ],
      "execution_count": null,
      "outputs": []
    },
    {
      "cell_type": "code",
      "metadata": {
        "id": "c9QpZEQrudhc"
      },
      "source": [
        "def compare_p_q(vae, batcher: Batcher, args): \n",
        "    with torch.no_grad():\n",
        "        vae.eval()        \n",
        "    \n",
        "        prior = defaultdict(list)\n",
        "        posterior = defaultdict(list)\n",
        "        num_obs = 0\n",
        "\n",
        "        # Some visualisations\n",
        "        for x_obs, y_obs in batcher:\n",
        "            \n",
        "            # [B, H*W]\n",
        "            x_obs = x_obs.reshape(-1, args.height * args.width)\n",
        "            num_obs += x_obs.shape[0]\n",
        "\n",
        "            # [B, 10]\n",
        "            context = None\n",
        "            \n",
        "            B, K, D = x_obs.shape[0], vae.p._latent_dim, vae.p._data_dim            \n",
        "            \n",
        "            # [B, K]\n",
        "            f = vae.p.F().expand((B,)).sample()\n",
        "            y = vae.p.Y(f).sample()    \n",
        "            # [B, K]\n",
        "            prior['f'].append(f.cpu().numpy())\n",
        "            # [B]\n",
        "            prior['dim'].append(f.sum(-1).cpu().numpy())\n",
        "            # [B, K]\n",
        "            prior['y'].append(y.cpu().numpy())\n",
        "            #print(prior['f'][-1].shape, prior['dim'][-1].shape, prior['y'][-1].shape)\n",
        "            \n",
        "            # [B, K]\n",
        "            f, y = vae.q.sample(x_obs)\n",
        "            # [B, K]\n",
        "            posterior['f'].append(f.cpu().numpy())\n",
        "            # [B]\n",
        "            posterior['dim'].append(f.sum(-1).cpu().numpy())\n",
        "            # [B, K]\n",
        "            posterior['y'].append(y.cpu().numpy())\n",
        "            #print(posterior['f'][-1].shape, posterior['dim'][-1].shape, posterior['y'][-1].shape)\n",
        "\n",
        "        for name, d in zip(['Prior', 'Posterior'], [prior, posterior]):\n",
        "            \n",
        "            _ = plt.imshow(np.concatenate(d['f'], 0).mean(0, keepdims=True), interpolation='nearest')\n",
        "            _ = plt.colorbar()\n",
        "            _ = plt.xlabel('vertex')\n",
        "            _ = plt.yticks([], [])\n",
        "            _ = plt.title(f'Marginal {name} probability that F_k = 1')\n",
        "            plt.show()\n",
        "                    \n",
        "            _ = plt.imshow(np.concatenate(d['y'], 0).mean(0, keepdims=True), interpolation='nearest')\n",
        "            _ = plt.colorbar()\n",
        "            _ = plt.xlabel('vertex')\n",
        "            _ = plt.yticks([], [])\n",
        "            _ = plt.title(f'Average {name} Y_k|F=f')\n",
        "            plt.show()\n",
        "            \n",
        "            _ = plt.hist(np.concatenate(d['dim'], 0), alpha=0.3)\n",
        "            _ = plt.ylabel(f'Count (out of {args.num_samples})')\n",
        "            _ = plt.xlabel('dim(f)')\n",
        "            _ = plt.title(f'{name} distribution of dim(f)')\n",
        "            plt.show()\n"
      ],
      "execution_count": null,
      "outputs": []
    },
    {
      "cell_type": "code",
      "metadata": {
        "colab": {
          "base_uri": "https://localhost:8080/",
          "height": 1000
        },
        "id": "cighi_3_qx9t",
        "outputId": "ee95d16a-99b5-4081-c5cc-e7ff2e7f9993"
      },
      "source": [
        "compare_p_q(vae, get_batcher(valid_loader, args), args)"
      ],
      "execution_count": null,
      "outputs": [
        {
          "output_type": "display_data",
          "data": {
            "image/png": "[encoded data removed]",
            "text/plain": [
              "<Figure size 432x288 with 2 Axes>"
            ]
          },
          "metadata": {
            "tags": [],
            "needs_background": "light"
          }
        },
        {
          "output_type": "display_data",
          "data": {
            "image/png": "[encoded data removed]",
            "text/plain": [
              "<Figure size 432x288 with 2 Axes>"
            ]
          },
          "metadata": {
            "tags": [],
            "needs_background": "light"
          }
        },
        {
          "output_type": "display_data",
          "data": {
            "image/png": "[encoded data removed]",
            "text/plain": [
              "<Figure size 432x288 with 1 Axes>"
            ]
          },
          "metadata": {
            "tags": [],
            "needs_background": "light"
          }
        },
        {
          "output_type": "display_data",
          "data": {
            "image/png": "[encoded data removed]",
            "text/plain": [
              "<Figure size 432x288 with 2 Axes>"
            ]
          },
          "metadata": {
            "tags": [],
            "needs_background": "light"
          }
        },
        {
          "output_type": "display_data",
          "data": {
            "image/png": "[encoded data removed]",
            "text/plain": [
              "<Figure size 432x288 with 2 Axes>"
            ]
          },
          "metadata": {
            "tags": [],
            "needs_background": "light"
          }
        },
        {
          "output_type": "display_data",
          "data": {
            "image/png": "[encoded data removed]",
            "text/plain": [
              "<Figure size 432x288 with 1 Axes>"
            ]
          },
          "metadata": {
            "tags": [],
            "needs_background": "light"
          }
        }
      ]
    },
    {
      "cell_type": "code",
      "metadata": {
        "id": "aHjY_-79jYAZ"
      },
      "source": [
        "def visualize(vae, batcher: Batcher, args, N=4, num_figs=1): \n",
        "\n",
        "    assert N <= args.batch_size, \"N should be no bigger than a batch\"\n",
        "    with torch.no_grad():\n",
        "        vae.p.eval()        \n",
        "        vae.q.eval()\n",
        "            \n",
        "        # Some visualisations\n",
        "        for r, (x_obs, y_obs) in enumerate(batcher, 1):\n",
        "\n",
        "            plt.figure(figsize=(2*N, 2*N))\n",
        "            plt.subplots_adjust(wspace=0.5, hspace=0.5)        \n",
        "        \n",
        "            \n",
        "            # [B, H*W]\n",
        "            x_obs = x_obs.reshape(-1, args.height * args.width)\n",
        "            x_obs = x_obs[:N]\n",
        "            # [B, 10]\n",
        "            context = None\n",
        "            \n",
        "            B, K, D = x_obs.shape[0], vae.p._latent_dim, vae.p._data_dim            \n",
        "            # marginal probability\n",
        "            prob = vae.estimate_ll_per_bit(x_obs, args.num_samples).exp()            \n",
        "            # posterior samples\n",
        "            f, y = vae.q.sample(x_obs)\n",
        "            x = vae.p.X(y).sample()\n",
        "            # prior samples\n",
        "            f_, y_, x_ = vae.p.sample((N,))\n",
        "\n",
        "            for i in range(N):\n",
        "                plt.subplot(4, N, 0*N + i + 1)\n",
        "                plt.imshow(x_obs[i].reshape(args.height, args.width).cpu(), cmap='Greys')\n",
        "                plt.title(\"$x^{(%d)}$\" % (i+1))\n",
        "\n",
        "                plt.subplot(4, N, 1*N + i + 1)\n",
        "                plt.imshow(x[i].reshape(args.height, args.width).cpu(), cmap='Greys')\n",
        "                plt.title(\"$p(x^{(%d)})$\" % (i+1))\n",
        "                \n",
        "                plt.subplot(4, N, 2*N + i + 1)                \n",
        "                plt.axhline(y=args.height//2, c='red', linewidth=1, ls='--')\n",
        "                plt.imshow(x[i].reshape(args.height, args.width).cpu(), cmap='Greys')\n",
        "                plt.title(\"x|$x^{(%d)}$\" % (i+1))\n",
        "                \n",
        "                plt.subplot(4, N, 3*N + i + 1)\n",
        "                plt.imshow(x_[i].reshape(args.height, args.width).cpu(), cmap='Greys')\n",
        "                plt.title(\"x ~ p\")\n",
        "                \n",
        "            plt.show()\n",
        "\n",
        "            if r == num_figs:\n",
        "                break"
      ],
      "execution_count": null,
      "outputs": []
    },
    {
      "cell_type": "code",
      "metadata": {
        "colab": {
          "base_uri": "https://localhost:8080/",
          "height": 591
        },
        "id": "UeRvtKu6hrYv",
        "outputId": "8df3f080-343f-40a8-8595-3d07e9fed54c"
      },
      "source": [
        "visualize(vae, get_batcher(valid_loader, args), args, N=5)"
      ],
      "execution_count": null,
      "outputs": [
        {
          "output_type": "display_data",
          "data": {
            "image/png": "[encoded data removed]",
            "text/plain": [
              "<Figure size 720x720 with 20 Axes>"
            ]
          },
          "metadata": {
            "tags": [],
            "needs_background": "light"
          }
        }
      ]
    },
    {
      "cell_type": "markdown",
      "metadata": {
        "id": "cHU2vfcejqhv"
      },
      "source": [
        "## Training"
      ]
    },
    {
      "cell_type": "code",
      "metadata": {
        "id": "xKckbBiFhrYt"
      },
      "source": [
        "def validate(vae, batcher, args):\n",
        "    with torch.no_grad():\n",
        "        vae.eval()\n",
        "        \n",
        "        nb_instances = 0.\n",
        "        ll = 0.\n",
        "        for x_obs, y_obs in batcher:\n",
        "            # [B, H*W]\n",
        "            x_obs = x_obs.reshape(-1, args.height * args.width)     \n",
        "            # [B]\n",
        "            ll = ll + vae.estimate_ll(x_obs, args.num_samples).sum(0)\n",
        "            nb_instances += x_obs.size(0)\n",
        "\n",
        "    return ll / nb_instances"
      ],
      "execution_count": null,
      "outputs": []
    },
    {
      "cell_type": "code",
      "metadata": {
        "id": "VEfnyCs2y-ln"
      },
      "source": [
        "from tqdm.auto import tqdm\n",
        "from itertools import chain\n",
        "from collections import defaultdict"
      ],
      "execution_count": null,
      "outputs": []
    },
    {
      "cell_type": "markdown",
      "metadata": {
        "id": "yWixjAFXzFgf"
      },
      "source": [
        "### Optimiser"
      ]
    },
    {
      "cell_type": "code",
      "metadata": {
        "id": "1PdwNsn2zD0h"
      },
      "source": [
        "p_opt = torch.optim.Adam(p.parameters())\n",
        "q_opt = torch.optim.Adam(q.parameters())\n",
        "stats_tr = defaultdict(list)\n",
        "stats_val = defaultdict(list)"
      ],
      "execution_count": null,
      "outputs": []
    },
    {
      "cell_type": "markdown",
      "metadata": {
        "id": "m_9HDlI3zHyJ"
      },
      "source": [
        "### Steps"
      ]
    },
    {
      "cell_type": "code",
      "metadata": {
        "colab": {
          "base_uri": "https://localhost:8080/",
          "height": 1000,
          "referenced_widgets": [
            "e65de971dd04492aae6c5c57d27a32e7",
            "d4b650e82a5546c291a36670097985af",
            "57e91e953f8c439db170f7e032123766",
            "57e92512599a4e8c857c64618fd42699",
            "f0e57ee7fb51432ba195411825fc332f",
            "a506a97e2aee42a1bf7b831906fbf42a",
            "b9c042a32598438e8d93dfecc02f4441",
            "e5a27a063aa34b438a1ccf2ded479bb6",
            "6b4734cbd6b44c6e8c45ff24cebd2fc7",
            "5a9d597af3614b78aaad13d6d8e22ad4",
            "319b2e9f83dc44d283ede8f86cf188bd",
            "83e46cdfd35d48789a8810b7e91bb9a7",
            "80c11d2679694bfa97d1a284b3155cd9",
            "9b4ef8aba2c547949982493856417144",
            "b2f19ce0b3aa436baa1059d73c76a457",
            "f447d97deb5049d585ed3444b986ef7b",
            "b6e7f02cb3a2422b93f9684657336878",
            "55459517c62f45109d5b107d382cf84f",
            "c83b6eaffd654aceba5e260d68c68637",
            "62c49c77cff3458eaafe162aa3272be9",
            "f72cafedcdd9400d8ae145dcf7859d38",
            "d999a68cca6548c592eeff4c6a4b3a75",
            "da2f98c43d734d39a132f6e8b2dd06a4",
            "ab31e69ce8004edbbaa79f6b69dc5beb",
            "f07e33efeddd43c8aa16fe149f93253c",
            "1c2d57e1fcfe426885a9501881576b95",
            "f964db1c75a04a4c9023501cc1bf1aa7",
            "8e4e8812bef544af9c8109412666c4c6",
            "82acb5fd61f24c93a0f10784eda610bc",
            "0a5172a90f64416ca94cf272f61f1fe5",
            "629f21eb75f34887aad25297d2d015a0",
            "6fa3356ebf16403e9cceffca45b78728",
            "f0cfdaae699f435c9935ea118d48b678",
            "b00e7139c947464c8fb611545266aa6a",
            "53270b472ac1424ab9db80b5aec5a08b",
            "756cfc2562d74babb1982157096d6234",
            "a16c940adf594510a7be305489ad4a4e",
            "2d2aa1355afe4e68b6b25b90b586d343",
            "286c90e15c1c4ab187573f5ad2fcbdb2",
            "4d5e50410c5a46099915d54c9dec0662",
            "5d1ea3cf72594ec8aeb4fe4f85854f68",
            "e0fef07f7d9041d9b16e3c61121e67e0",
            "b97d27f293bf49e6b3cf113d7e7b1603",
            "46f1c81a50db4bb2876da8721e147e1c",
            "dd6767b5a29a4a48ab1d1403aa05bea5",
            "2794b91d3bac4a12af3e9d07f26cd96c",
            "6bcca88f9dad4314aba058d9d6ba724a",
            "20e33d40429347d9b129446a122a6fa4",
            "01737ca7107b4a49a2a8b307869e1642",
            "1d3ed1ce3d2a409fbb44380ede93885f",
            "1c221abab5d047229de5b6f597d81958",
            "2415bb855f0748179f20492add38c8a1",
            "55d4182d42444789b534cc2493f54adc",
            "0ce86165548246b59ab4eebcf0fb30d0",
            "5ef249839d6147dabc01c4aaf807dd55",
            "46c72b8b0c44435894212cad20a2e344",
            "b9046590ad494aa6839ba3f64647193d",
            "38f6cef84a464f4aa08e125ddb0937c1",
            "3136f81cbc55488cbcf5bcb7c43aaa8a",
            "c17b22072eff4c3bbf1c0bd7a3bf9fd5",
            "16f7c0041220484f9cfbc1bc13d3a68a",
            "6bd26b2077614c6d98589733f5d096be",
            "8ecdd696b28944e2abe6c26d29c375b9",
            "28fbfcdd7d9942a28a6eea047afc64ff",
            "f7d638b94e54484fbf4dabba71b5b1f1",
            "7d6acefb73e74535be1c87a25c1ca092",
            "5c21732893bf4f23894b4b47b6303716",
            "b8ead54f6a514212acc9a599ca4f4940",
            "9748605cbe464699bdd483f524afc847",
            "c2526bbb60404ac0809be8899ecef047",
            "5b82bbd3783b404a83697dffb53d520c",
            "e2a0534a7acc459ba81cb64ac63102c3",
            "f5438f9995424e56850ada97bad51f08",
            "87f8b4a9e3c74a8f8306f884df1f8059",
            "0309d8aceed447a496ad5007c4970e7f",
            "8dfcf0c0114647768460a92c472467c6",
            "d904fd8a3fac41f1bfe188efacb962ce",
            "51bff69c66e94165920f2f88041002d5",
            "25532a7e47b948ac9366c5723b966f0b",
            "6eb8b5d89bac47dfb7338d74edac2b0c"
          ]
        },
        "id": "Shu9kd7yiXFZ",
        "scrolled": false,
        "outputId": "3b8e2336-e61e-4793-b122-c0b8ea9aea17"
      },
      "source": [
        "val_mean_ll = validate(vae, get_batcher(valid_loader, args), args)\n",
        "stats_val['val_mean_ll'].append(val_mean_ll)\n",
        "print(f'Validation {0:3d}: {val_mean_ll:.4f}')\n",
        "\n",
        "for epoch in range(args.epochs):\n",
        "\n",
        "    iterator = tqdm(get_batcher(train_loader, args))\n",
        "\n",
        "    for x_obs, y_obs in iterator:        \n",
        "        # [B, H*W]\n",
        "        x_obs = x_obs.reshape(-1, args.height * args.width)\n",
        "        # [B, 10]\n",
        "        context = None   \n",
        "        \n",
        "        vae.train()      \n",
        "        if len(stats_tr['SFE_base_reward_mean']) > 100:  # TODO make hparam\n",
        "            reward_avg = np.mean(stats_tr['SFE_base_reward_mean'][:-100])\n",
        "            reward_std = np.mean(stats_tr['SFE_base_reward_std'][:-100])\n",
        "        else:\n",
        "            reward_avg, reward_std = 0., 1.\n",
        "        loss, ret = vae.loss(x_obs, reward_avg, reward_std)\n",
        "\n",
        "        for k, v in ret.items():\n",
        "            stats_tr[k].append(v)\n",
        "                \n",
        "        p_opt.zero_grad()\n",
        "        q_opt.zero_grad()        \n",
        "        loss.backward()\n",
        "        \n",
        "        torch.nn.utils.clip_grad_norm_(\n",
        "            chain(vae.gen_parameters(), vae.inf_parameters()), \n",
        "            args.grad_clip\n",
        "        )        \n",
        "        p_opt.step()\n",
        "        q_opt.step()\n",
        "    \n",
        "        iterator.set_description(f'Epoch {epoch+1:3d}')\n",
        "        iterator.set_postfix(ret)\n",
        "    \n",
        "    val_mean_ll = validate(vae, get_batcher(valid_loader, args), args)\n",
        "    stats_val['val_mean_ll'].append(val_mean_ll)\n",
        "    print(f'Validation {epoch + 1:3d}: {val_mean_ll:.4f}')"
      ],
      "execution_count": null,
      "outputs": [
        {
          "output_type": "stream",
          "text": [
            "Validation   0: -544.3099\n"
          ],
          "name": "stdout"
        },
        {
          "output_type": "display_data",
          "data": {
            "application/vnd.jupyter.widget-view+json": {
              "model_id": "e65de971dd04492aae6c5c57d27a32e7",
              "version_minor": 0,
              "version_major": 2
            },
            "text/plain": [
              "HBox(children=(FloatProgress(value=0.0, max=275.0), HTML(value='')))"
            ]
          },
          "metadata": {
            "tags": []
          }
        },
        {
          "output_type": "stream",
          "text": [
            "\n",
            "Validation   1: -193.5800\n"
          ],
          "name": "stdout"
        },
        {
          "output_type": "display_data",
          "data": {
            "application/vnd.jupyter.widget-view+json": {
              "model_id": "6b4734cbd6b44c6e8c45ff24cebd2fc7",
              "version_minor": 0,
              "version_major": 2
            },
            "text/plain": [
              "HBox(children=(FloatProgress(value=0.0, max=275.0), HTML(value='')))"
            ]
          },
          "metadata": {
            "tags": []
          }
        },
        {
          "output_type": "stream",
          "text": [
            "\n",
            "Validation   2: -185.5259\n"
          ],
          "name": "stdout"
        },
        {
          "output_type": "display_data",
          "data": {
            "application/vnd.jupyter.widget-view+json": {
              "model_id": "b6e7f02cb3a2422b93f9684657336878",
              "version_minor": 0,
              "version_major": 2
            },
            "text/plain": [
              "HBox(children=(FloatProgress(value=0.0, max=275.0), HTML(value='')))"
            ]
          },
          "metadata": {
            "tags": []
          }
        },
        {
          "output_type": "stream",
          "text": [
            "\n",
            "Validation   3: -173.9401\n"
          ],
          "name": "stdout"
        },
        {
          "output_type": "display_data",
          "data": {
            "application/vnd.jupyter.widget-view+json": {
              "model_id": "f07e33efeddd43c8aa16fe149f93253c",
              "version_minor": 0,
              "version_major": 2
            },
            "text/plain": [
              "HBox(children=(FloatProgress(value=0.0, max=275.0), HTML(value='')))"
            ]
          },
          "metadata": {
            "tags": []
          }
        },
        {
          "output_type": "stream",
          "text": [
            "\n",
            "Validation   4: -167.3706\n"
          ],
          "name": "stdout"
        },
        {
          "output_type": "display_data",
          "data": {
            "application/vnd.jupyter.widget-view+json": {
              "model_id": "f0cfdaae699f435c9935ea118d48b678",
              "version_minor": 0,
              "version_major": 2
            },
            "text/plain": [
              "HBox(children=(FloatProgress(value=0.0, max=275.0), HTML(value='')))"
            ]
          },
          "metadata": {
            "tags": []
          }
        },
        {
          "output_type": "stream",
          "text": [
            "\n",
            "Validation   5: -162.6031\n"
          ],
          "name": "stdout"
        },
        {
          "output_type": "display_data",
          "data": {
            "application/vnd.jupyter.widget-view+json": {
              "model_id": "5d1ea3cf72594ec8aeb4fe4f85854f68",
              "version_minor": 0,
              "version_major": 2
            },
            "text/plain": [
              "HBox(children=(FloatProgress(value=0.0, max=275.0), HTML(value='')))"
            ]
          },
          "metadata": {
            "tags": []
          }
        },
        {
          "output_type": "stream",
          "text": [
            "\n",
            "Validation   6: -158.7635\n"
          ],
          "name": "stdout"
        },
        {
          "output_type": "display_data",
          "data": {
            "application/vnd.jupyter.widget-view+json": {
              "model_id": "01737ca7107b4a49a2a8b307869e1642",
              "version_minor": 0,
              "version_major": 2
            },
            "text/plain": [
              "HBox(children=(FloatProgress(value=0.0, max=275.0), HTML(value='')))"
            ]
          },
          "metadata": {
            "tags": []
          }
        },
        {
          "output_type": "stream",
          "text": [
            "\n",
            "Validation   7: -155.3810\n"
          ],
          "name": "stdout"
        },
        {
          "output_type": "display_data",
          "data": {
            "application/vnd.jupyter.widget-view+json": {
              "model_id": "b9046590ad494aa6839ba3f64647193d",
              "version_minor": 0,
              "version_major": 2
            },
            "text/plain": [
              "HBox(children=(FloatProgress(value=0.0, max=275.0), HTML(value='')))"
            ]
          },
          "metadata": {
            "tags": []
          }
        },
        {
          "output_type": "stream",
          "text": [
            "\n",
            "Validation   8: -152.6373\n"
          ],
          "name": "stdout"
        },
        {
          "output_type": "display_data",
          "data": {
            "application/vnd.jupyter.widget-view+json": {
              "model_id": "f7d638b94e54484fbf4dabba71b5b1f1",
              "version_minor": 0,
              "version_major": 2
            },
            "text/plain": [
              "HBox(children=(FloatProgress(value=0.0, max=275.0), HTML(value='')))"
            ]
          },
          "metadata": {
            "tags": []
          }
        },
        {
          "output_type": "stream",
          "text": [
            "\n",
            "Validation   9: -151.2997\n"
          ],
          "name": "stdout"
        },
        {
          "output_type": "display_data",
          "data": {
            "application/vnd.jupyter.widget-view+json": {
              "model_id": "f5438f9995424e56850ada97bad51f08",
              "version_minor": 0,
              "version_major": 2
            },
            "text/plain": [
              "HBox(children=(FloatProgress(value=0.0, max=275.0), HTML(value='')))"
            ]
          },
          "metadata": {
            "tags": []
          }
        },
        {
          "output_type": "stream",
          "text": [
            "\n",
            "Validation  10: -150.2505\n"
          ],
          "name": "stdout"
        }
      ]
    },
    {
      "cell_type": "markdown",
      "metadata": {
        "id": "dz90e7lyzOwe"
      },
      "source": [
        "### Training Curves"
      ]
    },
    {
      "cell_type": "code",
      "metadata": {
        "id": "1BiQHIBHwJrr"
      },
      "source": [
        "np_stats_tr = {k: np.array(v) for k, v in stats_tr.items()}\n",
        "np_stats_val = {k: np.array(v) for k, v in stats_val.items()}"
      ],
      "execution_count": null,
      "outputs": []
    },
    {
      "cell_type": "code",
      "metadata": {
        "colab": {
          "base_uri": "https://localhost:8080/",
          "height": 1000
        },
        "id": "-y3TFeJgwrbv",
        "outputId": "1a999129-7e10-4330-9d0c-8918f09c6f35"
      },
      "source": [
        "for k, v in np_stats_tr.items():\n",
        "    plt.plot(np.arange(v.size), v, '.')\n",
        "    plt.ylabel(f'Training {k}')\n",
        "    plt.xlabel('iteration')\n",
        "    plt.show()"
      ],
      "execution_count": null,
      "outputs": [
        {
          "output_type": "display_data",
          "data": {
            "image/png": "[encoded data removed]",
            "text/plain": [
              "<Figure size 432x288 with 1 Axes>"
            ]
          },
          "metadata": {
            "tags": [],
            "needs_background": "light"
          }
        },
        {
          "output_type": "display_data",
          "data": {
            "image/png": "[encoded data removed]",
            "text/plain": [
              "<Figure size 432x288 with 1 Axes>"
            ]
          },
          "metadata": {
            "tags": [],
            "needs_background": "light"
          }
        },
        {
          "output_type": "display_data",
          "data": {
            "image/png": "[encoded data removed]",
            "text/plain": [
              "<Figure size 432x288 with 1 Axes>"
            ]
          },
          "metadata": {
            "tags": [],
            "needs_background": "light"
          }
        },
        {
          "output_type": "display_data",
          "data": {
            "image/png": "[encoded data removed]",
            "text/plain": [
              "<Figure size 432x288 with 1 Axes>"
            ]
          },
          "metadata": {
            "tags": [],
            "needs_background": "light"
          }
        },
        {
          "output_type": "display_data",
          "data": {
            "image/png": "[encoded data removed]",
            "text/plain": [
              "<Figure size 432x288 with 1 Axes>"
            ]
          },
          "metadata": {
            "tags": [],
            "needs_background": "light"
          }
        },
        {
          "output_type": "display_data",
          "data": {
            "image/png": "[encoded data removed]",
            "text/plain": [
              "<Figure size 432x288 with 1 Axes>"
            ]
          },
          "metadata": {
            "tags": [],
            "needs_background": "light"
          }
        },
        {
          "output_type": "display_data",
          "data": {
            "image/png": "[encoded data removed]",
            "text/plain": [
              "<Figure size 432x288 with 1 Axes>"
            ]
          },
          "metadata": {
            "tags": [],
            "needs_background": "light"
          }
        },
        {
          "output_type": "display_data",
          "data": {
            "image/png": "[encoded data removed]",
            "text/plain": [
              "<Figure size 432x288 with 1 Axes>"
            ]
          },
          "metadata": {
            "tags": [],
            "needs_background": "light"
          }
        }
      ]
    },
    {
      "cell_type": "markdown",
      "metadata": {
        "id": "FY26XI0FzUm8"
      },
      "source": [
        "### Validation Curves"
      ]
    },
    {
      "cell_type": "code",
      "metadata": {
        "colab": {
          "base_uri": "https://localhost:8080/",
          "height": 279
        },
        "id": "XoLBOF45yivl",
        "outputId": "724b4ae0-7d1a-4e58-bf03-f86f8d5f497d"
      },
      "source": [
        "for k, v in np_stats_val.items():\n",
        "    plt.plot(np.arange(v.size), v, 'o')\n",
        "    plt.ylabel(f'Validation {k}')\n",
        "    plt.xlabel('iteration')\n",
        "    plt.show()"
      ],
      "execution_count": null,
      "outputs": [
        {
          "output_type": "display_data",
          "data": {
            "image/png": "[encoded data removed]",
            "text/plain": [
              "<Figure size 432x288 with 1 Axes>"
            ]
          },
          "metadata": {
            "tags": [],
            "needs_background": "light"
          }
        }
      ]
    },
    {
      "cell_type": "markdown",
      "metadata": {
        "id": "ndBexD8IzXDi"
      },
      "source": [
        "### Analysis"
      ]
    },
    {
      "cell_type": "code",
      "metadata": {
        "colab": {
          "base_uri": "https://localhost:8080/",
          "height": 1000
        },
        "id": "DasiABbHu5mc",
        "outputId": "a22c40fe-33b7-4e33-a2f9-1fea97e7825a"
      },
      "source": [
        "compare_p_q(vae, get_batcher(valid_loader, args), args)"
      ],
      "execution_count": null,
      "outputs": [
        {
          "output_type": "display_data",
          "data": {
            "image/png": "[encoded data removed]",
            "text/plain": [
              "<Figure size 432x288 with 2 Axes>"
            ]
          },
          "metadata": {
            "tags": [],
            "needs_background": "light"
          }
        },
        {
          "output_type": "display_data",
          "data": {
            "image/png": "[encoded data removed]",
            "text/plain": [
              "<Figure size 432x288 with 2 Axes>"
            ]
          },
          "metadata": {
            "tags": [],
            "needs_background": "light"
          }
        },
        {
          "output_type": "display_data",
          "data": {
            "image/png": "[encoded data removed]",
            "text/plain": [
              "<Figure size 432x288 with 1 Axes>"
            ]
          },
          "metadata": {
            "tags": [],
            "needs_background": "light"
          }
        },
        {
          "output_type": "display_data",
          "data": {
            "image/png": "[encoded data removed]",
            "text/plain": [
              "<Figure size 432x288 with 2 Axes>"
            ]
          },
          "metadata": {
            "tags": [],
            "needs_background": "light"
          }
        },
        {
          "output_type": "display_data",
          "data": {
            "image/png": "[encoded data removed]",
            "text/plain": [
              "<Figure size 432x288 with 2 Axes>"
            ]
          },
          "metadata": {
            "tags": [],
            "needs_background": "light"
          }
        },
        {
          "output_type": "display_data",
          "data": {
            "image/png": "[encoded data removed]",
            "text/plain": [
              "<Figure size 432x288 with 1 Axes>"
            ]
          },
          "metadata": {
            "tags": [],
            "needs_background": "light"
          }
        }
      ]
    },
    {
      "cell_type": "code",
      "metadata": {
        "colab": {
          "base_uri": "https://localhost:8080/",
          "height": 1000
        },
        "id": "kcNTB64xhrYx",
        "outputId": "e812641c-41f8-426c-d4f5-dee80fdb9082"
      },
      "source": [
        "visualize(vae, get_batcher(valid_loader, args), args, N=5, num_figs=2)"
      ],
      "execution_count": null,
      "outputs": [
        {
          "output_type": "display_data",
          "data": {
            "image/png": "[encoded data removed]",
            "text/plain": [
              "<Figure size 720x720 with 20 Axes>"
            ]
          },
          "metadata": {
            "tags": [],
            "needs_background": "light"
          }
        },
        {
          "output_type": "display_data",
          "data": {
            "image/png": "[encoded data removed]",
            "text/plain": [
              "<Figure size 720x720 with 20 Axes>"
            ]
          },
          "metadata": {
            "tags": [],
            "needs_background": "light"
          }
        }
      ]
    },
    {
      "cell_type": "code",
      "metadata": {
        "id": "dpY7GkEQhrYx"
      },
      "source": [
        ""
      ],
      "execution_count": null,
      "outputs": []
    },
    {
      "cell_type": "code",
      "metadata": {
        "id": "OSgvWiwy86Is"
      },
      "source": [
        ""
      ],
      "execution_count": null,
      "outputs": []
    }
  ]
}