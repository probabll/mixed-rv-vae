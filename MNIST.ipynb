{
 "cells": [
  {
   "cell_type": "markdown",
   "metadata": {
    "colab_type": "text",
    "id": "view-in-github"
   },
   "source": [
    "<a href=\"https://colab.research.google.com/github/probabll/mixed-rv-vae/blob/master/MNIST.ipynb\" target=\"_parent\"><img src=\"https://colab.research.google.com/assets/colab-badge.svg\" alt=\"Open In Colab\"/></a>"
   ]
  },
  {
   "cell_type": "code",
   "execution_count": 1,
   "metadata": {
    "id": "27kJjsfhhrYd"
   },
   "outputs": [],
   "source": [
    "#%load_ext autoreload\n",
    "#%autoreload 2"
   ]
  },
  {
   "cell_type": "markdown",
   "metadata": {
    "id": "vOw649yX5KpI"
   },
   "source": [
    "On Colab, you will need to clone and install [probabll/dists.pt](https://github.com/probabll/dists.pt.git)"
   ]
  },
  {
   "cell_type": "code",
   "execution_count": 2,
   "metadata": {
    "colab": {
     "base_uri": "https://localhost:8080/"
    },
    "id": "V5QyPKcz1BAf",
    "outputId": "b4b46e00-1d85-4d0a-b82d-3e2c22bead5e"
   },
   "outputs": [],
   "source": [
    "#!git clone https://github.com/probabll/dists.pt.git"
   ]
  },
  {
   "cell_type": "code",
   "execution_count": 3,
   "metadata": {
    "colab": {
     "base_uri": "https://localhost:8080/"
    },
    "id": "M8R18qa6h1tc",
    "outputId": "c2a96b12-63e6-412d-83ce-5a4f42b40c3e"
   },
   "outputs": [],
   "source": [
    "#cd dists.pt"
   ]
  },
  {
   "cell_type": "code",
   "execution_count": 4,
   "metadata": {
    "colab": {
     "base_uri": "https://localhost:8080/"
    },
    "id": "zkmokBs3h2zJ",
    "outputId": "07bdcba5-6174-482d-9f07-bc800208802b"
   },
   "outputs": [],
   "source": [
    "#!git pull"
   ]
  },
  {
   "cell_type": "code",
   "execution_count": 5,
   "metadata": {
    "colab": {
     "base_uri": "https://localhost:8080/"
    },
    "id": "i5rupaQRh3wr",
    "outputId": "7d2a69e4-370d-4df8-f43c-da4a0f0275c6"
   },
   "outputs": [],
   "source": [
    "#pip install ."
   ]
  },
  {
   "cell_type": "code",
   "execution_count": 6,
   "metadata": {
    "colab": {
     "base_uri": "https://localhost:8080/"
    },
    "id": "ezUAe5PHh4zi",
    "outputId": "eaddeaf5-a239-4eb3-eb36-2428239e9914"
   },
   "outputs": [],
   "source": [
    "#cd .."
   ]
  },
  {
   "cell_type": "code",
   "execution_count": null,
   "metadata": {},
   "outputs": [],
   "source": []
  },
  {
   "cell_type": "markdown",
   "metadata": {
    "id": "iJZAyDDxtVBO"
   },
   "source": [
    "# Mixed RVs via Mixture of Dirichlets\n",
    "\n",
    "In this notebook I develop a VAE whose latent code is a mixed rv on $\\Delta_{K-1}$, that is, a sparse probability vector, via the so called *stratified representation*, that is, as a finite mixture of distributions on the faces of $K-1$-dimensional simplex.\n",
    "\n",
    "\n",
    "\n"
   ]
  },
  {
   "cell_type": "markdown",
   "metadata": {
    "id": "kpDbS_HXPeW6"
   },
   "source": [
    "## Stratified Representation\n",
    "\n",
    "\n",
    "Let $Y$ be an rv taking on values in the simplex $\\Delta_{K-1}$. The density assigned to an outcome $y \\in \\Delta_{K-1}$ is given by\n",
    "\n",
    "\\begin{align}\n",
    "  p_{Y}(y|\\alpha, \\omega) &= \\sum_{f} p_F(f|\\omega) p_{Y|F}(y|f, \\alpha) \\\\\n",
    "  &= \\sum_f \\mathrm{Gibbs}(f|\\omega) \\mathrm{Dir}(y|\\alpha_f)\n",
    "\\end{align}\n",
    "\n",
    "where $f$ is a face of dimensionality $0 < \\mathrm{dim}(f) < K -1$ and we choose a $(\\mathrm{dim}(f)+1)$-dimensional Dirichlet distribution for $Y|F=f$. The simplex $\\Delta_{K-1}$ has $2^K-1$ non-empty faces, each of which we represent by a $K$-dimensional vector $f \\in \\{0,1\\}^K$ where $f_k$ indicates whether the vertex $\\mathbf e_k$ is in the face. \n",
    "\n",
    "$F$ takes on values in the sample space $\\mathcal F = \\{0,1\\}^K \\setminus \\{\\mathbf 0_K\\}$, and \n",
    "\n",
    "\\begin{align}\n",
    "p_{F}(f|\\omega) &\\propto \\prod_{k=1}^K f_k \\exp(\\omega) + (1-f_k) \\exp(-\\omega)\n",
    "\\end{align}\n",
    "\n",
    "The sample space $\\mathcal F$ can be efficiently represented in a finite-state automaton of size $\\mathcal O(K)$. As the unnormalised probability of any assignment $f$ factorises along the transitions of this automaton, the normalisation constant can be computed efficiently using the *value recursion* (or backward algorithm). Samples can be obtained with a linear pass through this automaton. Combining the value recursion and the *reverse value recursion* (forward algorithm), we can also compute the marginal probability $\\Pr(F_k = 1)$ for any $k \\in [K]$, as well as $\\mathbb E[\\psi(F)]$ for any function $\\psi$ that factorises along $f_k$. One such function is surprisal $\\log p_F(f|\\omega)$, thus entropy, cross-entropy and KL divergence are available in closed-form. \n",
    "\n",
    "The parameters $\\alpha_f \\in \\mathbb R_{>0}^{\\mathrm{dim}(f)+1}$ can be shared across faces (or predicted via a shared parameterisation)."
   ]
  },
  {
   "cell_type": "markdown",
   "metadata": {
    "id": "kpDbS_HXPeW6"
   },
   "source": [
    "**Gradient estimation**\n",
    "\n",
    "We assume samples from $Y|F=f, \\alpha$ can be reparameterised in terms of samples from a fixed distribution $\\Gamma$ independent of $\\alpha$, i.e. $\\gamma = \\mathcal T^{-1}(y; \\alpha_f) \\sim \\Gamma$, \n",
    "and use score function estimation for gradient estimation with respect to $\\omega$:\n",
    "\n",
    "\\begin{align}\n",
    "    \\nabla_{\\alpha,\\omega} \\mathbb E_{Y|\\alpha, \\omega}\\left[ \\psi(y) \\right] &= \\nabla_{\\omega} \\mathbb E_{F|\\omega}\\left[ \\nabla_{\\alpha} \\mathbb E_{Y|F,\\alpha} \\left[ \\psi(y) \\right] \\right] \\\\\n",
    "    &= \\mathbb E_{F|\\omega}\\left[ \\left( \\nabla_{\\alpha} \\mathbb E_{Y|F,\\alpha} \\left[ \\psi(y) \\right] \\right)\\nabla_{\\omega} \\log p_F(f) \\right] \\\\\n",
    "    &= \\mathbb E_{F|\\omega}\\left[  \\mathbb E_{} \\left[ \\nabla_{y} \\psi(y) \\nabla_{\\alpha_f} \\mathcal T(\\gamma; \\alpha_f) \\right] \\nabla_{\\omega} \\log p_F(f) \\right]\n",
    "\\end{align}\n",
    "\n",
    "For variance reduction we can use baselines based on summary statistics (e.g., mean, standard deviation), on trained MLPs, or based on $\\nabla_{\\alpha} \\mathbb E_{Y|F,\\alpha}[ \\psi(y')]$ assessed at an additional sample $y'$ (this is known as  a self-critic). More sophisticated techniques are possible (but hopefully won't be needed)."
   ]
  },
  {
   "cell_type": "code",
   "execution_count": 7,
   "metadata": {
    "colab": {
     "base_uri": "https://localhost:8080/",
     "height": 37
    },
    "id": "El49NgachrYj",
    "outputId": "867cd0cc-78dd-470c-c8d6-6b55d9daa8dd"
   },
   "outputs": [
    {
     "data": {
      "text/plain": [
       "'1.8.1+cu102'"
      ]
     },
     "execution_count": 7,
     "metadata": {},
     "output_type": "execute_result"
    }
   ],
   "source": [
    "import torch\n",
    "torch.__version__"
   ]
  },
  {
   "cell_type": "code",
   "execution_count": 8,
   "metadata": {
    "id": "Dumky9Ut1vHJ"
   },
   "outputs": [],
   "source": [
    "import numpy as np\n",
    "import torch\n",
    "import torch.distributions as td\n",
    "import probabll.distributions as pd"
   ]
  },
  {
   "cell_type": "markdown",
   "metadata": {
    "id": "w54zAmpbhrYl"
   },
   "source": [
    "# VAE\n",
    "\n",
    "A variational auto-encoder approximates the distribution of $X$ on sample space $\\mathcal X$ as a marginal of a joint distribution $X,Z|\\theta$ whose pdf factorises $p_{XZ}(x, z|\\theta) = p_{Z}(z|\\theta)p_{X|Z}(x|z, \\theta)$. Inference employs an independently parameterised  approximation $Z|X=x, \\lambda$ to the true posterior distribution $Z|X=x, \\theta$. The parameters $\\theta$ of the generative model and $\\lambda$ of the inference model are estimated jointly to maximise a lowerbound on the log-evidence (the ELBO):\n",
    "\n",
    "\\begin{align}\n",
    "\\theta^\\star, \\theta^\\star &= \\arg\\,\\max_{\\theta, \\lambda} ~ \\sum_{x \\sim \\mathcal D}\\mathrm{ELBO}_x(\\theta, \\lambda) \\\\\n",
    "&= \\arg\\,\\max_{\\theta, \\lambda} ~ \\sum_{x \\sim \\mathcal D} \\mathbb E_{Z|X,\\lambda}\\left[ \\log \\frac{p_{XZ}(x, z|\\theta)}{q_{Z|X}(z|x, \\lambda)} \\right]\n",
    "\\end{align}\n",
    "\n",
    "For us, $Z$ can be a $K$-dimensional mixed rv, a combination of an $H$-dimensional Gaussian embedding and a $K$-dimensional mixed rv, etc. In this notebook, an observed data point $x$ is an MNIST digit, i.e., $x\\in \\{0, 1\\}^{D}$."
   ]
  },
  {
   "cell_type": "code",
   "execution_count": 9,
   "metadata": {
    "id": "96WZPip8t0hT"
   },
   "outputs": [],
   "source": [
    "import torch.nn as nn\n",
    "\n",
    "\n",
    "def assert_shape(t, shape, message):\n",
    "    assert t.shape == shape, f\"{message} has the wrong shape: got {t.shape}, expected {shape}\"        \n"
   ]
  },
  {
   "cell_type": "markdown",
   "metadata": {
    "id": "fKxwIf6_t1YB"
   },
   "source": [
    "## Generative model\n",
    "\n",
    "\\begin{align}\n",
    "p_{XYF}(f, y, z, x|\\theta) &= p_{F}(f)p_{Y|F}(y|f, \\theta)p_Z(z)p_{X|Y}(x|y, \\theta) \\\\\n",
    "&= \\mathrm{Gibbs}(f|\\mathbf 0_K) \\times \\mathrm{Dir}(y|\\mathbf 1_{\\mathrm{dim}(f)+1}) \\times \\mathcal N(z|0, I_H) \\times \\prod_{d=1}^D \\mathrm{Bern}(x_d|b_d(y; \\theta))\n",
    "\\end{align}\n",
    "\n",
    "where the Gibbs distribution is constrained to supporting all but the empty face of $\\Delta_{K-1}$, and $\\mathbf b(x, y;\\theta) \\in (0,1)^D$ is the output of an NN with parameters $\\theta$.\n",
    "\n",
    "It's possible to replace a Gaussian prior by other differentiably reparameterisable distribution."
   ]
  },
  {
   "cell_type": "code",
   "execution_count": 10,
   "metadata": {
    "id": "WDWb-ohmPxy_"
   },
   "outputs": [],
   "source": [
    "from components import GenerativeModel"
   ]
  },
  {
   "cell_type": "markdown",
   "metadata": {
    "id": "7hxVyVWYt9eQ"
   },
   "source": [
    "## Inference model\n",
    "\n",
    "\\begin{align}\n",
    "q_{ZFY|X}(f, y, z|x,\\lambda) &=q_{F|X}(f|x, \\lambda) q_{Y|FX}(y|f,x, \\lambda)  q_{Z|XY}(z|x,y, \\lambda)\\\\\n",
    "&= \\mathrm{Gibbs}(f|\\mathbf s(x; \\lambda)) \\times \\mathrm{Dir}(y|\\mathbf a(x, f;\\lambda)) \\times \\mathcal N(z|\\mathbf u(x, y; \\lambda), \\mathbf v(x, y; \\lambda)) \n",
    "\\end{align}\n",
    "\n",
    "where $\\mathbf s(x; \\lambda) \\in \\mathbb R^K$, $\\mathbf a(x, f; \\lambda) \\in \\mathbb R_{>0}^{\\mathrm{dim}(f)+1}$, $\\mathbf u(x; \\lambda) \\in \\mathbb R^H$, and $\\mathbf v(x; \\lambda) \\in \\mathbb R_{>0}^K$, are NN outputs; $\\lambda$ denotes the NN parameters.\n",
    "\n",
    "In case the generative model uses a non-Gaussian prior for $Z$, the variational factor for $Z$ must be changed accordingly. \n",
    "\n",
    "Optionally, we may introduce a mean field assumption and make $Z \\perp Y \\mid X=x, \\lambda$."
   ]
  },
  {
   "cell_type": "code",
   "execution_count": 11,
   "metadata": {
    "id": "DvwA2H8Bt8Qb"
   },
   "outputs": [],
   "source": [
    "from components import InferenceModel"
   ]
  },
  {
   "cell_type": "markdown",
   "metadata": {
    "id": "j773KVdTuDYn"
   },
   "source": [
    "## ELBO\n",
    "\n",
    "For a single observation $x$, our ELBO corresponds to:\n",
    "\n",
    "\\begin{align}\n",
    "\\mathrm{ELBO}_x(\\theta, \\lambda) \n",
    "&=  \\mathbb E_{F|X=x,\\lambda} \\left[ \\mathbb E_{Y,Z|X=x,F=f,\\lambda} \\left[ \\log p_{X|YZ}(x|y,z,\\theta)  \\right] \\right] \\\\\n",
    "&- \\mathbb E_{F|X=x,\\lambda} \\left[  \\mathrm{KL}(Y|X=x,F=f,\\lambda || Y|F=f,\\theta) \\right]\\\\\n",
    "&- \\mathbb E_{F|X=x,\\lambda} \\left[ \\mathbb E_{Y|X=x,F=f,\\lambda} \\left[ \\mathrm{KL}(Z|X=x,Y=y, \\lambda \\mid\\mid Z|\\theta ) \\right] \\right] \\\\\n",
    "&- \\mathrm{KL}(F|X=x,\\lambda \\mid\\mid F|\\theta )\n",
    "\\end{align}\n",
    "\n",
    "A gradient estimator for $\\theta$ can be obtained via\n",
    "\\begin{align}\n",
    "\\nabla_\\theta \\mathrm{ELBO}_x(\\theta, \\lambda)&\\approx \\nabla_\\theta \\log p_{X|YZ}(x|y, z,\\theta) \\\\\n",
    "&- \\nabla_\\theta \\mathrm{KL}(Y|X=x,F=f,\\lambda || Y|F=f,\\theta) \\\\\n",
    "&- \\nabla_\\theta \\mathrm{KL}(F|X=x,\\lambda \\mid\\mid F|\\theta ) \\\\\n",
    "&- \\nabla_\\theta \\mathrm{KL}(Z|X=x,Y=y, \\lambda \\mid\\mid Z|\\theta )\n",
    "\\end{align}\n",
    "with $x \\sim \\mathcal D$ and $f, y, z \\sim F,Y,Z|X=x, \\lambda$.\n",
    "\n",
    "A gradient estimator for $\\lambda$ can be obtained via $\\nabla_\\lambda  \\mathrm{ELBO}_x(\\theta, \\lambda) \\approx$\n",
    "\\begin{align}\n",
    "& \\nabla_{\\lambda} \\log p_{X|YZ}(x|y=\\mathcal T(\\gamma; \\lambda), z=\\mathcal S(\\epsilon; \\lambda), \\theta) \\\\\n",
    "&-\\nabla_\\lambda \\mathrm{KL}(Y|X=x,F=f,\\lambda || Y|F=f,\\theta) \\\\\n",
    "&-\\nabla_\\lambda \\mathrm{KL}(F|X=x,\\lambda \\mid\\mid F|\\theta ) \\\\\n",
    "&-\\nabla_\\lambda \\mathrm{KL}(Z|X=x,Y=T(\\gamma; \\lambda), \\lambda \\mid\\mid Z|\\theta ) \\\\\n",
    "&+\\left( \\log p_{X|YZ}(x|y,z, \\theta) -  \\mathrm{KL}(Y|X=x,F=f,\\lambda || Y|F=f,\\theta) \\right.\\\\\n",
    "&\\left. -  \\mathrm{KL}(Z|X=x,Y=y,\\lambda || Z|\\theta) \\right) \\nabla_\\lambda \\log q_{F|X}(f|x,\\lambda)\n",
    "\\end{align}\n",
    "with $z = \\mathcal S(\\epsilon; \\lambda)$ for $\\epsilon \\sim \\Phi$, $f \\sim F|X=x,\\lambda$, $y = \\mathcal T(\\gamma; \\lambda)$ for $\\epsilon \\sim \\Gamma$."
   ]
  },
  {
   "cell_type": "markdown",
   "metadata": {
    "id": "j773KVdTuDYn"
   },
   "source": [
    "A surrogate loss $\\ell$ in `pytorch` is given by \n",
    "\\begin{align}\n",
    "D&=-\\log p_{X|YZ}(x|y,z, \\theta) \\\\\n",
    "R_Y&= \\mathrm{KL}(Y|X=x,F=f,\\lambda || Y|F=f,\\theta) \\\\\n",
    "R_F&= \\mathrm{KL}(F|X=x,\\lambda \\mid\\mid F|\\theta )\\\\\n",
    "R_Z&= \\mathrm{KL}(Z|X=x,Y=y,\\lambda \\mid\\mid Z|\\theta )\\\\\n",
    "r&=  -D - R_Y -R_Z \\\\\n",
    "g_{\\text{rep}} &= -D - R_F -R_Y -R_Z \\\\\n",
    "g_{\\text{sfe}} &= \\mathrm{detach}(r) \\log q_{F|X}(f|x,\\lambda)\\\\\n",
    "\\ell &= -(g_{\\text{rep}} + g_{\\text{sfe}})\n",
    "\\end{align}\n",
    "again with $z = \\mathcal S(\\epsilon; \\lambda)$ for $\\epsilon \\sim \\Phi$, $f \\sim F|X=x,\\lambda$, $y = \\mathcal T(\\gamma; \\lambda)$ for $\\epsilon \\sim \\Gamma$."
   ]
  },
  {
   "cell_type": "code",
   "execution_count": 12,
   "metadata": {
    "id": "joQjUIlPhrYn"
   },
   "outputs": [],
   "source": [
    "from components import VAE"
   ]
  },
  {
   "cell_type": "markdown",
   "metadata": {
    "id": "dfF4Ick8jiZX"
   },
   "source": [
    "# MNIST \n"
   ]
  },
  {
   "cell_type": "markdown",
   "metadata": {
    "id": "sfyA6CapvEbC"
   },
   "source": [
    "## Hyperparameters"
   ]
  },
  {
   "cell_type": "code",
   "execution_count": 13,
   "metadata": {},
   "outputs": [],
   "source": [
    "from collections import namedtuple"
   ]
  },
  {
   "cell_type": "code",
   "execution_count": 14,
   "metadata": {
    "id": "QwDEnApvimc0"
   },
   "outputs": [],
   "source": [
    "cfg = dict(\n",
    "    # Data\n",
    "    batch_size=200,\n",
    "    data_dir='tmp',\n",
    "    height=28,\n",
    "    width=28, \n",
    "    # CUDA\n",
    "    device='cuda:0',\n",
    "    # Joint distribution    \n",
    "    y_dim=10,    \n",
    "    prior_scores=0.0,\n",
    "    z_dim=32,     \n",
    "    z_dist='gaussian',    \n",
    "    prior_location=0.0, \n",
    "    prior_scale=1.0,\n",
    "    hidden_dec_size=500,\n",
    "    # Approximate posteriors\n",
    "    shared_concentrations=True,\n",
    "    mean_field=False,\n",
    "    hidden_enc_size=500,    \n",
    "    # Training\n",
    "    epochs=200,    \n",
    "    # Evaluation\n",
    "    num_samples=100,    \n",
    "    # Optimisation & regularisation\n",
    "    gen_lr=1e-4,\n",
    "    inf_lr=1e-4,  \n",
    "    gen_l2=1e-4,\n",
    "    inf_l2=1e-4,  \n",
    "    gen_p_drop=0.1,  \n",
    "    inf_p_drop=0.0,  # dropout for inference model is not well understood    \n",
    "    grad_clip=5.0,\n",
    "    # Variance reduction\n",
    "    use_self_critic=False,\n",
    "    use_reward_standardisation=True,\n",
    ")\n",
    "args = namedtuple('Config', cfg.keys())(*cfg.values())"
   ]
  },
  {
   "cell_type": "markdown",
   "metadata": {},
   "source": [
    "## Batcher"
   ]
  },
  {
   "cell_type": "code",
   "execution_count": 15,
   "metadata": {
    "id": "QP01-3NGhrYq"
   },
   "outputs": [],
   "source": [
    "# You can skip this on Colab\n",
    "\n",
    "# Download MNIST\n",
    "#!wget www.di.ens.fr/~lelarge/MNIST.tar.gz\n",
    "#!tar -zxvf MNIST.tar.gz"
   ]
  },
  {
   "cell_type": "code",
   "execution_count": 16,
   "metadata": {
    "colab": {
     "base_uri": "https://localhost:8080/",
     "height": 845,
     "referenced_widgets": [
      "9049691356d04d3c9f79245a12e22c2d",
      "a52a3ce8dde147f6b45b684cb57c5eb5",
      "0e0f5d2863544ecea35d0acf4f81f267",
      "026c452c13f74a0aa071ab5869027a7a",
      "18c5a2181a6b4979ba35dd9bc738ddf8",
      "db95898f256f474d9264009bd6f5939f",
      "1158c2e933694df38bce84f1c1e4b8f7",
      "2992689582d94ea0b3e2a166461861d3",
      "2ee410127a6540ba85b6d733f50a9df8",
      "a0cd4f136d48492ba89ddc256d21ec54",
      "687400af482f43239a161d7a6f2d7a97",
      "5c2c665e1dfc4b2785cf4015421e2ddc",
      "ddfea72bf1334cc98c8f46f969ec2d50",
      "966328cab55848c6a9605f4828637fed",
      "0b74813a212940708ccbe6dc9c353813",
      "519071893e9f4ed9be9ecb55833d7d07",
      "7f79b9e35755453c8fbd5a6f20d49498",
      "4ed6b82f4b61457e996fc31e14789257",
      "a286bdc1c9a6485ba77b8d79726c4c3f",
      "6582cc71adc04d45b7687c571614931c",
      "08101fefdba5474193cae33d3418a2e8",
      "3e0fdd4d4d874e4ba72106d0ccfa263f",
      "3101e39990db4580877323e9ee2954ea",
      "fc73554bd1054f3b95d157ddaa22a8a9",
      "32dde89004e541a78ee6d35af5d3f14b",
      "05389b71a6b545cf9b61d9f63f79c894",
      "642b9f5fb1624f2c97344e8e7a6c5d20",
      "a9ff1ca678d44b0b96e0aea1541c8359",
      "9328008d582947ee9a7dddef3d6571da",
      "f839264c20cd46feb8ce184e87e85416",
      "8be95b95873544a79de9124a8ed267d8",
      "09a30ad3b16444309a2f2591382c5735"
     ]
    },
    "id": "lymJpzWjiAr2",
    "outputId": "346ad792-2d1a-45ca-a6ca-4a4cb59c5e3f"
   },
   "outputs": [],
   "source": [
    "from data import load_mnist\n",
    "train_loader, valid_loader, test_loader = load_mnist(\n",
    "    args.batch_size, \n",
    "    save_to='./', \n",
    "    height=args.height, \n",
    "    width=args.width\n",
    ")"
   ]
  },
  {
   "cell_type": "code",
   "execution_count": 17,
   "metadata": {
    "id": "D14BEA5miVQA"
   },
   "outputs": [],
   "source": [
    "from data import Batcher\n",
    "def get_batcher(data_loader, args):\n",
    "    batcher = Batcher(\n",
    "        data_loader, \n",
    "        height=args.height, \n",
    "        width=args.width, \n",
    "        device=torch.device(args.device), \n",
    "        binarize=True, \n",
    "        num_classes=10,\n",
    "        onehot=True\n",
    "    )\n",
    "    return batcher"
   ]
  },
  {
   "cell_type": "markdown",
   "metadata": {
    "id": "7U-fMXd6vL9K"
   },
   "source": [
    "## Model"
   ]
  },
  {
   "cell_type": "code",
   "execution_count": 18,
   "metadata": {
    "id": "-HOehRT3hrYs"
   },
   "outputs": [],
   "source": [
    "p = GenerativeModel(    \n",
    "    y_dim=args.y_dim,\n",
    "    z_dim=args.z_dim, \n",
    "    data_dim=args.height * args.width, \n",
    "    hidden_dec_size=args.hidden_dec_size,\n",
    "    p_drop=args.gen_p_drop,\n",
    "    prior_scores=args.prior_scores,\n",
    "    prior_location=args.prior_location,\n",
    "    prior_scale=args.prior_scale,\n",
    "    z_dist=args.z_dist,\n",
    ").to(torch.device(args.device))"
   ]
  },
  {
   "cell_type": "code",
   "execution_count": 19,
   "metadata": {
    "id": "Xv813v7HhrYs"
   },
   "outputs": [],
   "source": [
    "q = InferenceModel(    \n",
    "    y_dim=args.y_dim,\n",
    "    z_dim=args.z_dim, \n",
    "    data_dim=args.height * args.width, \n",
    "    hidden_enc_size=args.hidden_enc_size,\n",
    "    shared_concentrations=args.shared_concentrations,\n",
    "    p_drop=args.inf_p_drop,\n",
    "    z_dist=args.z_dist,\n",
    "    mean_field=args.mean_field,\n",
    ").to(torch.device(args.device))"
   ]
  },
  {
   "cell_type": "code",
   "execution_count": 20,
   "metadata": {
    "colab": {
     "base_uri": "https://localhost:8080/"
    },
    "id": "GFWDrzGdmij9",
    "outputId": "c530f319-6030-4d17-dbb7-654bec02c0bb"
   },
   "outputs": [
    {
     "data": {
      "text/plain": [
       "(tensor([[1., 0., 1., 0., 0., 0., 0., 0., 0., 0.],\n",
       "         [0., 1., 0., 0., 1., 1., 0., 0., 0., 1.]], device='cuda:0'),\n",
       " tensor([[0.8964, 0.0000, 0.1036, 0.0000, 0.0000, 0.0000, 0.0000, 0.0000, 0.0000,\n",
       "          0.0000],\n",
       "         [0.0000, 0.2781, 0.0000, 0.0000, 0.1620, 0.0027, 0.0000, 0.0000, 0.0000,\n",
       "          0.5572]], device='cuda:0'),\n",
       " tensor([[-0.7119, -0.0208,  0.2336,  0.6970, -0.2062,  0.6540,  0.2549, -0.6842,\n",
       "          -0.0861, -0.3111, -0.3430, -0.2578,  0.3646,  1.0933, -2.3321, -0.3957,\n",
       "           0.3920,  0.4613, -0.4038, -0.4925,  0.4292,  1.4781,  0.1807, -0.7010,\n",
       "          -0.0222,  0.5699,  0.0797, -0.4973,  0.2754,  0.7110,  0.6796, -0.5498],\n",
       "         [-0.2851,  0.6922,  1.2675, -1.0872, -0.0331,  1.1940,  0.9235, -0.7808,\n",
       "          -0.4552,  0.1068,  0.4293,  0.9838,  0.2988,  0.1763, -0.5647,  0.2028,\n",
       "           0.3327, -0.8538,  0.6959,  0.2233, -0.3332,  0.5938,  0.7732,  0.9946,\n",
       "          -0.8781,  0.8623, -1.1535,  0.4000,  0.4640,  0.1443,  1.3052,  0.3374]],\n",
       "        device='cuda:0'))"
      ]
     },
     "execution_count": 20,
     "metadata": {},
     "output_type": "execute_result"
    }
   ],
   "source": [
    "q.sample(p.sample((2,))[-1])"
   ]
  },
  {
   "cell_type": "code",
   "execution_count": 21,
   "metadata": {},
   "outputs": [
    {
     "data": {
      "text/plain": [
       "tensor([-36.5307, -29.7087], device='cuda:0', grad_fn=<AddBackward0>)"
      ]
     },
     "execution_count": 21,
     "metadata": {},
     "output_type": "execute_result"
    }
   ],
   "source": [
    "q.log_prob(\n",
    "    torch.zeros(args.height * args.width, device=torch.device(args.device)),\n",
    "    *q.sample(p.sample((2,))[-1]), \n",
    ")"
   ]
  },
  {
   "cell_type": "code",
   "execution_count": 22,
   "metadata": {
    "id": "V3-92i2xhrYt"
   },
   "outputs": [],
   "source": [
    "vae = VAE(\n",
    "    p, \n",
    "    q, \n",
    "    use_self_critic=args.use_self_critic, \n",
    "    use_reward_standardisation=args.use_reward_standardisation\n",
    ")"
   ]
  },
  {
   "cell_type": "markdown",
   "metadata": {
    "id": "xZXxLFbepKxI"
   },
   "source": [
    "## Visualisations\n",
    "\n",
    "* Compare statistics of samples from $p$ to those of samples from $q$\n",
    "* Visualise a few generations"
   ]
  },
  {
   "cell_type": "code",
   "execution_count": 23,
   "metadata": {
    "id": "2ApPTuJLumgJ"
   },
   "outputs": [],
   "source": [
    "from matplotlib import pyplot as plt\n",
    "from collections import defaultdict"
   ]
  },
  {
   "cell_type": "code",
   "execution_count": 24,
   "metadata": {},
   "outputs": [],
   "source": [
    "def bitvec2str(f, as_set=False):\n",
    "    return ''.join('1' if b else '0' for b in f) if not as_set else '{' + ','.join(f'{i:1d}' for i, b in enumerate(f, 1) if b) + '}'"
   ]
  },
  {
   "cell_type": "code",
   "execution_count": 25,
   "metadata": {
    "id": "c9QpZEQrudhc"
   },
   "outputs": [],
   "source": [
    "def compare_p_q(vae, batcher: Batcher, args): \n",
    "    with torch.no_grad():\n",
    "        vae.eval()        \n",
    "    \n",
    "        prior = defaultdict(list)\n",
    "        posterior = defaultdict(list)\n",
    "        other = defaultdict(list)\n",
    "        num_obs = 0\n",
    "\n",
    "        # Some visualisations\n",
    "        for x_obs, y_obs in batcher:\n",
    "            \n",
    "            # [B, H*W]\n",
    "            x_obs = x_obs.reshape(-1, args.height * args.width)\n",
    "            num_obs += x_obs.shape[0]\n",
    "\n",
    "            # [B, 10]\n",
    "            context = None\n",
    "            \n",
    "            B, H, K, D = x_obs.shape[0], vae.p.z_dim, vae.p.y_dim, vae.p.data_dim            \n",
    "                        \n",
    "            # [B, K]\n",
    "            f = vae.p.F().expand((B,)).sample()\n",
    "            y = vae.p.Y(f).sample()\n",
    "            # [B, H]\n",
    "            z = vae.p.Z().expand((B,)).sample()\n",
    "            #x = vae.p.X(z=z, y=y).sample()\n",
    "                        \n",
    "            # [B, K]\n",
    "            prior['f'].append(f.cpu().numpy())\n",
    "            # [B]\n",
    "            prior['dim'].append(f.sum(-1).cpu().numpy())\n",
    "            # [B, K]\n",
    "            prior['y'].append(y.cpu().numpy())\n",
    "            # [B, K]\n",
    "            prior['z'].append(z.cpu().numpy())\n",
    "            \n",
    "            # [B, K], [B, K], [B, H]\n",
    "            f, y, z = vae.q.sample(x_obs)            \n",
    "            # [B, K]\n",
    "            posterior['f'].append(f.cpu().numpy())\n",
    "            # [B]\n",
    "            posterior['dim'].append(f.sum(-1).cpu().numpy())\n",
    "            # [B, K]\n",
    "            posterior['y'].append(y.cpu().numpy())\n",
    "            # [B, H]\n",
    "            posterior['z'].append(z.cpu().numpy())\n",
    "            \n",
    "            # [B]            \n",
    "            other['KL_F'].append(td.kl_divergence(q.F(x_obs), p.F().expand((B,))).cpu().numpy())\n",
    "            other['KL_Y'].append(td.kl_divergence(q.Y(x=x_obs, f=f), p.Y(f)).cpu().numpy())\n",
    "            other['KL_Z'].append(td.kl_divergence(q.Z(x=x_obs, y=y), p.Z().expand((B,))).cpu().numpy())\n",
    "            \n",
    "        # KLs\n",
    "        print(\"For a trained VAE: \")\n",
    "        print(\" 1. We want to see that KL(Z|x || Z), KL(F|x || F), and KL(Y|f,x || Y|f) are generally > 0 for any x ~ D.\")\n",
    "        \n",
    "        if vae.p.z_dim:\n",
    "            _ = plt.hist(np.concatenate(other['KL_Z'], 0), bins=20)\n",
    "            _ = plt.xlabel(r'$KL( Z|x,\\lambda || Z| \\theta )$')\n",
    "            plt.show()\n",
    "\n",
    "        if vae.p.y_dim:\n",
    "            _ = plt.hist(np.concatenate(other['KL_F'], 0), bins=20)\n",
    "            _ = plt.xlabel(r'$KL( F|x,\\lambda || F| \\theta )$')\n",
    "            plt.show()\n",
    "\n",
    "            _ = plt.hist(np.concatenate(other['KL_Y'], 0), bins=20)\n",
    "            _ = plt.xlabel(r'$KL( Y|f,x,\\lambda || Y|f, \\theta )$')\n",
    "            plt.show()\n",
    "            \n",
    "        \n",
    "        print(\" 2. But, marginally, we expect E_X[Z|X] ~ Z E_X[F|X] ~ F and E_FX[Y|F,X] ~ E_F[Y|F].\")\n",
    "        \n",
    "        if vae.p.z_dim:\n",
    "            _ = plt.hist(np.concatenate(prior['z'], 0).flatten(), density=True, alpha=0.3, label='Z')\n",
    "            _ = plt.hist(np.concatenate(posterior['z'], 0).flatten(), density=True, alpha=0.3, label='E[Z|X,Y]')\n",
    "            _ = plt.xlabel(r'$Z_d$')\n",
    "            _ = plt.legend()\n",
    "            plt.show()\n",
    "\n",
    "        if vae.p.y_dim:\n",
    "            # Pr(F_k = 1) compared to E_X[ I[F_k = 1] ]\n",
    "            _ = plt.imshow(\n",
    "                np.stack([vae.p.F().marginals().cpu().numpy(), np.concatenate(prior['f'], 0).mean(0), np.concatenate(posterior['f'], 0).mean(0)]), \n",
    "                interpolation='nearest',\n",
    "            )\n",
    "            _ = plt.colorbar()\n",
    "            _ = plt.xlabel('k')\n",
    "            _ = plt.yticks([0,1, 2], ['F', 'E[F]', 'E[F|X]'])\n",
    "            _ = plt.title(r'Marginal probability that $F_k = 1$')\n",
    "            plt.show()\n",
    "\n",
    "            # Y_k compared to E_X[Y_k]\n",
    "\n",
    "            _ = plt.imshow(\n",
    "                np.stack([np.concatenate(prior['y'], 0).mean(0), np.concatenate(posterior['y'], 0).mean(0)]), \n",
    "                interpolation='nearest'\n",
    "            )\n",
    "            _ = plt.colorbar()\n",
    "            _ = plt.xlabel('k')\n",
    "            _ = plt.yticks([0, 1], ['E[Y|F]', 'E[Y|F,X]'])\n",
    "            _ = plt.title(r'Average $Y_k$')\n",
    "            plt.show()\n",
    "\n",
    "            _ = plt.hist(\n",
    "                np.concatenate(prior['dim'], 0), \n",
    "                alpha=0.3, label='dim(F)', bins=np.arange(0, 11))\n",
    "            _ = plt.hist(\n",
    "                np.concatenate(posterior['dim'], 0), \n",
    "                alpha=0.3, label='E[dim(F)|X]', bins=np.arange(0, 11))\n",
    "            _ = plt.ylabel(f'Count')\n",
    "            _ = plt.xlabel('dim(f)+1')\n",
    "            _ = plt.xticks(np.arange(1,11), np.arange(1,11))\n",
    "            _ = plt.title(f'Distribution of dim(f)')\n",
    "            _ = plt.legend()\n",
    "            plt.show()\n"
   ]
  },
  {
   "cell_type": "code",
   "execution_count": 26,
   "metadata": {
    "colab": {
     "base_uri": "https://localhost:8080/",
     "height": 1000
    },
    "id": "cighi_3_qx9t",
    "outputId": "23f0a95f-7448-4257-f921-b6eb64a2cb26"
   },
   "outputs": [
    {
     "name": "stdout",
     "output_type": "stream",
     "text": [
      "For a trained VAE: \n",
      " 1. We want to see that KL(Z|x || Z), KL(F|x || F), and KL(Y|f,x || Y|f) are generally > 0 for any x ~ D.\n"
     ]
    },
    {
     "data": {
      "image/png": "[encoded data removed]",
      "text/plain": [
       "<Figure size 432x288 with 1 Axes>"
      ]
     },
     "metadata": {
      "needs_background": "light"
     },
     "output_type": "display_data"
    },
    {
     "data": {
      "image/png": "[encoded data removed]",
      "text/plain": [
       "<Figure size 432x288 with 1 Axes>"
      ]
     },
     "metadata": {
      "needs_background": "light"
     },
     "output_type": "display_data"
    },
    {
     "data": {
      "image/png": "[encoded data removed]",
      "text/plain": [
       "<Figure size 432x288 with 1 Axes>"
      ]
     },
     "metadata": {
      "needs_background": "light"
     },
     "output_type": "display_data"
    },
    {
     "name": "stdout",
     "output_type": "stream",
     "text": [
      " 2. But, marginally, we expect E_X[Z|X] ~ Z E_X[F|X] ~ F and E_FX[Y|F,X] ~ E_F[Y|F].\n"
     ]
    },
    {
     "data": {
      "image/png": "[encoded data removed]",
      "text/plain": [
       "<Figure size 432x288 with 1 Axes>"
      ]
     },
     "metadata": {
      "needs_background": "light"
     },
     "output_type": "display_data"
    },
    {
     "data": {
      "image/png": "[encoded data removed]",
      "text/plain": [
       "<Figure size 432x288 with 2 Axes>"
      ]
     },
     "metadata": {
      "needs_background": "light"
     },
     "output_type": "display_data"
    },
    {
     "data": {
      "image/png": "[encoded data removed]",
      "text/plain": [
       "<Figure size 432x288 with 2 Axes>"
      ]
     },
     "metadata": {
      "needs_background": "light"
     },
     "output_type": "display_data"
    },
    {
     "data": {
      "image/png": "[encoded data removed]",
      "text/plain": [
       "<Figure size 432x288 with 1 Axes>"
      ]
     },
     "metadata": {
      "needs_background": "light"
     },
     "output_type": "display_data"
    }
   ],
   "source": [
    "compare_p_q(vae, get_batcher(valid_loader, args), args)"
   ]
  },
  {
   "cell_type": "code",
   "execution_count": 27,
   "metadata": {
    "id": "aHjY_-79jYAZ"
   },
   "outputs": [],
   "source": [
    "def visualize(vae, batcher: Batcher, args, N=4, num_figs=1): \n",
    "\n",
    "    assert N <= args.batch_size, \"N should be no bigger than a batch\"\n",
    "    with torch.no_grad():\n",
    "        vae.p.eval()        \n",
    "        vae.q.eval()\n",
    "            \n",
    "        # Some visualisations\n",
    "        for r, (x_obs, y_obs) in enumerate(batcher, 1):\n",
    "\n",
    "            plt.figure(figsize=(2*N, 2*N))\n",
    "            plt.subplots_adjust(wspace=0.5, hspace=0.5)        \n",
    "        \n",
    "            \n",
    "            # [B, H*W]\n",
    "            x_obs = x_obs.reshape(-1, args.height * args.width)\n",
    "            x_obs = x_obs[:N]\n",
    "            # [B, 10]\n",
    "            context = None\n",
    "            \n",
    "            B, H, K, D = x_obs.shape[0], vae.p.z_dim, vae.p.y_dim, vae.p.data_dim            \n",
    "            # marginal probability\n",
    "            prob = vae.estimate_ll_per_bit(x_obs, args.num_samples).exp()            \n",
    "            # posterior samples\n",
    "            f, y, z = vae.q.sample(x_obs)\n",
    "            x = vae.p.X(y=y, z=z).sample()\n",
    "            # prior samples\n",
    "            f_, y_, z_, x_ = vae.p.sample((N,))\n",
    "\n",
    "            for i in range(N):\n",
    "                plt.subplot(4, N, 0*N + i + 1)\n",
    "                plt.imshow(x_obs[i].reshape(args.height, args.width).cpu(), cmap='Greys')\n",
    "                plt.title(\"$x^{(%d)}$\" % (i+1))\n",
    "\n",
    "                plt.subplot(4, N, 1*N + i + 1)\n",
    "                plt.imshow(x[i].reshape(args.height, args.width).cpu(), cmap='Greys')\n",
    "                plt.title(\"$p(x^{(%d)})$\" % (i+1))\n",
    "                \n",
    "                plt.subplot(4, N, 2*N + i + 1)                \n",
    "                #plt.axhline(y=args.height//2, c='red', linewidth=1, ls='--')\n",
    "                plt.imshow(x[i].reshape(args.height, args.width).cpu(), cmap='Greys')\n",
    "                plt.title(\"X,Y,F|$x^{(%d)}$\" % (i+1))\n",
    "                if 0 < vae.p.y_dim <= 10:\n",
    "                    plt.xlabel(f'f={bitvec2str(f[i])}')\n",
    "                \n",
    "                plt.subplot(4, N, 3*N + i + 1)\n",
    "                plt.imshow(x_[i].reshape(args.height, args.width).cpu(), cmap='Greys')\n",
    "                plt.title(\"X,Y,F\")\n",
    "                if 0 < vae.p.y_dim <= 10:\n",
    "                    plt.xlabel(f'f={bitvec2str(f[i])}')\n",
    "                \n",
    "            plt.show()\n",
    "\n",
    "            if r == num_figs:\n",
    "                break"
   ]
  },
  {
   "cell_type": "code",
   "execution_count": 28,
   "metadata": {
    "colab": {
     "base_uri": "https://localhost:8080/",
     "height": 591
    },
    "id": "UeRvtKu6hrYv",
    "outputId": "980cde12-766b-45e3-bea6-c540f52846f4"
   },
   "outputs": [
    {
     "data": {
      "image/png": "[encoded data removed]",
      "text/plain": [
       "<Figure size 720x720 with 20 Axes>"
      ]
     },
     "metadata": {
      "needs_background": "light"
     },
     "output_type": "display_data"
    }
   ],
   "source": [
    "visualize(vae, get_batcher(valid_loader, args), args, N=5)"
   ]
  },
  {
   "cell_type": "markdown",
   "metadata": {
    "id": "cHU2vfcejqhv"
   },
   "source": [
    "## Training"
   ]
  },
  {
   "cell_type": "code",
   "execution_count": 29,
   "metadata": {
    "id": "xKckbBiFhrYt"
   },
   "outputs": [],
   "source": [
    "from collections import OrderedDict\n",
    "\n",
    "\n",
    "def validate(vae, batcher, num_samples, compute_DR=False):\n",
    "    \"\"\"\n",
    "    Return average NLL\n",
    "        average number of bits per dimension\n",
    "        and a dictionary with distortion and rate estimates\n",
    "    \"\"\"\n",
    "    with torch.no_grad():\n",
    "        vae.eval()\n",
    "        \n",
    "        nb_obs = 0\n",
    "        nb_bits = 0.\n",
    "        ll = 0.\n",
    "        DR = OrderedDict()\n",
    "        for x_obs, y_obs in batcher:\n",
    "            # [B, H*W]\n",
    "            x_obs = x_obs.reshape(-1, vae.p.data_dim)     \n",
    "            # [B]\n",
    "            ll = ll + vae.estimate_ll(x_obs, num_samples).sum(0)\n",
    "            nb_bits += np.prod(x_obs.shape)\n",
    "            nb_obs += x_obs.shape[0]\n",
    "            # []\n",
    "            if compute_DR:\n",
    "                ret = vae.DR(x_obs)\n",
    "                for k, v in ret.items():\n",
    "                    if k not in DR:\n",
    "                        DR[k] = []\n",
    "                    DR[k].append(v.cpu().numpy())\n",
    "\n",
    "    nll = - (ll / nb_obs).cpu()\n",
    "    if compute_DR:\n",
    "        DR = OrderedDict((k, np.concatenate(v, 0)) for k, v in DR.items())    \n",
    "        return nll, nll / np.log(2) / vae.p.latent_dim, DR\n",
    "    else:\n",
    "        return nll, nll / np.log(2) / vae.p.latent_dim"
   ]
  },
  {
   "cell_type": "code",
   "execution_count": 30,
   "metadata": {
    "id": "VEfnyCs2y-ln"
   },
   "outputs": [],
   "source": [
    "from tqdm.auto import tqdm\n",
    "from itertools import chain\n",
    "from collections import defaultdict"
   ]
  },
  {
   "cell_type": "markdown",
   "metadata": {
    "id": "yWixjAFXzFgf"
   },
   "source": [
    "### Optimiser"
   ]
  },
  {
   "cell_type": "code",
   "execution_count": 31,
   "metadata": {
    "id": "1PdwNsn2zD0h"
   },
   "outputs": [],
   "source": [
    "p_opt = torch.optim.Adam(p.parameters(), lr=args.gen_lr, weight_decay=args.gen_l2)\n",
    "q_opt = torch.optim.Adam(q.parameters(), lr=args.inf_lr, weight_decay=args.inf_l2)\n",
    "stats_tr = defaultdict(list)\n",
    "stats_val = defaultdict(list)"
   ]
  },
  {
   "cell_type": "code",
   "execution_count": null,
   "metadata": {},
   "outputs": [],
   "source": []
  },
  {
   "cell_type": "markdown",
   "metadata": {
    "id": "m_9HDlI3zHyJ"
   },
   "source": [
    "### Steps"
   ]
  },
  {
   "cell_type": "code",
   "execution_count": 32,
   "metadata": {},
   "outputs": [
    {
     "name": "stdout",
     "output_type": "stream",
     "text": [
      "Validation   0: nll=544.06 bpd=18.69\n"
     ]
    }
   ],
   "source": [
    "val_metrics = validate(vae, get_batcher(valid_loader, args), args.num_samples)\n",
    "print(f'Validation {0:3d}: nll={val_metrics[0]:.2f} bpd={val_metrics[1]:.2f}')"
   ]
  },
  {
   "cell_type": "code",
   "execution_count": 33,
   "metadata": {
    "colab": {
     "base_uri": "https://localhost:8080/",
     "height": 400,
     "referenced_widgets": [
      "e6235f86d6144ccba6f6459586bf8b9b",
      "a61874200e1c43bc93cf5f38f4d1602a",
      "3440563d925941f3891b4b1f48d45319",
      "f295266aeaca4088b34f2c9424f2a8a7",
      "a60c0e8b61b74630845a0c22a30b95df",
      "fbb3221bb61348a38e978a3031d0fefe",
      "5c954db7e71f4a669989e1ecf0d89988",
      "5b7868306345485fb17658bcfd1c25e4",
      "fa7034d83d3b43c2a181b51a88db3fec",
      "0946de80201a4d1ba749a53cefa440a6",
      "1e328c49a4294095af40d05efc47b7e9",
      "cc6a4b8ee959491f8e6901d4b96d0435",
      "8c7267ec1fc54d9a9a363b3b9503d530",
      "29788d5b56994274852a7f007ceff4aa",
      "d7d526b7a18741a3a888c2421aea347c",
      "f41c9d0c678c4495b043220fae491099",
      "9613f82c5bee4d9889d755989607deed",
      "95c747e3a50e48089ba465949d499f61",
      "10e2682a1219417ca2371bc15a90622c",
      "ae0ee77c9452406ea76c2012113ac46f",
      "213ac6a83e7e409cac2ee43c97e7f02d",
      "cb2c5222e69d44aa8330691d61edfb61",
      "303a5282789449ca8e7ed903d268f9e1",
      "9bd35ce5090d4252aa65b19d5ea37b42"
     ]
    },
    "id": "Shu9kd7yiXFZ",
    "outputId": "2ad55d71-d7a5-435e-daa5-94998acecd4f"
   },
   "outputs": [
    {
     "data": {
      "application/vnd.jupyter.widget-view+json": {
       "model_id": "8f16b0b297f844c8bb4b088efd744d97",
       "version_major": 2,
       "version_minor": 0
      },
      "text/plain": [
       "  0%|          | 0/275 [00:00<?, ?it/s]"
      ]
     },
     "metadata": {},
     "output_type": "display_data"
    },
    {
     "name": "stdout",
     "output_type": "stream",
     "text": [
      "Validation   1: nll=194.56 bpd=6.68\n"
     ]
    },
    {
     "data": {
      "application/vnd.jupyter.widget-view+json": {
       "model_id": "709f6bda2bf24302bdf511ef40de8416",
       "version_major": 2,
       "version_minor": 0
      },
      "text/plain": [
       "  0%|          | 0/275 [00:00<?, ?it/s]"
      ]
     },
     "metadata": {},
     "output_type": "display_data"
    },
    {
     "name": "stdout",
     "output_type": "stream",
     "text": [
      "Validation   2: nll=182.23 bpd=6.26\n"
     ]
    },
    {
     "data": {
      "application/vnd.jupyter.widget-view+json": {
       "model_id": "6c43d997cb2a4676af6a774ee88e8726",
       "version_major": 2,
       "version_minor": 0
      },
      "text/plain": [
       "  0%|          | 0/275 [00:00<?, ?it/s]"
      ]
     },
     "metadata": {},
     "output_type": "display_data"
    },
    {
     "name": "stdout",
     "output_type": "stream",
     "text": [
      "Validation   3: nll=162.68 bpd=5.59\n"
     ]
    },
    {
     "data": {
      "application/vnd.jupyter.widget-view+json": {
       "model_id": "5ad5610d7d35497ab7ac0913e5d5dc1c",
       "version_major": 2,
       "version_minor": 0
      },
      "text/plain": [
       "  0%|          | 0/275 [00:00<?, ?it/s]"
      ]
     },
     "metadata": {},
     "output_type": "display_data"
    },
    {
     "name": "stdout",
     "output_type": "stream",
     "text": [
      "Validation   4: nll=151.30 bpd=5.20\n"
     ]
    },
    {
     "data": {
      "application/vnd.jupyter.widget-view+json": {
       "model_id": "0da9e36dd9d34ebf881567ddf8395643",
       "version_major": 2,
       "version_minor": 0
      },
      "text/plain": [
       "  0%|          | 0/275 [00:00<?, ?it/s]"
      ]
     },
     "metadata": {},
     "output_type": "display_data"
    },
    {
     "name": "stdout",
     "output_type": "stream",
     "text": [
      "Validation   5: nll=145.32 bpd=4.99\n"
     ]
    },
    {
     "data": {
      "application/vnd.jupyter.widget-view+json": {
       "model_id": "8f2d0a219e454b5fa670a533bebd7f5e",
       "version_major": 2,
       "version_minor": 0
      },
      "text/plain": [
       "  0%|          | 0/275 [00:00<?, ?it/s]"
      ]
     },
     "metadata": {},
     "output_type": "display_data"
    },
    {
     "name": "stdout",
     "output_type": "stream",
     "text": [
      "Validation   6: nll=139.79 bpd=4.80\n"
     ]
    },
    {
     "data": {
      "application/vnd.jupyter.widget-view+json": {
       "model_id": "e7cb32d4127141d391ad2c436576ac5c",
       "version_major": 2,
       "version_minor": 0
      },
      "text/plain": [
       "  0%|          | 0/275 [00:00<?, ?it/s]"
      ]
     },
     "metadata": {},
     "output_type": "display_data"
    },
    {
     "name": "stdout",
     "output_type": "stream",
     "text": [
      "Validation   7: nll=135.71 bpd=4.66\n"
     ]
    },
    {
     "data": {
      "application/vnd.jupyter.widget-view+json": {
       "model_id": "9714f7e7d1a2441182cbd431701060ec",
       "version_major": 2,
       "version_minor": 0
      },
      "text/plain": [
       "  0%|          | 0/275 [00:00<?, ?it/s]"
      ]
     },
     "metadata": {},
     "output_type": "display_data"
    },
    {
     "name": "stdout",
     "output_type": "stream",
     "text": [
      "Validation   8: nll=132.84 bpd=4.56\n"
     ]
    },
    {
     "data": {
      "application/vnd.jupyter.widget-view+json": {
       "model_id": "d718092ff5ec4bb9a6b9d78cacafaf9e",
       "version_major": 2,
       "version_minor": 0
      },
      "text/plain": [
       "  0%|          | 0/275 [00:00<?, ?it/s]"
      ]
     },
     "metadata": {},
     "output_type": "display_data"
    },
    {
     "name": "stdout",
     "output_type": "stream",
     "text": [
      "Validation   9: nll=130.13 bpd=4.47\n"
     ]
    },
    {
     "data": {
      "application/vnd.jupyter.widget-view+json": {
       "model_id": "39b98f039814404eadb6237b2a376dc8",
       "version_major": 2,
       "version_minor": 0
      },
      "text/plain": [
       "  0%|          | 0/275 [00:00<?, ?it/s]"
      ]
     },
     "metadata": {},
     "output_type": "display_data"
    },
    {
     "name": "stdout",
     "output_type": "stream",
     "text": [
      "Validation  10: nll=127.70 bpd=4.39\n"
     ]
    },
    {
     "data": {
      "application/vnd.jupyter.widget-view+json": {
       "model_id": "b03674eb5ada4b42ab374a2f98d3ef07",
       "version_major": 2,
       "version_minor": 0
      },
      "text/plain": [
       "  0%|          | 0/275 [00:00<?, ?it/s]"
      ]
     },
     "metadata": {},
     "output_type": "display_data"
    },
    {
     "name": "stdout",
     "output_type": "stream",
     "text": [
      "Validation  11: nll=125.89 bpd=4.32\n"
     ]
    },
    {
     "data": {
      "application/vnd.jupyter.widget-view+json": {
       "model_id": "3a19aecc5d874eb3b5f95dd590fdaf7d",
       "version_major": 2,
       "version_minor": 0
      },
      "text/plain": [
       "  0%|          | 0/275 [00:00<?, ?it/s]"
      ]
     },
     "metadata": {},
     "output_type": "display_data"
    },
    {
     "name": "stdout",
     "output_type": "stream",
     "text": [
      "Validation  12: nll=124.16 bpd=4.26\n"
     ]
    },
    {
     "data": {
      "application/vnd.jupyter.widget-view+json": {
       "model_id": "89879453acca41f49c2b65a84e532894",
       "version_major": 2,
       "version_minor": 0
      },
      "text/plain": [
       "  0%|          | 0/275 [00:00<?, ?it/s]"
      ]
     },
     "metadata": {},
     "output_type": "display_data"
    },
    {
     "name": "stdout",
     "output_type": "stream",
     "text": [
      "Validation  13: nll=122.34 bpd=4.20\n"
     ]
    },
    {
     "data": {
      "application/vnd.jupyter.widget-view+json": {
       "model_id": "3e185f6a9c894b4099c9a26269bee6df",
       "version_major": 2,
       "version_minor": 0
      },
      "text/plain": [
       "  0%|          | 0/275 [00:00<?, ?it/s]"
      ]
     },
     "metadata": {},
     "output_type": "display_data"
    },
    {
     "name": "stdout",
     "output_type": "stream",
     "text": [
      "Validation  14: nll=120.78 bpd=4.15\n"
     ]
    },
    {
     "data": {
      "application/vnd.jupyter.widget-view+json": {
       "model_id": "01ceff8ab35a410491bc29d0e4291d21",
       "version_major": 2,
       "version_minor": 0
      },
      "text/plain": [
       "  0%|          | 0/275 [00:00<?, ?it/s]"
      ]
     },
     "metadata": {},
     "output_type": "display_data"
    },
    {
     "name": "stdout",
     "output_type": "stream",
     "text": [
      "Validation  15: nll=119.58 bpd=4.11\n"
     ]
    },
    {
     "data": {
      "application/vnd.jupyter.widget-view+json": {
       "model_id": "dbbfa45cafb64cdfa8f59b17875c284e",
       "version_major": 2,
       "version_minor": 0
      },
      "text/plain": [
       "  0%|          | 0/275 [00:00<?, ?it/s]"
      ]
     },
     "metadata": {},
     "output_type": "display_data"
    },
    {
     "name": "stdout",
     "output_type": "stream",
     "text": [
      "Validation  16: nll=118.49 bpd=4.07\n"
     ]
    },
    {
     "data": {
      "application/vnd.jupyter.widget-view+json": {
       "model_id": "85dc4608397748b0a3bc9910878cafea",
       "version_major": 2,
       "version_minor": 0
      },
      "text/plain": [
       "  0%|          | 0/275 [00:00<?, ?it/s]"
      ]
     },
     "metadata": {},
     "output_type": "display_data"
    },
    {
     "name": "stdout",
     "output_type": "stream",
     "text": [
      "Validation  17: nll=117.16 bpd=4.02\n"
     ]
    },
    {
     "data": {
      "application/vnd.jupyter.widget-view+json": {
       "model_id": "ada5a146802d4a83b7c00137c790d2d9",
       "version_major": 2,
       "version_minor": 0
      },
      "text/plain": [
       "  0%|          | 0/275 [00:00<?, ?it/s]"
      ]
     },
     "metadata": {},
     "output_type": "display_data"
    },
    {
     "name": "stdout",
     "output_type": "stream",
     "text": [
      "Validation  18: nll=116.22 bpd=3.99\n"
     ]
    },
    {
     "data": {
      "application/vnd.jupyter.widget-view+json": {
       "model_id": "568bd5317f2c4eeab324498b7a9e63b9",
       "version_major": 2,
       "version_minor": 0
      },
      "text/plain": [
       "  0%|          | 0/275 [00:00<?, ?it/s]"
      ]
     },
     "metadata": {},
     "output_type": "display_data"
    },
    {
     "name": "stdout",
     "output_type": "stream",
     "text": [
      "Validation  19: nll=115.41 bpd=3.96\n"
     ]
    },
    {
     "data": {
      "application/vnd.jupyter.widget-view+json": {
       "model_id": "16256ada479d45f5a98c7fa172c26a09",
       "version_major": 2,
       "version_minor": 0
      },
      "text/plain": [
       "  0%|          | 0/275 [00:00<?, ?it/s]"
      ]
     },
     "metadata": {},
     "output_type": "display_data"
    },
    {
     "name": "stdout",
     "output_type": "stream",
     "text": [
      "Validation  20: nll=114.53 bpd=3.93\n"
     ]
    },
    {
     "data": {
      "application/vnd.jupyter.widget-view+json": {
       "model_id": "c0106086ad7942fb8a39297c5e2a1570",
       "version_major": 2,
       "version_minor": 0
      },
      "text/plain": [
       "  0%|          | 0/275 [00:00<?, ?it/s]"
      ]
     },
     "metadata": {},
     "output_type": "display_data"
    },
    {
     "name": "stdout",
     "output_type": "stream",
     "text": [
      "Validation  21: nll=113.88 bpd=3.91\n"
     ]
    },
    {
     "data": {
      "application/vnd.jupyter.widget-view+json": {
       "model_id": "028be6e862724ed7827c31c3a2bb59cc",
       "version_major": 2,
       "version_minor": 0
      },
      "text/plain": [
       "  0%|          | 0/275 [00:00<?, ?it/s]"
      ]
     },
     "metadata": {},
     "output_type": "display_data"
    },
    {
     "name": "stdout",
     "output_type": "stream",
     "text": [
      "Validation  22: nll=113.13 bpd=3.89\n"
     ]
    },
    {
     "data": {
      "application/vnd.jupyter.widget-view+json": {
       "model_id": "1f5e8671608a4f4fb7e32532ff4086aa",
       "version_major": 2,
       "version_minor": 0
      },
      "text/plain": [
       "  0%|          | 0/275 [00:00<?, ?it/s]"
      ]
     },
     "metadata": {},
     "output_type": "display_data"
    },
    {
     "name": "stdout",
     "output_type": "stream",
     "text": [
      "Validation  23: nll=112.30 bpd=3.86\n"
     ]
    },
    {
     "data": {
      "application/vnd.jupyter.widget-view+json": {
       "model_id": "9e142960ed5e4d579dce14709d3252d4",
       "version_major": 2,
       "version_minor": 0
      },
      "text/plain": [
       "  0%|          | 0/275 [00:00<?, ?it/s]"
      ]
     },
     "metadata": {},
     "output_type": "display_data"
    },
    {
     "name": "stdout",
     "output_type": "stream",
     "text": [
      "Validation  24: nll=111.88 bpd=3.84\n"
     ]
    },
    {
     "data": {
      "application/vnd.jupyter.widget-view+json": {
       "model_id": "1f484a536d5143e98f3fcecc15f4f493",
       "version_major": 2,
       "version_minor": 0
      },
      "text/plain": [
       "  0%|          | 0/275 [00:00<?, ?it/s]"
      ]
     },
     "metadata": {},
     "output_type": "display_data"
    },
    {
     "name": "stdout",
     "output_type": "stream",
     "text": [
      "Validation  25: nll=111.37 bpd=3.83\n"
     ]
    },
    {
     "data": {
      "application/vnd.jupyter.widget-view+json": {
       "model_id": "826e872b3e7d42ec9d28cb1cb5159bc8",
       "version_major": 2,
       "version_minor": 0
      },
      "text/plain": [
       "  0%|          | 0/275 [00:00<?, ?it/s]"
      ]
     },
     "metadata": {},
     "output_type": "display_data"
    },
    {
     "name": "stdout",
     "output_type": "stream",
     "text": [
      "Validation  26: nll=110.61 bpd=3.80\n"
     ]
    },
    {
     "data": {
      "application/vnd.jupyter.widget-view+json": {
       "model_id": "768026466276461ea60dbbb9161d53be",
       "version_major": 2,
       "version_minor": 0
      },
      "text/plain": [
       "  0%|          | 0/275 [00:00<?, ?it/s]"
      ]
     },
     "metadata": {},
     "output_type": "display_data"
    },
    {
     "name": "stdout",
     "output_type": "stream",
     "text": [
      "Validation  27: nll=110.00 bpd=3.78\n"
     ]
    },
    {
     "data": {
      "application/vnd.jupyter.widget-view+json": {
       "model_id": "59930b9ca28b48ffa7987362a7570d69",
       "version_major": 2,
       "version_minor": 0
      },
      "text/plain": [
       "  0%|          | 0/275 [00:00<?, ?it/s]"
      ]
     },
     "metadata": {},
     "output_type": "display_data"
    },
    {
     "name": "stdout",
     "output_type": "stream",
     "text": [
      "Validation  28: nll=109.61 bpd=3.76\n"
     ]
    },
    {
     "data": {
      "application/vnd.jupyter.widget-view+json": {
       "model_id": "84a3412ccbb04194872602cf955bc370",
       "version_major": 2,
       "version_minor": 0
      },
      "text/plain": [
       "  0%|          | 0/275 [00:00<?, ?it/s]"
      ]
     },
     "metadata": {},
     "output_type": "display_data"
    },
    {
     "name": "stdout",
     "output_type": "stream",
     "text": [
      "Validation  29: nll=108.95 bpd=3.74\n"
     ]
    },
    {
     "data": {
      "application/vnd.jupyter.widget-view+json": {
       "model_id": "9cecfbde521c43c4beb0fc5213ca7d78",
       "version_major": 2,
       "version_minor": 0
      },
      "text/plain": [
       "  0%|          | 0/275 [00:00<?, ?it/s]"
      ]
     },
     "metadata": {},
     "output_type": "display_data"
    },
    {
     "name": "stdout",
     "output_type": "stream",
     "text": [
      "Validation  30: nll=108.49 bpd=3.73\n"
     ]
    },
    {
     "data": {
      "application/vnd.jupyter.widget-view+json": {
       "model_id": "ece8ceb52c5f4f8d98087c41d0b2a358",
       "version_major": 2,
       "version_minor": 0
      },
      "text/plain": [
       "  0%|          | 0/275 [00:00<?, ?it/s]"
      ]
     },
     "metadata": {},
     "output_type": "display_data"
    },
    {
     "name": "stdout",
     "output_type": "stream",
     "text": [
      "Validation  31: nll=108.03 bpd=3.71\n"
     ]
    },
    {
     "data": {
      "application/vnd.jupyter.widget-view+json": {
       "model_id": "7801c165f9994e66b007065adcd08e3f",
       "version_major": 2,
       "version_minor": 0
      },
      "text/plain": [
       "  0%|          | 0/275 [00:00<?, ?it/s]"
      ]
     },
     "metadata": {},
     "output_type": "display_data"
    },
    {
     "name": "stdout",
     "output_type": "stream",
     "text": [
      "Validation  32: nll=107.58 bpd=3.70\n"
     ]
    },
    {
     "data": {
      "application/vnd.jupyter.widget-view+json": {
       "model_id": "523f68dcd5cc4220b565ed8790d76bc1",
       "version_major": 2,
       "version_minor": 0
      },
      "text/plain": [
       "  0%|          | 0/275 [00:00<?, ?it/s]"
      ]
     },
     "metadata": {},
     "output_type": "display_data"
    },
    {
     "name": "stdout",
     "output_type": "stream",
     "text": [
      "Validation  33: nll=107.32 bpd=3.69\n"
     ]
    },
    {
     "data": {
      "application/vnd.jupyter.widget-view+json": {
       "model_id": "a5370d86cd8542a29206060338c24589",
       "version_major": 2,
       "version_minor": 0
      },
      "text/plain": [
       "  0%|          | 0/275 [00:00<?, ?it/s]"
      ]
     },
     "metadata": {},
     "output_type": "display_data"
    },
    {
     "name": "stdout",
     "output_type": "stream",
     "text": [
      "Validation  34: nll=107.07 bpd=3.68\n"
     ]
    },
    {
     "data": {
      "application/vnd.jupyter.widget-view+json": {
       "model_id": "1fa6b95eac2c4ae997b1814f1dba1cf6",
       "version_major": 2,
       "version_minor": 0
      },
      "text/plain": [
       "  0%|          | 0/275 [00:00<?, ?it/s]"
      ]
     },
     "metadata": {},
     "output_type": "display_data"
    },
    {
     "name": "stdout",
     "output_type": "stream",
     "text": [
      "Validation  35: nll=106.57 bpd=3.66\n"
     ]
    },
    {
     "data": {
      "application/vnd.jupyter.widget-view+json": {
       "model_id": "3e9763f5f9e2450b86fc03d9c07bf2f5",
       "version_major": 2,
       "version_minor": 0
      },
      "text/plain": [
       "  0%|          | 0/275 [00:00<?, ?it/s]"
      ]
     },
     "metadata": {},
     "output_type": "display_data"
    },
    {
     "name": "stdout",
     "output_type": "stream",
     "text": [
      "Validation  36: nll=106.46 bpd=3.66\n"
     ]
    },
    {
     "data": {
      "application/vnd.jupyter.widget-view+json": {
       "model_id": "fdef783028f64d8580c836f93aeb5a71",
       "version_major": 2,
       "version_minor": 0
      },
      "text/plain": [
       "  0%|          | 0/275 [00:00<?, ?it/s]"
      ]
     },
     "metadata": {},
     "output_type": "display_data"
    },
    {
     "name": "stdout",
     "output_type": "stream",
     "text": [
      "Validation  37: nll=106.10 bpd=3.64\n"
     ]
    },
    {
     "data": {
      "application/vnd.jupyter.widget-view+json": {
       "model_id": "3454c15a9d804a10a135a161a6bf5b8c",
       "version_major": 2,
       "version_minor": 0
      },
      "text/plain": [
       "  0%|          | 0/275 [00:00<?, ?it/s]"
      ]
     },
     "metadata": {},
     "output_type": "display_data"
    },
    {
     "name": "stdout",
     "output_type": "stream",
     "text": [
      "Validation  38: nll=105.70 bpd=3.63\n"
     ]
    },
    {
     "data": {
      "application/vnd.jupyter.widget-view+json": {
       "model_id": "508d518cce7f4e7585b81ad76d1d3fcd",
       "version_major": 2,
       "version_minor": 0
      },
      "text/plain": [
       "  0%|          | 0/275 [00:00<?, ?it/s]"
      ]
     },
     "metadata": {},
     "output_type": "display_data"
    },
    {
     "name": "stdout",
     "output_type": "stream",
     "text": [
      "Validation  39: nll=105.29 bpd=3.62\n"
     ]
    },
    {
     "data": {
      "application/vnd.jupyter.widget-view+json": {
       "model_id": "6f95ccd5478c4395bb9b1e91a57217d5",
       "version_major": 2,
       "version_minor": 0
      },
      "text/plain": [
       "  0%|          | 0/275 [00:00<?, ?it/s]"
      ]
     },
     "metadata": {},
     "output_type": "display_data"
    },
    {
     "name": "stdout",
     "output_type": "stream",
     "text": [
      "Validation  40: nll=104.95 bpd=3.61\n"
     ]
    },
    {
     "data": {
      "application/vnd.jupyter.widget-view+json": {
       "model_id": "8a8a921c2dfd4dc8936129b09a6df0b1",
       "version_major": 2,
       "version_minor": 0
      },
      "text/plain": [
       "  0%|          | 0/275 [00:00<?, ?it/s]"
      ]
     },
     "metadata": {},
     "output_type": "display_data"
    },
    {
     "name": "stdout",
     "output_type": "stream",
     "text": [
      "Validation  41: nll=104.83 bpd=3.60\n"
     ]
    },
    {
     "data": {
      "application/vnd.jupyter.widget-view+json": {
       "model_id": "3e22cae62b92426a831d5bc506e41559",
       "version_major": 2,
       "version_minor": 0
      },
      "text/plain": [
       "  0%|          | 0/275 [00:00<?, ?it/s]"
      ]
     },
     "metadata": {},
     "output_type": "display_data"
    },
    {
     "name": "stdout",
     "output_type": "stream",
     "text": [
      "Validation  42: nll=104.64 bpd=3.59\n"
     ]
    },
    {
     "data": {
      "application/vnd.jupyter.widget-view+json": {
       "model_id": "266781b4c0ec4da78c60235cf38e408b",
       "version_major": 2,
       "version_minor": 0
      },
      "text/plain": [
       "  0%|          | 0/275 [00:00<?, ?it/s]"
      ]
     },
     "metadata": {},
     "output_type": "display_data"
    },
    {
     "name": "stdout",
     "output_type": "stream",
     "text": [
      "Validation  43: nll=104.35 bpd=3.58\n"
     ]
    },
    {
     "data": {
      "application/vnd.jupyter.widget-view+json": {
       "model_id": "e61888779cfd4dcea745782e914e5fc8",
       "version_major": 2,
       "version_minor": 0
      },
      "text/plain": [
       "  0%|          | 0/275 [00:00<?, ?it/s]"
      ]
     },
     "metadata": {},
     "output_type": "display_data"
    },
    {
     "name": "stdout",
     "output_type": "stream",
     "text": [
      "Validation  44: nll=104.15 bpd=3.58\n"
     ]
    },
    {
     "data": {
      "application/vnd.jupyter.widget-view+json": {
       "model_id": "7b070e4a268f4ade8d1bb0904c590a22",
       "version_major": 2,
       "version_minor": 0
      },
      "text/plain": [
       "  0%|          | 0/275 [00:00<?, ?it/s]"
      ]
     },
     "metadata": {},
     "output_type": "display_data"
    },
    {
     "name": "stdout",
     "output_type": "stream",
     "text": [
      "Validation  45: nll=104.03 bpd=3.57\n"
     ]
    },
    {
     "data": {
      "application/vnd.jupyter.widget-view+json": {
       "model_id": "1009fefb876e4e918e8cc0002d60534d",
       "version_major": 2,
       "version_minor": 0
      },
      "text/plain": [
       "  0%|          | 0/275 [00:00<?, ?it/s]"
      ]
     },
     "metadata": {},
     "output_type": "display_data"
    },
    {
     "name": "stdout",
     "output_type": "stream",
     "text": [
      "Validation  46: nll=103.71 bpd=3.56\n"
     ]
    },
    {
     "data": {
      "application/vnd.jupyter.widget-view+json": {
       "model_id": "3e37cc73f78a46a48b388f79c449bff6",
       "version_major": 2,
       "version_minor": 0
      },
      "text/plain": [
       "  0%|          | 0/275 [00:00<?, ?it/s]"
      ]
     },
     "metadata": {},
     "output_type": "display_data"
    },
    {
     "name": "stdout",
     "output_type": "stream",
     "text": [
      "Validation  47: nll=103.70 bpd=3.56\n"
     ]
    },
    {
     "data": {
      "application/vnd.jupyter.widget-view+json": {
       "model_id": "e576ff3b22a741329c6711ef4640949a",
       "version_major": 2,
       "version_minor": 0
      },
      "text/plain": [
       "  0%|          | 0/275 [00:00<?, ?it/s]"
      ]
     },
     "metadata": {},
     "output_type": "display_data"
    },
    {
     "name": "stdout",
     "output_type": "stream",
     "text": [
      "Validation  48: nll=103.54 bpd=3.56\n"
     ]
    },
    {
     "data": {
      "application/vnd.jupyter.widget-view+json": {
       "model_id": "9fc4f663a4264d61a7c3be50070116cd",
       "version_major": 2,
       "version_minor": 0
      },
      "text/plain": [
       "  0%|          | 0/275 [00:00<?, ?it/s]"
      ]
     },
     "metadata": {},
     "output_type": "display_data"
    },
    {
     "name": "stdout",
     "output_type": "stream",
     "text": [
      "Validation  49: nll=103.28 bpd=3.55\n"
     ]
    },
    {
     "data": {
      "application/vnd.jupyter.widget-view+json": {
       "model_id": "af520acb973b4c6d88ea45fa5e04e20d",
       "version_major": 2,
       "version_minor": 0
      },
      "text/plain": [
       "  0%|          | 0/275 [00:00<?, ?it/s]"
      ]
     },
     "metadata": {},
     "output_type": "display_data"
    },
    {
     "name": "stdout",
     "output_type": "stream",
     "text": [
      "Validation  50: nll=102.98 bpd=3.54\n"
     ]
    },
    {
     "data": {
      "application/vnd.jupyter.widget-view+json": {
       "model_id": "9dc50dc388d44f5c8e7771efabfc0b4e",
       "version_major": 2,
       "version_minor": 0
      },
      "text/plain": [
       "  0%|          | 0/275 [00:00<?, ?it/s]"
      ]
     },
     "metadata": {},
     "output_type": "display_data"
    },
    {
     "name": "stdout",
     "output_type": "stream",
     "text": [
      "Validation  51: nll=103.05 bpd=3.54\n"
     ]
    },
    {
     "data": {
      "application/vnd.jupyter.widget-view+json": {
       "model_id": "906fd7c613004f89958eea1f921add6a",
       "version_major": 2,
       "version_minor": 0
      },
      "text/plain": [
       "  0%|          | 0/275 [00:00<?, ?it/s]"
      ]
     },
     "metadata": {},
     "output_type": "display_data"
    },
    {
     "name": "stdout",
     "output_type": "stream",
     "text": [
      "Validation  52: nll=102.74 bpd=3.53\n"
     ]
    },
    {
     "data": {
      "application/vnd.jupyter.widget-view+json": {
       "model_id": "b725863a8e0d44918caf5ecd54d9f0ed",
       "version_major": 2,
       "version_minor": 0
      },
      "text/plain": [
       "  0%|          | 0/275 [00:00<?, ?it/s]"
      ]
     },
     "metadata": {},
     "output_type": "display_data"
    },
    {
     "name": "stdout",
     "output_type": "stream",
     "text": [
      "Validation  53: nll=102.60 bpd=3.52\n"
     ]
    },
    {
     "data": {
      "application/vnd.jupyter.widget-view+json": {
       "model_id": "1bba85039ab34d3f84d70b4dfcac665e",
       "version_major": 2,
       "version_minor": 0
      },
      "text/plain": [
       "  0%|          | 0/275 [00:00<?, ?it/s]"
      ]
     },
     "metadata": {},
     "output_type": "display_data"
    },
    {
     "name": "stdout",
     "output_type": "stream",
     "text": [
      "Validation  54: nll=102.61 bpd=3.52\n"
     ]
    },
    {
     "data": {
      "application/vnd.jupyter.widget-view+json": {
       "model_id": "20fc323149cb48b2b61d5dd9b746b007",
       "version_major": 2,
       "version_minor": 0
      },
      "text/plain": [
       "  0%|          | 0/275 [00:00<?, ?it/s]"
      ]
     },
     "metadata": {},
     "output_type": "display_data"
    },
    {
     "name": "stdout",
     "output_type": "stream",
     "text": [
      "Validation  55: nll=102.50 bpd=3.52\n"
     ]
    },
    {
     "data": {
      "application/vnd.jupyter.widget-view+json": {
       "model_id": "c065bd5e4bb1407ab1ced93d86378ede",
       "version_major": 2,
       "version_minor": 0
      },
      "text/plain": [
       "  0%|          | 0/275 [00:00<?, ?it/s]"
      ]
     },
     "metadata": {},
     "output_type": "display_data"
    },
    {
     "name": "stdout",
     "output_type": "stream",
     "text": [
      "Validation  56: nll=102.28 bpd=3.51\n"
     ]
    },
    {
     "data": {
      "application/vnd.jupyter.widget-view+json": {
       "model_id": "45636e4e8f13477f99bc9098386304ec",
       "version_major": 2,
       "version_minor": 0
      },
      "text/plain": [
       "  0%|          | 0/275 [00:00<?, ?it/s]"
      ]
     },
     "metadata": {},
     "output_type": "display_data"
    },
    {
     "name": "stdout",
     "output_type": "stream",
     "text": [
      "Validation  57: nll=101.97 bpd=3.50\n"
     ]
    },
    {
     "data": {
      "application/vnd.jupyter.widget-view+json": {
       "model_id": "b2a9ad2a064442a390aa9d6f208a7049",
       "version_major": 2,
       "version_minor": 0
      },
      "text/plain": [
       "  0%|          | 0/275 [00:00<?, ?it/s]"
      ]
     },
     "metadata": {},
     "output_type": "display_data"
    },
    {
     "name": "stdout",
     "output_type": "stream",
     "text": [
      "Validation  58: nll=102.00 bpd=3.50\n"
     ]
    },
    {
     "data": {
      "application/vnd.jupyter.widget-view+json": {
       "model_id": "b01e5d4483e94101a02db0b502e0aff1",
       "version_major": 2,
       "version_minor": 0
      },
      "text/plain": [
       "  0%|          | 0/275 [00:00<?, ?it/s]"
      ]
     },
     "metadata": {},
     "output_type": "display_data"
    },
    {
     "name": "stdout",
     "output_type": "stream",
     "text": [
      "Validation  59: nll=101.84 bpd=3.50\n"
     ]
    },
    {
     "data": {
      "application/vnd.jupyter.widget-view+json": {
       "model_id": "bfa0876da1dd4047ab0fe484c0b87031",
       "version_major": 2,
       "version_minor": 0
      },
      "text/plain": [
       "  0%|          | 0/275 [00:00<?, ?it/s]"
      ]
     },
     "metadata": {},
     "output_type": "display_data"
    },
    {
     "name": "stdout",
     "output_type": "stream",
     "text": [
      "Validation  60: nll=101.76 bpd=3.50\n"
     ]
    },
    {
     "data": {
      "application/vnd.jupyter.widget-view+json": {
       "model_id": "4856ffd14b064f02996a61050e032e57",
       "version_major": 2,
       "version_minor": 0
      },
      "text/plain": [
       "  0%|          | 0/275 [00:00<?, ?it/s]"
      ]
     },
     "metadata": {},
     "output_type": "display_data"
    },
    {
     "name": "stdout",
     "output_type": "stream",
     "text": [
      "Validation  61: nll=101.51 bpd=3.49\n"
     ]
    },
    {
     "data": {
      "application/vnd.jupyter.widget-view+json": {
       "model_id": "d7f2763b6f074d1fa4074fbce102e8bf",
       "version_major": 2,
       "version_minor": 0
      },
      "text/plain": [
       "  0%|          | 0/275 [00:00<?, ?it/s]"
      ]
     },
     "metadata": {},
     "output_type": "display_data"
    },
    {
     "name": "stdout",
     "output_type": "stream",
     "text": [
      "Validation  62: nll=101.46 bpd=3.49\n"
     ]
    },
    {
     "data": {
      "application/vnd.jupyter.widget-view+json": {
       "model_id": "4ed34c6a467341bb857b40643745c77c",
       "version_major": 2,
       "version_minor": 0
      },
      "text/plain": [
       "  0%|          | 0/275 [00:00<?, ?it/s]"
      ]
     },
     "metadata": {},
     "output_type": "display_data"
    },
    {
     "name": "stdout",
     "output_type": "stream",
     "text": [
      "Validation  63: nll=101.29 bpd=3.48\n"
     ]
    },
    {
     "data": {
      "application/vnd.jupyter.widget-view+json": {
       "model_id": "7053b5a849cd4ccf8db74e1316d08878",
       "version_major": 2,
       "version_minor": 0
      },
      "text/plain": [
       "  0%|          | 0/275 [00:00<?, ?it/s]"
      ]
     },
     "metadata": {},
     "output_type": "display_data"
    },
    {
     "name": "stdout",
     "output_type": "stream",
     "text": [
      "Validation  64: nll=101.42 bpd=3.48\n"
     ]
    },
    {
     "data": {
      "application/vnd.jupyter.widget-view+json": {
       "model_id": "3966d32fe9c44c2ab37d5ee1bfd0afdb",
       "version_major": 2,
       "version_minor": 0
      },
      "text/plain": [
       "  0%|          | 0/275 [00:00<?, ?it/s]"
      ]
     },
     "metadata": {},
     "output_type": "display_data"
    },
    {
     "ename": "KeyboardInterrupt",
     "evalue": "",
     "output_type": "error",
     "traceback": [
      "\u001b[0;31m---------------------------------------------------------------------------\u001b[0m",
      "\u001b[0;31mKeyboardInterrupt\u001b[0m                         Traceback (most recent call last)",
      "\u001b[0;32m<ipython-input-33-e5b2d10c3764>\u001b[0m in \u001b[0;36m<module>\u001b[0;34m\u001b[0m\n\u001b[1;32m     29\u001b[0m         \u001b[0miterator\u001b[0m\u001b[0;34m.\u001b[0m\u001b[0mset_postfix\u001b[0m\u001b[0;34m(\u001b[0m\u001b[0mret\u001b[0m\u001b[0;34m)\u001b[0m\u001b[0;34m\u001b[0m\u001b[0;34m\u001b[0m\u001b[0m\n\u001b[1;32m     30\u001b[0m \u001b[0;34m\u001b[0m\u001b[0m\n\u001b[0;32m---> 31\u001b[0;31m     \u001b[0mval_metrics\u001b[0m \u001b[0;34m=\u001b[0m \u001b[0mvalidate\u001b[0m\u001b[0;34m(\u001b[0m\u001b[0mvae\u001b[0m\u001b[0;34m,\u001b[0m \u001b[0mget_batcher\u001b[0m\u001b[0;34m(\u001b[0m\u001b[0mvalid_loader\u001b[0m\u001b[0;34m,\u001b[0m \u001b[0margs\u001b[0m\u001b[0;34m)\u001b[0m\u001b[0;34m,\u001b[0m \u001b[0margs\u001b[0m\u001b[0;34m.\u001b[0m\u001b[0mnum_samples\u001b[0m\u001b[0;34m)\u001b[0m\u001b[0;34m\u001b[0m\u001b[0;34m\u001b[0m\u001b[0m\n\u001b[0m\u001b[1;32m     32\u001b[0m     \u001b[0mstats_val\u001b[0m\u001b[0;34m[\u001b[0m\u001b[0;34m'val_nll'\u001b[0m\u001b[0;34m]\u001b[0m\u001b[0;34m.\u001b[0m\u001b[0mappend\u001b[0m\u001b[0;34m(\u001b[0m\u001b[0mval_metrics\u001b[0m\u001b[0;34m[\u001b[0m\u001b[0;36m0\u001b[0m\u001b[0;34m]\u001b[0m\u001b[0;34m)\u001b[0m\u001b[0;34m\u001b[0m\u001b[0;34m\u001b[0m\u001b[0m\n\u001b[1;32m     33\u001b[0m     \u001b[0mstats_val\u001b[0m\u001b[0;34m[\u001b[0m\u001b[0;34m'val_bpd'\u001b[0m\u001b[0;34m]\u001b[0m\u001b[0;34m.\u001b[0m\u001b[0mappend\u001b[0m\u001b[0;34m(\u001b[0m\u001b[0mval_metrics\u001b[0m\u001b[0;34m[\u001b[0m\u001b[0;36m1\u001b[0m\u001b[0;34m]\u001b[0m\u001b[0;34m)\u001b[0m\u001b[0;34m\u001b[0m\u001b[0;34m\u001b[0m\u001b[0m\n",
      "\u001b[0;32m<ipython-input-29-c1d86b7edb90>\u001b[0m in \u001b[0;36mvalidate\u001b[0;34m(vae, batcher, num_samples, compute_DR)\u001b[0m\n\u001b[1;32m     19\u001b[0m             \u001b[0mx_obs\u001b[0m \u001b[0;34m=\u001b[0m \u001b[0mx_obs\u001b[0m\u001b[0;34m.\u001b[0m\u001b[0mreshape\u001b[0m\u001b[0;34m(\u001b[0m\u001b[0;34m-\u001b[0m\u001b[0;36m1\u001b[0m\u001b[0;34m,\u001b[0m \u001b[0mvae\u001b[0m\u001b[0;34m.\u001b[0m\u001b[0mp\u001b[0m\u001b[0;34m.\u001b[0m\u001b[0mdata_dim\u001b[0m\u001b[0;34m)\u001b[0m\u001b[0;34m\u001b[0m\u001b[0;34m\u001b[0m\u001b[0m\n\u001b[1;32m     20\u001b[0m             \u001b[0;31m# [B]\u001b[0m\u001b[0;34m\u001b[0m\u001b[0;34m\u001b[0m\u001b[0;34m\u001b[0m\u001b[0m\n\u001b[0;32m---> 21\u001b[0;31m             \u001b[0mll\u001b[0m \u001b[0;34m=\u001b[0m \u001b[0mll\u001b[0m \u001b[0;34m+\u001b[0m \u001b[0mvae\u001b[0m\u001b[0;34m.\u001b[0m\u001b[0mestimate_ll\u001b[0m\u001b[0;34m(\u001b[0m\u001b[0mx_obs\u001b[0m\u001b[0;34m,\u001b[0m \u001b[0mnum_samples\u001b[0m\u001b[0;34m)\u001b[0m\u001b[0;34m.\u001b[0m\u001b[0msum\u001b[0m\u001b[0;34m(\u001b[0m\u001b[0;36m0\u001b[0m\u001b[0;34m)\u001b[0m\u001b[0;34m\u001b[0m\u001b[0;34m\u001b[0m\u001b[0m\n\u001b[0m\u001b[1;32m     22\u001b[0m             \u001b[0mnb_bits\u001b[0m \u001b[0;34m+=\u001b[0m \u001b[0mnp\u001b[0m\u001b[0;34m.\u001b[0m\u001b[0mprod\u001b[0m\u001b[0;34m(\u001b[0m\u001b[0mx_obs\u001b[0m\u001b[0;34m.\u001b[0m\u001b[0mshape\u001b[0m\u001b[0;34m)\u001b[0m\u001b[0;34m\u001b[0m\u001b[0;34m\u001b[0m\u001b[0m\n\u001b[1;32m     23\u001b[0m             \u001b[0mnb_obs\u001b[0m \u001b[0;34m+=\u001b[0m \u001b[0mx_obs\u001b[0m\u001b[0;34m.\u001b[0m\u001b[0mshape\u001b[0m\u001b[0;34m[\u001b[0m\u001b[0;36m0\u001b[0m\u001b[0;34m]\u001b[0m\u001b[0;34m\u001b[0m\u001b[0;34m\u001b[0m\u001b[0m\n",
      "\u001b[0;32m~/github/probabll/mixed-rv-vae/components.py\u001b[0m in \u001b[0;36mestimate_ll\u001b[0;34m(self, x_obs, num_samples)\u001b[0m\n\u001b[1;32m    553\u001b[0m             \u001b[0;31m# Here I compute: log q(f|x) + log q(y|x,f) + log q(z|x,y)\u001b[0m\u001b[0;34m\u001b[0m\u001b[0;34m\u001b[0m\u001b[0;34m\u001b[0m\u001b[0m\n\u001b[1;32m    554\u001b[0m             \u001b[0;31m# [N, B]\u001b[0m\u001b[0;34m\u001b[0m\u001b[0;34m\u001b[0m\u001b[0;34m\u001b[0m\u001b[0m\n\u001b[0;32m--> 555\u001b[0;31m             \u001b[0mlog_q\u001b[0m \u001b[0;34m=\u001b[0m \u001b[0mself\u001b[0m\u001b[0;34m.\u001b[0m\u001b[0mq\u001b[0m\u001b[0;34m.\u001b[0m\u001b[0mlog_prob\u001b[0m\u001b[0;34m(\u001b[0m\u001b[0mx\u001b[0m\u001b[0;34m=\u001b[0m\u001b[0mx_obs\u001b[0m\u001b[0;34m,\u001b[0m \u001b[0mf\u001b[0m\u001b[0;34m=\u001b[0m\u001b[0mf\u001b[0m\u001b[0;34m,\u001b[0m \u001b[0my\u001b[0m\u001b[0;34m=\u001b[0m\u001b[0my\u001b[0m\u001b[0;34m,\u001b[0m \u001b[0mz\u001b[0m\u001b[0;34m=\u001b[0m\u001b[0mz\u001b[0m\u001b[0;34m)\u001b[0m\u001b[0;34m\u001b[0m\u001b[0;34m\u001b[0m\u001b[0m\n\u001b[0m\u001b[1;32m    556\u001b[0m             \u001b[0;31m# [B]\u001b[0m\u001b[0;34m\u001b[0m\u001b[0;34m\u001b[0m\u001b[0;34m\u001b[0m\u001b[0m\n\u001b[1;32m    557\u001b[0m             \u001b[0mll\u001b[0m \u001b[0;34m=\u001b[0m \u001b[0mtorch\u001b[0m\u001b[0;34m.\u001b[0m\u001b[0mlogsumexp\u001b[0m\u001b[0;34m(\u001b[0m\u001b[0mlog_p\u001b[0m \u001b[0;34m-\u001b[0m \u001b[0mlog_q\u001b[0m\u001b[0;34m,\u001b[0m \u001b[0;36m0\u001b[0m\u001b[0;34m)\u001b[0m \u001b[0;34m-\u001b[0m \u001b[0mnp\u001b[0m\u001b[0;34m.\u001b[0m\u001b[0mlog\u001b[0m\u001b[0;34m(\u001b[0m\u001b[0mnum_samples\u001b[0m\u001b[0;34m)\u001b[0m\u001b[0;34m\u001b[0m\u001b[0;34m\u001b[0m\u001b[0m\n",
      "\u001b[0;32m~/github/probabll/mixed-rv-vae/components.py\u001b[0m in \u001b[0;36mlog_prob\u001b[0;34m(self, x, f, y, z, reduce)\u001b[0m\n\u001b[1;32m    299\u001b[0m         \u001b[0;34m\"\"\"log q(f|x), log q(y|f, x), log q(z|y, x)\"\"\"\u001b[0m\u001b[0;34m\u001b[0m\u001b[0;34m\u001b[0m\u001b[0m\n\u001b[1;32m    300\u001b[0m         \u001b[0;32mif\u001b[0m \u001b[0mreduce\u001b[0m\u001b[0;34m:\u001b[0m\u001b[0;34m\u001b[0m\u001b[0;34m\u001b[0m\u001b[0m\n\u001b[0;32m--> 301\u001b[0;31m             \u001b[0;32mreturn\u001b[0m \u001b[0mself\u001b[0m\u001b[0;34m.\u001b[0m\u001b[0mF\u001b[0m\u001b[0;34m(\u001b[0m\u001b[0mx\u001b[0m\u001b[0;34m)\u001b[0m\u001b[0;34m.\u001b[0m\u001b[0mlog_prob\u001b[0m\u001b[0;34m(\u001b[0m\u001b[0mf\u001b[0m\u001b[0;34m)\u001b[0m \u001b[0;34m+\u001b[0m \u001b[0mself\u001b[0m\u001b[0;34m.\u001b[0m\u001b[0mY\u001b[0m\u001b[0;34m(\u001b[0m\u001b[0mx\u001b[0m\u001b[0;34m=\u001b[0m\u001b[0mx\u001b[0m\u001b[0;34m,\u001b[0m \u001b[0mf\u001b[0m\u001b[0;34m=\u001b[0m\u001b[0mf\u001b[0m\u001b[0;34m)\u001b[0m\u001b[0;34m.\u001b[0m\u001b[0mlog_prob\u001b[0m\u001b[0;34m(\u001b[0m\u001b[0my\u001b[0m\u001b[0;34m)\u001b[0m \u001b[0;34m+\u001b[0m \u001b[0mself\u001b[0m\u001b[0;34m.\u001b[0m\u001b[0mZ\u001b[0m\u001b[0;34m(\u001b[0m\u001b[0mx\u001b[0m\u001b[0;34m=\u001b[0m\u001b[0mx\u001b[0m\u001b[0;34m,\u001b[0m \u001b[0my\u001b[0m\u001b[0;34m=\u001b[0m\u001b[0my\u001b[0m\u001b[0;34m)\u001b[0m\u001b[0;34m.\u001b[0m\u001b[0mlog_prob\u001b[0m\u001b[0;34m(\u001b[0m\u001b[0mz\u001b[0m\u001b[0;34m)\u001b[0m\u001b[0;34m\u001b[0m\u001b[0;34m\u001b[0m\u001b[0m\n\u001b[0m\u001b[1;32m    302\u001b[0m         \u001b[0;32melse\u001b[0m\u001b[0;34m:\u001b[0m\u001b[0;34m\u001b[0m\u001b[0;34m\u001b[0m\u001b[0m\n\u001b[1;32m    303\u001b[0m             \u001b[0;32mreturn\u001b[0m \u001b[0mself\u001b[0m\u001b[0;34m.\u001b[0m\u001b[0mF\u001b[0m\u001b[0;34m(\u001b[0m\u001b[0mx\u001b[0m\u001b[0;34m)\u001b[0m\u001b[0;34m.\u001b[0m\u001b[0mlog_prob\u001b[0m\u001b[0;34m(\u001b[0m\u001b[0mf\u001b[0m\u001b[0;34m)\u001b[0m\u001b[0;34m,\u001b[0m \u001b[0mself\u001b[0m\u001b[0;34m.\u001b[0m\u001b[0mY\u001b[0m\u001b[0;34m(\u001b[0m\u001b[0mx\u001b[0m\u001b[0;34m=\u001b[0m\u001b[0mx\u001b[0m\u001b[0;34m,\u001b[0m \u001b[0mf\u001b[0m\u001b[0;34m=\u001b[0m\u001b[0mf\u001b[0m\u001b[0;34m)\u001b[0m\u001b[0;34m.\u001b[0m\u001b[0mlog_prob\u001b[0m\u001b[0;34m(\u001b[0m\u001b[0my\u001b[0m\u001b[0;34m)\u001b[0m\u001b[0;34m,\u001b[0m \u001b[0mself\u001b[0m\u001b[0;34m.\u001b[0m\u001b[0mZ\u001b[0m\u001b[0;34m(\u001b[0m\u001b[0mx\u001b[0m\u001b[0;34m=\u001b[0m\u001b[0mx\u001b[0m\u001b[0;34m,\u001b[0m \u001b[0my\u001b[0m\u001b[0;34m=\u001b[0m\u001b[0my\u001b[0m\u001b[0;34m)\u001b[0m\u001b[0;34m.\u001b[0m\u001b[0mlog_prob\u001b[0m\u001b[0;34m(\u001b[0m\u001b[0mz\u001b[0m\u001b[0;34m)\u001b[0m\u001b[0;34m\u001b[0m\u001b[0;34m\u001b[0m\u001b[0m\n",
      "\u001b[0;32m~/github/probabll/mixed-rv-vae/components.py\u001b[0m in \u001b[0;36mF\u001b[0;34m(self, x, predictors)\u001b[0m\n\u001b[1;32m    267\u001b[0m         \u001b[0;31m# e.g., by clipping?\u001b[0m\u001b[0;34m\u001b[0m\u001b[0;34m\u001b[0m\u001b[0;34m\u001b[0m\u001b[0m\n\u001b[1;32m    268\u001b[0m         \u001b[0;31m# 2.5 + tanh(NN(f,x)) * 2.5 + eps\u001b[0m\u001b[0;34m\u001b[0m\u001b[0;34m\u001b[0m\u001b[0;34m\u001b[0m\u001b[0m\n\u001b[0;32m--> 269\u001b[0;31m         \u001b[0;32mreturn\u001b[0m \u001b[0mpd\u001b[0m\u001b[0;34m.\u001b[0m\u001b[0mNonEmptyBitVector\u001b[0m\u001b[0;34m(\u001b[0m\u001b[0mscores\u001b[0m\u001b[0;34m)\u001b[0m\u001b[0;34m\u001b[0m\u001b[0;34m\u001b[0m\u001b[0m\n\u001b[0m\u001b[1;32m    270\u001b[0m \u001b[0;34m\u001b[0m\u001b[0m\n\u001b[1;32m    271\u001b[0m \u001b[0;34m\u001b[0m\u001b[0m\n",
      "\u001b[0;32m~/github/probabll/mixed-rv-vae/deps/dists.pt/probabll/distributions/bitvector.py\u001b[0m in \u001b[0;36m__init__\u001b[0;34m(self, scores, validate_args)\u001b[0m\n\u001b[1;32m    129\u001b[0m         \u001b[0msuper\u001b[0m\u001b[0;34m(\u001b[0m\u001b[0;34m)\u001b[0m\u001b[0;34m.\u001b[0m\u001b[0m__init__\u001b[0m\u001b[0;34m(\u001b[0m\u001b[0mbatch_shape\u001b[0m\u001b[0;34m,\u001b[0m \u001b[0mevent_shape\u001b[0m\u001b[0;34m,\u001b[0m \u001b[0mvalidate_args\u001b[0m\u001b[0;34m)\u001b[0m\u001b[0;34m\u001b[0m\u001b[0;34m\u001b[0m\u001b[0m\n\u001b[1;32m    130\u001b[0m         \u001b[0mself\u001b[0m\u001b[0;34m.\u001b[0m\u001b[0m_K\u001b[0m \u001b[0;34m=\u001b[0m \u001b[0mK\u001b[0m\u001b[0;34m\u001b[0m\u001b[0;34m\u001b[0m\u001b[0m\n\u001b[0;32m--> 131\u001b[0;31m         \u001b[0mself\u001b[0m\u001b[0;34m.\u001b[0m\u001b[0m_fsa\u001b[0m\u001b[0;34m,\u001b[0m \u001b[0mself\u001b[0m\u001b[0;34m.\u001b[0m\u001b[0m_arc_weight\u001b[0m\u001b[0;34m,\u001b[0m \u001b[0mself\u001b[0m\u001b[0;34m.\u001b[0m\u001b[0m_state_value\u001b[0m\u001b[0;34m,\u001b[0m \u001b[0mself\u001b[0m\u001b[0;34m.\u001b[0m\u001b[0m_state_rvalue\u001b[0m \u001b[0;34m=\u001b[0m \u001b[0mself\u001b[0m\u001b[0;34m.\u001b[0m\u001b[0m_arc_weight_and_state_value\u001b[0m\u001b[0;34m(\u001b[0m\u001b[0mscores\u001b[0m\u001b[0;34m)\u001b[0m\u001b[0;34m\u001b[0m\u001b[0;34m\u001b[0m\u001b[0m\n\u001b[0m\u001b[1;32m    132\u001b[0m \u001b[0;34m\u001b[0m\u001b[0m\n\u001b[1;32m    133\u001b[0m     \u001b[0;32mdef\u001b[0m \u001b[0mexpand\u001b[0m\u001b[0;34m(\u001b[0m\u001b[0mself\u001b[0m\u001b[0;34m,\u001b[0m \u001b[0mbatch_shape\u001b[0m\u001b[0;34m,\u001b[0m \u001b[0m_instance\u001b[0m\u001b[0;34m=\u001b[0m\u001b[0;32mNone\u001b[0m\u001b[0;34m)\u001b[0m\u001b[0;34m:\u001b[0m\u001b[0;34m\u001b[0m\u001b[0;34m\u001b[0m\u001b[0m\n",
      "\u001b[0;32m~/github/probabll/mixed-rv-vae/deps/dists.pt/probabll/distributions/bitvector.py\u001b[0m in \u001b[0;36m_arc_weight_and_state_value\u001b[0;34m(cls, scores)\u001b[0m\n\u001b[1;32m    114\u001b[0m             \u001b[0mV\u001b[0m\u001b[0;34m[\u001b[0m\u001b[0;34m...\u001b[0m\u001b[0;34m,\u001b[0m\u001b[0mk\u001b[0m\u001b[0;34m,\u001b[0m\u001b[0;34m:\u001b[0m\u001b[0;34m]\u001b[0m \u001b[0;34m=\u001b[0m \u001b[0mtorch\u001b[0m\u001b[0;34m.\u001b[0m\u001b[0mlogsumexp\u001b[0m\u001b[0;34m(\u001b[0m\u001b[0mtorch\u001b[0m\u001b[0;34m.\u001b[0m\u001b[0mwhere\u001b[0m\u001b[0;34m(\u001b[0m\u001b[0mm_k\u001b[0m\u001b[0;34m,\u001b[0m \u001b[0mw_k\u001b[0m \u001b[0;34m+\u001b[0m \u001b[0mV\u001b[0m\u001b[0;34m[\u001b[0m\u001b[0;34m...\u001b[0m\u001b[0;34m,\u001b[0m\u001b[0mk\u001b[0m\u001b[0;34m+\u001b[0m\u001b[0;36m1\u001b[0m\u001b[0;34m,\u001b[0m\u001b[0;32mNone\u001b[0m\u001b[0;34m,\u001b[0m\u001b[0;34m:\u001b[0m\u001b[0;34m]\u001b[0m\u001b[0;34m,\u001b[0m \u001b[0mm_k\u001b[0m\u001b[0;34m.\u001b[0m\u001b[0mfloat\u001b[0m\u001b[0;34m(\u001b[0m\u001b[0;34m)\u001b[0m \u001b[0;34m-\u001b[0m \u001b[0mnp\u001b[0m\u001b[0;34m.\u001b[0m\u001b[0minf\u001b[0m\u001b[0;34m)\u001b[0m\u001b[0;34m,\u001b[0m \u001b[0mdim\u001b[0m\u001b[0;34m=\u001b[0m\u001b[0;34m-\u001b[0m\u001b[0;36m1\u001b[0m\u001b[0;34m)\u001b[0m\u001b[0;34m\u001b[0m\u001b[0;34m\u001b[0m\u001b[0m\n\u001b[1;32m    115\u001b[0m             \u001b[0;31m# [...,3,3]\u001b[0m\u001b[0;34m\u001b[0m\u001b[0;34m\u001b[0m\u001b[0;34m\u001b[0m\u001b[0m\n\u001b[0;32m--> 116\u001b[0;31m             \u001b[0mm_rk\u001b[0m \u001b[0;34m=\u001b[0m \u001b[0mM\u001b[0m\u001b[0;34m[\u001b[0m\u001b[0;34m...\u001b[0m\u001b[0;34m,\u001b[0m\u001b[0mK\u001b[0m\u001b[0;34m-\u001b[0m\u001b[0mk\u001b[0m\u001b[0;34m,\u001b[0m\u001b[0;34m:\u001b[0m\u001b[0;34m,\u001b[0m\u001b[0;34m:\u001b[0m\u001b[0;34m]\u001b[0m\u001b[0;34m\u001b[0m\u001b[0;34m\u001b[0m\u001b[0m\n\u001b[0m\u001b[1;32m    117\u001b[0m             \u001b[0mw_rk\u001b[0m \u001b[0;34m=\u001b[0m \u001b[0mW\u001b[0m\u001b[0;34m[\u001b[0m\u001b[0;34m...\u001b[0m\u001b[0;34m,\u001b[0m\u001b[0mK\u001b[0m\u001b[0;34m-\u001b[0m\u001b[0mk\u001b[0m\u001b[0;34m,\u001b[0m\u001b[0;34m:\u001b[0m\u001b[0;34m,\u001b[0m\u001b[0;34m:\u001b[0m\u001b[0;34m]\u001b[0m\u001b[0;34m\u001b[0m\u001b[0;34m\u001b[0m\u001b[0m\n\u001b[1;32m    118\u001b[0m             \u001b[0mR\u001b[0m\u001b[0;34m[\u001b[0m\u001b[0;34m...\u001b[0m\u001b[0;34m,\u001b[0m\u001b[0mK\u001b[0m\u001b[0;34m-\u001b[0m\u001b[0mk\u001b[0m\u001b[0;34m+\u001b[0m\u001b[0;36m1\u001b[0m\u001b[0;34m,\u001b[0m\u001b[0;34m:\u001b[0m\u001b[0;34m]\u001b[0m \u001b[0;34m=\u001b[0m \u001b[0mtorch\u001b[0m\u001b[0;34m.\u001b[0m\u001b[0mlogsumexp\u001b[0m\u001b[0;34m(\u001b[0m\u001b[0mtorch\u001b[0m\u001b[0;34m.\u001b[0m\u001b[0mwhere\u001b[0m\u001b[0;34m(\u001b[0m\u001b[0mm_rk\u001b[0m\u001b[0;34m,\u001b[0m \u001b[0mw_rk\u001b[0m \u001b[0;34m+\u001b[0m \u001b[0mR\u001b[0m\u001b[0;34m[\u001b[0m\u001b[0;34m...\u001b[0m\u001b[0;34m,\u001b[0m\u001b[0mK\u001b[0m\u001b[0;34m-\u001b[0m\u001b[0mk\u001b[0m\u001b[0;34m,\u001b[0m\u001b[0;34m:\u001b[0m\u001b[0;34m,\u001b[0m\u001b[0;32mNone\u001b[0m\u001b[0;34m]\u001b[0m\u001b[0;34m,\u001b[0m \u001b[0mm_rk\u001b[0m\u001b[0;34m.\u001b[0m\u001b[0mfloat\u001b[0m\u001b[0;34m(\u001b[0m\u001b[0;34m)\u001b[0m \u001b[0;34m-\u001b[0m \u001b[0mnp\u001b[0m\u001b[0;34m.\u001b[0m\u001b[0minf\u001b[0m\u001b[0;34m)\u001b[0m\u001b[0;34m,\u001b[0m \u001b[0mdim\u001b[0m\u001b[0;34m=\u001b[0m\u001b[0;34m-\u001b[0m\u001b[0;36m2\u001b[0m\u001b[0;34m)\u001b[0m\u001b[0;34m\u001b[0m\u001b[0;34m\u001b[0m\u001b[0m\n",
      "\u001b[0;31mKeyboardInterrupt\u001b[0m: "
     ]
    }
   ],
   "source": [
    "for epoch in range(args.epochs):\n",
    "\n",
    "    iterator = tqdm(get_batcher(train_loader, args))\n",
    "\n",
    "    for x_obs, y_obs in iterator:        \n",
    "        # [B, H*W]\n",
    "        x_obs = x_obs.reshape(-1, args.height * args.width)\n",
    "        # [B, 10]\n",
    "        context = None   \n",
    "        \n",
    "        vae.train()      \n",
    "        loss, ret = vae.loss(x_obs)\n",
    "\n",
    "        for k, v in ret.items():\n",
    "            stats_tr[k].append(v)\n",
    "                \n",
    "        p_opt.zero_grad()\n",
    "        q_opt.zero_grad()        \n",
    "        loss.backward()\n",
    "        \n",
    "        torch.nn.utils.clip_grad_norm_(\n",
    "            chain(vae.gen_parameters(), vae.inf_parameters()), \n",
    "            args.grad_clip\n",
    "        )        \n",
    "        p_opt.step()\n",
    "        q_opt.step()\n",
    "    \n",
    "        iterator.set_description(f'Epoch {epoch+1:3d}')\n",
    "        iterator.set_postfix(ret)\n",
    "    \n",
    "    val_metrics = validate(vae, get_batcher(valid_loader, args), args.num_samples)\n",
    "    stats_val['val_nll'].append(val_metrics[0])\n",
    "    stats_val['val_bpd'].append(val_metrics[1])\n",
    "    print(f'Validation {epoch+1:3d}: nll={val_metrics[0]:.2f} bpd={val_metrics[1]:.2f}')"
   ]
  },
  {
   "cell_type": "markdown",
   "metadata": {
    "id": "dz90e7lyzOwe"
   },
   "source": [
    "### Training Curves"
   ]
  },
  {
   "cell_type": "code",
   "execution_count": 34,
   "metadata": {
    "id": "1BiQHIBHwJrr"
   },
   "outputs": [],
   "source": [
    "np_stats_tr = {k: np.array(v) for k, v in stats_tr.items()}\n",
    "np_stats_val = {k: np.array(v) for k, v in stats_val.items()}"
   ]
  },
  {
   "cell_type": "code",
   "execution_count": 35,
   "metadata": {},
   "outputs": [],
   "source": [
    "def smooth(v, kernel_size=100):\n",
    "    if kernel_size is None:\n",
    "        return v\n",
    "    return np.convolve(v, np.ones(kernel_size)/kernel_size, 'valid')"
   ]
  },
  {
   "cell_type": "code",
   "execution_count": 36,
   "metadata": {
    "colab": {
     "base_uri": "https://localhost:8080/",
     "height": 1000
    },
    "id": "-y3TFeJgwrbv",
    "outputId": "f6c5d3d2-0ea0-4e1b-f309-938be21c2d44"
   },
   "outputs": [
    {
     "data": {
      "image/png": "[encoded data removed]",
      "text/plain": [
       "<Figure size 432x288 with 1 Axes>"
      ]
     },
     "metadata": {
      "needs_background": "light"
     },
     "output_type": "display_data"
    },
    {
     "data": {
      "image/png": "[encoded data removed]",
      "text/plain": [
       "<Figure size 432x288 with 1 Axes>"
      ]
     },
     "metadata": {
      "needs_background": "light"
     },
     "output_type": "display_data"
    },
    {
     "data": {
      "image/png": "[encoded data removed]",
      "text/plain": [
       "<Figure size 432x288 with 1 Axes>"
      ]
     },
     "metadata": {
      "needs_background": "light"
     },
     "output_type": "display_data"
    },
    {
     "data": {
      "image/png": "[encoded data removed]",
      "text/plain": [
       "<Figure size 432x288 with 1 Axes>"
      ]
     },
     "metadata": {
      "needs_background": "light"
     },
     "output_type": "display_data"
    },
    {
     "data": {
      "image/png": "[encoded data removed]",
      "text/plain": [
       "<Figure size 432x288 with 1 Axes>"
      ]
     },
     "metadata": {
      "needs_background": "light"
     },
     "output_type": "display_data"
    },
    {
     "data": {
      "image/png": "[encoded data removed]",
      "text/plain": [
       "<Figure size 432x288 with 1 Axes>"
      ]
     },
     "metadata": {
      "needs_background": "light"
     },
     "output_type": "display_data"
    },
    {
     "data": {
      "image/png": "[encoded data removed]",
      "text/plain": [
       "<Figure size 432x288 with 1 Axes>"
      ]
     },
     "metadata": {
      "needs_background": "light"
     },
     "output_type": "display_data"
    }
   ],
   "source": [
    "for k, v in np_stats_tr.items():\n",
    "    v = smooth(v)\n",
    "    plt.plot(np.arange(1, v.size + 1), v, '.')    \n",
    "    plt.ylabel(f'Training {k}')\n",
    "    plt.xlabel('iteration')\n",
    "    plt.show()"
   ]
  },
  {
   "cell_type": "markdown",
   "metadata": {
    "id": "FY26XI0FzUm8"
   },
   "source": [
    "### Validation Curves"
   ]
  },
  {
   "cell_type": "code",
   "execution_count": 37,
   "metadata": {},
   "outputs": [
    {
     "name": "stdout",
     "output_type": "stream",
     "text": [
      "metric        mean        min\n",
      "--------  --------  ---------\n",
      "val_nll   114.693   101.29\n",
      "val_bpd     3.9397    3.47931\n"
     ]
    }
   ],
   "source": [
    "from tabulate import tabulate\n",
    "\n",
    "print(tabulate(\n",
    "    [(k, np.mean(v[-100:]), np.min(v[-100:])) for k, v in np_stats_val.items()],\n",
    "    headers=['metric', 'mean', 'min']\n",
    "))"
   ]
  },
  {
   "cell_type": "code",
   "execution_count": 38,
   "metadata": {
    "colab": {
     "base_uri": "https://localhost:8080/",
     "height": 541
    },
    "id": "XoLBOF45yivl",
    "outputId": "d1fa5183-3cec-428c-d8d2-cb2bf72cd44f"
   },
   "outputs": [
    {
     "data": {
      "image/png": "[encoded data removed]",
      "text/plain": [
       "<Figure size 432x288 with 1 Axes>"
      ]
     },
     "metadata": {
      "needs_background": "light"
     },
     "output_type": "display_data"
    },
    {
     "data": {
      "image/png": "[encoded data removed]",
      "text/plain": [
       "<Figure size 432x288 with 1 Axes>"
      ]
     },
     "metadata": {
      "needs_background": "light"
     },
     "output_type": "display_data"
    }
   ],
   "source": [
    "for k, v in np_stats_val.items():    \n",
    "    plt.plot(np.arange(1, v.size + 1), v, 'o')\n",
    "    plt.ylabel(f'Validation {k}')\n",
    "    plt.xlabel('epoch')\n",
    "    plt.show()"
   ]
  },
  {
   "cell_type": "code",
   "execution_count": 39,
   "metadata": {},
   "outputs": [],
   "source": [
    "val_nll, val_bpd, val_DR = validate(\n",
    "    vae, get_batcher(valid_loader, args), args.num_samples, compute_DR=True)"
   ]
  },
  {
   "cell_type": "code",
   "execution_count": 40,
   "metadata": {},
   "outputs": [
    {
     "name": "stdout",
     "output_type": "stream",
     "text": [
      "metric             mean           std\n",
      "--------  -------------  ------------\n",
      "IS-NLL    101.058\n",
      "IS-BPD      3.47132\n",
      "D          81.9989       24.3847\n",
      "R          23.6484        3.21761\n",
      "R_F         0.016192      0.0196502\n",
      "R_Y         0.000375413   0.000515726\n",
      "R_Z        23.6318        3.22248\n"
     ]
    }
   ],
   "source": [
    "rows = [('IS-NLL', val_nll, None), ('IS-BPD', val_bpd, None)]\n",
    "for k, v in val_DR.items():\n",
    "    rows.append((k, v.mean(), v.std()))\n",
    "print(tabulate(rows, headers=['metric', 'mean', 'std']))    "
   ]
  },
  {
   "cell_type": "code",
   "execution_count": 41,
   "metadata": {},
   "outputs": [
    {
     "data": {
      "image/png": "[encoded data removed]",
      "text/plain": [
       "<Figure size 432x288 with 1 Axes>"
      ]
     },
     "metadata": {
      "needs_background": "light"
     },
     "output_type": "display_data"
    },
    {
     "data": {
      "image/png": "[encoded data removed]",
      "text/plain": [
       "<Figure size 432x288 with 1 Axes>"
      ]
     },
     "metadata": {
      "needs_background": "light"
     },
     "output_type": "display_data"
    },
    {
     "data": {
      "image/png": "[encoded data removed]",
      "text/plain": [
       "<Figure size 432x288 with 1 Axes>"
      ]
     },
     "metadata": {
      "needs_background": "light"
     },
     "output_type": "display_data"
    },
    {
     "data": {
      "image/png": "[encoded data removed]",
      "text/plain": [
       "<Figure size 432x288 with 1 Axes>"
      ]
     },
     "metadata": {
      "needs_background": "light"
     },
     "output_type": "display_data"
    },
    {
     "data": {
      "image/png": "[encoded data removed]",
      "text/plain": [
       "<Figure size 432x288 with 1 Axes>"
      ]
     },
     "metadata": {
      "needs_background": "light"
     },
     "output_type": "display_data"
    }
   ],
   "source": [
    "_ = plt.hist(val_DR['D'])\n",
    "_ = plt.xlabel('D')\n",
    "plt.show()\n",
    "\n",
    "_ = plt.hist(val_DR['R'])\n",
    "_ = plt.xlabel('R')\n",
    "plt.show()\n",
    "\n",
    "if vae.p.z_dim:\n",
    "    _ = plt.hist(val_DR['R_Z'])\n",
    "    _ = plt.xlabel('R(Z)')\n",
    "    plt.show()\n",
    "    \n",
    "if vae.p.y_dim:\n",
    "    _ = plt.hist(val_DR['R_F'])\n",
    "    _ = plt.xlabel('R(F)')\n",
    "    plt.show()\n",
    "\n",
    "    _ = plt.hist(val_DR['R_Y'])\n",
    "    _ = plt.xlabel('R(Y|F)')\n",
    "    plt.show()"
   ]
  },
  {
   "cell_type": "markdown",
   "metadata": {
    "id": "ndBexD8IzXDi"
   },
   "source": [
    "### Analysis"
   ]
  },
  {
   "cell_type": "code",
   "execution_count": 42,
   "metadata": {
    "colab": {
     "base_uri": "https://localhost:8080/",
     "height": 1000
    },
    "id": "DasiABbHu5mc",
    "outputId": "4259154c-0094-4078-ff1c-896c02b9680e"
   },
   "outputs": [
    {
     "name": "stdout",
     "output_type": "stream",
     "text": [
      "For a trained VAE: \n",
      " 1. We want to see that KL(Z|x || Z), KL(F|x || F), and KL(Y|f,x || Y|f) are generally > 0 for any x ~ D.\n"
     ]
    },
    {
     "data": {
      "image/png": "[encoded data removed]",
      "text/plain": [
       "<Figure size 432x288 with 1 Axes>"
      ]
     },
     "metadata": {
      "needs_background": "light"
     },
     "output_type": "display_data"
    },
    {
     "data": {
      "image/png": "[encoded data removed]",
      "text/plain": [
       "<Figure size 432x288 with 1 Axes>"
      ]
     },
     "metadata": {
      "needs_background": "light"
     },
     "output_type": "display_data"
    },
    {
     "data": {
      "image/png": "[encoded data removed]",
      "text/plain": [
       "<Figure size 432x288 with 1 Axes>"
      ]
     },
     "metadata": {
      "needs_background": "light"
     },
     "output_type": "display_data"
    },
    {
     "name": "stdout",
     "output_type": "stream",
     "text": [
      " 2. But, marginally, we expect E_X[Z|X] ~ Z E_X[F|X] ~ F and E_FX[Y|F,X] ~ E_F[Y|F].\n"
     ]
    },
    {
     "data": {
      "image/png": "[encoded data removed]",
      "text/plain": [
       "<Figure size 432x288 with 1 Axes>"
      ]
     },
     "metadata": {
      "needs_background": "light"
     },
     "output_type": "display_data"
    },
    {
     "data": {
      "image/png": "[encoded data removed]",
      "text/plain": [
       "<Figure size 432x288 with 2 Axes>"
      ]
     },
     "metadata": {
      "needs_background": "light"
     },
     "output_type": "display_data"
    },
    {
     "data": {
      "image/png": "[encoded data removed]",
      "text/plain": [
       "<Figure size 432x288 with 2 Axes>"
      ]
     },
     "metadata": {
      "needs_background": "light"
     },
     "output_type": "display_data"
    },
    {
     "data": {
      "image/png": "[encoded data removed]",
      "text/plain": [
       "<Figure size 432x288 with 1 Axes>"
      ]
     },
     "metadata": {
      "needs_background": "light"
     },
     "output_type": "display_data"
    }
   ],
   "source": [
    "compare_p_q(vae, get_batcher(valid_loader, args), args)"
   ]
  },
  {
   "cell_type": "code",
   "execution_count": 43,
   "metadata": {
    "colab": {
     "base_uri": "https://localhost:8080/",
     "height": 1000
    },
    "id": "kcNTB64xhrYx",
    "outputId": "94a41323-768c-4bac-cddd-1e728ab474c4"
   },
   "outputs": [
    {
     "data": {
      "image/png": "[encoded data removed]",
      "text/plain": [
       "<Figure size 720x720 with 20 Axes>"
      ]
     },
     "metadata": {
      "needs_background": "light"
     },
     "output_type": "display_data"
    },
    {
     "data": {
      "image/png": "[encoded data removed]",
      "text/plain": [
       "<Figure size 720x720 with 20 Axes>"
      ]
     },
     "metadata": {
      "needs_background": "light"
     },
     "output_type": "display_data"
    }
   ],
   "source": [
    "visualize(vae, get_batcher(valid_loader, args), args, N=5, num_figs=2)"
   ]
  },
  {
   "cell_type": "code",
   "execution_count": null,
   "metadata": {
    "id": "dpY7GkEQhrYx"
   },
   "outputs": [],
   "source": []
  },
  {
   "cell_type": "code",
   "execution_count": null,
   "metadata": {
    "id": "OSgvWiwy86Is"
   },
   "outputs": [],
   "source": []
  },
  {
   "cell_type": "code",
   "execution_count": null,
   "metadata": {},
   "outputs": [],
   "source": []
  },
  {
   "cell_type": "code",
   "execution_count": null,
   "metadata": {},
   "outputs": [],
   "source": []
  }
 ],
 "metadata": {
  "accelerator": "GPU",
  "colab": {
   "collapsed_sections": [],
   "include_colab_link": true,
   "name": "mixed-rv-MNIST.ipynb",
   "provenance": [],
   "toc_visible": true
  },
  "kernelspec": {
   "display_name": "Python 3",
   "language": "python",
   "name": "python3"
  },
  "language_info": {
   "codemirror_mode": {
    "name": "ipython",
    "version": 3
   },
   "file_extension": ".py",
   "mimetype": "text/x-python",
   "name": "python",
   "nbconvert_exporter": "python",
   "pygments_lexer": "ipython3",
   "version": "3.7.9"
  },
  "toc-autonumbering": false,
  "widgets": {
   "application/vnd.jupyter.widget-state+json": {
    "026c452c13f74a0aa071ab5869027a7a": {
     "model_module": "@jupyter-widgets/controls",
     "model_name": "HTMLModel",
     "state": {
      "_dom_classes": [],
      "_model_module": "@jupyter-widgets/controls",
      "_model_module_version": "1.5.0",
      "_model_name": "HTMLModel",
      "_view_count": null,
      "_view_module": "@jupyter-widgets/controls",
      "_view_module_version": "1.5.0",
      "_view_name": "HTMLView",
      "description": "",
      "description_tooltip": null,
      "layout": "IPY_MODEL_2992689582d94ea0b3e2a166461861d3",
      "placeholder": "​",
      "style": "IPY_MODEL_1158c2e933694df38bce84f1c1e4b8f7",
      "value": " 9913344/? [00:15&lt;00:00, 628891.26it/s]"
     }
    },
    "05389b71a6b545cf9b61d9f63f79c894": {
     "model_module": "@jupyter-widgets/base",
     "model_name": "LayoutModel",
     "state": {
      "_model_module": "@jupyter-widgets/base",
      "_model_module_version": "1.2.0",
      "_model_name": "LayoutModel",
      "_view_count": null,
      "_view_module": "@jupyter-widgets/base",
      "_view_module_version": "1.2.0",
      "_view_name": "LayoutView",
      "align_content": null,
      "align_items": null,
      "align_self": null,
      "border": null,
      "bottom": null,
      "display": null,
      "flex": null,
      "flex_flow": null,
      "grid_area": null,
      "grid_auto_columns": null,
      "grid_auto_flow": null,
      "grid_auto_rows": null,
      "grid_column": null,
      "grid_gap": null,
      "grid_row": null,
      "grid_template_areas": null,
      "grid_template_columns": null,
      "grid_template_rows": null,
      "height": null,
      "justify_content": null,
      "justify_items": null,
      "left": null,
      "margin": null,
      "max_height": null,
      "max_width": null,
      "min_height": null,
      "min_width": null,
      "object_fit": null,
      "object_position": null,
      "order": null,
      "overflow": null,
      "overflow_x": null,
      "overflow_y": null,
      "padding": null,
      "right": null,
      "top": null,
      "visibility": null,
      "width": null
     }
    },
    "08101fefdba5474193cae33d3418a2e8": {
     "model_module": "@jupyter-widgets/controls",
     "model_name": "ProgressStyleModel",
     "state": {
      "_model_module": "@jupyter-widgets/controls",
      "_model_module_version": "1.5.0",
      "_model_name": "ProgressStyleModel",
      "_view_count": null,
      "_view_module": "@jupyter-widgets/base",
      "_view_module_version": "1.2.0",
      "_view_name": "StyleView",
      "bar_color": null,
      "description_width": "initial"
     }
    },
    "0946de80201a4d1ba749a53cefa440a6": {
     "model_module": "@jupyter-widgets/base",
     "model_name": "LayoutModel",
     "state": {
      "_model_module": "@jupyter-widgets/base",
      "_model_module_version": "1.2.0",
      "_model_name": "LayoutModel",
      "_view_count": null,
      "_view_module": "@jupyter-widgets/base",
      "_view_module_version": "1.2.0",
      "_view_name": "LayoutView",
      "align_content": null,
      "align_items": null,
      "align_self": null,
      "border": null,
      "bottom": null,
      "display": null,
      "flex": null,
      "flex_flow": null,
      "grid_area": null,
      "grid_auto_columns": null,
      "grid_auto_flow": null,
      "grid_auto_rows": null,
      "grid_column": null,
      "grid_gap": null,
      "grid_row": null,
      "grid_template_areas": null,
      "grid_template_columns": null,
      "grid_template_rows": null,
      "height": null,
      "justify_content": null,
      "justify_items": null,
      "left": null,
      "margin": null,
      "max_height": null,
      "max_width": null,
      "min_height": null,
      "min_width": null,
      "object_fit": null,
      "object_position": null,
      "order": null,
      "overflow": null,
      "overflow_x": null,
      "overflow_y": null,
      "padding": null,
      "right": null,
      "top": null,
      "visibility": null,
      "width": null
     }
    },
    "09a30ad3b16444309a2f2591382c5735": {
     "model_module": "@jupyter-widgets/base",
     "model_name": "LayoutModel",
     "state": {
      "_model_module": "@jupyter-widgets/base",
      "_model_module_version": "1.2.0",
      "_model_name": "LayoutModel",
      "_view_count": null,
      "_view_module": "@jupyter-widgets/base",
      "_view_module_version": "1.2.0",
      "_view_name": "LayoutView",
      "align_content": null,
      "align_items": null,
      "align_self": null,
      "border": null,
      "bottom": null,
      "display": null,
      "flex": null,
      "flex_flow": null,
      "grid_area": null,
      "grid_auto_columns": null,
      "grid_auto_flow": null,
      "grid_auto_rows": null,
      "grid_column": null,
      "grid_gap": null,
      "grid_row": null,
      "grid_template_areas": null,
      "grid_template_columns": null,
      "grid_template_rows": null,
      "height": null,
      "justify_content": null,
      "justify_items": null,
      "left": null,
      "margin": null,
      "max_height": null,
      "max_width": null,
      "min_height": null,
      "min_width": null,
      "object_fit": null,
      "object_position": null,
      "order": null,
      "overflow": null,
      "overflow_x": null,
      "overflow_y": null,
      "padding": null,
      "right": null,
      "top": null,
      "visibility": null,
      "width": null
     }
    },
    "0b74813a212940708ccbe6dc9c353813": {
     "model_module": "@jupyter-widgets/controls",
     "model_name": "DescriptionStyleModel",
     "state": {
      "_model_module": "@jupyter-widgets/controls",
      "_model_module_version": "1.5.0",
      "_model_name": "DescriptionStyleModel",
      "_view_count": null,
      "_view_module": "@jupyter-widgets/base",
      "_view_module_version": "1.2.0",
      "_view_name": "StyleView",
      "description_width": ""
     }
    },
    "0e0f5d2863544ecea35d0acf4f81f267": {
     "model_module": "@jupyter-widgets/controls",
     "model_name": "FloatProgressModel",
     "state": {
      "_dom_classes": [],
      "_model_module": "@jupyter-widgets/controls",
      "_model_module_version": "1.5.0",
      "_model_name": "FloatProgressModel",
      "_view_count": null,
      "_view_module": "@jupyter-widgets/controls",
      "_view_module_version": "1.5.0",
      "_view_name": "ProgressView",
      "bar_style": "success",
      "description": "",
      "description_tooltip": null,
      "layout": "IPY_MODEL_db95898f256f474d9264009bd6f5939f",
      "max": 9912422,
      "min": 0,
      "orientation": "horizontal",
      "style": "IPY_MODEL_18c5a2181a6b4979ba35dd9bc738ddf8",
      "value": 9912422
     }
    },
    "10e2682a1219417ca2371bc15a90622c": {
     "model_module": "@jupyter-widgets/controls",
     "model_name": "FloatProgressModel",
     "state": {
      "_dom_classes": [],
      "_model_module": "@jupyter-widgets/controls",
      "_model_module_version": "1.5.0",
      "_model_name": "FloatProgressModel",
      "_view_count": null,
      "_view_module": "@jupyter-widgets/controls",
      "_view_module_version": "1.5.0",
      "_view_name": "ProgressView",
      "bar_style": "success",
      "description": "Epoch   3: 100%",
      "description_tooltip": null,
      "layout": "IPY_MODEL_cb2c5222e69d44aa8330691d61edfb61",
      "max": 275,
      "min": 0,
      "orientation": "horizontal",
      "style": "IPY_MODEL_213ac6a83e7e409cac2ee43c97e7f02d",
      "value": 275
     }
    },
    "1158c2e933694df38bce84f1c1e4b8f7": {
     "model_module": "@jupyter-widgets/controls",
     "model_name": "DescriptionStyleModel",
     "state": {
      "_model_module": "@jupyter-widgets/controls",
      "_model_module_version": "1.5.0",
      "_model_name": "DescriptionStyleModel",
      "_view_count": null,
      "_view_module": "@jupyter-widgets/base",
      "_view_module_version": "1.2.0",
      "_view_name": "StyleView",
      "description_width": ""
     }
    },
    "18c5a2181a6b4979ba35dd9bc738ddf8": {
     "model_module": "@jupyter-widgets/controls",
     "model_name": "ProgressStyleModel",
     "state": {
      "_model_module": "@jupyter-widgets/controls",
      "_model_module_version": "1.5.0",
      "_model_name": "ProgressStyleModel",
      "_view_count": null,
      "_view_module": "@jupyter-widgets/base",
      "_view_module_version": "1.2.0",
      "_view_name": "StyleView",
      "bar_color": null,
      "description_width": "initial"
     }
    },
    "1e328c49a4294095af40d05efc47b7e9": {
     "model_module": "@jupyter-widgets/controls",
     "model_name": "FloatProgressModel",
     "state": {
      "_dom_classes": [],
      "_model_module": "@jupyter-widgets/controls",
      "_model_module_version": "1.5.0",
      "_model_name": "FloatProgressModel",
      "_view_count": null,
      "_view_module": "@jupyter-widgets/controls",
      "_view_module_version": "1.5.0",
      "_view_name": "ProgressView",
      "bar_style": "success",
      "description": "Epoch   2: 100%",
      "description_tooltip": null,
      "layout": "IPY_MODEL_29788d5b56994274852a7f007ceff4aa",
      "max": 275,
      "min": 0,
      "orientation": "horizontal",
      "style": "IPY_MODEL_8c7267ec1fc54d9a9a363b3b9503d530",
      "value": 275
     }
    },
    "213ac6a83e7e409cac2ee43c97e7f02d": {
     "model_module": "@jupyter-widgets/controls",
     "model_name": "ProgressStyleModel",
     "state": {
      "_model_module": "@jupyter-widgets/controls",
      "_model_module_version": "1.5.0",
      "_model_name": "ProgressStyleModel",
      "_view_count": null,
      "_view_module": "@jupyter-widgets/base",
      "_view_module_version": "1.2.0",
      "_view_name": "StyleView",
      "bar_color": null,
      "description_width": "initial"
     }
    },
    "29788d5b56994274852a7f007ceff4aa": {
     "model_module": "@jupyter-widgets/base",
     "model_name": "LayoutModel",
     "state": {
      "_model_module": "@jupyter-widgets/base",
      "_model_module_version": "1.2.0",
      "_model_name": "LayoutModel",
      "_view_count": null,
      "_view_module": "@jupyter-widgets/base",
      "_view_module_version": "1.2.0",
      "_view_name": "LayoutView",
      "align_content": null,
      "align_items": null,
      "align_self": null,
      "border": null,
      "bottom": null,
      "display": null,
      "flex": null,
      "flex_flow": null,
      "grid_area": null,
      "grid_auto_columns": null,
      "grid_auto_flow": null,
      "grid_auto_rows": null,
      "grid_column": null,
      "grid_gap": null,
      "grid_row": null,
      "grid_template_areas": null,
      "grid_template_columns": null,
      "grid_template_rows": null,
      "height": null,
      "justify_content": null,
      "justify_items": null,
      "left": null,
      "margin": null,
      "max_height": null,
      "max_width": null,
      "min_height": null,
      "min_width": null,
      "object_fit": null,
      "object_position": null,
      "order": null,
      "overflow": null,
      "overflow_x": null,
      "overflow_y": null,
      "padding": null,
      "right": null,
      "top": null,
      "visibility": null,
      "width": null
     }
    },
    "2992689582d94ea0b3e2a166461861d3": {
     "model_module": "@jupyter-widgets/base",
     "model_name": "LayoutModel",
     "state": {
      "_model_module": "@jupyter-widgets/base",
      "_model_module_version": "1.2.0",
      "_model_name": "LayoutModel",
      "_view_count": null,
      "_view_module": "@jupyter-widgets/base",
      "_view_module_version": "1.2.0",
      "_view_name": "LayoutView",
      "align_content": null,
      "align_items": null,
      "align_self": null,
      "border": null,
      "bottom": null,
      "display": null,
      "flex": null,
      "flex_flow": null,
      "grid_area": null,
      "grid_auto_columns": null,
      "grid_auto_flow": null,
      "grid_auto_rows": null,
      "grid_column": null,
      "grid_gap": null,
      "grid_row": null,
      "grid_template_areas": null,
      "grid_template_columns": null,
      "grid_template_rows": null,
      "height": null,
      "justify_content": null,
      "justify_items": null,
      "left": null,
      "margin": null,
      "max_height": null,
      "max_width": null,
      "min_height": null,
      "min_width": null,
      "object_fit": null,
      "object_position": null,
      "order": null,
      "overflow": null,
      "overflow_x": null,
      "overflow_y": null,
      "padding": null,
      "right": null,
      "top": null,
      "visibility": null,
      "width": null
     }
    },
    "2ee410127a6540ba85b6d733f50a9df8": {
     "model_module": "@jupyter-widgets/controls",
     "model_name": "HBoxModel",
     "state": {
      "_dom_classes": [],
      "_model_module": "@jupyter-widgets/controls",
      "_model_module_version": "1.5.0",
      "_model_name": "HBoxModel",
      "_view_count": null,
      "_view_module": "@jupyter-widgets/controls",
      "_view_module_version": "1.5.0",
      "_view_name": "HBoxView",
      "box_style": "",
      "children": [
       "IPY_MODEL_687400af482f43239a161d7a6f2d7a97",
       "IPY_MODEL_5c2c665e1dfc4b2785cf4015421e2ddc"
      ],
      "layout": "IPY_MODEL_a0cd4f136d48492ba89ddc256d21ec54"
     }
    },
    "303a5282789449ca8e7ed903d268f9e1": {
     "model_module": "@jupyter-widgets/controls",
     "model_name": "DescriptionStyleModel",
     "state": {
      "_model_module": "@jupyter-widgets/controls",
      "_model_module_version": "1.5.0",
      "_model_name": "DescriptionStyleModel",
      "_view_count": null,
      "_view_module": "@jupyter-widgets/base",
      "_view_module_version": "1.2.0",
      "_view_name": "StyleView",
      "description_width": ""
     }
    },
    "3101e39990db4580877323e9ee2954ea": {
     "model_module": "@jupyter-widgets/controls",
     "model_name": "DescriptionStyleModel",
     "state": {
      "_model_module": "@jupyter-widgets/controls",
      "_model_module_version": "1.5.0",
      "_model_name": "DescriptionStyleModel",
      "_view_count": null,
      "_view_module": "@jupyter-widgets/base",
      "_view_module_version": "1.2.0",
      "_view_name": "StyleView",
      "description_width": ""
     }
    },
    "32dde89004e541a78ee6d35af5d3f14b": {
     "model_module": "@jupyter-widgets/controls",
     "model_name": "HBoxModel",
     "state": {
      "_dom_classes": [],
      "_model_module": "@jupyter-widgets/controls",
      "_model_module_version": "1.5.0",
      "_model_name": "HBoxModel",
      "_view_count": null,
      "_view_module": "@jupyter-widgets/controls",
      "_view_module_version": "1.5.0",
      "_view_name": "HBoxView",
      "box_style": "",
      "children": [
       "IPY_MODEL_642b9f5fb1624f2c97344e8e7a6c5d20",
       "IPY_MODEL_a9ff1ca678d44b0b96e0aea1541c8359"
      ],
      "layout": "IPY_MODEL_05389b71a6b545cf9b61d9f63f79c894"
     }
    },
    "3440563d925941f3891b4b1f48d45319": {
     "model_module": "@jupyter-widgets/controls",
     "model_name": "FloatProgressModel",
     "state": {
      "_dom_classes": [],
      "_model_module": "@jupyter-widgets/controls",
      "_model_module_version": "1.5.0",
      "_model_name": "FloatProgressModel",
      "_view_count": null,
      "_view_module": "@jupyter-widgets/controls",
      "_view_module_version": "1.5.0",
      "_view_name": "ProgressView",
      "bar_style": "success",
      "description": "Epoch   1: 100%",
      "description_tooltip": null,
      "layout": "IPY_MODEL_fbb3221bb61348a38e978a3031d0fefe",
      "max": 275,
      "min": 0,
      "orientation": "horizontal",
      "style": "IPY_MODEL_a60c0e8b61b74630845a0c22a30b95df",
      "value": 275
     }
    },
    "3e0fdd4d4d874e4ba72106d0ccfa263f": {
     "model_module": "@jupyter-widgets/base",
     "model_name": "LayoutModel",
     "state": {
      "_model_module": "@jupyter-widgets/base",
      "_model_module_version": "1.2.0",
      "_model_name": "LayoutModel",
      "_view_count": null,
      "_view_module": "@jupyter-widgets/base",
      "_view_module_version": "1.2.0",
      "_view_name": "LayoutView",
      "align_content": null,
      "align_items": null,
      "align_self": null,
      "border": null,
      "bottom": null,
      "display": null,
      "flex": null,
      "flex_flow": null,
      "grid_area": null,
      "grid_auto_columns": null,
      "grid_auto_flow": null,
      "grid_auto_rows": null,
      "grid_column": null,
      "grid_gap": null,
      "grid_row": null,
      "grid_template_areas": null,
      "grid_template_columns": null,
      "grid_template_rows": null,
      "height": null,
      "justify_content": null,
      "justify_items": null,
      "left": null,
      "margin": null,
      "max_height": null,
      "max_width": null,
      "min_height": null,
      "min_width": null,
      "object_fit": null,
      "object_position": null,
      "order": null,
      "overflow": null,
      "overflow_x": null,
      "overflow_y": null,
      "padding": null,
      "right": null,
      "top": null,
      "visibility": null,
      "width": null
     }
    },
    "4ed6b82f4b61457e996fc31e14789257": {
     "model_module": "@jupyter-widgets/base",
     "model_name": "LayoutModel",
     "state": {
      "_model_module": "@jupyter-widgets/base",
      "_model_module_version": "1.2.0",
      "_model_name": "LayoutModel",
      "_view_count": null,
      "_view_module": "@jupyter-widgets/base",
      "_view_module_version": "1.2.0",
      "_view_name": "LayoutView",
      "align_content": null,
      "align_items": null,
      "align_self": null,
      "border": null,
      "bottom": null,
      "display": null,
      "flex": null,
      "flex_flow": null,
      "grid_area": null,
      "grid_auto_columns": null,
      "grid_auto_flow": null,
      "grid_auto_rows": null,
      "grid_column": null,
      "grid_gap": null,
      "grid_row": null,
      "grid_template_areas": null,
      "grid_template_columns": null,
      "grid_template_rows": null,
      "height": null,
      "justify_content": null,
      "justify_items": null,
      "left": null,
      "margin": null,
      "max_height": null,
      "max_width": null,
      "min_height": null,
      "min_width": null,
      "object_fit": null,
      "object_position": null,
      "order": null,
      "overflow": null,
      "overflow_x": null,
      "overflow_y": null,
      "padding": null,
      "right": null,
      "top": null,
      "visibility": null,
      "width": null
     }
    },
    "519071893e9f4ed9be9ecb55833d7d07": {
     "model_module": "@jupyter-widgets/base",
     "model_name": "LayoutModel",
     "state": {
      "_model_module": "@jupyter-widgets/base",
      "_model_module_version": "1.2.0",
      "_model_name": "LayoutModel",
      "_view_count": null,
      "_view_module": "@jupyter-widgets/base",
      "_view_module_version": "1.2.0",
      "_view_name": "LayoutView",
      "align_content": null,
      "align_items": null,
      "align_self": null,
      "border": null,
      "bottom": null,
      "display": null,
      "flex": null,
      "flex_flow": null,
      "grid_area": null,
      "grid_auto_columns": null,
      "grid_auto_flow": null,
      "grid_auto_rows": null,
      "grid_column": null,
      "grid_gap": null,
      "grid_row": null,
      "grid_template_areas": null,
      "grid_template_columns": null,
      "grid_template_rows": null,
      "height": null,
      "justify_content": null,
      "justify_items": null,
      "left": null,
      "margin": null,
      "max_height": null,
      "max_width": null,
      "min_height": null,
      "min_width": null,
      "object_fit": null,
      "object_position": null,
      "order": null,
      "overflow": null,
      "overflow_x": null,
      "overflow_y": null,
      "padding": null,
      "right": null,
      "top": null,
      "visibility": null,
      "width": null
     }
    },
    "5b7868306345485fb17658bcfd1c25e4": {
     "model_module": "@jupyter-widgets/base",
     "model_name": "LayoutModel",
     "state": {
      "_model_module": "@jupyter-widgets/base",
      "_model_module_version": "1.2.0",
      "_model_name": "LayoutModel",
      "_view_count": null,
      "_view_module": "@jupyter-widgets/base",
      "_view_module_version": "1.2.0",
      "_view_name": "LayoutView",
      "align_content": null,
      "align_items": null,
      "align_self": null,
      "border": null,
      "bottom": null,
      "display": null,
      "flex": null,
      "flex_flow": null,
      "grid_area": null,
      "grid_auto_columns": null,
      "grid_auto_flow": null,
      "grid_auto_rows": null,
      "grid_column": null,
      "grid_gap": null,
      "grid_row": null,
      "grid_template_areas": null,
      "grid_template_columns": null,
      "grid_template_rows": null,
      "height": null,
      "justify_content": null,
      "justify_items": null,
      "left": null,
      "margin": null,
      "max_height": null,
      "max_width": null,
      "min_height": null,
      "min_width": null,
      "object_fit": null,
      "object_position": null,
      "order": null,
      "overflow": null,
      "overflow_x": null,
      "overflow_y": null,
      "padding": null,
      "right": null,
      "top": null,
      "visibility": null,
      "width": null
     }
    },
    "5c2c665e1dfc4b2785cf4015421e2ddc": {
     "model_module": "@jupyter-widgets/controls",
     "model_name": "HTMLModel",
     "state": {
      "_dom_classes": [],
      "_model_module": "@jupyter-widgets/controls",
      "_model_module_version": "1.5.0",
      "_model_name": "HTMLModel",
      "_view_count": null,
      "_view_module": "@jupyter-widgets/controls",
      "_view_module_version": "1.5.0",
      "_view_name": "HTMLView",
      "description": "",
      "description_tooltip": null,
      "layout": "IPY_MODEL_519071893e9f4ed9be9ecb55833d7d07",
      "placeholder": "​",
      "style": "IPY_MODEL_0b74813a212940708ccbe6dc9c353813",
      "value": " 29696/? [00:02&lt;00:00, 11538.00it/s]"
     }
    },
    "5c954db7e71f4a669989e1ecf0d89988": {
     "model_module": "@jupyter-widgets/controls",
     "model_name": "DescriptionStyleModel",
     "state": {
      "_model_module": "@jupyter-widgets/controls",
      "_model_module_version": "1.5.0",
      "_model_name": "DescriptionStyleModel",
      "_view_count": null,
      "_view_module": "@jupyter-widgets/base",
      "_view_module_version": "1.2.0",
      "_view_name": "StyleView",
      "description_width": ""
     }
    },
    "642b9f5fb1624f2c97344e8e7a6c5d20": {
     "model_module": "@jupyter-widgets/controls",
     "model_name": "FloatProgressModel",
     "state": {
      "_dom_classes": [],
      "_model_module": "@jupyter-widgets/controls",
      "_model_module_version": "1.5.0",
      "_model_name": "FloatProgressModel",
      "_view_count": null,
      "_view_module": "@jupyter-widgets/controls",
      "_view_module_version": "1.5.0",
      "_view_name": "ProgressView",
      "bar_style": "success",
      "description": "",
      "description_tooltip": null,
      "layout": "IPY_MODEL_f839264c20cd46feb8ce184e87e85416",
      "max": 4542,
      "min": 0,
      "orientation": "horizontal",
      "style": "IPY_MODEL_9328008d582947ee9a7dddef3d6571da",
      "value": 4542
     }
    },
    "6582cc71adc04d45b7687c571614931c": {
     "model_module": "@jupyter-widgets/controls",
     "model_name": "HTMLModel",
     "state": {
      "_dom_classes": [],
      "_model_module": "@jupyter-widgets/controls",
      "_model_module_version": "1.5.0",
      "_model_name": "HTMLModel",
      "_view_count": null,
      "_view_module": "@jupyter-widgets/controls",
      "_view_module_version": "1.5.0",
      "_view_name": "HTMLView",
      "description": "",
      "description_tooltip": null,
      "layout": "IPY_MODEL_fc73554bd1054f3b95d157ddaa22a8a9",
      "placeholder": "​",
      "style": "IPY_MODEL_3101e39990db4580877323e9ee2954ea",
      "value": " 1649664/? [00:01&lt;00:00, 1065497.77it/s]"
     }
    },
    "687400af482f43239a161d7a6f2d7a97": {
     "model_module": "@jupyter-widgets/controls",
     "model_name": "FloatProgressModel",
     "state": {
      "_dom_classes": [],
      "_model_module": "@jupyter-widgets/controls",
      "_model_module_version": "1.5.0",
      "_model_name": "FloatProgressModel",
      "_view_count": null,
      "_view_module": "@jupyter-widgets/controls",
      "_view_module_version": "1.5.0",
      "_view_name": "ProgressView",
      "bar_style": "success",
      "description": "",
      "description_tooltip": null,
      "layout": "IPY_MODEL_966328cab55848c6a9605f4828637fed",
      "max": 28881,
      "min": 0,
      "orientation": "horizontal",
      "style": "IPY_MODEL_ddfea72bf1334cc98c8f46f969ec2d50",
      "value": 28881
     }
    },
    "7f79b9e35755453c8fbd5a6f20d49498": {
     "model_module": "@jupyter-widgets/controls",
     "model_name": "HBoxModel",
     "state": {
      "_dom_classes": [],
      "_model_module": "@jupyter-widgets/controls",
      "_model_module_version": "1.5.0",
      "_model_name": "HBoxModel",
      "_view_count": null,
      "_view_module": "@jupyter-widgets/controls",
      "_view_module_version": "1.5.0",
      "_view_name": "HBoxView",
      "box_style": "",
      "children": [
       "IPY_MODEL_a286bdc1c9a6485ba77b8d79726c4c3f",
       "IPY_MODEL_6582cc71adc04d45b7687c571614931c"
      ],
      "layout": "IPY_MODEL_4ed6b82f4b61457e996fc31e14789257"
     }
    },
    "8be95b95873544a79de9124a8ed267d8": {
     "model_module": "@jupyter-widgets/controls",
     "model_name": "DescriptionStyleModel",
     "state": {
      "_model_module": "@jupyter-widgets/controls",
      "_model_module_version": "1.5.0",
      "_model_name": "DescriptionStyleModel",
      "_view_count": null,
      "_view_module": "@jupyter-widgets/base",
      "_view_module_version": "1.2.0",
      "_view_name": "StyleView",
      "description_width": ""
     }
    },
    "8c7267ec1fc54d9a9a363b3b9503d530": {
     "model_module": "@jupyter-widgets/controls",
     "model_name": "ProgressStyleModel",
     "state": {
      "_model_module": "@jupyter-widgets/controls",
      "_model_module_version": "1.5.0",
      "_model_name": "ProgressStyleModel",
      "_view_count": null,
      "_view_module": "@jupyter-widgets/base",
      "_view_module_version": "1.2.0",
      "_view_name": "StyleView",
      "bar_color": null,
      "description_width": "initial"
     }
    },
    "9049691356d04d3c9f79245a12e22c2d": {
     "model_module": "@jupyter-widgets/controls",
     "model_name": "HBoxModel",
     "state": {
      "_dom_classes": [],
      "_model_module": "@jupyter-widgets/controls",
      "_model_module_version": "1.5.0",
      "_model_name": "HBoxModel",
      "_view_count": null,
      "_view_module": "@jupyter-widgets/controls",
      "_view_module_version": "1.5.0",
      "_view_name": "HBoxView",
      "box_style": "",
      "children": [
       "IPY_MODEL_0e0f5d2863544ecea35d0acf4f81f267",
       "IPY_MODEL_026c452c13f74a0aa071ab5869027a7a"
      ],
      "layout": "IPY_MODEL_a52a3ce8dde147f6b45b684cb57c5eb5"
     }
    },
    "9328008d582947ee9a7dddef3d6571da": {
     "model_module": "@jupyter-widgets/controls",
     "model_name": "ProgressStyleModel",
     "state": {
      "_model_module": "@jupyter-widgets/controls",
      "_model_module_version": "1.5.0",
      "_model_name": "ProgressStyleModel",
      "_view_count": null,
      "_view_module": "@jupyter-widgets/base",
      "_view_module_version": "1.2.0",
      "_view_name": "StyleView",
      "bar_color": null,
      "description_width": "initial"
     }
    },
    "95c747e3a50e48089ba465949d499f61": {
     "model_module": "@jupyter-widgets/base",
     "model_name": "LayoutModel",
     "state": {
      "_model_module": "@jupyter-widgets/base",
      "_model_module_version": "1.2.0",
      "_model_name": "LayoutModel",
      "_view_count": null,
      "_view_module": "@jupyter-widgets/base",
      "_view_module_version": "1.2.0",
      "_view_name": "LayoutView",
      "align_content": null,
      "align_items": null,
      "align_self": null,
      "border": null,
      "bottom": null,
      "display": null,
      "flex": null,
      "flex_flow": null,
      "grid_area": null,
      "grid_auto_columns": null,
      "grid_auto_flow": null,
      "grid_auto_rows": null,
      "grid_column": null,
      "grid_gap": null,
      "grid_row": null,
      "grid_template_areas": null,
      "grid_template_columns": null,
      "grid_template_rows": null,
      "height": null,
      "justify_content": null,
      "justify_items": null,
      "left": null,
      "margin": null,
      "max_height": null,
      "max_width": null,
      "min_height": null,
      "min_width": null,
      "object_fit": null,
      "object_position": null,
      "order": null,
      "overflow": null,
      "overflow_x": null,
      "overflow_y": null,
      "padding": null,
      "right": null,
      "top": null,
      "visibility": null,
      "width": null
     }
    },
    "9613f82c5bee4d9889d755989607deed": {
     "model_module": "@jupyter-widgets/controls",
     "model_name": "HBoxModel",
     "state": {
      "_dom_classes": [],
      "_model_module": "@jupyter-widgets/controls",
      "_model_module_version": "1.5.0",
      "_model_name": "HBoxModel",
      "_view_count": null,
      "_view_module": "@jupyter-widgets/controls",
      "_view_module_version": "1.5.0",
      "_view_name": "HBoxView",
      "box_style": "",
      "children": [
       "IPY_MODEL_10e2682a1219417ca2371bc15a90622c",
       "IPY_MODEL_ae0ee77c9452406ea76c2012113ac46f"
      ],
      "layout": "IPY_MODEL_95c747e3a50e48089ba465949d499f61"
     }
    },
    "966328cab55848c6a9605f4828637fed": {
     "model_module": "@jupyter-widgets/base",
     "model_name": "LayoutModel",
     "state": {
      "_model_module": "@jupyter-widgets/base",
      "_model_module_version": "1.2.0",
      "_model_name": "LayoutModel",
      "_view_count": null,
      "_view_module": "@jupyter-widgets/base",
      "_view_module_version": "1.2.0",
      "_view_name": "LayoutView",
      "align_content": null,
      "align_items": null,
      "align_self": null,
      "border": null,
      "bottom": null,
      "display": null,
      "flex": null,
      "flex_flow": null,
      "grid_area": null,
      "grid_auto_columns": null,
      "grid_auto_flow": null,
      "grid_auto_rows": null,
      "grid_column": null,
      "grid_gap": null,
      "grid_row": null,
      "grid_template_areas": null,
      "grid_template_columns": null,
      "grid_template_rows": null,
      "height": null,
      "justify_content": null,
      "justify_items": null,
      "left": null,
      "margin": null,
      "max_height": null,
      "max_width": null,
      "min_height": null,
      "min_width": null,
      "object_fit": null,
      "object_position": null,
      "order": null,
      "overflow": null,
      "overflow_x": null,
      "overflow_y": null,
      "padding": null,
      "right": null,
      "top": null,
      "visibility": null,
      "width": null
     }
    },
    "9bd35ce5090d4252aa65b19d5ea37b42": {
     "model_module": "@jupyter-widgets/base",
     "model_name": "LayoutModel",
     "state": {
      "_model_module": "@jupyter-widgets/base",
      "_model_module_version": "1.2.0",
      "_model_name": "LayoutModel",
      "_view_count": null,
      "_view_module": "@jupyter-widgets/base",
      "_view_module_version": "1.2.0",
      "_view_name": "LayoutView",
      "align_content": null,
      "align_items": null,
      "align_self": null,
      "border": null,
      "bottom": null,
      "display": null,
      "flex": null,
      "flex_flow": null,
      "grid_area": null,
      "grid_auto_columns": null,
      "grid_auto_flow": null,
      "grid_auto_rows": null,
      "grid_column": null,
      "grid_gap": null,
      "grid_row": null,
      "grid_template_areas": null,
      "grid_template_columns": null,
      "grid_template_rows": null,
      "height": null,
      "justify_content": null,
      "justify_items": null,
      "left": null,
      "margin": null,
      "max_height": null,
      "max_width": null,
      "min_height": null,
      "min_width": null,
      "object_fit": null,
      "object_position": null,
      "order": null,
      "overflow": null,
      "overflow_x": null,
      "overflow_y": null,
      "padding": null,
      "right": null,
      "top": null,
      "visibility": null,
      "width": null
     }
    },
    "a0cd4f136d48492ba89ddc256d21ec54": {
     "model_module": "@jupyter-widgets/base",
     "model_name": "LayoutModel",
     "state": {
      "_model_module": "@jupyter-widgets/base",
      "_model_module_version": "1.2.0",
      "_model_name": "LayoutModel",
      "_view_count": null,
      "_view_module": "@jupyter-widgets/base",
      "_view_module_version": "1.2.0",
      "_view_name": "LayoutView",
      "align_content": null,
      "align_items": null,
      "align_self": null,
      "border": null,
      "bottom": null,
      "display": null,
      "flex": null,
      "flex_flow": null,
      "grid_area": null,
      "grid_auto_columns": null,
      "grid_auto_flow": null,
      "grid_auto_rows": null,
      "grid_column": null,
      "grid_gap": null,
      "grid_row": null,
      "grid_template_areas": null,
      "grid_template_columns": null,
      "grid_template_rows": null,
      "height": null,
      "justify_content": null,
      "justify_items": null,
      "left": null,
      "margin": null,
      "max_height": null,
      "max_width": null,
      "min_height": null,
      "min_width": null,
      "object_fit": null,
      "object_position": null,
      "order": null,
      "overflow": null,
      "overflow_x": null,
      "overflow_y": null,
      "padding": null,
      "right": null,
      "top": null,
      "visibility": null,
      "width": null
     }
    },
    "a286bdc1c9a6485ba77b8d79726c4c3f": {
     "model_module": "@jupyter-widgets/controls",
     "model_name": "FloatProgressModel",
     "state": {
      "_dom_classes": [],
      "_model_module": "@jupyter-widgets/controls",
      "_model_module_version": "1.5.0",
      "_model_name": "FloatProgressModel",
      "_view_count": null,
      "_view_module": "@jupyter-widgets/controls",
      "_view_module_version": "1.5.0",
      "_view_name": "ProgressView",
      "bar_style": "success",
      "description": "",
      "description_tooltip": null,
      "layout": "IPY_MODEL_3e0fdd4d4d874e4ba72106d0ccfa263f",
      "max": 1648877,
      "min": 0,
      "orientation": "horizontal",
      "style": "IPY_MODEL_08101fefdba5474193cae33d3418a2e8",
      "value": 1648877
     }
    },
    "a52a3ce8dde147f6b45b684cb57c5eb5": {
     "model_module": "@jupyter-widgets/base",
     "model_name": "LayoutModel",
     "state": {
      "_model_module": "@jupyter-widgets/base",
      "_model_module_version": "1.2.0",
      "_model_name": "LayoutModel",
      "_view_count": null,
      "_view_module": "@jupyter-widgets/base",
      "_view_module_version": "1.2.0",
      "_view_name": "LayoutView",
      "align_content": null,
      "align_items": null,
      "align_self": null,
      "border": null,
      "bottom": null,
      "display": null,
      "flex": null,
      "flex_flow": null,
      "grid_area": null,
      "grid_auto_columns": null,
      "grid_auto_flow": null,
      "grid_auto_rows": null,
      "grid_column": null,
      "grid_gap": null,
      "grid_row": null,
      "grid_template_areas": null,
      "grid_template_columns": null,
      "grid_template_rows": null,
      "height": null,
      "justify_content": null,
      "justify_items": null,
      "left": null,
      "margin": null,
      "max_height": null,
      "max_width": null,
      "min_height": null,
      "min_width": null,
      "object_fit": null,
      "object_position": null,
      "order": null,
      "overflow": null,
      "overflow_x": null,
      "overflow_y": null,
      "padding": null,
      "right": null,
      "top": null,
      "visibility": null,
      "width": null
     }
    },
    "a60c0e8b61b74630845a0c22a30b95df": {
     "model_module": "@jupyter-widgets/controls",
     "model_name": "ProgressStyleModel",
     "state": {
      "_model_module": "@jupyter-widgets/controls",
      "_model_module_version": "1.5.0",
      "_model_name": "ProgressStyleModel",
      "_view_count": null,
      "_view_module": "@jupyter-widgets/base",
      "_view_module_version": "1.2.0",
      "_view_name": "StyleView",
      "bar_color": null,
      "description_width": "initial"
     }
    },
    "a61874200e1c43bc93cf5f38f4d1602a": {
     "model_module": "@jupyter-widgets/base",
     "model_name": "LayoutModel",
     "state": {
      "_model_module": "@jupyter-widgets/base",
      "_model_module_version": "1.2.0",
      "_model_name": "LayoutModel",
      "_view_count": null,
      "_view_module": "@jupyter-widgets/base",
      "_view_module_version": "1.2.0",
      "_view_name": "LayoutView",
      "align_content": null,
      "align_items": null,
      "align_self": null,
      "border": null,
      "bottom": null,
      "display": null,
      "flex": null,
      "flex_flow": null,
      "grid_area": null,
      "grid_auto_columns": null,
      "grid_auto_flow": null,
      "grid_auto_rows": null,
      "grid_column": null,
      "grid_gap": null,
      "grid_row": null,
      "grid_template_areas": null,
      "grid_template_columns": null,
      "grid_template_rows": null,
      "height": null,
      "justify_content": null,
      "justify_items": null,
      "left": null,
      "margin": null,
      "max_height": null,
      "max_width": null,
      "min_height": null,
      "min_width": null,
      "object_fit": null,
      "object_position": null,
      "order": null,
      "overflow": null,
      "overflow_x": null,
      "overflow_y": null,
      "padding": null,
      "right": null,
      "top": null,
      "visibility": null,
      "width": null
     }
    },
    "a9ff1ca678d44b0b96e0aea1541c8359": {
     "model_module": "@jupyter-widgets/controls",
     "model_name": "HTMLModel",
     "state": {
      "_dom_classes": [],
      "_model_module": "@jupyter-widgets/controls",
      "_model_module_version": "1.5.0",
      "_model_name": "HTMLModel",
      "_view_count": null,
      "_view_module": "@jupyter-widgets/controls",
      "_view_module_version": "1.5.0",
      "_view_name": "HTMLView",
      "description": "",
      "description_tooltip": null,
      "layout": "IPY_MODEL_09a30ad3b16444309a2f2591382c5735",
      "placeholder": "​",
      "style": "IPY_MODEL_8be95b95873544a79de9124a8ed267d8",
      "value": " 5120/? [00:11&lt;00:00, 462.47it/s]"
     }
    },
    "ae0ee77c9452406ea76c2012113ac46f": {
     "model_module": "@jupyter-widgets/controls",
     "model_name": "HTMLModel",
     "state": {
      "_dom_classes": [],
      "_model_module": "@jupyter-widgets/controls",
      "_model_module_version": "1.5.0",
      "_model_name": "HTMLModel",
      "_view_count": null,
      "_view_module": "@jupyter-widgets/controls",
      "_view_module_version": "1.5.0",
      "_view_name": "HTMLView",
      "description": "",
      "description_tooltip": null,
      "layout": "IPY_MODEL_9bd35ce5090d4252aa65b19d5ea37b42",
      "placeholder": "​",
      "style": "IPY_MODEL_303a5282789449ca8e7ed903d268f9e1",
      "value": " 275/275 [00:22&lt;00:00, 12.43it/s, loss=167, LL=-142, KL_F=6.72, KL_Y=7.09, SFE_base_reward_mean=-149, SFE_base_reward_std=42.8, SFE_reward_mean=33.8, SFE_reward_std=42.8]"
     }
    },
    "cb2c5222e69d44aa8330691d61edfb61": {
     "model_module": "@jupyter-widgets/base",
     "model_name": "LayoutModel",
     "state": {
      "_model_module": "@jupyter-widgets/base",
      "_model_module_version": "1.2.0",
      "_model_name": "LayoutModel",
      "_view_count": null,
      "_view_module": "@jupyter-widgets/base",
      "_view_module_version": "1.2.0",
      "_view_name": "LayoutView",
      "align_content": null,
      "align_items": null,
      "align_self": null,
      "border": null,
      "bottom": null,
      "display": null,
      "flex": null,
      "flex_flow": null,
      "grid_area": null,
      "grid_auto_columns": null,
      "grid_auto_flow": null,
      "grid_auto_rows": null,
      "grid_column": null,
      "grid_gap": null,
      "grid_row": null,
      "grid_template_areas": null,
      "grid_template_columns": null,
      "grid_template_rows": null,
      "height": null,
      "justify_content": null,
      "justify_items": null,
      "left": null,
      "margin": null,
      "max_height": null,
      "max_width": null,
      "min_height": null,
      "min_width": null,
      "object_fit": null,
      "object_position": null,
      "order": null,
      "overflow": null,
      "overflow_x": null,
      "overflow_y": null,
      "padding": null,
      "right": null,
      "top": null,
      "visibility": null,
      "width": null
     }
    },
    "cc6a4b8ee959491f8e6901d4b96d0435": {
     "model_module": "@jupyter-widgets/controls",
     "model_name": "HTMLModel",
     "state": {
      "_dom_classes": [],
      "_model_module": "@jupyter-widgets/controls",
      "_model_module_version": "1.5.0",
      "_model_name": "HTMLModel",
      "_view_count": null,
      "_view_module": "@jupyter-widgets/controls",
      "_view_module_version": "1.5.0",
      "_view_name": "HTMLView",
      "description": "",
      "description_tooltip": null,
      "layout": "IPY_MODEL_f41c9d0c678c4495b043220fae491099",
      "placeholder": "​",
      "style": "IPY_MODEL_d7d526b7a18741a3a888c2421aea347c",
      "value": " 275/275 [00:57&lt;00:00,  4.82it/s, loss=268, LL=-158, KL_F=4.8, KL_Y=5.79, SFE_base_reward_mean=-164, SFE_base_reward_std=45.1, SFE_reward_mean=33.8, SFE_reward_std=45.1]"
     }
    },
    "d7d526b7a18741a3a888c2421aea347c": {
     "model_module": "@jupyter-widgets/controls",
     "model_name": "DescriptionStyleModel",
     "state": {
      "_model_module": "@jupyter-widgets/controls",
      "_model_module_version": "1.5.0",
      "_model_name": "DescriptionStyleModel",
      "_view_count": null,
      "_view_module": "@jupyter-widgets/base",
      "_view_module_version": "1.2.0",
      "_view_name": "StyleView",
      "description_width": ""
     }
    },
    "db95898f256f474d9264009bd6f5939f": {
     "model_module": "@jupyter-widgets/base",
     "model_name": "LayoutModel",
     "state": {
      "_model_module": "@jupyter-widgets/base",
      "_model_module_version": "1.2.0",
      "_model_name": "LayoutModel",
      "_view_count": null,
      "_view_module": "@jupyter-widgets/base",
      "_view_module_version": "1.2.0",
      "_view_name": "LayoutView",
      "align_content": null,
      "align_items": null,
      "align_self": null,
      "border": null,
      "bottom": null,
      "display": null,
      "flex": null,
      "flex_flow": null,
      "grid_area": null,
      "grid_auto_columns": null,
      "grid_auto_flow": null,
      "grid_auto_rows": null,
      "grid_column": null,
      "grid_gap": null,
      "grid_row": null,
      "grid_template_areas": null,
      "grid_template_columns": null,
      "grid_template_rows": null,
      "height": null,
      "justify_content": null,
      "justify_items": null,
      "left": null,
      "margin": null,
      "max_height": null,
      "max_width": null,
      "min_height": null,
      "min_width": null,
      "object_fit": null,
      "object_position": null,
      "order": null,
      "overflow": null,
      "overflow_x": null,
      "overflow_y": null,
      "padding": null,
      "right": null,
      "top": null,
      "visibility": null,
      "width": null
     }
    },
    "ddfea72bf1334cc98c8f46f969ec2d50": {
     "model_module": "@jupyter-widgets/controls",
     "model_name": "ProgressStyleModel",
     "state": {
      "_model_module": "@jupyter-widgets/controls",
      "_model_module_version": "1.5.0",
      "_model_name": "ProgressStyleModel",
      "_view_count": null,
      "_view_module": "@jupyter-widgets/base",
      "_view_module_version": "1.2.0",
      "_view_name": "StyleView",
      "bar_color": null,
      "description_width": "initial"
     }
    },
    "e6235f86d6144ccba6f6459586bf8b9b": {
     "model_module": "@jupyter-widgets/controls",
     "model_name": "HBoxModel",
     "state": {
      "_dom_classes": [],
      "_model_module": "@jupyter-widgets/controls",
      "_model_module_version": "1.5.0",
      "_model_name": "HBoxModel",
      "_view_count": null,
      "_view_module": "@jupyter-widgets/controls",
      "_view_module_version": "1.5.0",
      "_view_name": "HBoxView",
      "box_style": "",
      "children": [
       "IPY_MODEL_3440563d925941f3891b4b1f48d45319",
       "IPY_MODEL_f295266aeaca4088b34f2c9424f2a8a7"
      ],
      "layout": "IPY_MODEL_a61874200e1c43bc93cf5f38f4d1602a"
     }
    },
    "f295266aeaca4088b34f2c9424f2a8a7": {
     "model_module": "@jupyter-widgets/controls",
     "model_name": "HTMLModel",
     "state": {
      "_dom_classes": [],
      "_model_module": "@jupyter-widgets/controls",
      "_model_module_version": "1.5.0",
      "_model_name": "HTMLModel",
      "_view_count": null,
      "_view_module": "@jupyter-widgets/controls",
      "_view_module_version": "1.5.0",
      "_view_name": "HTMLView",
      "description": "",
      "description_tooltip": null,
      "layout": "IPY_MODEL_5b7868306345485fb17658bcfd1c25e4",
      "placeholder": "​",
      "style": "IPY_MODEL_5c954db7e71f4a669989e1ecf0d89988",
      "value": " 275/275 [01:25&lt;00:00,  3.22it/s, loss=384, LL=-184, KL_F=2.6, KL_Y=2.67, SFE_base_reward_mean=-187, SFE_base_reward_std=44.8, SFE_reward_mean=32.7, SFE_reward_std=44.8]"
     }
    },
    "f41c9d0c678c4495b043220fae491099": {
     "model_module": "@jupyter-widgets/base",
     "model_name": "LayoutModel",
     "state": {
      "_model_module": "@jupyter-widgets/base",
      "_model_module_version": "1.2.0",
      "_model_name": "LayoutModel",
      "_view_count": null,
      "_view_module": "@jupyter-widgets/base",
      "_view_module_version": "1.2.0",
      "_view_name": "LayoutView",
      "align_content": null,
      "align_items": null,
      "align_self": null,
      "border": null,
      "bottom": null,
      "display": null,
      "flex": null,
      "flex_flow": null,
      "grid_area": null,
      "grid_auto_columns": null,
      "grid_auto_flow": null,
      "grid_auto_rows": null,
      "grid_column": null,
      "grid_gap": null,
      "grid_row": null,
      "grid_template_areas": null,
      "grid_template_columns": null,
      "grid_template_rows": null,
      "height": null,
      "justify_content": null,
      "justify_items": null,
      "left": null,
      "margin": null,
      "max_height": null,
      "max_width": null,
      "min_height": null,
      "min_width": null,
      "object_fit": null,
      "object_position": null,
      "order": null,
      "overflow": null,
      "overflow_x": null,
      "overflow_y": null,
      "padding": null,
      "right": null,
      "top": null,
      "visibility": null,
      "width": null
     }
    },
    "f839264c20cd46feb8ce184e87e85416": {
     "model_module": "@jupyter-widgets/base",
     "model_name": "LayoutModel",
     "state": {
      "_model_module": "@jupyter-widgets/base",
      "_model_module_version": "1.2.0",
      "_model_name": "LayoutModel",
      "_view_count": null,
      "_view_module": "@jupyter-widgets/base",
      "_view_module_version": "1.2.0",
      "_view_name": "LayoutView",
      "align_content": null,
      "align_items": null,
      "align_self": null,
      "border": null,
      "bottom": null,
      "display": null,
      "flex": null,
      "flex_flow": null,
      "grid_area": null,
      "grid_auto_columns": null,
      "grid_auto_flow": null,
      "grid_auto_rows": null,
      "grid_column": null,
      "grid_gap": null,
      "grid_row": null,
      "grid_template_areas": null,
      "grid_template_columns": null,
      "grid_template_rows": null,
      "height": null,
      "justify_content": null,
      "justify_items": null,
      "left": null,
      "margin": null,
      "max_height": null,
      "max_width": null,
      "min_height": null,
      "min_width": null,
      "object_fit": null,
      "object_position": null,
      "order": null,
      "overflow": null,
      "overflow_x": null,
      "overflow_y": null,
      "padding": null,
      "right": null,
      "top": null,
      "visibility": null,
      "width": null
     }
    },
    "fa7034d83d3b43c2a181b51a88db3fec": {
     "model_module": "@jupyter-widgets/controls",
     "model_name": "HBoxModel",
     "state": {
      "_dom_classes": [],
      "_model_module": "@jupyter-widgets/controls",
      "_model_module_version": "1.5.0",
      "_model_name": "HBoxModel",
      "_view_count": null,
      "_view_module": "@jupyter-widgets/controls",
      "_view_module_version": "1.5.0",
      "_view_name": "HBoxView",
      "box_style": "",
      "children": [
       "IPY_MODEL_1e328c49a4294095af40d05efc47b7e9",
       "IPY_MODEL_cc6a4b8ee959491f8e6901d4b96d0435"
      ],
      "layout": "IPY_MODEL_0946de80201a4d1ba749a53cefa440a6"
     }
    },
    "fbb3221bb61348a38e978a3031d0fefe": {
     "model_module": "@jupyter-widgets/base",
     "model_name": "LayoutModel",
     "state": {
      "_model_module": "@jupyter-widgets/base",
      "_model_module_version": "1.2.0",
      "_model_name": "LayoutModel",
      "_view_count": null,
      "_view_module": "@jupyter-widgets/base",
      "_view_module_version": "1.2.0",
      "_view_name": "LayoutView",
      "align_content": null,
      "align_items": null,
      "align_self": null,
      "border": null,
      "bottom": null,
      "display": null,
      "flex": null,
      "flex_flow": null,
      "grid_area": null,
      "grid_auto_columns": null,
      "grid_auto_flow": null,
      "grid_auto_rows": null,
      "grid_column": null,
      "grid_gap": null,
      "grid_row": null,
      "grid_template_areas": null,
      "grid_template_columns": null,
      "grid_template_rows": null,
      "height": null,
      "justify_content": null,
      "justify_items": null,
      "left": null,
      "margin": null,
      "max_height": null,
      "max_width": null,
      "min_height": null,
      "min_width": null,
      "object_fit": null,
      "object_position": null,
      "order": null,
      "overflow": null,
      "overflow_x": null,
      "overflow_y": null,
      "padding": null,
      "right": null,
      "top": null,
      "visibility": null,
      "width": null
     }
    },
    "fc73554bd1054f3b95d157ddaa22a8a9": {
     "model_module": "@jupyter-widgets/base",
     "model_name": "LayoutModel",
     "state": {
      "_model_module": "@jupyter-widgets/base",
      "_model_module_version": "1.2.0",
      "_model_name": "LayoutModel",
      "_view_count": null,
      "_view_module": "@jupyter-widgets/base",
      "_view_module_version": "1.2.0",
      "_view_name": "LayoutView",
      "align_content": null,
      "align_items": null,
      "align_self": null,
      "border": null,
      "bottom": null,
      "display": null,
      "flex": null,
      "flex_flow": null,
      "grid_area": null,
      "grid_auto_columns": null,
      "grid_auto_flow": null,
      "grid_auto_rows": null,
      "grid_column": null,
      "grid_gap": null,
      "grid_row": null,
      "grid_template_areas": null,
      "grid_template_columns": null,
      "grid_template_rows": null,
      "height": null,
      "justify_content": null,
      "justify_items": null,
      "left": null,
      "margin": null,
      "max_height": null,
      "max_width": null,
      "min_height": null,
      "min_width": null,
      "object_fit": null,
      "object_position": null,
      "order": null,
      "overflow": null,
      "overflow_x": null,
      "overflow_y": null,
      "padding": null,
      "right": null,
      "top": null,
      "visibility": null,
      "width": null
     }
    }
   }
  }
 },
 "nbformat": 4,
 "nbformat_minor": 4
}
