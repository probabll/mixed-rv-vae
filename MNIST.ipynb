{
 "cells": [
  {
   "cell_type": "markdown",
   "metadata": {
    "colab_type": "text",
    "id": "view-in-github"
   },
   "source": [
    "<a href=\"https://colab.research.google.com/github/probabll/mixed-rv-vae/blob/master/MNIST.ipynb\" target=\"_parent\"><img src=\"https://colab.research.google.com/assets/colab-badge.svg\" alt=\"Open In Colab\"/></a>"
   ]
  },
  {
   "cell_type": "code",
   "execution_count": 1,
   "metadata": {
    "id": "27kJjsfhhrYd"
   },
   "outputs": [],
   "source": [
    "#%load_ext autoreload\n",
    "#%autoreload 2"
   ]
  },
  {
   "cell_type": "markdown",
   "metadata": {
    "id": "vOw649yX5KpI"
   },
   "source": [
    "On Colab, you will need to clone and install [probabll/dists.pt](https://github.com/probabll/dists.pt.git)"
   ]
  },
  {
   "cell_type": "code",
   "execution_count": 2,
   "metadata": {
    "colab": {
     "base_uri": "https://localhost:8080/"
    },
    "id": "V5QyPKcz1BAf",
    "outputId": "b4b46e00-1d85-4d0a-b82d-3e2c22bead5e"
   },
   "outputs": [],
   "source": [
    "#!git clone https://github.com/probabll/dists.pt.git"
   ]
  },
  {
   "cell_type": "code",
   "execution_count": 3,
   "metadata": {
    "colab": {
     "base_uri": "https://localhost:8080/"
    },
    "id": "M8R18qa6h1tc",
    "outputId": "c2a96b12-63e6-412d-83ce-5a4f42b40c3e"
   },
   "outputs": [],
   "source": [
    "#cd dists.pt"
   ]
  },
  {
   "cell_type": "code",
   "execution_count": 4,
   "metadata": {
    "colab": {
     "base_uri": "https://localhost:8080/"
    },
    "id": "zkmokBs3h2zJ",
    "outputId": "07bdcba5-6174-482d-9f07-bc800208802b"
   },
   "outputs": [],
   "source": [
    "#!git pull"
   ]
  },
  {
   "cell_type": "code",
   "execution_count": 5,
   "metadata": {
    "colab": {
     "base_uri": "https://localhost:8080/"
    },
    "id": "i5rupaQRh3wr",
    "outputId": "7d2a69e4-370d-4df8-f43c-da4a0f0275c6"
   },
   "outputs": [],
   "source": [
    "#pip install ."
   ]
  },
  {
   "cell_type": "code",
   "execution_count": 6,
   "metadata": {
    "colab": {
     "base_uri": "https://localhost:8080/"
    },
    "id": "ezUAe5PHh4zi",
    "outputId": "eaddeaf5-a239-4eb3-eb36-2428239e9914"
   },
   "outputs": [],
   "source": [
    "#cd .."
   ]
  },
  {
   "cell_type": "code",
   "execution_count": null,
   "metadata": {},
   "outputs": [],
   "source": []
  },
  {
   "cell_type": "markdown",
   "metadata": {
    "id": "iJZAyDDxtVBO"
   },
   "source": [
    "# Mixed RVs via Mixture of Dirichlets\n",
    "\n",
    "In this notebook I develop a VAE whose latent code is a mixed rv on $\\Delta_{K-1}$, that is, a sparse probability vector, via the so called *stratified representation*, that is, as a finite mixture of distributions on the faces of $K-1$-dimensional simplex.\n",
    "\n",
    "\n",
    "\n"
   ]
  },
  {
   "cell_type": "markdown",
   "metadata": {
    "id": "kpDbS_HXPeW6"
   },
   "source": [
    "## Stratified Representation\n",
    "\n",
    "\n",
    "Let $Y$ be an rv taking on values in the simplex $\\Delta_{K-1}$. The density assigned to an outcome $y \\in \\Delta_{K-1}$ is given by\n",
    "\n",
    "\\begin{align}\n",
    "  p_{Y}(y|\\alpha, \\omega) &= \\sum_{f} p_F(f|\\omega) p_{Y|F}(y|f, \\alpha) \\\\\n",
    "  &= \\sum_f \\mathrm{Gibbs}(f|\\omega) \\mathrm{Dir}(y|\\alpha_f)\n",
    "\\end{align}\n",
    "\n",
    "where $f$ is a face of dimensionality $0 < \\mathrm{dim}(f) < K -1$ and we choose a $(\\mathrm{dim}(f)+1)$-dimensional Dirichlet distribution for $Y|F=f$. The simplex $\\Delta_{K-1}$ has $2^K-1$ non-empty faces, each of which we represent by a $K$-dimensional vector $f \\in \\{0,1\\}^K$ where $f_k$ indicates whether the vertex $\\mathbf e_k$ is in the face. \n",
    "\n",
    "$F$ takes on values in the sample space $\\mathcal F = \\{0,1\\}^K \\setminus \\{\\mathbf 0_K\\}$, and \n",
    "\n",
    "\\begin{align}\n",
    "p_{F}(f|\\omega) &\\propto \\prod_{k=1}^K f_k \\exp(\\omega) + (1-f_k) \\exp(-\\omega)\n",
    "\\end{align}\n",
    "\n",
    "The sample space $\\mathcal F$ can be efficiently represented in a finite-state automaton of size $\\mathcal O(K)$. As the unnormalised probability of any assignment $f$ factorises along the transitions of this automaton, the normalisation constant can be computed efficiently using the *value recursion* (or backward algorithm). Samples can be obtained with a linear pass through this automaton. Combining the value recursion and the *reverse value recursion* (forward algorithm), we can also compute the marginal probability $\\Pr(F_k = 1)$ for any $k \\in [K]$, as well as $\\mathbb E[\\psi(F)]$ for any function $\\psi$ that factorises along $f_k$. One such function is surprisal $\\log p_F(f|\\omega)$, thus entropy, cross-entropy and KL divergence are available in closed-form. \n",
    "\n",
    "The parameters $\\alpha_f \\in \\mathbb R_{>0}^{\\mathrm{dim}(f)+1}$ can be shared across faces (or predicted via a shared parameterisation)."
   ]
  },
  {
   "cell_type": "markdown",
   "metadata": {
    "id": "kpDbS_HXPeW6"
   },
   "source": [
    "**Gradient estimation**\n",
    "\n",
    "We assume samples from $Y|F=f, \\alpha$ can be reparameterised in terms of samples from a fixed distribution $\\Gamma$ independent of $\\alpha$, i.e. $\\gamma = \\mathcal T^{-1}(y; \\alpha_f) \\sim \\Gamma$, \n",
    "and use score function estimation for gradient estimation with respect to $\\omega$:\n",
    "\n",
    "\\begin{align}\n",
    "    \\nabla_{\\alpha,\\omega} \\mathbb E_{Y|\\alpha, \\omega}\\left[ \\psi(y) \\right] &= \\nabla_{\\omega} \\mathbb E_{F|\\omega}\\left[ \\nabla_{\\alpha} \\mathbb E_{Y|F,\\alpha} \\left[ \\psi(y) \\right] \\right] \\\\\n",
    "    &= \\mathbb E_{F|\\omega}\\left[ \\left( \\nabla_{\\alpha} \\mathbb E_{Y|F,\\alpha} \\left[ \\psi(y) \\right] \\right)\\nabla_{\\omega} \\log p_F(f) \\right] \\\\\n",
    "    &= \\mathbb E_{F|\\omega}\\left[  \\mathbb E_{} \\left[ \\nabla_{y} \\psi(y) \\nabla_{\\alpha_f} \\mathcal T(\\gamma; \\alpha_f) \\right] \\nabla_{\\omega} \\log p_F(f) \\right]\n",
    "\\end{align}\n",
    "\n",
    "For variance reduction we can use baselines based on summary statistics (e.g., mean, standard deviation), on trained MLPs, or based on $\\nabla_{\\alpha} \\mathbb E_{Y|F,\\alpha}[ \\psi(y')]$ assessed at an additional sample $y'$ (this is known as  a self-critic). More sophisticated techniques are possible (but hopefully won't be needed)."
   ]
  },
  {
   "cell_type": "code",
   "execution_count": 7,
   "metadata": {
    "colab": {
     "base_uri": "https://localhost:8080/",
     "height": 37
    },
    "id": "El49NgachrYj",
    "outputId": "867cd0cc-78dd-470c-c8d6-6b55d9daa8dd"
   },
   "outputs": [
    {
     "data": {
      "text/plain": [
       "'1.8.1+cu102'"
      ]
     },
     "execution_count": 7,
     "metadata": {},
     "output_type": "execute_result"
    }
   ],
   "source": [
    "import torch\n",
    "torch.__version__"
   ]
  },
  {
   "cell_type": "code",
   "execution_count": 8,
   "metadata": {
    "id": "Dumky9Ut1vHJ"
   },
   "outputs": [],
   "source": [
    "import numpy as np\n",
    "import torch\n",
    "import torch.distributions as td\n",
    "import probabll.distributions as pd"
   ]
  },
  {
   "cell_type": "markdown",
   "metadata": {
    "id": "w54zAmpbhrYl"
   },
   "source": [
    "# VAE\n",
    "\n",
    "A variational auto-encoder approximates the distribution of $X$ on sample space $\\mathcal X$ as a marginal of a joint distribution $X,Z|\\theta$ whose pdf factorises $p_{XZ}(x, z|\\theta) = p_{Z}(z|\\theta)p_{X|Z}(x|z, \\theta)$. Inference employs an independently parameterised  approximation $Z|X=x, \\lambda$ to the true posterior distribution $Z|X=x, \\theta$. The parameters $\\theta$ of the generative model and $\\lambda$ of the inference model are estimated jointly to maximise a lowerbound on the log-evidence (the ELBO):\n",
    "\n",
    "\\begin{align}\n",
    "\\theta^\\star, \\theta^\\star &= \\arg\\,\\max_{\\theta, \\lambda} ~ \\sum_{x \\sim \\mathcal D}\\mathrm{ELBO}_x(\\theta, \\lambda) \\\\\n",
    "&= \\arg\\,\\max_{\\theta, \\lambda} ~ \\sum_{x \\sim \\mathcal D} \\mathbb E_{Z|X,\\lambda}\\left[ \\log \\frac{p_{XZ}(x, z|\\theta)}{q_{Z|X}(z|x, \\lambda)} \\right]\n",
    "\\end{align}\n",
    "\n",
    "For us, $Z$ can be a $K$-dimensional mixed rv, a combination of an $H$-dimensional Gaussian embedding and a $K$-dimensional mixed rv, etc. In this notebook, an observed data point $x$ is an MNIST digit, i.e., $x\\in \\{0, 1\\}^{D}$."
   ]
  },
  {
   "cell_type": "code",
   "execution_count": 9,
   "metadata": {
    "id": "96WZPip8t0hT"
   },
   "outputs": [],
   "source": [
    "import torch.nn as nn\n",
    "\n",
    "\n",
    "def assert_shape(t, shape, message):\n",
    "    assert t.shape == shape, f\"{message} has the wrong shape: got {t.shape}, expected {shape}\"        \n"
   ]
  },
  {
   "cell_type": "markdown",
   "metadata": {
    "id": "fKxwIf6_t1YB"
   },
   "source": [
    "## Generative model\n",
    "\n",
    "\\begin{align}\n",
    "p_{XYF}(x, y, f, z|\\theta) &= p_Z(z)p_{F}(f)p_{Y|F}(y|f, \\theta)p_{X|Y}(x|y, \\theta) \\\\\n",
    "&= \\mathcal N(z|0, I_H) \\times \\mathrm{Gibbs}(f|\\mathbf 0_K) \\times \\mathrm{Dir}(y|\\mathbf 1_{\\mathrm{dim}(f)+1}) \\times \\prod_{d=1}^D \\mathrm{Bern}(x_d|b_d(y; \\theta))\n",
    "\\end{align}\n",
    "\n",
    "where the Gibbs distribution is constrained to supporting all but the empty face of $\\Delta_{K-1}$, and $\\mathbf b(x, y;\\theta) \\in (0,1)^D$ is the output of an NN with parameters $\\theta$.\n"
   ]
  },
  {
   "cell_type": "code",
   "execution_count": 10,
   "metadata": {
    "id": "WDWb-ohmPxy_"
   },
   "outputs": [],
   "source": [
    "class GenerativeModel(nn.Module):\n",
    "\n",
    "    def __init__(self, z_dim, y_dim, data_dim, hidden_dec_size, p_drop=0.0, prior_scores=0.0, prior_location=0.0, prior_scale=1.0):\n",
    "        \"\"\"\n",
    "        :param z_dim: dimensionality (H) of the Gaussian rv (use 0 to disable it)\n",
    "        :param y_dim: dimensionality (K) of the mixed rv\n",
    "        :param data_dim: dimensionality (D) of the observation\n",
    "        :oaram hidden_dec_size: hidden size of the decoder that parameterises X|Z=z, Y=y\n",
    "        :param p_drop: dropout probability\n",
    "        :param prior_scores: \\omega in F|\\omega \n",
    "            (float or K-dimensional tensor)\n",
    "        :param prior_location: location of the Gaussian prior\n",
    "            (float or H-dimensional tensor)\n",
    "        :param prior_scale: scale of the Gaussian prior\n",
    "            (float or H-dimensional tensor)\n",
    "        \"\"\"\n",
    "        assert z_dim + y_dim > 0\n",
    "\n",
    "        super().__init__()\n",
    "        self._z_dim = z_dim\n",
    "        self._y_dim = y_dim\n",
    "        self._data_dim = data_dim   \n",
    "        self._decoder = nn.Sequential(\n",
    "            nn.Dropout(p_drop),\n",
    "            nn.Linear(z_dim + y_dim, hidden_dec_size),\n",
    "            nn.ReLU(),\n",
    "            nn.Dropout(p_drop),\n",
    "            nn.Linear(hidden_dec_size, hidden_dec_size),\n",
    "            nn.ReLU(),\n",
    "            nn.Dropout(p_drop),\n",
    "            nn.Linear(hidden_dec_size, data_dim),\n",
    "        )        \n",
    "        self.register_buffer(\"_prior_scores\", (torch.zeros(y_dim, requires_grad=False) + prior_scores).detach())\n",
    "        self.register_buffer(\"_prior_location\", (torch.zeros(z_dim, requires_grad=False) + prior_location).detach())\n",
    "        self.register_buffer(\"_prior_scale\", (torch.zeros(z_dim, requires_grad=False) + prior_scale).detach())\n",
    "\n",
    "    @property\n",
    "    def data_dim(self):\n",
    "        return self._data_dim\n",
    "    \n",
    "    @property\n",
    "    def latent_dim(self):\n",
    "        return self._z_dim + self._y_dim\n",
    "    \n",
    "    @property\n",
    "    def z_dim(self):\n",
    "        return self._z_dim\n",
    "    \n",
    "    @property\n",
    "    def y_dim(self):\n",
    "        return self._y_dim\n",
    "    \n",
    "    def Z(self, predictors=None):\n",
    "        \"\"\"Return a Normal distribution over latent space\"\"\"\n",
    "        Z = td.Normal(loc=self._prior_location, scale=self._prior_scale) if self._z_dim else pd.Delta(self._prior_location)\n",
    "        return td.Independent(Z, 1)\n",
    "\n",
    "    def F(self, predictors=None):\n",
    "        \"\"\"\n",
    "        Return a distribution over the non-empty faces of the simplex\n",
    "        :param predictors: input predictors, this is reserved for future use\n",
    "        \"\"\"\n",
    "        if self._y_dim:\n",
    "            return pd.NonEmptyBitVector(scores=self._prior_scores)\n",
    "        else:\n",
    "            return td.Independent(pd.Delta(self._prior_scores), 1)\n",
    "\n",
    "    def Y(self, f, predictors=None):\n",
    "        \"\"\"\n",
    "        Return a batch of masked Dirichlet distributions Y|F=f\n",
    "        :param f: face-encoding [batch_size, K]\n",
    "        :param predictors: input predictors, this is reserved for future use\n",
    "        \"\"\"\n",
    "        if self._y_dim:\n",
    "            return pd.MaskedDirichlet(f.bool(), torch.ones_like(f))\n",
    "        else:\n",
    "            return td.Independent(pd.Delta(torch.zeros_like(f)), 1)\n",
    "\n",
    "    def X(self, z, y, predictors=None):\n",
    "        \"\"\"Return a product of D Bernoulli distributions\"\"\"\n",
    "        if z.shape[:-1] != y.shape[:-1]:\n",
    "            raise ValueError(\"z and y must have the same batch_shape\")        \n",
    "        inputs = torch.cat([z, y], -1)\n",
    "        logits = self._decoder(inputs)\n",
    "        return td.Independent(td.Bernoulli(logits=logits), 1)\n",
    "    \n",
    "    def sample(self, sample_shape=torch.Size([])):\n",
    "        \"\"\"Return (z, f, y, x)\"\"\"\n",
    "        # [sample_shape, H]\n",
    "        z = self.Z().sample(sample_shape)\n",
    "        # [sample_shape, K]\n",
    "        f = self.F().sample(sample_shape)\n",
    "        # [sample_shape, K]\n",
    "        y = self.Y(f=f).sample()\n",
    "        # [sample_shape, D]\n",
    "        x = self.X(z=z, y=y).sample()\n",
    "        return z, f, y, x\n",
    "    \n",
    "    def log_prob(self, z, f, y, x, per_bit=False):\n",
    "        \"\"\"Return the log probability of each one of the variables\"\"\"\n",
    "        if per_bit:\n",
    "            return self.Z().log_prob(z), self.F().log_prob(f), self.Y(f).log_prob(y), self.X(z=z, y=y).base_dist.log_prob(x)\n",
    "        else:\n",
    "            return self.Z().log_prob(z), self.F().log_prob(f), self.Y(f).log_prob(y), self.X(z=z, y=y).log_prob(x)"
   ]
  },
  {
   "cell_type": "markdown",
   "metadata": {
    "id": "7hxVyVWYt9eQ"
   },
   "source": [
    "## Inference model\n",
    "\n",
    "\\begin{align}\n",
    "q_{ZFY|X}(z, f, y|x,\\lambda) &= q_{Z|X}(z|x, \\lambda)q_{F|X}(f|x, \\lambda) q_{Y|FX}(y|f,x, \\lambda) \\\\\n",
    "&= \\mathcal N(z|\\mathbf u(x; \\lambda), \\mathbf v(x; \\lambda)) \\times \\mathrm{Gibbs}(f|\\mathbf s(x; \\lambda)) \\times \\mathrm{Dir}(y|\\mathbf a(x, f;\\lambda))\n",
    "\\end{align}\n",
    "\n",
    "where $\\mathbf u(x; \\lambda) \\in \\mathbb R^H$, $\\mathbf v(x; \\lambda) \\in \\mathbb R_{>0}^K$,  $\\mathbf s(x; \\lambda) \\in \\mathbb R^K$ and $\\mathbf a(x, f; \\lambda) \\in \\mathbb R_{>0}^{\\mathrm{dim}(f)+1}$ are NN outputs; $\\lambda$ denotes the NN parameters."
   ]
  },
  {
   "cell_type": "code",
   "execution_count": 11,
   "metadata": {
    "id": "DvwA2H8Bt8Qb"
   },
   "outputs": [],
   "source": [
    "class InferenceModel(nn.Module):\n",
    "\n",
    "    def __init__(self, z_dim, y_dim, data_dim, hidden_enc_size, cond='fx', p_drop=0.0):\n",
    "        assert z_dim + y_dim > 0\n",
    "        assert cond in {'f', 'x', 'fx'}, f\"The concentration net can take 'f', 'x', or 'fx', got {cond}\"\n",
    "        super().__init__()\n",
    "\n",
    "        self._cond = cond\n",
    "        self._z_dim = z_dim\n",
    "        self._y_dim = y_dim\n",
    "        \n",
    "        if z_dim: # TODO: share encoder across Z|x and F|x?\n",
    "            self._gaussian_net = nn.Sequential(\n",
    "                nn.Dropout(p_drop),\n",
    "                nn.Linear(data_dim, hidden_enc_size),\n",
    "                nn.ReLU(),\n",
    "                nn.Dropout(p_drop),\n",
    "                nn.Linear(hidden_enc_size, hidden_enc_size),\n",
    "                nn.ReLU(),\n",
    "                nn.Linear(hidden_enc_size, 2 * z_dim)\n",
    "            )\n",
    "        \n",
    "        # Should F|x and/or Y|f,x also condition on z?\n",
    "        if y_dim:\n",
    "            self._scores_net = nn.Sequential(\n",
    "                nn.Dropout(p_drop),\n",
    "                nn.Linear(data_dim, hidden_enc_size),\n",
    "                nn.ReLU(),\n",
    "                nn.Dropout(p_drop),\n",
    "                nn.Linear(hidden_enc_size, hidden_enc_size),\n",
    "                nn.ReLU(),\n",
    "                nn.Linear(hidden_enc_size, y_dim)\n",
    "            )\n",
    "\n",
    "            if cond == 'f':\n",
    "                self._concentrations_net = nn.Sequential(\n",
    "                    nn.Dropout(p_drop),\n",
    "                    nn.Linear(y_dim, y_dim),\n",
    "                    nn.ReLU(),\n",
    "                    nn.Dropout(p_drop),\n",
    "                    nn.Linear(y_dim // 2 + 1, y_dim // 2 + 1),\n",
    "                    nn.ReLU(),\n",
    "                    nn.Dropout(p_drop),\n",
    "                    nn.Linear(y_dim // 2 + 1, y_dim),\n",
    "                    nn.Softplus()\n",
    "                )\n",
    "            else: # x or fx\n",
    "                self._concentrations_net = nn.Sequential(\n",
    "                    nn.Dropout(p_drop),\n",
    "                    nn.Linear(data_dim if cond == 'f' else y_dim + data_dim, hidden_enc_size),\n",
    "                    nn.ReLU(),\n",
    "                    nn.Dropout(p_drop),\n",
    "                    nn.Linear(hidden_enc_size, hidden_enc_size),\n",
    "                    nn.ReLU(),\n",
    "                    nn.Dropout(p_drop),\n",
    "                    nn.Linear(hidden_enc_size, y_dim),\n",
    "                    nn.Softplus()\n",
    "                )\n",
    "            \n",
    "    def Z(self, x, predictors=None):        \n",
    "        if self._z_dim:\n",
    "            params = self._gaussian_net(x)\n",
    "            Z = td.Normal(loc=params[...,:self._z_dim], scale=nn.functional.softplus(params[...,self._z_dim:]))\n",
    "        else:\n",
    "            Z = pd.Delta(torch.zeros(x.shape[:-1] + (0,), device=x.device))\n",
    "        return td.Independent(Z, 1)\n",
    "            \n",
    "    def F(self, x, predictors=None):\n",
    "        if not self._y_dim:\n",
    "            return td.Independent(pd.Delta(torch.zeros(x.shape[:-1] + (0,), device=x.device)), 1)\n",
    "        # [B, K]\n",
    "        scores = self._scores_net(x) \n",
    "        # constrain scores?\n",
    "        # e.g., by clipping?\n",
    "        # 2.5 + tanh(NN(f,x)) * 2.5 + eps\n",
    "        return pd.NonEmptyBitVector(scores)\n",
    "\n",
    "\n",
    "    def Y(self, f, x, predictors=None):\n",
    "        if not self._y_dim:\n",
    "            return td.Independent(pd.Delta(torch.zeros_like(f)), 1)\n",
    "\n",
    "        if self._cond == 'f':\n",
    "            inputs = f  # [...,K]\n",
    "        else:\n",
    "            if len(f.shape) < len(x.shape):\n",
    "                raise ValueError(f\"f is missing dimensions: f has shape {f.shape} and x has shape {x.shape}\")\n",
    "            elif len(f.shape) > len(x.shape): \n",
    "                # deal with f having a larger sample_shape than x\n",
    "                sample_dims = len(f.shape) - len(x.shape)\n",
    "                sample_shape = f.shape[:sample_dims] \n",
    "                x = x.view((1,) * sample_dims + x.shape).expand(sample_shape + (-1,) * len(x.shape))\n",
    "            if self._cond == 'x':\n",
    "                inputs = x  # [...,D]\n",
    "            else:\n",
    "                assert f.shape[:-1] == x.shape[:-1], \"f and x have different sample/batch shapes\"\n",
    "                inputs = torch.cat([f, x], -1)  # [...,K+D]\n",
    "        # [...,K]\n",
    "        concentration = self._concentrations_net(inputs) \n",
    "        # constrain concentration?\n",
    "        # e.g., by clipping?\n",
    "        # 2.5 + tanh(NN(f,x)) * 2.5 + eps\n",
    "        return pd.MaskedDirichlet(f.bool(), concentration)\n",
    "    \n",
    "    def sample(self, x, sample_shape=torch.Size([])):\n",
    "        \"\"\"Return (z, f, y), No gradients through this.\"\"\"\n",
    "        with torch.no_grad():\n",
    "            # [sample_shape, B, H]\n",
    "            z = self.Z(x).sample(sample_shape)\n",
    "            # [sample_shape, B, K]\n",
    "            f = self.F(x).sample(sample_shape)\n",
    "            # [sample_shape, B, K]\n",
    "            y = self.Y(f=f, x=x).sample()\n",
    "            return z, f, y\n",
    "    \n",
    "    def log_prob(self, z, f, y, x):\n",
    "        return self.Z(x).log_prob(z), self.F(x).log_prob(f), self.Y(f=f, x=x).log_prob(y)"
   ]
  },
  {
   "cell_type": "markdown",
   "metadata": {
    "id": "j773KVdTuDYn"
   },
   "source": [
    "## ELBO\n",
    "\n",
    "For a single observation $x$, our ELBO corresponds to:\n",
    "\n",
    "\\begin{align}\n",
    "\\mathrm{ELBO}_x(\\theta, \\lambda) \n",
    "&=  \\mathbb E_{Z,F,Y|X=x,\\lambda} \\left[ \\log p_{X|ZY}(x| z, y,\\theta) - \\mathrm{KL}(Y|X=x,F=f,\\lambda || Y|F=f,\\theta)  \\right] \\\\\n",
    "& - \\mathrm{KL}(Z|X=x,\\lambda \\mid\\mid Z|\\theta ) - \\mathrm{KL}(F|X=x,\\lambda \\mid\\mid F|\\theta )\n",
    "\\end{align}\n",
    "\n",
    "A gradient estimator for $\\theta$ can be obtained via\n",
    "\\begin{align}\n",
    "\\nabla_\\theta \\mathrm{ELBO}_x(\\theta, \\lambda)&\\approx \\nabla_\\theta \\log p_{X|Y}(x|y, \\theta) \\\\\n",
    "&- \\nabla_\\theta \\mathrm{KL}(Y|X=x,F=f,\\lambda || Y|F=f,\\theta) \\\\\n",
    "&- \\nabla_\\theta \\mathrm{KL}(F|X=x,\\lambda \\mid\\mid F|\\theta ) \\\\\n",
    "&- \\nabla_\\theta \\mathrm{KL}(Z|X=x,\\lambda \\mid\\mid Z|\\theta )\n",
    "\\end{align}\n",
    "with $z,f, y \\sim Z,F,Y|X=x, \\lambda$.\n",
    "\n",
    "A gradient estimator for $\\lambda$ can be obtained via\n",
    "\\begin{align}\n",
    "\\nabla_\\lambda  \\mathrm{ELBO}_x(\\theta, \\lambda) &\\approx \\nabla_{\\lambda} \\log p_{X|Y}(x|y=\\mathcal T(\\epsilon; \\lambda), \\theta) \\\\\n",
    "&-\\nabla_\\lambda \\mathrm{KL}(Y|X=x,F=f,\\lambda || Y|F=f,\\theta) \\\\\n",
    "&-\\nabla_\\lambda \\mathrm{KL}(F|X=x,\\lambda \\mid\\mid F|\\theta ) \\\\\n",
    "&-\\nabla_\\lambda \\mathrm{KL}(Z|X=x,\\lambda \\mid\\mid Z|\\theta ) \\\\\n",
    "&+\\left( \\log p_{X|Y}(x|y, \\theta) -  \\mathrm{KL}(Y|X=x,F=f,\\lambda || Y|F=f,\\theta) \\right) \\nabla_\\lambda \\log q_{F|X}(f|x,\\lambda)\n",
    "\\end{align}\n",
    "with $z = \\mathcal S(\\epsilon; \\lambda)$ for $\\epsilon \\sim \\Phi$, $f \\sim F|X=x,\\lambda$, $y = \\mathcal T(\\gamma; \\lambda)$ for $\\epsilon \\sim \\Gamma$.\n",
    "\n",
    "A surrogate in `pytorch` is given by \n",
    "\\begin{align}\n",
    "&\\log p_{X|Y}(x|y, \\theta) \\\\\n",
    "&- \\mathrm{KL}(Y|X=x,F=f,\\lambda || Y|F=f,\\theta) \\\\\n",
    "&- \\mathrm{KL}(F|X=x,\\lambda \\mid\\mid F|\\theta )\\\\\n",
    "&- \\mathrm{KL}(Z|X=x,\\lambda \\mid\\mid Z|\\theta )\\\\\n",
    "&+ \\mathrm{detach}\\left( \\log p_{X|Y}(x|y, \\theta) -  \\mathrm{KL}(Y|X=x,F=f,\\lambda || Y|F=f,\\theta) \\right) \\log q_{F|X}(f|x,\\lambda)\n",
    "\\end{align}\n",
    "again with $z = \\mathcal S(\\epsilon; \\lambda)$ for $\\epsilon \\sim \\Phi$, $f \\sim F|X=x,\\lambda$, $y = \\mathcal T(\\gamma; \\lambda)$ for $\\epsilon \\sim \\Gamma$.\n",
    "\n"
   ]
  },
  {
   "cell_type": "code",
   "execution_count": 12,
   "metadata": {
    "id": "joQjUIlPhrYn"
   },
   "outputs": [],
   "source": [
    "from collections import OrderedDict, deque\n",
    "\n",
    "\n",
    "class VAE:\n",
    "\n",
    "    def __init__(self, p: GenerativeModel, q: InferenceModel, \n",
    "                 use_self_critic=False, use_reward_standardisation=True):\n",
    "        self.p = p\n",
    "        self.q = q\n",
    "        self.use_self_critic = use_self_critic\n",
    "        self.use_reward_standardisation = use_reward_standardisation\n",
    "        self._rewards = deque([])\n",
    "\n",
    "    def train(self):\n",
    "        self.p.train()\n",
    "        self.q.train()\n",
    "\n",
    "    def eval(self):\n",
    "        self.p.eval()\n",
    "        self.q.eval()\n",
    "\n",
    "    def gen_parameters(self):\n",
    "        return self.p.parameters()\n",
    "\n",
    "    def inf_parameters(self):\n",
    "        return self.q.parameters()   \n",
    "    \n",
    "    def critic(self, x_obs, z, q_F):\n",
    "        \"\"\"This estimates reward (w.r.t sampling of F) on a single sample for variance reduction\"\"\"\n",
    "        B, H, K, D = x_obs.shape[0], self.p.z_dim, self.p.y_dim, self.p.data_dim\n",
    "        with torch.no_grad():            \n",
    "            # [B, K]\n",
    "            f = q_F.sample() \n",
    "            assert_shape(f, (B, K), \"f ~ F|X=x, \\lambda\")\n",
    "            q_Y = self.q.Y(f, x_obs)\n",
    "            # [B, K]\n",
    "            y = q_Y.sample() \n",
    "            assert_shape(y, (B, K), \"y ~ Y|F=f, \\lambda\")\n",
    "\n",
    "            p_F = self.p.F()\n",
    "            if p_F.batch_shape != x_obs.shape[:1]:\n",
    "                p_F = p_F.expand(x_obs.shape[:1] + p_F.batch_shape)\n",
    "\n",
    "            p_Y = self.p.Y(f)  # we condition on f ~ q_F         \n",
    "            p_X = self.p.X(z=z, y=y)  # we condition on y ~ q_Y and z ~ q_Z\n",
    "\n",
    "            # [B]\n",
    "            ll = p_X.log_prob(x_obs)\n",
    "            # [B]\n",
    "            kl_Y_given_f = td.kl_divergence(q_Y, p_Y)\n",
    "            # [B]\n",
    "            return ll - kl_Y_given_f\n",
    "        \n",
    "    def update_reward_stats(self, reward):\n",
    "        \"\"\"Return the current statistics and update the vector\"\"\"\n",
    "        if len(self._rewards) > 1:\n",
    "            avg = np.mean(self._rewards)\n",
    "            std = np.std(self._rewards)\n",
    "        else:\n",
    "            avg = 0.0\n",
    "            std = 1.0\n",
    "        if len(self._rewards) == 100:\n",
    "            self._rewards.popleft()\n",
    "        self._rewards.append(reward.mean(0).item())\n",
    "        return avg, std\n",
    "\n",
    "    def loss(self, x_obs):\n",
    "        \"\"\"\n",
    "        :param x_obs: [B, D]\n",
    "        \"\"\"\n",
    "        B, H, K, D = x_obs.shape[0], self.p.z_dim, self.p.y_dim, self.p.data_dim\n",
    "\n",
    "        q_Z = self.q.Z(x_obs)\n",
    "        # [B, H]\n",
    "        z = q_Z.rsample()  # with reparameterisation\n",
    "        assert_shape(z, (B, H), \"z ~ Z|X=x, \\lambda\")\n",
    "                \n",
    "        q_F = self.q.F(x_obs)\n",
    "        # [B, K]\n",
    "        f = q_F.sample() # not rsample\n",
    "        assert_shape(f, (B, K), \"f ~ F|X=x, \\lambda\")\n",
    "        \n",
    "        q_Y = self.q.Y(f=f, x=x_obs)\n",
    "        y = q_Y.rsample()  # with reparameterisation! (important)\n",
    "        assert_shape(y, (B, K), \"y ~ Y|F=f, \\lambda\")\n",
    "        \n",
    "        p_Z = self.p.Z()\n",
    "        if p_Z.batch_shape != x_obs.shape[:1]:\n",
    "            p_Z = p_Z.expand(x_obs.shape[:1] + p_Z.batch_shape)\n",
    "            \n",
    "        p_F = self.p.F()\n",
    "        if p_F.batch_shape != x_obs.shape[:1]:\n",
    "            p_F = p_F.expand(x_obs.shape[:1] + p_F.batch_shape)\n",
    "        \n",
    "        p_Y = self.p.Y(f)  # we condition on f ~ q_F  \n",
    "        p_X = self.p.X(z=z, y=y)  # we condition on y ~ q_Y\n",
    "\n",
    "        \n",
    "        # Return type\n",
    "        ret = OrderedDict(\n",
    "            loss=0.,\n",
    "        )\n",
    "        \n",
    "        # ELBO: the first term is an MC estimate (we sampled (f,y))\n",
    "        # the second term is exact \n",
    "        # the third tuse_self_criticis an MC estimate (we sampled f)\n",
    "        ll = p_X.log_prob(x_obs)        \n",
    "        kl_Z = td.kl_divergence(q_Z, p_Z)\n",
    "        kl_Y_given_f = td.kl_divergence(q_Y, p_Y)\n",
    "        kl_F = td.kl_divergence(q_F, p_F)\n",
    "        \n",
    "        # Logging ELBO terms\n",
    "        ret['LL'] = ll.mean(0).item()\n",
    "        if self.p.z_dim:\n",
    "            ret['KL_Z'] = kl_Z.mean(0).item()        \n",
    "        if self.p.y_dim:\n",
    "            ret['KL_F'] = kl_F.mean(0).item()\n",
    "            ret['KL_Y'] = kl_Y_given_f.mean(0).item()\n",
    "            \n",
    "        # Gradient surrogates and loss\n",
    "        \n",
    "        # i) reparameterised gradient (g_rep)\n",
    "        grep_surrogate = ll - kl_Z - kl_F - kl_Y_given_f\n",
    "\n",
    "        # ii) score function estimator (g_SFE)\n",
    "        if self.p.y_dim:            \n",
    "            # E_ZFY[ log p(x|z,f,y)] - -KL(Z) - KL(F) - E_F[ KL(Y) ]\n",
    "            # E_F[ E_Y[ E_Z[ log p(x|z,f,y) ] - KL(Y) ] ] -KL(Z) - KL(F)\n",
    "            # E_F[ r(F) ] for r(f) = log p(x|z,f,y)\n",
    "            # r(f).detach() * log q(f)\n",
    "            reward = (ll - kl_Y_given_f).detach()        \n",
    "            # Variance reduction tricks\n",
    "            if self.use_self_critic:\n",
    "                criticised_reward = reward - self.critic(x_obs, z=z, q_F=q_F).detach()\n",
    "            else:\n",
    "                criticised_reward = reward        \n",
    "            if self.use_reward_standardisation:\n",
    "                reward_avg, reward_std = self.update_reward_stats(criticised_reward)\n",
    "                standardised_reward = (criticised_reward - reward_avg) / np.minimum(reward_std, 1.0)\n",
    "            else:\n",
    "                standardised_reward = criticised_reward\n",
    "\n",
    "            sfe_surrogate = standardised_reward * q_F.log_prob(f)\n",
    "            \n",
    "            # Loggin SFE variants\n",
    "            ret['SFE_reward'] = reward.mean(0).item()\n",
    "            if self.use_self_critic:\n",
    "                ret['SFE_criticised_reward'] = criticised_reward.mean(0).item()\n",
    "            if self.use_reward_standardisation:\n",
    "                ret['SFE_standardised_reward'] = standardised_reward.mean(0).item()\n",
    "        else:\n",
    "            sfe_surrogate = torch.zeros_like(grep_surrogate)\n",
    "        \n",
    "        # []\n",
    "        loss = -(grep_surrogate + sfe_surrogate).mean(0)\n",
    "        ret['loss'] = loss.item()\n",
    "\n",
    "        return loss, ret\n",
    "\n",
    "    def estimate_ll(self, x_obs, num_samples):     \n",
    "        with torch.no_grad():\n",
    "            self.eval()\n",
    "            # log 1/N \\sum_{n} p(x, z_n)/q(z_n|x)\n",
    "            # [N, B, H], [N, B, K], [N, B, K]\n",
    "            z, f, y = self.q.sample(x_obs, (num_samples,))\n",
    "            # Here I compute: log p(z) + log p(f) + log p(y|f) + log p(x|f,y)\n",
    "            # stack([N, B], [N, B], [N, B], [N,B]) -> [N, B, 4], then reduce to [N, B]\n",
    "            log_p = torch.stack(self.p.log_prob(z=z, f=f, y=y, x=x_obs), -1).sum(-1)\n",
    "            # Here I compute: log q(z) + log q(f) + log q(y|f)\n",
    "            # stack([N, B], [N, B], [N, B]) -> [N, B, 3], then reduce to [N, B]\n",
    "            log_q = torch.stack(self.q.log_prob(z=z, f=f, y=y, x=x_obs), -1).sum(-1)\n",
    "            # [B]\n",
    "            ll = torch.logsumexp(log_p - log_q, 0) - np.log(num_samples)                    \n",
    "        return ll\n",
    "\n",
    "    def estimate_ll_per_bit(self, x_obs, num_samples):             \n",
    "        with torch.no_grad():\n",
    "            # log 1/N \\sum_{n} p(x, z_n)/q(z_n|x)\n",
    "            # [N, B, H], [N, B, K], [N, B, K]\n",
    "            z, f, y = self.q.sample(x_obs, (num_samples,))        \n",
    "            # [N, B], [N, B], [N, B], [N, B, D]\n",
    "            log_pz, log_pf, log_py, log_px = self.p.log_prob(z=z, f=f, y=y, x=x_obs, per_bit=True)\n",
    "            # [N, B, D]\n",
    "            log_p = log_pz.unsqueeze(-1) + log_pf.unsqueeze(-1) + log_py.unsqueeze(-1) + log_px\n",
    "            # [N, B]\n",
    "            log_q = torch.stack(self.q.log_prob(z=z, f=f, y=y, x=x_obs), -1).sum(-1)\n",
    "            # [B, D]\n",
    "            ll = torch.logsumexp(log_p - log_q.unsqueeze(-1), 0) - np.log(num_samples)                    \n",
    "        return ll"
   ]
  },
  {
   "cell_type": "markdown",
   "metadata": {
    "id": "dfF4Ick8jiZX"
   },
   "source": [
    "# MNIST \n",
    "\n",
    "* Download\n",
    "* Preprocess\n",
    "* Batcher"
   ]
  },
  {
   "cell_type": "code",
   "execution_count": null,
   "metadata": {
    "id": "2Lus-9fpjvaq"
   },
   "outputs": [],
   "source": []
  },
  {
   "cell_type": "markdown",
   "metadata": {
    "id": "y7qfip0KvH_h"
   },
   "source": [
    "## Data and Batcher"
   ]
  },
  {
   "cell_type": "code",
   "execution_count": 13,
   "metadata": {
    "id": "geaiBwByZ5GJ"
   },
   "outputs": [],
   "source": [
    "import pathlib\n",
    "import numpy as np\n",
    "import torch\n",
    "import torch.utils.data\n",
    "from torchvision import datasets, transforms\n",
    "\n",
    "\n",
    "def boolean_argument(string):\n",
    "    return str(string).lower() in {\"true\", \"yes\", \"1\"}\n",
    "\n",
    "\n",
    "def list_argument(dtype, separator=\",\"):\n",
    "    def constructor(string):\n",
    "        return [dtype(x) for x in string.split(separator)]\n",
    "    return constructor\n",
    "\n",
    "def print_digit(matrix):\n",
    "    rows = []\n",
    "    for i in range(matrix.size(0)):\n",
    "        row = \"\"\n",
    "        for j in range(matrix.size(1)):\n",
    "            row += \"x\" if matrix[i,j] >= 0.5 else \" \"\n",
    "        rows.append(row)\n",
    "    return \"\\n\".join(rows)\n",
    "\n",
    "\n",
    "def load_mnist(batch_size, save_to, height=28, width=28):\n",
    "    \"\"\"\n",
    "    :param batch_size: the dataloader will create batches of this size\n",
    "    :param save_to: a folder where we download the data into    \n",
    "    :param height: using something other than 28 implies a Resize transformation\n",
    "    :param width: using something other than 28 implies a Resize transformation\n",
    "    :return: 3 data loaders\n",
    "        training, validation, test\n",
    "    \"\"\"\n",
    "    # create directory\n",
    "    pathlib.Path(save_to).mkdir(parents=True, exist_ok=True)\n",
    "    \n",
    "    if height == width == 28:\n",
    "        transform = transforms.ToTensor()    \n",
    "    else:        \n",
    "        transform = transforms.Compose([\n",
    "            transforms.Resize((height, width)), \n",
    "            transforms.ToTensor()]\n",
    "        )\n",
    "\n",
    "    train_loader = torch.utils.data.DataLoader(\n",
    "        torch.utils.data.Subset(\n",
    "            datasets.MNIST(\n",
    "                save_to,\n",
    "                train=True, \n",
    "                download=True, \n",
    "                transform=transform),\n",
    "            indices=range(55000)), \n",
    "        batch_size=batch_size,\n",
    "        shuffle=True\n",
    "    )\n",
    "    valid_loader = torch.utils.data.DataLoader(\n",
    "        torch.utils.data.Subset(\n",
    "            datasets.MNIST(\n",
    "                save_to,\n",
    "                train=True, \n",
    "                download=True, \n",
    "                transform=transform),\n",
    "            indices=range(55000, 60000)), \n",
    "        batch_size=batch_size,\n",
    "        shuffle=True\n",
    "    )\n",
    "    test_loader = torch.utils.data.DataLoader(\n",
    "        datasets.MNIST(\n",
    "            save_to,\n",
    "            train=False, \n",
    "            download=True, \n",
    "            transform=transform),\n",
    "        batch_size=batch_size\n",
    "    )\n",
    "    return train_loader, valid_loader, test_loader\n",
    "\n",
    "\n",
    "class Batcher:\n",
    "    \"\"\"\n",
    "    Deals with options such as\n",
    "        * dynamic binarization\n",
    "        * change to device\n",
    "        * shape\n",
    "        * one-hot encoding of digits\n",
    "    \"\"\"\n",
    "    \n",
    "    def __init__(self, data_loader, height, width, device, binarize=False, onehot=False, num_classes=10): \n",
    "        self.data_loader = data_loader\n",
    "        self.height = height\n",
    "        self.width = width\n",
    "        self.device = device\n",
    "        self.binarize = binarize\n",
    "        self.num_batches = len(data_loader)\n",
    "        self.onehot = onehot\n",
    "        self.num_classes = num_classes\n",
    "            \n",
    "    def __len__(self):\n",
    "        return self.num_batches\n",
    "    \n",
    "    def __iter__(self):\n",
    "        \"\"\"        \n",
    "        Yields\n",
    "            x: [B, H, W], y: [B]\n",
    "        or\n",
    "            x: [B, H, W], y: [B, 10]\n",
    "        \"\"\"\n",
    "        for x, y in self.data_loader: \n",
    "            # x: [B, C=1, H, W], y: [B]\n",
    "            # [B, H, W]\n",
    "            x = x.reshape(x.size(0), self.height, self.width).to(self.device)\n",
    "            if self.binarize:\n",
    "                x = (x > torch.rand_like(x)).float()\n",
    "            # [B]\n",
    "            y = y.to(self.device)\n",
    "            if self.onehot:\n",
    "                # [B, 10]\n",
    "                y = torch.nn.functional.one_hot(y, num_classes=self.num_classes)\n",
    "            yield x, y\n",
    "                \n"
   ]
  },
  {
   "cell_type": "markdown",
   "metadata": {
    "id": "sfyA6CapvEbC"
   },
   "source": [
    "## Hyperparameters"
   ]
  },
  {
   "cell_type": "code",
   "execution_count": 14,
   "metadata": {
    "id": "QwDEnApvimc0"
   },
   "outputs": [],
   "source": [
    "from collections import namedtuple\n",
    "cfg = dict(\n",
    "    # Data\n",
    "    batch_size=200,\n",
    "    data_dir='tmp',\n",
    "    height=28,\n",
    "    width=28, \n",
    "    # CUDA\n",
    "    device='cuda:0',\n",
    "    # Joint distribution\n",
    "    z_dim=64, \n",
    "    y_dim=0,\n",
    "    cond='fx',\n",
    "    prior_scores=0.0,\n",
    "    prior_location=0.0, \n",
    "    prior_scale=1.0,\n",
    "    # Architecture\n",
    "    hidden_enc_size=500,\n",
    "    hidden_dec_size=500,\n",
    "    # Training\n",
    "    epochs=200,    \n",
    "    # Evaluation\n",
    "    num_samples=100,    \n",
    "    # Optimisation & regularisation\n",
    "    gen_lr=1e-4,\n",
    "    inf_lr=1e-4,  \n",
    "    gen_l2=1e-4,\n",
    "    inf_l2=1e-4,  \n",
    "    gen_p_drop=0.1,  \n",
    "    inf_p_drop=0.0,  # dropout for inference model is not well understood    \n",
    "    grad_clip=5.0,\n",
    "    # Variance reduction\n",
    "    use_self_critic=False,\n",
    "    use_reward_standardisation=True,\n",
    ")\n",
    "args = namedtuple('Config', cfg.keys())(*cfg.values())"
   ]
  },
  {
   "cell_type": "code",
   "execution_count": 15,
   "metadata": {
    "id": "QP01-3NGhrYq"
   },
   "outputs": [],
   "source": [
    "# You can skip this on Colab\n",
    "\n",
    "# Download MNIST\n",
    "#!wget www.di.ens.fr/~lelarge/MNIST.tar.gz\n",
    "#!tar -zxvf MNIST.tar.gz"
   ]
  },
  {
   "cell_type": "code",
   "execution_count": 16,
   "metadata": {
    "colab": {
     "base_uri": "https://localhost:8080/",
     "height": 845,
     "referenced_widgets": [
      "9049691356d04d3c9f79245a12e22c2d",
      "a52a3ce8dde147f6b45b684cb57c5eb5",
      "0e0f5d2863544ecea35d0acf4f81f267",
      "026c452c13f74a0aa071ab5869027a7a",
      "18c5a2181a6b4979ba35dd9bc738ddf8",
      "db95898f256f474d9264009bd6f5939f",
      "1158c2e933694df38bce84f1c1e4b8f7",
      "2992689582d94ea0b3e2a166461861d3",
      "2ee410127a6540ba85b6d733f50a9df8",
      "a0cd4f136d48492ba89ddc256d21ec54",
      "687400af482f43239a161d7a6f2d7a97",
      "5c2c665e1dfc4b2785cf4015421e2ddc",
      "ddfea72bf1334cc98c8f46f969ec2d50",
      "966328cab55848c6a9605f4828637fed",
      "0b74813a212940708ccbe6dc9c353813",
      "519071893e9f4ed9be9ecb55833d7d07",
      "7f79b9e35755453c8fbd5a6f20d49498",
      "4ed6b82f4b61457e996fc31e14789257",
      "a286bdc1c9a6485ba77b8d79726c4c3f",
      "6582cc71adc04d45b7687c571614931c",
      "08101fefdba5474193cae33d3418a2e8",
      "3e0fdd4d4d874e4ba72106d0ccfa263f",
      "3101e39990db4580877323e9ee2954ea",
      "fc73554bd1054f3b95d157ddaa22a8a9",
      "32dde89004e541a78ee6d35af5d3f14b",
      "05389b71a6b545cf9b61d9f63f79c894",
      "642b9f5fb1624f2c97344e8e7a6c5d20",
      "a9ff1ca678d44b0b96e0aea1541c8359",
      "9328008d582947ee9a7dddef3d6571da",
      "f839264c20cd46feb8ce184e87e85416",
      "8be95b95873544a79de9124a8ed267d8",
      "09a30ad3b16444309a2f2591382c5735"
     ]
    },
    "id": "lymJpzWjiAr2",
    "outputId": "346ad792-2d1a-45ca-a6ca-4a4cb59c5e3f"
   },
   "outputs": [],
   "source": [
    "train_loader, valid_loader, test_loader = load_mnist(\n",
    "    args.batch_size, \n",
    "    save_to='./', \n",
    "    height=args.height, \n",
    "    width=args.width\n",
    ")"
   ]
  },
  {
   "cell_type": "code",
   "execution_count": 17,
   "metadata": {
    "id": "D14BEA5miVQA"
   },
   "outputs": [],
   "source": [
    "def get_batcher(data_loader, args):\n",
    "    batcher = Batcher(\n",
    "        data_loader, \n",
    "        height=args.height, \n",
    "        width=args.width, \n",
    "        device=torch.device(args.device), \n",
    "        binarize=True, \n",
    "        num_classes=10,\n",
    "        onehot=True\n",
    "    )\n",
    "    return batcher"
   ]
  },
  {
   "cell_type": "markdown",
   "metadata": {
    "id": "7U-fMXd6vL9K"
   },
   "source": [
    "## Model"
   ]
  },
  {
   "cell_type": "code",
   "execution_count": 18,
   "metadata": {
    "id": "-HOehRT3hrYs"
   },
   "outputs": [],
   "source": [
    "p = GenerativeModel(\n",
    "    z_dim=args.z_dim, \n",
    "    y_dim=args.y_dim,\n",
    "    data_dim=args.height * args.width, \n",
    "    hidden_dec_size=args.hidden_dec_size,\n",
    "    p_drop=args.gen_p_drop,\n",
    "    prior_scores=args.prior_scores,\n",
    "    prior_location=args.prior_location,\n",
    "    prior_scale=args.prior_scale,\n",
    ").to(torch.device(args.device))"
   ]
  },
  {
   "cell_type": "code",
   "execution_count": 19,
   "metadata": {
    "id": "Xv813v7HhrYs"
   },
   "outputs": [],
   "source": [
    "q = InferenceModel(\n",
    "    z_dim=args.z_dim, \n",
    "    y_dim=args.y_dim,\n",
    "    data_dim=args.height * args.width, \n",
    "    hidden_enc_size=args.hidden_enc_size,\n",
    "    cond=args.cond,\n",
    "    p_drop=args.inf_p_drop,\n",
    ").to(torch.device(args.device))"
   ]
  },
  {
   "cell_type": "code",
   "execution_count": 20,
   "metadata": {
    "colab": {
     "base_uri": "https://localhost:8080/"
    },
    "id": "GFWDrzGdmij9",
    "outputId": "c530f319-6030-4d17-dbb7-654bec02c0bb"
   },
   "outputs": [
    {
     "data": {
      "text/plain": [
       "(tensor([ 0.1641, -0.8746,  0.9607, -1.4524,  0.3092, -0.2787,  0.7192,  1.9776,\n",
       "          1.1006,  0.5465, -0.0886, -0.4419, -0.7489, -1.0279,  0.2004, -0.0572,\n",
       "         -0.4276, -0.2165, -0.5024,  0.3090, -0.4134, -0.9651,  0.1147, -1.1152,\n",
       "         -0.1759,  0.6433, -0.5379, -0.3646, -0.6955,  0.1918,  1.0278,  1.0424,\n",
       "         -0.2277, -0.0483,  1.1534,  0.8465,  0.7757,  0.3276, -0.2328,  0.7774,\n",
       "          0.0409,  0.2743,  0.6523, -0.9400, -0.0259,  0.9559,  1.0156,  0.4412,\n",
       "          0.0276, -0.2101, -0.4259,  0.6221, -0.0862, -0.8257, -0.4127,  1.5109,\n",
       "         -0.0140,  0.3614,  1.0130, -0.3094,  1.2239,  0.8826, -0.4589,  0.1659],\n",
       "        device='cuda:0'),\n",
       " tensor([], device='cuda:0'),\n",
       " tensor([], device='cuda:0'))"
      ]
     },
     "execution_count": 20,
     "metadata": {},
     "output_type": "execute_result"
    }
   ],
   "source": [
    "q.sample(p.sample()[-1])"
   ]
  },
  {
   "cell_type": "code",
   "execution_count": 21,
   "metadata": {},
   "outputs": [
    {
     "data": {
      "text/plain": [
       "(tensor(-72.4419, device='cuda:0', grad_fn=<SumBackward1>),\n",
       " tensor(0., device='cuda:0'),\n",
       " tensor(0., device='cuda:0'))"
      ]
     },
     "execution_count": 21,
     "metadata": {},
     "output_type": "execute_result"
    }
   ],
   "source": [
    "q.log_prob(\n",
    "    *q.sample(p.sample()[-1]), \n",
    "    x=torch.zeros(args.height * args.width, device=torch.device(args.device))\n",
    ")"
   ]
  },
  {
   "cell_type": "code",
   "execution_count": 22,
   "metadata": {
    "id": "V3-92i2xhrYt"
   },
   "outputs": [],
   "source": [
    "vae = VAE(\n",
    "    p, \n",
    "    q, \n",
    "    use_self_critic=args.use_self_critic, \n",
    "    use_reward_standardisation=args.use_reward_standardisation\n",
    ")"
   ]
  },
  {
   "cell_type": "markdown",
   "metadata": {
    "id": "xZXxLFbepKxI"
   },
   "source": [
    "## Visualisations\n",
    "\n",
    "* Compare statistics of samples from $p$ to those of samples from $q$\n",
    "* Visualise a few generations"
   ]
  },
  {
   "cell_type": "code",
   "execution_count": 23,
   "metadata": {
    "id": "2ApPTuJLumgJ"
   },
   "outputs": [],
   "source": [
    "from matplotlib import pyplot as plt\n",
    "from collections import defaultdict"
   ]
  },
  {
   "cell_type": "code",
   "execution_count": 24,
   "metadata": {},
   "outputs": [],
   "source": [
    "def bitvec2str(f, as_set=False):\n",
    "    return ''.join('1' if b else '0' for b in f) if not as_set else '{' + ','.join(f'{i:1d}' for i, b in enumerate(f, 1) if b) + '}'"
   ]
  },
  {
   "cell_type": "code",
   "execution_count": 25,
   "metadata": {
    "id": "c9QpZEQrudhc"
   },
   "outputs": [],
   "source": [
    "def compare_p_q(vae, batcher: Batcher, args): \n",
    "    with torch.no_grad():\n",
    "        vae.eval()        \n",
    "    \n",
    "        prior = defaultdict(list)\n",
    "        posterior = defaultdict(list)\n",
    "        other = defaultdict(list)\n",
    "        num_obs = 0\n",
    "\n",
    "        # Some visualisations\n",
    "        for x_obs, y_obs in batcher:\n",
    "            \n",
    "            # [B, H*W]\n",
    "            x_obs = x_obs.reshape(-1, args.height * args.width)\n",
    "            num_obs += x_obs.shape[0]\n",
    "\n",
    "            # [B, 10]\n",
    "            context = None\n",
    "            \n",
    "            B, H, K, D = x_obs.shape[0], vae.p.z_dim, vae.p.y_dim, vae.p.data_dim            \n",
    "            \n",
    "            # [B, H]\n",
    "            z = vae.p.Z().expand((B,)).sample()\n",
    "            # [B, K]\n",
    "            f = vae.p.F().expand((B,)).sample()\n",
    "            y = vae.p.Y(f).sample()\n",
    "            #x = vae.p.X(z=z, y=y).sample()\n",
    "            \n",
    "            # [B, K]\n",
    "            prior['z'].append(z.cpu().numpy())\n",
    "            # [B, K]\n",
    "            prior['f'].append(f.cpu().numpy())\n",
    "            # [B]\n",
    "            prior['dim'].append(f.sum(-1).cpu().numpy())\n",
    "            # [B, K]\n",
    "            prior['y'].append(y.cpu().numpy())\n",
    "            \n",
    "            # [B, H], [B, K], [B, K]\n",
    "            z, f, y = vae.q.sample(x_obs)\n",
    "            # [B, H]\n",
    "            posterior['z'].append(z.cpu().numpy())\n",
    "            # [B, K]\n",
    "            posterior['f'].append(f.cpu().numpy())\n",
    "            # [B]\n",
    "            posterior['dim'].append(f.sum(-1).cpu().numpy())\n",
    "            # [B, K]\n",
    "            posterior['y'].append(y.cpu().numpy())\n",
    "            #print(posterior['f'][-1].shape, posterior['dim'][-1].shape, posterior['y'][-1].shape)\n",
    "            \n",
    "            # [B]\n",
    "            other['KL_Z'].append(td.kl_divergence(q.Z(x_obs), p.Z().expand((B,))).cpu().numpy())\n",
    "            other['KL_F'].append(td.kl_divergence(q.F(x_obs), p.F().expand((B,))).cpu().numpy())\n",
    "            other['KL_Y_f'].append(td.kl_divergence(q.Y(f, x_obs), p.Y(f)).cpu().numpy())\n",
    "            \n",
    "        # KLs\n",
    "        print(\"For a trained VAE: \")\n",
    "        print(\" 1. We want to see that KL(Z|x || Z), KL(F|x || F), and KL(Y|f,x || Y|f) are generally > 0 for any x ~ D.\")\n",
    "        \n",
    "        if vae.p.z_dim:\n",
    "            _ = plt.hist(np.concatenate(other['KL_Z'], 0), bins=20)\n",
    "            _ = plt.xlabel(r'$KL( Z|x,\\lambda || Z| \\theta )$')\n",
    "            plt.show()\n",
    "\n",
    "        if vae.p.y_dim:\n",
    "            _ = plt.hist(np.concatenate(other['KL_F'], 0), bins=20)\n",
    "            _ = plt.xlabel(r'$KL( F|x,\\lambda || F| \\theta )$')\n",
    "            plt.show()\n",
    "\n",
    "            _ = plt.hist(np.concatenate(other['KL_Y_f'], 0), bins=20)\n",
    "            _ = plt.xlabel(r'$KL( Y|f,x,\\lambda || Y|f, \\theta )$')\n",
    "            plt.show()\n",
    "            \n",
    "        \n",
    "        print(\" 2. But, marginally, we expect E_X[Z|X] ~ Z E_X[F|X] ~ F and E_FX[Y|F,X] ~ E_F[Y|F].\")\n",
    "        \n",
    "        if vae.p.z_dim:\n",
    "            _ = plt.hist(np.concatenate(prior['z'], 0).flatten(), density=True, alpha=0.3, label='Z')\n",
    "            _ = plt.hist(np.concatenate(posterior['z'], 0).flatten(), density=True, alpha=0.3, label='E_X[Z|X]')\n",
    "            _ = plt.xlabel(r'$Z_d$')\n",
    "            _ = plt.legend()\n",
    "            plt.show()\n",
    "\n",
    "        if vae.p.y_dim:\n",
    "            # Pr(F_k = 1) compared to E_X[ I[F_k = 1] ]\n",
    "            _ = plt.imshow(\n",
    "                np.stack([vae.p.F().marginals().cpu().numpy(), np.concatenate(prior['f'], 0).mean(0), np.concatenate(posterior['f'], 0).mean(0)]), \n",
    "                interpolation='nearest',\n",
    "            )\n",
    "            _ = plt.colorbar()\n",
    "            _ = plt.xlabel('k')\n",
    "            _ = plt.yticks([0,1, 2], ['F', 'E[F]', 'E[F|X]'])\n",
    "            _ = plt.title(r'Marginal probability that $F_k = 1$')\n",
    "            plt.show()\n",
    "\n",
    "            # Y_k compared to E_X[Y_k]\n",
    "\n",
    "            _ = plt.imshow(\n",
    "                np.stack([np.concatenate(prior['y'], 0).mean(0), np.concatenate(posterior['y'], 0).mean(0)]), \n",
    "                interpolation='nearest'\n",
    "            )\n",
    "            _ = plt.colorbar()\n",
    "            _ = plt.xlabel('k')\n",
    "            _ = plt.yticks([0, 1], ['E[Y|F]', 'E[Y|F,X]'])\n",
    "            _ = plt.title(r'Average $Y_k$')\n",
    "            plt.show()\n",
    "\n",
    "            _ = plt.hist(\n",
    "                np.concatenate(prior['dim'], 0), \n",
    "                alpha=0.3, label='dim(F)', bins=np.arange(0, 11))\n",
    "            _ = plt.hist(\n",
    "                np.concatenate(posterior['dim'], 0), \n",
    "                alpha=0.3, label='E[dim(F)|X]', bins=np.arange(0, 11))\n",
    "            _ = plt.ylabel(f'Count')\n",
    "            _ = plt.xlabel('dim(f)+1')\n",
    "            _ = plt.xticks(np.arange(1,11), np.arange(1,11))\n",
    "            _ = plt.title(f'Distribution of dim(f)')\n",
    "            _ = plt.legend()\n",
    "            plt.show()\n"
   ]
  },
  {
   "cell_type": "code",
   "execution_count": 26,
   "metadata": {
    "colab": {
     "base_uri": "https://localhost:8080/",
     "height": 1000
    },
    "id": "cighi_3_qx9t",
    "outputId": "23f0a95f-7448-4257-f921-b6eb64a2cb26"
   },
   "outputs": [
    {
     "name": "stdout",
     "output_type": "stream",
     "text": [
      "For a trained VAE: \n",
      " 1. We want to see that KL(Z|x || Z), KL(F|x || F), and KL(Y|f,x || Y|f) are generally > 0 for any x ~ D.\n"
     ]
    },
    {
     "data": {
      "image/png": "[encoded data removed]",
      "text/plain": [
       "<Figure size 432x288 with 1 Axes>"
      ]
     },
     "metadata": {
      "needs_background": "light"
     },
     "output_type": "display_data"
    },
    {
     "name": "stdout",
     "output_type": "stream",
     "text": [
      " 2. But, marginally, we expect E_X[Z|X] ~ Z E_X[F|X] ~ F and E_FX[Y|F,X] ~ E_F[Y|F].\n"
     ]
    },
    {
     "data": {
      "image/png": "[encoded data removed]",
      "text/plain": [
       "<Figure size 432x288 with 1 Axes>"
      ]
     },
     "metadata": {
      "needs_background": "light"
     },
     "output_type": "display_data"
    }
   ],
   "source": [
    "compare_p_q(vae, get_batcher(valid_loader, args), args)"
   ]
  },
  {
   "cell_type": "code",
   "execution_count": 27,
   "metadata": {
    "id": "aHjY_-79jYAZ"
   },
   "outputs": [],
   "source": [
    "def visualize(vae, batcher: Batcher, args, N=4, num_figs=1): \n",
    "\n",
    "    assert N <= args.batch_size, \"N should be no bigger than a batch\"\n",
    "    with torch.no_grad():\n",
    "        vae.p.eval()        \n",
    "        vae.q.eval()\n",
    "            \n",
    "        # Some visualisations\n",
    "        for r, (x_obs, y_obs) in enumerate(batcher, 1):\n",
    "\n",
    "            plt.figure(figsize=(2*N, 2*N))\n",
    "            plt.subplots_adjust(wspace=0.5, hspace=0.5)        \n",
    "        \n",
    "            \n",
    "            # [B, H*W]\n",
    "            x_obs = x_obs.reshape(-1, args.height * args.width)\n",
    "            x_obs = x_obs[:N]\n",
    "            # [B, 10]\n",
    "            context = None\n",
    "            \n",
    "            B, H, K, D = x_obs.shape[0], vae.p.z_dim, vae.p.y_dim, vae.p.data_dim            \n",
    "            # marginal probability\n",
    "            prob = vae.estimate_ll_per_bit(x_obs, args.num_samples).exp()            \n",
    "            # posterior samples\n",
    "            z, f, y = vae.q.sample(x_obs)\n",
    "            x = vae.p.X(z=z, y=y).sample()\n",
    "            # prior samples\n",
    "            z_, f_, y_, x_ = vae.p.sample((N,))\n",
    "\n",
    "            for i in range(N):\n",
    "                plt.subplot(4, N, 0*N + i + 1)\n",
    "                plt.imshow(x_obs[i].reshape(args.height, args.width).cpu(), cmap='Greys')\n",
    "                plt.title(\"$x^{(%d)}$\" % (i+1))\n",
    "\n",
    "                plt.subplot(4, N, 1*N + i + 1)\n",
    "                plt.imshow(x[i].reshape(args.height, args.width).cpu(), cmap='Greys')\n",
    "                plt.title(\"$p(x^{(%d)})$\" % (i+1))\n",
    "                \n",
    "                plt.subplot(4, N, 2*N + i + 1)                \n",
    "                #plt.axhline(y=args.height//2, c='red', linewidth=1, ls='--')\n",
    "                plt.imshow(x[i].reshape(args.height, args.width).cpu(), cmap='Greys')\n",
    "                plt.title(\"X,Y,F|$x^{(%d)}$\" % (i+1))\n",
    "                if 0 < vae.p.y_dim <= 10:\n",
    "                    plt.xlabel(f'f={bitvec2str(f[i])}')\n",
    "                \n",
    "                plt.subplot(4, N, 3*N + i + 1)\n",
    "                plt.imshow(x_[i].reshape(args.height, args.width).cpu(), cmap='Greys')\n",
    "                plt.title(\"X,Y,F\")\n",
    "                if 0 < vae.p.y_dim <= 10:\n",
    "                    plt.xlabel(f'f={bitvec2str(f[i])}')\n",
    "                \n",
    "            plt.show()\n",
    "\n",
    "            if r == num_figs:\n",
    "                break"
   ]
  },
  {
   "cell_type": "code",
   "execution_count": 28,
   "metadata": {
    "colab": {
     "base_uri": "https://localhost:8080/",
     "height": 591
    },
    "id": "UeRvtKu6hrYv",
    "outputId": "980cde12-766b-45e3-bea6-c540f52846f4"
   },
   "outputs": [
    {
     "data": {
      "image/png": "[encoded data removed]",
      "text/plain": [
       "<Figure size 720x720 with 20 Axes>"
      ]
     },
     "metadata": {
      "needs_background": "light"
     },
     "output_type": "display_data"
    }
   ],
   "source": [
    "visualize(vae, get_batcher(valid_loader, args), args, N=5)"
   ]
  },
  {
   "cell_type": "markdown",
   "metadata": {
    "id": "cHU2vfcejqhv"
   },
   "source": [
    "## Training"
   ]
  },
  {
   "cell_type": "code",
   "execution_count": 29,
   "metadata": {
    "id": "xKckbBiFhrYt"
   },
   "outputs": [],
   "source": [
    "def validate(vae, batcher, num_samples):\n",
    "    \"\"\"\n",
    "    Return average NLL and the average number of bits per dimension.\n",
    "    \"\"\"\n",
    "    with torch.no_grad():\n",
    "        vae.eval()\n",
    "        \n",
    "        nb_obs = 0\n",
    "        nb_bits = 0.\n",
    "        ll = 0.\n",
    "        for x_obs, y_obs in batcher:\n",
    "            # [B, H*W]\n",
    "            x_obs = x_obs.reshape(-1, vae.p.data_dim)     \n",
    "            # [B]\n",
    "            ll = ll + vae.estimate_ll(x_obs, num_samples).sum(0)\n",
    "            nb_bits += np.prod(x_obs.shape)\n",
    "            nb_obs += x_obs.shape[0]\n",
    "\n",
    "    nll = - (ll / nb_obs).cpu()\n",
    "    return nll, nll / np.log(2) / vae.p.latent_dim"
   ]
  },
  {
   "cell_type": "code",
   "execution_count": 30,
   "metadata": {
    "id": "VEfnyCs2y-ln"
   },
   "outputs": [],
   "source": [
    "from tqdm.auto import tqdm\n",
    "from itertools import chain\n",
    "from collections import defaultdict"
   ]
  },
  {
   "cell_type": "markdown",
   "metadata": {
    "id": "yWixjAFXzFgf"
   },
   "source": [
    "### Optimiser"
   ]
  },
  {
   "cell_type": "code",
   "execution_count": 31,
   "metadata": {
    "id": "1PdwNsn2zD0h"
   },
   "outputs": [],
   "source": [
    "p_opt = torch.optim.Adam(p.parameters(), lr=args.gen_lr, weight_decay=args.gen_l2)\n",
    "q_opt = torch.optim.Adam(q.parameters(), lr=args.inf_lr, weight_decay=args.inf_l2)\n",
    "stats_tr = defaultdict(list)\n",
    "stats_val = defaultdict(list)"
   ]
  },
  {
   "cell_type": "code",
   "execution_count": null,
   "metadata": {},
   "outputs": [],
   "source": []
  },
  {
   "cell_type": "markdown",
   "metadata": {
    "id": "m_9HDlI3zHyJ"
   },
   "source": [
    "### Steps"
   ]
  },
  {
   "cell_type": "code",
   "execution_count": 32,
   "metadata": {},
   "outputs": [
    {
     "name": "stdout",
     "output_type": "stream",
     "text": [
      "Validation   0: nll=546.41 bpd=12.32\n"
     ]
    }
   ],
   "source": [
    "val_metrics = validate(vae, get_batcher(valid_loader, args), args.num_samples)\n",
    "print(f'Validation {0:3d}: nll={val_metrics[0]:.2f} bpd={val_metrics[1]:.2f}')"
   ]
  },
  {
   "cell_type": "code",
   "execution_count": 33,
   "metadata": {
    "colab": {
     "base_uri": "https://localhost:8080/",
     "height": 400,
     "referenced_widgets": [
      "e6235f86d6144ccba6f6459586bf8b9b",
      "a61874200e1c43bc93cf5f38f4d1602a",
      "3440563d925941f3891b4b1f48d45319",
      "f295266aeaca4088b34f2c9424f2a8a7",
      "a60c0e8b61b74630845a0c22a30b95df",
      "fbb3221bb61348a38e978a3031d0fefe",
      "5c954db7e71f4a669989e1ecf0d89988",
      "5b7868306345485fb17658bcfd1c25e4",
      "fa7034d83d3b43c2a181b51a88db3fec",
      "0946de80201a4d1ba749a53cefa440a6",
      "1e328c49a4294095af40d05efc47b7e9",
      "cc6a4b8ee959491f8e6901d4b96d0435",
      "8c7267ec1fc54d9a9a363b3b9503d530",
      "29788d5b56994274852a7f007ceff4aa",
      "d7d526b7a18741a3a888c2421aea347c",
      "f41c9d0c678c4495b043220fae491099",
      "9613f82c5bee4d9889d755989607deed",
      "95c747e3a50e48089ba465949d499f61",
      "10e2682a1219417ca2371bc15a90622c",
      "ae0ee77c9452406ea76c2012113ac46f",
      "213ac6a83e7e409cac2ee43c97e7f02d",
      "cb2c5222e69d44aa8330691d61edfb61",
      "303a5282789449ca8e7ed903d268f9e1",
      "9bd35ce5090d4252aa65b19d5ea37b42"
     ]
    },
    "id": "Shu9kd7yiXFZ",
    "outputId": "2ad55d71-d7a5-435e-daa5-94998acecd4f"
   },
   "outputs": [
    {
     "data": {
      "application/vnd.jupyter.widget-view+json": {
       "model_id": "42a22ff3b62d42aa8847d1922bddd49c",
       "version_major": 2,
       "version_minor": 0
      },
      "text/plain": [
       "  0%|          | 0/275 [00:00<?, ?it/s]"
      ]
     },
     "metadata": {},
     "output_type": "display_data"
    },
    {
     "name": "stdout",
     "output_type": "stream",
     "text": [
      "Validation   1: nll=193.92 bpd=4.37\n"
     ]
    },
    {
     "data": {
      "application/vnd.jupyter.widget-view+json": {
       "model_id": "73d1761b18904de7b79d05a357fc1943",
       "version_major": 2,
       "version_minor": 0
      },
      "text/plain": [
       "  0%|          | 0/275 [00:00<?, ?it/s]"
      ]
     },
     "metadata": {},
     "output_type": "display_data"
    },
    {
     "name": "stdout",
     "output_type": "stream",
     "text": [
      "Validation   2: nll=184.36 bpd=4.16\n"
     ]
    },
    {
     "data": {
      "application/vnd.jupyter.widget-view+json": {
       "model_id": "1a5e4f3869c04703b328c2f5f80d3b9a",
       "version_major": 2,
       "version_minor": 0
      },
      "text/plain": [
       "  0%|          | 0/275 [00:00<?, ?it/s]"
      ]
     },
     "metadata": {},
     "output_type": "display_data"
    },
    {
     "name": "stdout",
     "output_type": "stream",
     "text": [
      "Validation   3: nll=166.09 bpd=3.74\n"
     ]
    },
    {
     "data": {
      "application/vnd.jupyter.widget-view+json": {
       "model_id": "0a61d548f81540618ea20e956e42924a",
       "version_major": 2,
       "version_minor": 0
      },
      "text/plain": [
       "  0%|          | 0/275 [00:00<?, ?it/s]"
      ]
     },
     "metadata": {},
     "output_type": "display_data"
    },
    {
     "name": "stdout",
     "output_type": "stream",
     "text": [
      "Validation   4: nll=154.57 bpd=3.48\n"
     ]
    },
    {
     "data": {
      "application/vnd.jupyter.widget-view+json": {
       "model_id": "0cd6d311eabd4c8b9bfda91f08eb9090",
       "version_major": 2,
       "version_minor": 0
      },
      "text/plain": [
       "  0%|          | 0/275 [00:00<?, ?it/s]"
      ]
     },
     "metadata": {},
     "output_type": "display_data"
    },
    {
     "name": "stdout",
     "output_type": "stream",
     "text": [
      "Validation   5: nll=148.68 bpd=3.35\n"
     ]
    },
    {
     "data": {
      "application/vnd.jupyter.widget-view+json": {
       "model_id": "fcb6be7aada54f30afea58a53a5839c0",
       "version_major": 2,
       "version_minor": 0
      },
      "text/plain": [
       "  0%|          | 0/275 [00:00<?, ?it/s]"
      ]
     },
     "metadata": {},
     "output_type": "display_data"
    },
    {
     "name": "stdout",
     "output_type": "stream",
     "text": [
      "Validation   6: nll=144.24 bpd=3.25\n"
     ]
    },
    {
     "data": {
      "application/vnd.jupyter.widget-view+json": {
       "model_id": "5c97406c849045fcbda104fe205e98c2",
       "version_major": 2,
       "version_minor": 0
      },
      "text/plain": [
       "  0%|          | 0/275 [00:00<?, ?it/s]"
      ]
     },
     "metadata": {},
     "output_type": "display_data"
    },
    {
     "name": "stdout",
     "output_type": "stream",
     "text": [
      "Validation   7: nll=140.28 bpd=3.16\n"
     ]
    },
    {
     "data": {
      "application/vnd.jupyter.widget-view+json": {
       "model_id": "44480e003ea24c388293cb97e9a59964",
       "version_major": 2,
       "version_minor": 0
      },
      "text/plain": [
       "  0%|          | 0/275 [00:00<?, ?it/s]"
      ]
     },
     "metadata": {},
     "output_type": "display_data"
    },
    {
     "name": "stdout",
     "output_type": "stream",
     "text": [
      "Validation   8: nll=137.33 bpd=3.10\n"
     ]
    },
    {
     "data": {
      "application/vnd.jupyter.widget-view+json": {
       "model_id": "9658b024c37a4642af429553f43ce059",
       "version_major": 2,
       "version_minor": 0
      },
      "text/plain": [
       "  0%|          | 0/275 [00:00<?, ?it/s]"
      ]
     },
     "metadata": {},
     "output_type": "display_data"
    },
    {
     "name": "stdout",
     "output_type": "stream",
     "text": [
      "Validation   9: nll=134.91 bpd=3.04\n"
     ]
    },
    {
     "data": {
      "application/vnd.jupyter.widget-view+json": {
       "model_id": "da54514713c64ea3ae236314b5567da1",
       "version_major": 2,
       "version_minor": 0
      },
      "text/plain": [
       "  0%|          | 0/275 [00:00<?, ?it/s]"
      ]
     },
     "metadata": {},
     "output_type": "display_data"
    },
    {
     "name": "stdout",
     "output_type": "stream",
     "text": [
      "Validation  10: nll=132.84 bpd=2.99\n"
     ]
    },
    {
     "data": {
      "application/vnd.jupyter.widget-view+json": {
       "model_id": "c8ee9f1e2264417ca218850a4eed2bdb",
       "version_major": 2,
       "version_minor": 0
      },
      "text/plain": [
       "  0%|          | 0/275 [00:00<?, ?it/s]"
      ]
     },
     "metadata": {},
     "output_type": "display_data"
    },
    {
     "name": "stdout",
     "output_type": "stream",
     "text": [
      "Validation  11: nll=130.76 bpd=2.95\n"
     ]
    },
    {
     "data": {
      "application/vnd.jupyter.widget-view+json": {
       "model_id": "1beb1d30c8974a2dbda0b7248126b012",
       "version_major": 2,
       "version_minor": 0
      },
      "text/plain": [
       "  0%|          | 0/275 [00:00<?, ?it/s]"
      ]
     },
     "metadata": {},
     "output_type": "display_data"
    },
    {
     "name": "stdout",
     "output_type": "stream",
     "text": [
      "Validation  12: nll=128.84 bpd=2.90\n"
     ]
    },
    {
     "data": {
      "application/vnd.jupyter.widget-view+json": {
       "model_id": "9f463139c5c54bdeb47f3de03e2b08b7",
       "version_major": 2,
       "version_minor": 0
      },
      "text/plain": [
       "  0%|          | 0/275 [00:00<?, ?it/s]"
      ]
     },
     "metadata": {},
     "output_type": "display_data"
    },
    {
     "name": "stdout",
     "output_type": "stream",
     "text": [
      "Validation  13: nll=126.87 bpd=2.86\n"
     ]
    },
    {
     "data": {
      "application/vnd.jupyter.widget-view+json": {
       "model_id": "e7633b128e4c4792a62e44801cb8bb3b",
       "version_major": 2,
       "version_minor": 0
      },
      "text/plain": [
       "  0%|          | 0/275 [00:00<?, ?it/s]"
      ]
     },
     "metadata": {},
     "output_type": "display_data"
    },
    {
     "name": "stdout",
     "output_type": "stream",
     "text": [
      "Validation  14: nll=125.09 bpd=2.82\n"
     ]
    },
    {
     "data": {
      "application/vnd.jupyter.widget-view+json": {
       "model_id": "88b16999f7f64a9d936ee6189f1b96e6",
       "version_major": 2,
       "version_minor": 0
      },
      "text/plain": [
       "  0%|          | 0/275 [00:00<?, ?it/s]"
      ]
     },
     "metadata": {},
     "output_type": "display_data"
    },
    {
     "name": "stdout",
     "output_type": "stream",
     "text": [
      "Validation  15: nll=123.48 bpd=2.78\n"
     ]
    },
    {
     "data": {
      "application/vnd.jupyter.widget-view+json": {
       "model_id": "6dcb8d843d8740aeb6f29ffdd4d54d12",
       "version_major": 2,
       "version_minor": 0
      },
      "text/plain": [
       "  0%|          | 0/275 [00:00<?, ?it/s]"
      ]
     },
     "metadata": {},
     "output_type": "display_data"
    },
    {
     "name": "stdout",
     "output_type": "stream",
     "text": [
      "Validation  16: nll=122.26 bpd=2.76\n"
     ]
    },
    {
     "data": {
      "application/vnd.jupyter.widget-view+json": {
       "model_id": "44ad033c28e2480f9b9119fa9f1afb7e",
       "version_major": 2,
       "version_minor": 0
      },
      "text/plain": [
       "  0%|          | 0/275 [00:00<?, ?it/s]"
      ]
     },
     "metadata": {},
     "output_type": "display_data"
    },
    {
     "name": "stdout",
     "output_type": "stream",
     "text": [
      "Validation  17: nll=120.86 bpd=2.72\n"
     ]
    },
    {
     "data": {
      "application/vnd.jupyter.widget-view+json": {
       "model_id": "b708e6f1989c4bbab0bd013e1d9b5a55",
       "version_major": 2,
       "version_minor": 0
      },
      "text/plain": [
       "  0%|          | 0/275 [00:00<?, ?it/s]"
      ]
     },
     "metadata": {},
     "output_type": "display_data"
    },
    {
     "name": "stdout",
     "output_type": "stream",
     "text": [
      "Validation  18: nll=119.87 bpd=2.70\n"
     ]
    },
    {
     "data": {
      "application/vnd.jupyter.widget-view+json": {
       "model_id": "f8aea043e4d546f8a9440f4f45cfef5a",
       "version_major": 2,
       "version_minor": 0
      },
      "text/plain": [
       "  0%|          | 0/275 [00:00<?, ?it/s]"
      ]
     },
     "metadata": {},
     "output_type": "display_data"
    },
    {
     "name": "stdout",
     "output_type": "stream",
     "text": [
      "Validation  19: nll=118.59 bpd=2.67\n"
     ]
    },
    {
     "data": {
      "application/vnd.jupyter.widget-view+json": {
       "model_id": "fd2cbeefe7b74077b79eab169ec1cf2b",
       "version_major": 2,
       "version_minor": 0
      },
      "text/plain": [
       "  0%|          | 0/275 [00:00<?, ?it/s]"
      ]
     },
     "metadata": {},
     "output_type": "display_data"
    },
    {
     "name": "stdout",
     "output_type": "stream",
     "text": [
      "Validation  20: nll=117.86 bpd=2.66\n"
     ]
    },
    {
     "data": {
      "application/vnd.jupyter.widget-view+json": {
       "model_id": "c719d6fe78dd428db667ff6c5c56fd35",
       "version_major": 2,
       "version_minor": 0
      },
      "text/plain": [
       "  0%|          | 0/275 [00:00<?, ?it/s]"
      ]
     },
     "metadata": {},
     "output_type": "display_data"
    },
    {
     "name": "stdout",
     "output_type": "stream",
     "text": [
      "Validation  21: nll=116.81 bpd=2.63\n"
     ]
    },
    {
     "data": {
      "application/vnd.jupyter.widget-view+json": {
       "model_id": "47c6356b4e5b4fb7b4fad598accea705",
       "version_major": 2,
       "version_minor": 0
      },
      "text/plain": [
       "  0%|          | 0/275 [00:00<?, ?it/s]"
      ]
     },
     "metadata": {},
     "output_type": "display_data"
    },
    {
     "name": "stdout",
     "output_type": "stream",
     "text": [
      "Validation  22: nll=115.96 bpd=2.61\n"
     ]
    },
    {
     "data": {
      "application/vnd.jupyter.widget-view+json": {
       "model_id": "74a3c78e56d54d92b0f2a41f604220c5",
       "version_major": 2,
       "version_minor": 0
      },
      "text/plain": [
       "  0%|          | 0/275 [00:00<?, ?it/s]"
      ]
     },
     "metadata": {},
     "output_type": "display_data"
    },
    {
     "name": "stdout",
     "output_type": "stream",
     "text": [
      "Validation  23: nll=115.11 bpd=2.59\n"
     ]
    },
    {
     "data": {
      "application/vnd.jupyter.widget-view+json": {
       "model_id": "c564a88f752146beaea3d1f1fe2dd8af",
       "version_major": 2,
       "version_minor": 0
      },
      "text/plain": [
       "  0%|          | 0/275 [00:00<?, ?it/s]"
      ]
     },
     "metadata": {},
     "output_type": "display_data"
    },
    {
     "name": "stdout",
     "output_type": "stream",
     "text": [
      "Validation  24: nll=114.30 bpd=2.58\n"
     ]
    },
    {
     "data": {
      "application/vnd.jupyter.widget-view+json": {
       "model_id": "4180ac7f1cf84cee801c8cfbdf15352e",
       "version_major": 2,
       "version_minor": 0
      },
      "text/plain": [
       "  0%|          | 0/275 [00:00<?, ?it/s]"
      ]
     },
     "metadata": {},
     "output_type": "display_data"
    },
    {
     "name": "stdout",
     "output_type": "stream",
     "text": [
      "Validation  25: nll=113.70 bpd=2.56\n"
     ]
    },
    {
     "data": {
      "application/vnd.jupyter.widget-view+json": {
       "model_id": "b4dd199d8cec4e1894f19314d2201819",
       "version_major": 2,
       "version_minor": 0
      },
      "text/plain": [
       "  0%|          | 0/275 [00:00<?, ?it/s]"
      ]
     },
     "metadata": {},
     "output_type": "display_data"
    },
    {
     "name": "stdout",
     "output_type": "stream",
     "text": [
      "Validation  26: nll=113.03 bpd=2.55\n"
     ]
    },
    {
     "data": {
      "application/vnd.jupyter.widget-view+json": {
       "model_id": "2fa1b3232549485aa1b2ec88842b6700",
       "version_major": 2,
       "version_minor": 0
      },
      "text/plain": [
       "  0%|          | 0/275 [00:00<?, ?it/s]"
      ]
     },
     "metadata": {},
     "output_type": "display_data"
    },
    {
     "name": "stdout",
     "output_type": "stream",
     "text": [
      "Validation  27: nll=112.52 bpd=2.54\n"
     ]
    },
    {
     "data": {
      "application/vnd.jupyter.widget-view+json": {
       "model_id": "11a1a77472da4eecaa4fb4d03b97cb69",
       "version_major": 2,
       "version_minor": 0
      },
      "text/plain": [
       "  0%|          | 0/275 [00:00<?, ?it/s]"
      ]
     },
     "metadata": {},
     "output_type": "display_data"
    },
    {
     "name": "stdout",
     "output_type": "stream",
     "text": [
      "Validation  28: nll=111.85 bpd=2.52\n"
     ]
    },
    {
     "data": {
      "application/vnd.jupyter.widget-view+json": {
       "model_id": "d759a18cfbff4f7bbb35ed9b711d301b",
       "version_major": 2,
       "version_minor": 0
      },
      "text/plain": [
       "  0%|          | 0/275 [00:00<?, ?it/s]"
      ]
     },
     "metadata": {},
     "output_type": "display_data"
    },
    {
     "name": "stdout",
     "output_type": "stream",
     "text": [
      "Validation  29: nll=111.32 bpd=2.51\n"
     ]
    },
    {
     "data": {
      "application/vnd.jupyter.widget-view+json": {
       "model_id": "b679ffb5a1644602bfae0ae1081c2395",
       "version_major": 2,
       "version_minor": 0
      },
      "text/plain": [
       "  0%|          | 0/275 [00:00<?, ?it/s]"
      ]
     },
     "metadata": {},
     "output_type": "display_data"
    },
    {
     "name": "stdout",
     "output_type": "stream",
     "text": [
      "Validation  30: nll=110.83 bpd=2.50\n"
     ]
    },
    {
     "data": {
      "application/vnd.jupyter.widget-view+json": {
       "model_id": "b30189edf44c401c9e809da003a54cf9",
       "version_major": 2,
       "version_minor": 0
      },
      "text/plain": [
       "  0%|          | 0/275 [00:00<?, ?it/s]"
      ]
     },
     "metadata": {},
     "output_type": "display_data"
    },
    {
     "name": "stdout",
     "output_type": "stream",
     "text": [
      "Validation  31: nll=110.29 bpd=2.49\n"
     ]
    },
    {
     "data": {
      "application/vnd.jupyter.widget-view+json": {
       "model_id": "b3f0e920c5f649b0ae3baec44a6430df",
       "version_major": 2,
       "version_minor": 0
      },
      "text/plain": [
       "  0%|          | 0/275 [00:00<?, ?it/s]"
      ]
     },
     "metadata": {},
     "output_type": "display_data"
    },
    {
     "name": "stdout",
     "output_type": "stream",
     "text": [
      "Validation  32: nll=109.97 bpd=2.48\n"
     ]
    },
    {
     "data": {
      "application/vnd.jupyter.widget-view+json": {
       "model_id": "bee00acaa7f04b749cfc0b6327cc6410",
       "version_major": 2,
       "version_minor": 0
      },
      "text/plain": [
       "  0%|          | 0/275 [00:00<?, ?it/s]"
      ]
     },
     "metadata": {},
     "output_type": "display_data"
    },
    {
     "name": "stdout",
     "output_type": "stream",
     "text": [
      "Validation  33: nll=109.38 bpd=2.47\n"
     ]
    },
    {
     "data": {
      "application/vnd.jupyter.widget-view+json": {
       "model_id": "6c5638acbfe641e2bff386b19da24568",
       "version_major": 2,
       "version_minor": 0
      },
      "text/plain": [
       "  0%|          | 0/275 [00:00<?, ?it/s]"
      ]
     },
     "metadata": {},
     "output_type": "display_data"
    },
    {
     "name": "stdout",
     "output_type": "stream",
     "text": [
      "Validation  34: nll=109.01 bpd=2.46\n"
     ]
    },
    {
     "data": {
      "application/vnd.jupyter.widget-view+json": {
       "model_id": "23c4eca3959449cb9b2c9cfe9834e601",
       "version_major": 2,
       "version_minor": 0
      },
      "text/plain": [
       "  0%|          | 0/275 [00:00<?, ?it/s]"
      ]
     },
     "metadata": {},
     "output_type": "display_data"
    },
    {
     "name": "stdout",
     "output_type": "stream",
     "text": [
      "Validation  35: nll=108.80 bpd=2.45\n"
     ]
    },
    {
     "data": {
      "application/vnd.jupyter.widget-view+json": {
       "model_id": "f06d84bb52464a58a493b70fd76c9e34",
       "version_major": 2,
       "version_minor": 0
      },
      "text/plain": [
       "  0%|          | 0/275 [00:00<?, ?it/s]"
      ]
     },
     "metadata": {},
     "output_type": "display_data"
    },
    {
     "name": "stdout",
     "output_type": "stream",
     "text": [
      "Validation  36: nll=108.30 bpd=2.44\n"
     ]
    },
    {
     "data": {
      "application/vnd.jupyter.widget-view+json": {
       "model_id": "ee8eecaa35c848ae9d557c624981bb9b",
       "version_major": 2,
       "version_minor": 0
      },
      "text/plain": [
       "  0%|          | 0/275 [00:00<?, ?it/s]"
      ]
     },
     "metadata": {},
     "output_type": "display_data"
    },
    {
     "name": "stdout",
     "output_type": "stream",
     "text": [
      "Validation  37: nll=108.14 bpd=2.44\n"
     ]
    },
    {
     "data": {
      "application/vnd.jupyter.widget-view+json": {
       "model_id": "76c06650be3741e0ab8529f0466d999d",
       "version_major": 2,
       "version_minor": 0
      },
      "text/plain": [
       "  0%|          | 0/275 [00:00<?, ?it/s]"
      ]
     },
     "metadata": {},
     "output_type": "display_data"
    },
    {
     "name": "stdout",
     "output_type": "stream",
     "text": [
      "Validation  38: nll=107.59 bpd=2.43\n"
     ]
    },
    {
     "data": {
      "application/vnd.jupyter.widget-view+json": {
       "model_id": "b9c05466a3d0430cbd5dcc9ee8a1fc25",
       "version_major": 2,
       "version_minor": 0
      },
      "text/plain": [
       "  0%|          | 0/275 [00:00<?, ?it/s]"
      ]
     },
     "metadata": {},
     "output_type": "display_data"
    },
    {
     "name": "stdout",
     "output_type": "stream",
     "text": [
      "Validation  39: nll=107.33 bpd=2.42\n"
     ]
    },
    {
     "data": {
      "application/vnd.jupyter.widget-view+json": {
       "model_id": "d3268e9f3d604833a184cd6ec67f7109",
       "version_major": 2,
       "version_minor": 0
      },
      "text/plain": [
       "  0%|          | 0/275 [00:00<?, ?it/s]"
      ]
     },
     "metadata": {},
     "output_type": "display_data"
    },
    {
     "name": "stdout",
     "output_type": "stream",
     "text": [
      "Validation  40: nll=107.05 bpd=2.41\n"
     ]
    },
    {
     "data": {
      "application/vnd.jupyter.widget-view+json": {
       "model_id": "c1060c5d846649718050b64b9c8afc11",
       "version_major": 2,
       "version_minor": 0
      },
      "text/plain": [
       "  0%|          | 0/275 [00:00<?, ?it/s]"
      ]
     },
     "metadata": {},
     "output_type": "display_data"
    },
    {
     "name": "stdout",
     "output_type": "stream",
     "text": [
      "Validation  41: nll=106.63 bpd=2.40\n"
     ]
    },
    {
     "data": {
      "application/vnd.jupyter.widget-view+json": {
       "model_id": "75dd8e729ab14a218c480e46d04be680",
       "version_major": 2,
       "version_minor": 0
      },
      "text/plain": [
       "  0%|          | 0/275 [00:00<?, ?it/s]"
      ]
     },
     "metadata": {},
     "output_type": "display_data"
    },
    {
     "name": "stdout",
     "output_type": "stream",
     "text": [
      "Validation  42: nll=106.42 bpd=2.40\n"
     ]
    },
    {
     "data": {
      "application/vnd.jupyter.widget-view+json": {
       "model_id": "919e982e2122471e9e9d832df62830b1",
       "version_major": 2,
       "version_minor": 0
      },
      "text/plain": [
       "  0%|          | 0/275 [00:00<?, ?it/s]"
      ]
     },
     "metadata": {},
     "output_type": "display_data"
    },
    {
     "name": "stdout",
     "output_type": "stream",
     "text": [
      "Validation  43: nll=106.02 bpd=2.39\n"
     ]
    },
    {
     "data": {
      "application/vnd.jupyter.widget-view+json": {
       "model_id": "4907bcd0d1294229a0f0816d14806a23",
       "version_major": 2,
       "version_minor": 0
      },
      "text/plain": [
       "  0%|          | 0/275 [00:00<?, ?it/s]"
      ]
     },
     "metadata": {},
     "output_type": "display_data"
    },
    {
     "name": "stdout",
     "output_type": "stream",
     "text": [
      "Validation  44: nll=105.92 bpd=2.39\n"
     ]
    },
    {
     "data": {
      "application/vnd.jupyter.widget-view+json": {
       "model_id": "4d2238423adf4a9ebf448703a3b0df86",
       "version_major": 2,
       "version_minor": 0
      },
      "text/plain": [
       "  0%|          | 0/275 [00:00<?, ?it/s]"
      ]
     },
     "metadata": {},
     "output_type": "display_data"
    },
    {
     "name": "stdout",
     "output_type": "stream",
     "text": [
      "Validation  45: nll=105.63 bpd=2.38\n"
     ]
    },
    {
     "data": {
      "application/vnd.jupyter.widget-view+json": {
       "model_id": "d0d00dbc317e406f9c20b7378609d6ee",
       "version_major": 2,
       "version_minor": 0
      },
      "text/plain": [
       "  0%|          | 0/275 [00:00<?, ?it/s]"
      ]
     },
     "metadata": {},
     "output_type": "display_data"
    },
    {
     "name": "stdout",
     "output_type": "stream",
     "text": [
      "Validation  46: nll=105.35 bpd=2.37\n"
     ]
    },
    {
     "data": {
      "application/vnd.jupyter.widget-view+json": {
       "model_id": "30dd171637d6452b848d0109584c4927",
       "version_major": 2,
       "version_minor": 0
      },
      "text/plain": [
       "  0%|          | 0/275 [00:00<?, ?it/s]"
      ]
     },
     "metadata": {},
     "output_type": "display_data"
    },
    {
     "name": "stdout",
     "output_type": "stream",
     "text": [
      "Validation  47: nll=105.22 bpd=2.37\n"
     ]
    },
    {
     "data": {
      "application/vnd.jupyter.widget-view+json": {
       "model_id": "25a462c92ea146bb8bb8a2c78eb07ac5",
       "version_major": 2,
       "version_minor": 0
      },
      "text/plain": [
       "  0%|          | 0/275 [00:00<?, ?it/s]"
      ]
     },
     "metadata": {},
     "output_type": "display_data"
    },
    {
     "name": "stdout",
     "output_type": "stream",
     "text": [
      "Validation  48: nll=104.89 bpd=2.36\n"
     ]
    },
    {
     "data": {
      "application/vnd.jupyter.widget-view+json": {
       "model_id": "38e2fc3006914be192fe60f6977ef957",
       "version_major": 2,
       "version_minor": 0
      },
      "text/plain": [
       "  0%|          | 0/275 [00:00<?, ?it/s]"
      ]
     },
     "metadata": {},
     "output_type": "display_data"
    },
    {
     "name": "stdout",
     "output_type": "stream",
     "text": [
      "Validation  49: nll=104.80 bpd=2.36\n"
     ]
    },
    {
     "data": {
      "application/vnd.jupyter.widget-view+json": {
       "model_id": "c6f14eff5f034cf0958a08176d5627c6",
       "version_major": 2,
       "version_minor": 0
      },
      "text/plain": [
       "  0%|          | 0/275 [00:00<?, ?it/s]"
      ]
     },
     "metadata": {},
     "output_type": "display_data"
    },
    {
     "name": "stdout",
     "output_type": "stream",
     "text": [
      "Validation  50: nll=104.67 bpd=2.36\n"
     ]
    },
    {
     "data": {
      "application/vnd.jupyter.widget-view+json": {
       "model_id": "2fb3e36f091448bb95632802929b0c19",
       "version_major": 2,
       "version_minor": 0
      },
      "text/plain": [
       "  0%|          | 0/275 [00:00<?, ?it/s]"
      ]
     },
     "metadata": {},
     "output_type": "display_data"
    },
    {
     "name": "stdout",
     "output_type": "stream",
     "text": [
      "Validation  51: nll=104.27 bpd=2.35\n"
     ]
    },
    {
     "data": {
      "application/vnd.jupyter.widget-view+json": {
       "model_id": "5c0e893a545a4788aa223cbddecd9374",
       "version_major": 2,
       "version_minor": 0
      },
      "text/plain": [
       "  0%|          | 0/275 [00:00<?, ?it/s]"
      ]
     },
     "metadata": {},
     "output_type": "display_data"
    },
    {
     "name": "stdout",
     "output_type": "stream",
     "text": [
      "Validation  52: nll=104.14 bpd=2.35\n"
     ]
    },
    {
     "data": {
      "application/vnd.jupyter.widget-view+json": {
       "model_id": "84ecd5463e14488eac6859ab1828827b",
       "version_major": 2,
       "version_minor": 0
      },
      "text/plain": [
       "  0%|          | 0/275 [00:00<?, ?it/s]"
      ]
     },
     "metadata": {},
     "output_type": "display_data"
    },
    {
     "name": "stdout",
     "output_type": "stream",
     "text": [
      "Validation  53: nll=104.04 bpd=2.35\n"
     ]
    },
    {
     "data": {
      "application/vnd.jupyter.widget-view+json": {
       "model_id": "0068f0da7b75484e90efdd8e0b22b6a3",
       "version_major": 2,
       "version_minor": 0
      },
      "text/plain": [
       "  0%|          | 0/275 [00:00<?, ?it/s]"
      ]
     },
     "metadata": {},
     "output_type": "display_data"
    },
    {
     "name": "stdout",
     "output_type": "stream",
     "text": [
      "Validation  54: nll=103.87 bpd=2.34\n"
     ]
    },
    {
     "data": {
      "application/vnd.jupyter.widget-view+json": {
       "model_id": "9c0b322e59c74499986e0a47ebaffb39",
       "version_major": 2,
       "version_minor": 0
      },
      "text/plain": [
       "  0%|          | 0/275 [00:00<?, ?it/s]"
      ]
     },
     "metadata": {},
     "output_type": "display_data"
    },
    {
     "name": "stdout",
     "output_type": "stream",
     "text": [
      "Validation  55: nll=103.59 bpd=2.34\n"
     ]
    },
    {
     "data": {
      "application/vnd.jupyter.widget-view+json": {
       "model_id": "9d03c4eb03334a62b821e44f8f3c3a44",
       "version_major": 2,
       "version_minor": 0
      },
      "text/plain": [
       "  0%|          | 0/275 [00:00<?, ?it/s]"
      ]
     },
     "metadata": {},
     "output_type": "display_data"
    },
    {
     "name": "stdout",
     "output_type": "stream",
     "text": [
      "Validation  56: nll=103.43 bpd=2.33\n"
     ]
    },
    {
     "data": {
      "application/vnd.jupyter.widget-view+json": {
       "model_id": "4cf3e7c69d254a3492572fd436f91af0",
       "version_major": 2,
       "version_minor": 0
      },
      "text/plain": [
       "  0%|          | 0/275 [00:00<?, ?it/s]"
      ]
     },
     "metadata": {},
     "output_type": "display_data"
    },
    {
     "name": "stdout",
     "output_type": "stream",
     "text": [
      "Validation  57: nll=103.31 bpd=2.33\n"
     ]
    },
    {
     "data": {
      "application/vnd.jupyter.widget-view+json": {
       "model_id": "ad8e7f6abb97481a9606b2fbf7784f84",
       "version_major": 2,
       "version_minor": 0
      },
      "text/plain": [
       "  0%|          | 0/275 [00:00<?, ?it/s]"
      ]
     },
     "metadata": {},
     "output_type": "display_data"
    },
    {
     "name": "stdout",
     "output_type": "stream",
     "text": [
      "Validation  58: nll=103.07 bpd=2.32\n"
     ]
    },
    {
     "data": {
      "application/vnd.jupyter.widget-view+json": {
       "model_id": "a9d3a02bca944c5ea857bb9a9164fe05",
       "version_major": 2,
       "version_minor": 0
      },
      "text/plain": [
       "  0%|          | 0/275 [00:00<?, ?it/s]"
      ]
     },
     "metadata": {},
     "output_type": "display_data"
    },
    {
     "name": "stdout",
     "output_type": "stream",
     "text": [
      "Validation  59: nll=102.87 bpd=2.32\n"
     ]
    },
    {
     "data": {
      "application/vnd.jupyter.widget-view+json": {
       "model_id": "239f8236946b41f8abcf378863ae5bc1",
       "version_major": 2,
       "version_minor": 0
      },
      "text/plain": [
       "  0%|          | 0/275 [00:00<?, ?it/s]"
      ]
     },
     "metadata": {},
     "output_type": "display_data"
    },
    {
     "name": "stdout",
     "output_type": "stream",
     "text": [
      "Validation  60: nll=102.83 bpd=2.32\n"
     ]
    },
    {
     "data": {
      "application/vnd.jupyter.widget-view+json": {
       "model_id": "b917b4db6ba449c28dac524519b93efa",
       "version_major": 2,
       "version_minor": 0
      },
      "text/plain": [
       "  0%|          | 0/275 [00:00<?, ?it/s]"
      ]
     },
     "metadata": {},
     "output_type": "display_data"
    },
    {
     "name": "stdout",
     "output_type": "stream",
     "text": [
      "Validation  61: nll=102.54 bpd=2.31\n"
     ]
    },
    {
     "data": {
      "application/vnd.jupyter.widget-view+json": {
       "model_id": "426f68aec1264b5b81f1e512a8f943f8",
       "version_major": 2,
       "version_minor": 0
      },
      "text/plain": [
       "  0%|          | 0/275 [00:00<?, ?it/s]"
      ]
     },
     "metadata": {},
     "output_type": "display_data"
    },
    {
     "name": "stdout",
     "output_type": "stream",
     "text": [
      "Validation  62: nll=102.41 bpd=2.31\n"
     ]
    },
    {
     "data": {
      "application/vnd.jupyter.widget-view+json": {
       "model_id": "30c2f13b674b4bfc894a0a44c9da9235",
       "version_major": 2,
       "version_minor": 0
      },
      "text/plain": [
       "  0%|          | 0/275 [00:00<?, ?it/s]"
      ]
     },
     "metadata": {},
     "output_type": "display_data"
    },
    {
     "name": "stdout",
     "output_type": "stream",
     "text": [
      "Validation  63: nll=102.56 bpd=2.31\n"
     ]
    },
    {
     "data": {
      "application/vnd.jupyter.widget-view+json": {
       "model_id": "2fdfd12adf29435d9a89c3edf204065a",
       "version_major": 2,
       "version_minor": 0
      },
      "text/plain": [
       "  0%|          | 0/275 [00:00<?, ?it/s]"
      ]
     },
     "metadata": {},
     "output_type": "display_data"
    },
    {
     "name": "stdout",
     "output_type": "stream",
     "text": [
      "Validation  64: nll=102.43 bpd=2.31\n"
     ]
    },
    {
     "data": {
      "application/vnd.jupyter.widget-view+json": {
       "model_id": "f3e72dd5f5cb4fe3a546b0742073cd11",
       "version_major": 2,
       "version_minor": 0
      },
      "text/plain": [
       "  0%|          | 0/275 [00:00<?, ?it/s]"
      ]
     },
     "metadata": {},
     "output_type": "display_data"
    },
    {
     "name": "stdout",
     "output_type": "stream",
     "text": [
      "Validation  65: nll=102.19 bpd=2.30\n"
     ]
    },
    {
     "data": {
      "application/vnd.jupyter.widget-view+json": {
       "model_id": "3ff4b906590745ddb8aa6fb584c65d39",
       "version_major": 2,
       "version_minor": 0
      },
      "text/plain": [
       "  0%|          | 0/275 [00:00<?, ?it/s]"
      ]
     },
     "metadata": {},
     "output_type": "display_data"
    },
    {
     "name": "stdout",
     "output_type": "stream",
     "text": [
      "Validation  66: nll=102.03 bpd=2.30\n"
     ]
    },
    {
     "data": {
      "application/vnd.jupyter.widget-view+json": {
       "model_id": "1c280317bcf744c8a08c6a4c38f0d55a",
       "version_major": 2,
       "version_minor": 0
      },
      "text/plain": [
       "  0%|          | 0/275 [00:00<?, ?it/s]"
      ]
     },
     "metadata": {},
     "output_type": "display_data"
    },
    {
     "name": "stdout",
     "output_type": "stream",
     "text": [
      "Validation  67: nll=101.96 bpd=2.30\n"
     ]
    },
    {
     "data": {
      "application/vnd.jupyter.widget-view+json": {
       "model_id": "d0657decfff84bfeaec95e57d6418b9b",
       "version_major": 2,
       "version_minor": 0
      },
      "text/plain": [
       "  0%|          | 0/275 [00:00<?, ?it/s]"
      ]
     },
     "metadata": {},
     "output_type": "display_data"
    },
    {
     "name": "stdout",
     "output_type": "stream",
     "text": [
      "Validation  68: nll=101.75 bpd=2.29\n"
     ]
    },
    {
     "data": {
      "application/vnd.jupyter.widget-view+json": {
       "model_id": "65f58240c33f43deb1dc9b74b38d1b12",
       "version_major": 2,
       "version_minor": 0
      },
      "text/plain": [
       "  0%|          | 0/275 [00:00<?, ?it/s]"
      ]
     },
     "metadata": {},
     "output_type": "display_data"
    },
    {
     "name": "stdout",
     "output_type": "stream",
     "text": [
      "Validation  69: nll=101.70 bpd=2.29\n"
     ]
    },
    {
     "data": {
      "application/vnd.jupyter.widget-view+json": {
       "model_id": "3242e3ed7ebf4121a7d7c5d73ffb72c6",
       "version_major": 2,
       "version_minor": 0
      },
      "text/plain": [
       "  0%|          | 0/275 [00:00<?, ?it/s]"
      ]
     },
     "metadata": {},
     "output_type": "display_data"
    },
    {
     "name": "stdout",
     "output_type": "stream",
     "text": [
      "Validation  70: nll=101.59 bpd=2.29\n"
     ]
    },
    {
     "data": {
      "application/vnd.jupyter.widget-view+json": {
       "model_id": "aa70f12e5bad47fd9307d054c681effa",
       "version_major": 2,
       "version_minor": 0
      },
      "text/plain": [
       "  0%|          | 0/275 [00:00<?, ?it/s]"
      ]
     },
     "metadata": {},
     "output_type": "display_data"
    },
    {
     "name": "stdout",
     "output_type": "stream",
     "text": [
      "Validation  71: nll=101.62 bpd=2.29\n"
     ]
    },
    {
     "data": {
      "application/vnd.jupyter.widget-view+json": {
       "model_id": "559733a11de041579c50b41fdf87106e",
       "version_major": 2,
       "version_minor": 0
      },
      "text/plain": [
       "  0%|          | 0/275 [00:00<?, ?it/s]"
      ]
     },
     "metadata": {},
     "output_type": "display_data"
    },
    {
     "name": "stdout",
     "output_type": "stream",
     "text": [
      "Validation  72: nll=101.49 bpd=2.29\n"
     ]
    },
    {
     "data": {
      "application/vnd.jupyter.widget-view+json": {
       "model_id": "6e60cd08461d4d79b4684b5558650ed0",
       "version_major": 2,
       "version_minor": 0
      },
      "text/plain": [
       "  0%|          | 0/275 [00:00<?, ?it/s]"
      ]
     },
     "metadata": {},
     "output_type": "display_data"
    },
    {
     "name": "stdout",
     "output_type": "stream",
     "text": [
      "Validation  73: nll=101.23 bpd=2.28\n"
     ]
    },
    {
     "data": {
      "application/vnd.jupyter.widget-view+json": {
       "model_id": "f9813ae887d54399a2f2648a0667c5fc",
       "version_major": 2,
       "version_minor": 0
      },
      "text/plain": [
       "  0%|          | 0/275 [00:00<?, ?it/s]"
      ]
     },
     "metadata": {},
     "output_type": "display_data"
    },
    {
     "name": "stdout",
     "output_type": "stream",
     "text": [
      "Validation  74: nll=101.25 bpd=2.28\n"
     ]
    },
    {
     "data": {
      "application/vnd.jupyter.widget-view+json": {
       "model_id": "873a52a3044f4f5388b0671a67752b66",
       "version_major": 2,
       "version_minor": 0
      },
      "text/plain": [
       "  0%|          | 0/275 [00:00<?, ?it/s]"
      ]
     },
     "metadata": {},
     "output_type": "display_data"
    },
    {
     "name": "stdout",
     "output_type": "stream",
     "text": [
      "Validation  75: nll=101.19 bpd=2.28\n"
     ]
    },
    {
     "data": {
      "application/vnd.jupyter.widget-view+json": {
       "model_id": "2309353b2be844ada03ca40f7e01b988",
       "version_major": 2,
       "version_minor": 0
      },
      "text/plain": [
       "  0%|          | 0/275 [00:00<?, ?it/s]"
      ]
     },
     "metadata": {},
     "output_type": "display_data"
    },
    {
     "name": "stdout",
     "output_type": "stream",
     "text": [
      "Validation  76: nll=100.99 bpd=2.28\n"
     ]
    },
    {
     "data": {
      "application/vnd.jupyter.widget-view+json": {
       "model_id": "e1c9df0403fa4f7ebda83cac172327c7",
       "version_major": 2,
       "version_minor": 0
      },
      "text/plain": [
       "  0%|          | 0/275 [00:00<?, ?it/s]"
      ]
     },
     "metadata": {},
     "output_type": "display_data"
    },
    {
     "name": "stdout",
     "output_type": "stream",
     "text": [
      "Validation  77: nll=101.05 bpd=2.28\n"
     ]
    },
    {
     "data": {
      "application/vnd.jupyter.widget-view+json": {
       "model_id": "961773b399db4036b48bb4a93f274b1f",
       "version_major": 2,
       "version_minor": 0
      },
      "text/plain": [
       "  0%|          | 0/275 [00:00<?, ?it/s]"
      ]
     },
     "metadata": {},
     "output_type": "display_data"
    },
    {
     "name": "stdout",
     "output_type": "stream",
     "text": [
      "Validation  78: nll=100.90 bpd=2.27\n"
     ]
    },
    {
     "data": {
      "application/vnd.jupyter.widget-view+json": {
       "model_id": "051c3dfbb94b4a39a3dc8c7955228329",
       "version_major": 2,
       "version_minor": 0
      },
      "text/plain": [
       "  0%|          | 0/275 [00:00<?, ?it/s]"
      ]
     },
     "metadata": {},
     "output_type": "display_data"
    },
    {
     "name": "stdout",
     "output_type": "stream",
     "text": [
      "Validation  79: nll=100.66 bpd=2.27\n"
     ]
    },
    {
     "data": {
      "application/vnd.jupyter.widget-view+json": {
       "model_id": "9754c4d2a1d54be7814c0b5583d4c9f2",
       "version_major": 2,
       "version_minor": 0
      },
      "text/plain": [
       "  0%|          | 0/275 [00:00<?, ?it/s]"
      ]
     },
     "metadata": {},
     "output_type": "display_data"
    },
    {
     "name": "stdout",
     "output_type": "stream",
     "text": [
      "Validation  80: nll=100.72 bpd=2.27\n"
     ]
    },
    {
     "data": {
      "application/vnd.jupyter.widget-view+json": {
       "model_id": "5ab15b5da8504e15aea9802fb0940acf",
       "version_major": 2,
       "version_minor": 0
      },
      "text/plain": [
       "  0%|          | 0/275 [00:00<?, ?it/s]"
      ]
     },
     "metadata": {},
     "output_type": "display_data"
    },
    {
     "name": "stdout",
     "output_type": "stream",
     "text": [
      "Validation  81: nll=100.60 bpd=2.27\n"
     ]
    },
    {
     "data": {
      "application/vnd.jupyter.widget-view+json": {
       "model_id": "90bf8400a56044f193f792a33e897256",
       "version_major": 2,
       "version_minor": 0
      },
      "text/plain": [
       "  0%|          | 0/275 [00:00<?, ?it/s]"
      ]
     },
     "metadata": {},
     "output_type": "display_data"
    },
    {
     "name": "stdout",
     "output_type": "stream",
     "text": [
      "Validation  82: nll=100.55 bpd=2.27\n"
     ]
    },
    {
     "data": {
      "application/vnd.jupyter.widget-view+json": {
       "model_id": "41f2e904a37c48d98c458439cb247ec6",
       "version_major": 2,
       "version_minor": 0
      },
      "text/plain": [
       "  0%|          | 0/275 [00:00<?, ?it/s]"
      ]
     },
     "metadata": {},
     "output_type": "display_data"
    },
    {
     "name": "stdout",
     "output_type": "stream",
     "text": [
      "Validation  83: nll=100.50 bpd=2.27\n"
     ]
    },
    {
     "data": {
      "application/vnd.jupyter.widget-view+json": {
       "model_id": "f735941a492044c691b52eb2a6963176",
       "version_major": 2,
       "version_minor": 0
      },
      "text/plain": [
       "  0%|          | 0/275 [00:00<?, ?it/s]"
      ]
     },
     "metadata": {},
     "output_type": "display_data"
    },
    {
     "name": "stdout",
     "output_type": "stream",
     "text": [
      "Validation  84: nll=100.51 bpd=2.27\n"
     ]
    },
    {
     "data": {
      "application/vnd.jupyter.widget-view+json": {
       "model_id": "90b7201f527e4ee099ddca79c0f6b504",
       "version_major": 2,
       "version_minor": 0
      },
      "text/plain": [
       "  0%|          | 0/275 [00:00<?, ?it/s]"
      ]
     },
     "metadata": {},
     "output_type": "display_data"
    },
    {
     "name": "stdout",
     "output_type": "stream",
     "text": [
      "Validation  85: nll=100.30 bpd=2.26\n"
     ]
    },
    {
     "data": {
      "application/vnd.jupyter.widget-view+json": {
       "model_id": "e7e118365c8649b7aad6f89aacae053f",
       "version_major": 2,
       "version_minor": 0
      },
      "text/plain": [
       "  0%|          | 0/275 [00:00<?, ?it/s]"
      ]
     },
     "metadata": {},
     "output_type": "display_data"
    },
    {
     "name": "stdout",
     "output_type": "stream",
     "text": [
      "Validation  86: nll=100.36 bpd=2.26\n"
     ]
    },
    {
     "data": {
      "application/vnd.jupyter.widget-view+json": {
       "model_id": "209cb2caa6e1456ba517fca80b9aafe7",
       "version_major": 2,
       "version_minor": 0
      },
      "text/plain": [
       "  0%|          | 0/275 [00:00<?, ?it/s]"
      ]
     },
     "metadata": {},
     "output_type": "display_data"
    },
    {
     "name": "stdout",
     "output_type": "stream",
     "text": [
      "Validation  87: nll=100.14 bpd=2.26\n"
     ]
    },
    {
     "data": {
      "application/vnd.jupyter.widget-view+json": {
       "model_id": "b159ce6583594e059dff7d23ebced5f4",
       "version_major": 2,
       "version_minor": 0
      },
      "text/plain": [
       "  0%|          | 0/275 [00:00<?, ?it/s]"
      ]
     },
     "metadata": {},
     "output_type": "display_data"
    },
    {
     "name": "stdout",
     "output_type": "stream",
     "text": [
      "Validation  88: nll=100.21 bpd=2.26\n"
     ]
    },
    {
     "data": {
      "application/vnd.jupyter.widget-view+json": {
       "model_id": "a830a68723d24805a8b88759e18494a1",
       "version_major": 2,
       "version_minor": 0
      },
      "text/plain": [
       "  0%|          | 0/275 [00:00<?, ?it/s]"
      ]
     },
     "metadata": {},
     "output_type": "display_data"
    },
    {
     "name": "stdout",
     "output_type": "stream",
     "text": [
      "Validation  89: nll=100.02 bpd=2.25\n"
     ]
    },
    {
     "data": {
      "application/vnd.jupyter.widget-view+json": {
       "model_id": "3e3742e36c7a482dbd65f1335d0e2c56",
       "version_major": 2,
       "version_minor": 0
      },
      "text/plain": [
       "  0%|          | 0/275 [00:00<?, ?it/s]"
      ]
     },
     "metadata": {},
     "output_type": "display_data"
    },
    {
     "name": "stdout",
     "output_type": "stream",
     "text": [
      "Validation  90: nll=99.94 bpd=2.25\n"
     ]
    },
    {
     "data": {
      "application/vnd.jupyter.widget-view+json": {
       "model_id": "3c9217ac62d7451baa719c3bcb27db34",
       "version_major": 2,
       "version_minor": 0
      },
      "text/plain": [
       "  0%|          | 0/275 [00:00<?, ?it/s]"
      ]
     },
     "metadata": {},
     "output_type": "display_data"
    },
    {
     "name": "stdout",
     "output_type": "stream",
     "text": [
      "Validation  91: nll=99.83 bpd=2.25\n"
     ]
    },
    {
     "data": {
      "application/vnd.jupyter.widget-view+json": {
       "model_id": "f73e04b9a9ae4aa4a2650fc9b7e99b48",
       "version_major": 2,
       "version_minor": 0
      },
      "text/plain": [
       "  0%|          | 0/275 [00:00<?, ?it/s]"
      ]
     },
     "metadata": {},
     "output_type": "display_data"
    },
    {
     "name": "stdout",
     "output_type": "stream",
     "text": [
      "Validation  92: nll=99.94 bpd=2.25\n"
     ]
    },
    {
     "data": {
      "application/vnd.jupyter.widget-view+json": {
       "model_id": "989de472389d4d3eae2616a1501c5cfb",
       "version_major": 2,
       "version_minor": 0
      },
      "text/plain": [
       "  0%|          | 0/275 [00:00<?, ?it/s]"
      ]
     },
     "metadata": {},
     "output_type": "display_data"
    },
    {
     "name": "stdout",
     "output_type": "stream",
     "text": [
      "Validation  93: nll=99.86 bpd=2.25\n"
     ]
    },
    {
     "data": {
      "application/vnd.jupyter.widget-view+json": {
       "model_id": "f6098bef04704b039da17843d6a89d0b",
       "version_major": 2,
       "version_minor": 0
      },
      "text/plain": [
       "  0%|          | 0/275 [00:00<?, ?it/s]"
      ]
     },
     "metadata": {},
     "output_type": "display_data"
    },
    {
     "name": "stdout",
     "output_type": "stream",
     "text": [
      "Validation  94: nll=99.81 bpd=2.25\n"
     ]
    },
    {
     "data": {
      "application/vnd.jupyter.widget-view+json": {
       "model_id": "e8990d65359745f5984f4c6330292391",
       "version_major": 2,
       "version_minor": 0
      },
      "text/plain": [
       "  0%|          | 0/275 [00:00<?, ?it/s]"
      ]
     },
     "metadata": {},
     "output_type": "display_data"
    },
    {
     "name": "stdout",
     "output_type": "stream",
     "text": [
      "Validation  95: nll=99.65 bpd=2.25\n"
     ]
    },
    {
     "data": {
      "application/vnd.jupyter.widget-view+json": {
       "model_id": "ad0c3ec5c08746f2a7847322f36bcfac",
       "version_major": 2,
       "version_minor": 0
      },
      "text/plain": [
       "  0%|          | 0/275 [00:00<?, ?it/s]"
      ]
     },
     "metadata": {},
     "output_type": "display_data"
    },
    {
     "name": "stdout",
     "output_type": "stream",
     "text": [
      "Validation  96: nll=99.51 bpd=2.24\n"
     ]
    },
    {
     "data": {
      "application/vnd.jupyter.widget-view+json": {
       "model_id": "2f1da6f7384042dfa0eec550c69230bb",
       "version_major": 2,
       "version_minor": 0
      },
      "text/plain": [
       "  0%|          | 0/275 [00:00<?, ?it/s]"
      ]
     },
     "metadata": {},
     "output_type": "display_data"
    },
    {
     "name": "stdout",
     "output_type": "stream",
     "text": [
      "Validation  97: nll=99.55 bpd=2.24\n"
     ]
    },
    {
     "data": {
      "application/vnd.jupyter.widget-view+json": {
       "model_id": "604762e238b140aea7c576acbc5a201e",
       "version_major": 2,
       "version_minor": 0
      },
      "text/plain": [
       "  0%|          | 0/275 [00:00<?, ?it/s]"
      ]
     },
     "metadata": {},
     "output_type": "display_data"
    },
    {
     "name": "stdout",
     "output_type": "stream",
     "text": [
      "Validation  98: nll=99.58 bpd=2.24\n"
     ]
    },
    {
     "data": {
      "application/vnd.jupyter.widget-view+json": {
       "model_id": "ef99ef484a4046e6a10e905e1eb04e84",
       "version_major": 2,
       "version_minor": 0
      },
      "text/plain": [
       "  0%|          | 0/275 [00:00<?, ?it/s]"
      ]
     },
     "metadata": {},
     "output_type": "display_data"
    },
    {
     "name": "stdout",
     "output_type": "stream",
     "text": [
      "Validation  99: nll=99.53 bpd=2.24\n"
     ]
    },
    {
     "data": {
      "application/vnd.jupyter.widget-view+json": {
       "model_id": "6969935c927e4a91acfa72e874a77e66",
       "version_major": 2,
       "version_minor": 0
      },
      "text/plain": [
       "  0%|          | 0/275 [00:00<?, ?it/s]"
      ]
     },
     "metadata": {},
     "output_type": "display_data"
    },
    {
     "name": "stdout",
     "output_type": "stream",
     "text": [
      "Validation 100: nll=99.48 bpd=2.24\n"
     ]
    },
    {
     "data": {
      "application/vnd.jupyter.widget-view+json": {
       "model_id": "e267586f03e7488b9bcddac84f7f3f0a",
       "version_major": 2,
       "version_minor": 0
      },
      "text/plain": [
       "  0%|          | 0/275 [00:00<?, ?it/s]"
      ]
     },
     "metadata": {},
     "output_type": "display_data"
    },
    {
     "name": "stdout",
     "output_type": "stream",
     "text": [
      "Validation 101: nll=99.18 bpd=2.24\n"
     ]
    },
    {
     "data": {
      "application/vnd.jupyter.widget-view+json": {
       "model_id": "a7b7cc45db0f4e74bd1bf6d338190106",
       "version_major": 2,
       "version_minor": 0
      },
      "text/plain": [
       "  0%|          | 0/275 [00:00<?, ?it/s]"
      ]
     },
     "metadata": {},
     "output_type": "display_data"
    },
    {
     "name": "stdout",
     "output_type": "stream",
     "text": [
      "Validation 102: nll=99.27 bpd=2.24\n"
     ]
    },
    {
     "data": {
      "application/vnd.jupyter.widget-view+json": {
       "model_id": "e6438df75d0e4fefb95373f987eeef02",
       "version_major": 2,
       "version_minor": 0
      },
      "text/plain": [
       "  0%|          | 0/275 [00:00<?, ?it/s]"
      ]
     },
     "metadata": {},
     "output_type": "display_data"
    },
    {
     "name": "stdout",
     "output_type": "stream",
     "text": [
      "Validation 103: nll=99.33 bpd=2.24\n"
     ]
    },
    {
     "data": {
      "application/vnd.jupyter.widget-view+json": {
       "model_id": "f66c033e69f04b32a053996627ddd408",
       "version_major": 2,
       "version_minor": 0
      },
      "text/plain": [
       "  0%|          | 0/275 [00:00<?, ?it/s]"
      ]
     },
     "metadata": {},
     "output_type": "display_data"
    },
    {
     "name": "stdout",
     "output_type": "stream",
     "text": [
      "Validation 104: nll=99.13 bpd=2.23\n"
     ]
    },
    {
     "data": {
      "application/vnd.jupyter.widget-view+json": {
       "model_id": "d9778b6855e9485494c1baa61d5e6687",
       "version_major": 2,
       "version_minor": 0
      },
      "text/plain": [
       "  0%|          | 0/275 [00:00<?, ?it/s]"
      ]
     },
     "metadata": {},
     "output_type": "display_data"
    },
    {
     "name": "stdout",
     "output_type": "stream",
     "text": [
      "Validation 105: nll=99.11 bpd=2.23\n"
     ]
    },
    {
     "data": {
      "application/vnd.jupyter.widget-view+json": {
       "model_id": "9488bb26cfa5492995798adcacd1c83e",
       "version_major": 2,
       "version_minor": 0
      },
      "text/plain": [
       "  0%|          | 0/275 [00:00<?, ?it/s]"
      ]
     },
     "metadata": {},
     "output_type": "display_data"
    },
    {
     "name": "stdout",
     "output_type": "stream",
     "text": [
      "Validation 106: nll=99.12 bpd=2.23\n"
     ]
    },
    {
     "data": {
      "application/vnd.jupyter.widget-view+json": {
       "model_id": "7cb6bf0ef8794c84b9fa176c5eafb506",
       "version_major": 2,
       "version_minor": 0
      },
      "text/plain": [
       "  0%|          | 0/275 [00:00<?, ?it/s]"
      ]
     },
     "metadata": {},
     "output_type": "display_data"
    },
    {
     "name": "stdout",
     "output_type": "stream",
     "text": [
      "Validation 107: nll=99.24 bpd=2.24\n"
     ]
    },
    {
     "data": {
      "application/vnd.jupyter.widget-view+json": {
       "model_id": "87de38364b7e486ba6a59bf2fe52152b",
       "version_major": 2,
       "version_minor": 0
      },
      "text/plain": [
       "  0%|          | 0/275 [00:00<?, ?it/s]"
      ]
     },
     "metadata": {},
     "output_type": "display_data"
    },
    {
     "name": "stdout",
     "output_type": "stream",
     "text": [
      "Validation 108: nll=99.07 bpd=2.23\n"
     ]
    },
    {
     "data": {
      "application/vnd.jupyter.widget-view+json": {
       "model_id": "1ea92838aef0450fb3d9aa78cd85bf6a",
       "version_major": 2,
       "version_minor": 0
      },
      "text/plain": [
       "  0%|          | 0/275 [00:00<?, ?it/s]"
      ]
     },
     "metadata": {},
     "output_type": "display_data"
    },
    {
     "name": "stdout",
     "output_type": "stream",
     "text": [
      "Validation 109: nll=98.94 bpd=2.23\n"
     ]
    },
    {
     "data": {
      "application/vnd.jupyter.widget-view+json": {
       "model_id": "0e3ad904b7314d33a2590d3296b5a686",
       "version_major": 2,
       "version_minor": 0
      },
      "text/plain": [
       "  0%|          | 0/275 [00:00<?, ?it/s]"
      ]
     },
     "metadata": {},
     "output_type": "display_data"
    },
    {
     "name": "stdout",
     "output_type": "stream",
     "text": [
      "Validation 110: nll=98.98 bpd=2.23\n"
     ]
    },
    {
     "data": {
      "application/vnd.jupyter.widget-view+json": {
       "model_id": "de9502f86dda4803ae951bde3c770fbc",
       "version_major": 2,
       "version_minor": 0
      },
      "text/plain": [
       "  0%|          | 0/275 [00:00<?, ?it/s]"
      ]
     },
     "metadata": {},
     "output_type": "display_data"
    },
    {
     "name": "stdout",
     "output_type": "stream",
     "text": [
      "Validation 111: nll=98.80 bpd=2.23\n"
     ]
    },
    {
     "data": {
      "application/vnd.jupyter.widget-view+json": {
       "model_id": "76845080766d4588aaccd352a8b6dc99",
       "version_major": 2,
       "version_minor": 0
      },
      "text/plain": [
       "  0%|          | 0/275 [00:00<?, ?it/s]"
      ]
     },
     "metadata": {},
     "output_type": "display_data"
    },
    {
     "name": "stdout",
     "output_type": "stream",
     "text": [
      "Validation 112: nll=98.79 bpd=2.23\n"
     ]
    },
    {
     "data": {
      "application/vnd.jupyter.widget-view+json": {
       "model_id": "2c44f2fe9098418092aac6f622fe14fa",
       "version_major": 2,
       "version_minor": 0
      },
      "text/plain": [
       "  0%|          | 0/275 [00:00<?, ?it/s]"
      ]
     },
     "metadata": {},
     "output_type": "display_data"
    },
    {
     "name": "stdout",
     "output_type": "stream",
     "text": [
      "Validation 113: nll=98.77 bpd=2.23\n"
     ]
    },
    {
     "data": {
      "application/vnd.jupyter.widget-view+json": {
       "model_id": "0deff94ec9c1441db6b6ca20988a203c",
       "version_major": 2,
       "version_minor": 0
      },
      "text/plain": [
       "  0%|          | 0/275 [00:00<?, ?it/s]"
      ]
     },
     "metadata": {},
     "output_type": "display_data"
    },
    {
     "name": "stdout",
     "output_type": "stream",
     "text": [
      "Validation 114: nll=98.76 bpd=2.23\n"
     ]
    },
    {
     "data": {
      "application/vnd.jupyter.widget-view+json": {
       "model_id": "901bc22b812b44848677cebc09350308",
       "version_major": 2,
       "version_minor": 0
      },
      "text/plain": [
       "  0%|          | 0/275 [00:00<?, ?it/s]"
      ]
     },
     "metadata": {},
     "output_type": "display_data"
    },
    {
     "name": "stdout",
     "output_type": "stream",
     "text": [
      "Validation 115: nll=98.59 bpd=2.22\n"
     ]
    },
    {
     "data": {
      "application/vnd.jupyter.widget-view+json": {
       "model_id": "5c6ef486eb18412881e062c2e4595dce",
       "version_major": 2,
       "version_minor": 0
      },
      "text/plain": [
       "  0%|          | 0/275 [00:00<?, ?it/s]"
      ]
     },
     "metadata": {},
     "output_type": "display_data"
    },
    {
     "name": "stdout",
     "output_type": "stream",
     "text": [
      "Validation 116: nll=98.62 bpd=2.22\n"
     ]
    },
    {
     "data": {
      "application/vnd.jupyter.widget-view+json": {
       "model_id": "0e4b5da197604e7fb4fa0bc3f8aa3c7d",
       "version_major": 2,
       "version_minor": 0
      },
      "text/plain": [
       "  0%|          | 0/275 [00:00<?, ?it/s]"
      ]
     },
     "metadata": {},
     "output_type": "display_data"
    },
    {
     "name": "stdout",
     "output_type": "stream",
     "text": [
      "Validation 117: nll=98.61 bpd=2.22\n"
     ]
    },
    {
     "data": {
      "application/vnd.jupyter.widget-view+json": {
       "model_id": "a27226449a12487ab1c5bf9a2fb4c52a",
       "version_major": 2,
       "version_minor": 0
      },
      "text/plain": [
       "  0%|          | 0/275 [00:00<?, ?it/s]"
      ]
     },
     "metadata": {},
     "output_type": "display_data"
    },
    {
     "name": "stdout",
     "output_type": "stream",
     "text": [
      "Validation 118: nll=98.63 bpd=2.22\n"
     ]
    },
    {
     "data": {
      "application/vnd.jupyter.widget-view+json": {
       "model_id": "9a4eb6f0d2034f04b020c63c0d98b61e",
       "version_major": 2,
       "version_minor": 0
      },
      "text/plain": [
       "  0%|          | 0/275 [00:00<?, ?it/s]"
      ]
     },
     "metadata": {},
     "output_type": "display_data"
    },
    {
     "name": "stdout",
     "output_type": "stream",
     "text": [
      "Validation 119: nll=98.54 bpd=2.22\n"
     ]
    },
    {
     "data": {
      "application/vnd.jupyter.widget-view+json": {
       "model_id": "0cc4dec6b1e24eeeb241b126531cee9a",
       "version_major": 2,
       "version_minor": 0
      },
      "text/plain": [
       "  0%|          | 0/275 [00:00<?, ?it/s]"
      ]
     },
     "metadata": {},
     "output_type": "display_data"
    },
    {
     "name": "stdout",
     "output_type": "stream",
     "text": [
      "Validation 120: nll=98.47 bpd=2.22\n"
     ]
    },
    {
     "data": {
      "application/vnd.jupyter.widget-view+json": {
       "model_id": "f65dc9cdfdcd4d3093da82ae299fb755",
       "version_major": 2,
       "version_minor": 0
      },
      "text/plain": [
       "  0%|          | 0/275 [00:00<?, ?it/s]"
      ]
     },
     "metadata": {},
     "output_type": "display_data"
    },
    {
     "name": "stdout",
     "output_type": "stream",
     "text": [
      "Validation 121: nll=98.55 bpd=2.22\n"
     ]
    },
    {
     "data": {
      "application/vnd.jupyter.widget-view+json": {
       "model_id": "664bd0035bf048c7ac5ee94da8ae0942",
       "version_major": 2,
       "version_minor": 0
      },
      "text/plain": [
       "  0%|          | 0/275 [00:00<?, ?it/s]"
      ]
     },
     "metadata": {},
     "output_type": "display_data"
    },
    {
     "name": "stdout",
     "output_type": "stream",
     "text": [
      "Validation 122: nll=98.48 bpd=2.22\n"
     ]
    },
    {
     "data": {
      "application/vnd.jupyter.widget-view+json": {
       "model_id": "ed057084612344ea861f2d75df318a31",
       "version_major": 2,
       "version_minor": 0
      },
      "text/plain": [
       "  0%|          | 0/275 [00:00<?, ?it/s]"
      ]
     },
     "metadata": {},
     "output_type": "display_data"
    },
    {
     "name": "stdout",
     "output_type": "stream",
     "text": [
      "Validation 123: nll=98.40 bpd=2.22\n"
     ]
    },
    {
     "data": {
      "application/vnd.jupyter.widget-view+json": {
       "model_id": "0a6ac468762f4cfba441754c3f6fbafc",
       "version_major": 2,
       "version_minor": 0
      },
      "text/plain": [
       "  0%|          | 0/275 [00:00<?, ?it/s]"
      ]
     },
     "metadata": {},
     "output_type": "display_data"
    },
    {
     "name": "stdout",
     "output_type": "stream",
     "text": [
      "Validation 124: nll=98.52 bpd=2.22\n"
     ]
    },
    {
     "data": {
      "application/vnd.jupyter.widget-view+json": {
       "model_id": "ecf50501273b4882af00d6a12e42e4e1",
       "version_major": 2,
       "version_minor": 0
      },
      "text/plain": [
       "  0%|          | 0/275 [00:00<?, ?it/s]"
      ]
     },
     "metadata": {},
     "output_type": "display_data"
    },
    {
     "name": "stdout",
     "output_type": "stream",
     "text": [
      "Validation 125: nll=98.44 bpd=2.22\n"
     ]
    },
    {
     "data": {
      "application/vnd.jupyter.widget-view+json": {
       "model_id": "b1d365cbef474007924b9b09fb5f1dec",
       "version_major": 2,
       "version_minor": 0
      },
      "text/plain": [
       "  0%|          | 0/275 [00:00<?, ?it/s]"
      ]
     },
     "metadata": {},
     "output_type": "display_data"
    },
    {
     "name": "stdout",
     "output_type": "stream",
     "text": [
      "Validation 126: nll=98.32 bpd=2.22\n"
     ]
    },
    {
     "data": {
      "application/vnd.jupyter.widget-view+json": {
       "model_id": "eb949026f69d40d3b3c658ef851c02d8",
       "version_major": 2,
       "version_minor": 0
      },
      "text/plain": [
       "  0%|          | 0/275 [00:00<?, ?it/s]"
      ]
     },
     "metadata": {},
     "output_type": "display_data"
    },
    {
     "name": "stdout",
     "output_type": "stream",
     "text": [
      "Validation 127: nll=98.24 bpd=2.21\n"
     ]
    },
    {
     "data": {
      "application/vnd.jupyter.widget-view+json": {
       "model_id": "181a56afa6db4fdfb5ea35ff15d3a7c3",
       "version_major": 2,
       "version_minor": 0
      },
      "text/plain": [
       "  0%|          | 0/275 [00:00<?, ?it/s]"
      ]
     },
     "metadata": {},
     "output_type": "display_data"
    },
    {
     "name": "stdout",
     "output_type": "stream",
     "text": [
      "Validation 128: nll=98.14 bpd=2.21\n"
     ]
    },
    {
     "data": {
      "application/vnd.jupyter.widget-view+json": {
       "model_id": "b2cc7365efdc41cd95f86b43ca368236",
       "version_major": 2,
       "version_minor": 0
      },
      "text/plain": [
       "  0%|          | 0/275 [00:00<?, ?it/s]"
      ]
     },
     "metadata": {},
     "output_type": "display_data"
    },
    {
     "name": "stdout",
     "output_type": "stream",
     "text": [
      "Validation 129: nll=98.35 bpd=2.22\n"
     ]
    },
    {
     "data": {
      "application/vnd.jupyter.widget-view+json": {
       "model_id": "abdcd92adaca4692b7bdc8821e989f4a",
       "version_major": 2,
       "version_minor": 0
      },
      "text/plain": [
       "  0%|          | 0/275 [00:00<?, ?it/s]"
      ]
     },
     "metadata": {},
     "output_type": "display_data"
    },
    {
     "name": "stdout",
     "output_type": "stream",
     "text": [
      "Validation 130: nll=98.07 bpd=2.21\n"
     ]
    },
    {
     "data": {
      "application/vnd.jupyter.widget-view+json": {
       "model_id": "602a30e058c747b7bd7a8cc8ab2770d3",
       "version_major": 2,
       "version_minor": 0
      },
      "text/plain": [
       "  0%|          | 0/275 [00:00<?, ?it/s]"
      ]
     },
     "metadata": {},
     "output_type": "display_data"
    },
    {
     "name": "stdout",
     "output_type": "stream",
     "text": [
      "Validation 131: nll=98.12 bpd=2.21\n"
     ]
    },
    {
     "data": {
      "application/vnd.jupyter.widget-view+json": {
       "model_id": "d956eb51420645a2ae2377691edc9c8b",
       "version_major": 2,
       "version_minor": 0
      },
      "text/plain": [
       "  0%|          | 0/275 [00:00<?, ?it/s]"
      ]
     },
     "metadata": {},
     "output_type": "display_data"
    },
    {
     "name": "stdout",
     "output_type": "stream",
     "text": [
      "Validation 132: nll=98.09 bpd=2.21\n"
     ]
    },
    {
     "data": {
      "application/vnd.jupyter.widget-view+json": {
       "model_id": "971564dfb2294d958068e44ffa5e7622",
       "version_major": 2,
       "version_minor": 0
      },
      "text/plain": [
       "  0%|          | 0/275 [00:00<?, ?it/s]"
      ]
     },
     "metadata": {},
     "output_type": "display_data"
    },
    {
     "name": "stdout",
     "output_type": "stream",
     "text": [
      "Validation 133: nll=98.15 bpd=2.21\n"
     ]
    },
    {
     "data": {
      "application/vnd.jupyter.widget-view+json": {
       "model_id": "1a937836a8bf475080494c039f6aa66c",
       "version_major": 2,
       "version_minor": 0
      },
      "text/plain": [
       "  0%|          | 0/275 [00:00<?, ?it/s]"
      ]
     },
     "metadata": {},
     "output_type": "display_data"
    },
    {
     "name": "stdout",
     "output_type": "stream",
     "text": [
      "Validation 134: nll=98.09 bpd=2.21\n"
     ]
    },
    {
     "data": {
      "application/vnd.jupyter.widget-view+json": {
       "model_id": "14068450bc6b401488cba46e30bb253d",
       "version_major": 2,
       "version_minor": 0
      },
      "text/plain": [
       "  0%|          | 0/275 [00:00<?, ?it/s]"
      ]
     },
     "metadata": {},
     "output_type": "display_data"
    },
    {
     "name": "stdout",
     "output_type": "stream",
     "text": [
      "Validation 135: nll=98.12 bpd=2.21\n"
     ]
    },
    {
     "data": {
      "application/vnd.jupyter.widget-view+json": {
       "model_id": "c58313429df34f389d21f4ec5ba61397",
       "version_major": 2,
       "version_minor": 0
      },
      "text/plain": [
       "  0%|          | 0/275 [00:00<?, ?it/s]"
      ]
     },
     "metadata": {},
     "output_type": "display_data"
    },
    {
     "name": "stdout",
     "output_type": "stream",
     "text": [
      "Validation 136: nll=98.17 bpd=2.21\n"
     ]
    },
    {
     "data": {
      "application/vnd.jupyter.widget-view+json": {
       "model_id": "4a4bc0229084477f94ff8802820fa844",
       "version_major": 2,
       "version_minor": 0
      },
      "text/plain": [
       "  0%|          | 0/275 [00:00<?, ?it/s]"
      ]
     },
     "metadata": {},
     "output_type": "display_data"
    },
    {
     "name": "stdout",
     "output_type": "stream",
     "text": [
      "Validation 137: nll=98.01 bpd=2.21\n"
     ]
    },
    {
     "data": {
      "application/vnd.jupyter.widget-view+json": {
       "model_id": "86dad8fa42894c33bbfa81f2a0802ff4",
       "version_major": 2,
       "version_minor": 0
      },
      "text/plain": [
       "  0%|          | 0/275 [00:00<?, ?it/s]"
      ]
     },
     "metadata": {},
     "output_type": "display_data"
    },
    {
     "name": "stdout",
     "output_type": "stream",
     "text": [
      "Validation 138: nll=97.77 bpd=2.20\n"
     ]
    },
    {
     "data": {
      "application/vnd.jupyter.widget-view+json": {
       "model_id": "ab2b704a90c44ad99fb8ac0557a5e5e8",
       "version_major": 2,
       "version_minor": 0
      },
      "text/plain": [
       "  0%|          | 0/275 [00:00<?, ?it/s]"
      ]
     },
     "metadata": {},
     "output_type": "display_data"
    },
    {
     "name": "stdout",
     "output_type": "stream",
     "text": [
      "Validation 139: nll=98.05 bpd=2.21\n"
     ]
    },
    {
     "data": {
      "application/vnd.jupyter.widget-view+json": {
       "model_id": "971e39905c114491b7fa852eb729ea48",
       "version_major": 2,
       "version_minor": 0
      },
      "text/plain": [
       "  0%|          | 0/275 [00:00<?, ?it/s]"
      ]
     },
     "metadata": {},
     "output_type": "display_data"
    },
    {
     "name": "stdout",
     "output_type": "stream",
     "text": [
      "Validation 140: nll=97.86 bpd=2.21\n"
     ]
    },
    {
     "data": {
      "application/vnd.jupyter.widget-view+json": {
       "model_id": "84d753170c674000bc3a8b5cd3e2cfda",
       "version_major": 2,
       "version_minor": 0
      },
      "text/plain": [
       "  0%|          | 0/275 [00:00<?, ?it/s]"
      ]
     },
     "metadata": {},
     "output_type": "display_data"
    },
    {
     "name": "stdout",
     "output_type": "stream",
     "text": [
      "Validation 141: nll=97.96 bpd=2.21\n"
     ]
    },
    {
     "data": {
      "application/vnd.jupyter.widget-view+json": {
       "model_id": "a2b084d6dc064d2785a625635ea9873d",
       "version_major": 2,
       "version_minor": 0
      },
      "text/plain": [
       "  0%|          | 0/275 [00:00<?, ?it/s]"
      ]
     },
     "metadata": {},
     "output_type": "display_data"
    },
    {
     "name": "stdout",
     "output_type": "stream",
     "text": [
      "Validation 142: nll=97.86 bpd=2.21\n"
     ]
    },
    {
     "data": {
      "application/vnd.jupyter.widget-view+json": {
       "model_id": "a5a6cda16d974be28c00f622e2150a4f",
       "version_major": 2,
       "version_minor": 0
      },
      "text/plain": [
       "  0%|          | 0/275 [00:00<?, ?it/s]"
      ]
     },
     "metadata": {},
     "output_type": "display_data"
    },
    {
     "name": "stdout",
     "output_type": "stream",
     "text": [
      "Validation 143: nll=97.85 bpd=2.21\n"
     ]
    },
    {
     "data": {
      "application/vnd.jupyter.widget-view+json": {
       "model_id": "b0d62a61718c4fad9809a136b8e9b778",
       "version_major": 2,
       "version_minor": 0
      },
      "text/plain": [
       "  0%|          | 0/275 [00:00<?, ?it/s]"
      ]
     },
     "metadata": {},
     "output_type": "display_data"
    },
    {
     "name": "stdout",
     "output_type": "stream",
     "text": [
      "Validation 144: nll=97.78 bpd=2.20\n"
     ]
    },
    {
     "data": {
      "application/vnd.jupyter.widget-view+json": {
       "model_id": "2dd41fcb86f34a37bfc0a9c608806447",
       "version_major": 2,
       "version_minor": 0
      },
      "text/plain": [
       "  0%|          | 0/275 [00:00<?, ?it/s]"
      ]
     },
     "metadata": {},
     "output_type": "display_data"
    },
    {
     "name": "stdout",
     "output_type": "stream",
     "text": [
      "Validation 145: nll=97.69 bpd=2.20\n"
     ]
    },
    {
     "data": {
      "application/vnd.jupyter.widget-view+json": {
       "model_id": "da15f7a3ba224e56b2aaf886d27cb2c3",
       "version_major": 2,
       "version_minor": 0
      },
      "text/plain": [
       "  0%|          | 0/275 [00:00<?, ?it/s]"
      ]
     },
     "metadata": {},
     "output_type": "display_data"
    },
    {
     "name": "stdout",
     "output_type": "stream",
     "text": [
      "Validation 146: nll=97.91 bpd=2.21\n"
     ]
    },
    {
     "data": {
      "application/vnd.jupyter.widget-view+json": {
       "model_id": "2b3d96c32e1e41739a868241c8f82c8f",
       "version_major": 2,
       "version_minor": 0
      },
      "text/plain": [
       "  0%|          | 0/275 [00:00<?, ?it/s]"
      ]
     },
     "metadata": {},
     "output_type": "display_data"
    },
    {
     "name": "stdout",
     "output_type": "stream",
     "text": [
      "Validation 147: nll=97.68 bpd=2.20\n"
     ]
    },
    {
     "data": {
      "application/vnd.jupyter.widget-view+json": {
       "model_id": "79b1747201394b7cac9e13d761c05fdd",
       "version_major": 2,
       "version_minor": 0
      },
      "text/plain": [
       "  0%|          | 0/275 [00:00<?, ?it/s]"
      ]
     },
     "metadata": {},
     "output_type": "display_data"
    },
    {
     "name": "stdout",
     "output_type": "stream",
     "text": [
      "Validation 148: nll=97.57 bpd=2.20\n"
     ]
    },
    {
     "data": {
      "application/vnd.jupyter.widget-view+json": {
       "model_id": "3d37c17c4ec04872812da44a1550b24c",
       "version_major": 2,
       "version_minor": 0
      },
      "text/plain": [
       "  0%|          | 0/275 [00:00<?, ?it/s]"
      ]
     },
     "metadata": {},
     "output_type": "display_data"
    },
    {
     "name": "stdout",
     "output_type": "stream",
     "text": [
      "Validation 149: nll=97.62 bpd=2.20\n"
     ]
    },
    {
     "data": {
      "application/vnd.jupyter.widget-view+json": {
       "model_id": "0b0906bd1b6b4de884a6ec00397bbc69",
       "version_major": 2,
       "version_minor": 0
      },
      "text/plain": [
       "  0%|          | 0/275 [00:00<?, ?it/s]"
      ]
     },
     "metadata": {},
     "output_type": "display_data"
    },
    {
     "name": "stdout",
     "output_type": "stream",
     "text": [
      "Validation 150: nll=97.72 bpd=2.20\n"
     ]
    },
    {
     "data": {
      "application/vnd.jupyter.widget-view+json": {
       "model_id": "1915129f35f6411aabd43f309c49f0f0",
       "version_major": 2,
       "version_minor": 0
      },
      "text/plain": [
       "  0%|          | 0/275 [00:00<?, ?it/s]"
      ]
     },
     "metadata": {},
     "output_type": "display_data"
    },
    {
     "name": "stdout",
     "output_type": "stream",
     "text": [
      "Validation 151: nll=97.90 bpd=2.21\n"
     ]
    },
    {
     "data": {
      "application/vnd.jupyter.widget-view+json": {
       "model_id": "cab04381b1864625914e62d0cdc6d688",
       "version_major": 2,
       "version_minor": 0
      },
      "text/plain": [
       "  0%|          | 0/275 [00:00<?, ?it/s]"
      ]
     },
     "metadata": {},
     "output_type": "display_data"
    },
    {
     "name": "stdout",
     "output_type": "stream",
     "text": [
      "Validation 152: nll=97.59 bpd=2.20\n"
     ]
    },
    {
     "data": {
      "application/vnd.jupyter.widget-view+json": {
       "model_id": "8de050f4167b4464866749ad5ea073c5",
       "version_major": 2,
       "version_minor": 0
      },
      "text/plain": [
       "  0%|          | 0/275 [00:00<?, ?it/s]"
      ]
     },
     "metadata": {},
     "output_type": "display_data"
    },
    {
     "name": "stdout",
     "output_type": "stream",
     "text": [
      "Validation 153: nll=97.72 bpd=2.20\n"
     ]
    },
    {
     "data": {
      "application/vnd.jupyter.widget-view+json": {
       "model_id": "b0fdf0ecd2e646b6862a861d3c199eee",
       "version_major": 2,
       "version_minor": 0
      },
      "text/plain": [
       "  0%|          | 0/275 [00:00<?, ?it/s]"
      ]
     },
     "metadata": {},
     "output_type": "display_data"
    },
    {
     "name": "stdout",
     "output_type": "stream",
     "text": [
      "Validation 154: nll=97.64 bpd=2.20\n"
     ]
    },
    {
     "data": {
      "application/vnd.jupyter.widget-view+json": {
       "model_id": "1ee7fabe4dc14b41a0a623b36257de91",
       "version_major": 2,
       "version_minor": 0
      },
      "text/plain": [
       "  0%|          | 0/275 [00:00<?, ?it/s]"
      ]
     },
     "metadata": {},
     "output_type": "display_data"
    },
    {
     "name": "stdout",
     "output_type": "stream",
     "text": [
      "Validation 155: nll=97.59 bpd=2.20\n"
     ]
    },
    {
     "data": {
      "application/vnd.jupyter.widget-view+json": {
       "model_id": "c884313bfaab43478c664b9037233ba0",
       "version_major": 2,
       "version_minor": 0
      },
      "text/plain": [
       "  0%|          | 0/275 [00:00<?, ?it/s]"
      ]
     },
     "metadata": {},
     "output_type": "display_data"
    },
    {
     "name": "stdout",
     "output_type": "stream",
     "text": [
      "Validation 156: nll=97.39 bpd=2.20\n"
     ]
    },
    {
     "data": {
      "application/vnd.jupyter.widget-view+json": {
       "model_id": "040b947f1d994edc9379c20c66140503",
       "version_major": 2,
       "version_minor": 0
      },
      "text/plain": [
       "  0%|          | 0/275 [00:00<?, ?it/s]"
      ]
     },
     "metadata": {},
     "output_type": "display_data"
    },
    {
     "name": "stdout",
     "output_type": "stream",
     "text": [
      "Validation 157: nll=97.63 bpd=2.20\n"
     ]
    },
    {
     "data": {
      "application/vnd.jupyter.widget-view+json": {
       "model_id": "65307601d2e74e93b02ce42e9610b707",
       "version_major": 2,
       "version_minor": 0
      },
      "text/plain": [
       "  0%|          | 0/275 [00:00<?, ?it/s]"
      ]
     },
     "metadata": {},
     "output_type": "display_data"
    },
    {
     "name": "stdout",
     "output_type": "stream",
     "text": [
      "Validation 158: nll=97.46 bpd=2.20\n"
     ]
    },
    {
     "data": {
      "application/vnd.jupyter.widget-view+json": {
       "model_id": "082594d24a0a44ce9dd062d81b927c83",
       "version_major": 2,
       "version_minor": 0
      },
      "text/plain": [
       "  0%|          | 0/275 [00:00<?, ?it/s]"
      ]
     },
     "metadata": {},
     "output_type": "display_data"
    },
    {
     "name": "stdout",
     "output_type": "stream",
     "text": [
      "Validation 159: nll=97.53 bpd=2.20\n"
     ]
    },
    {
     "data": {
      "application/vnd.jupyter.widget-view+json": {
       "model_id": "cdfbde6a01be450395933cd6f19611f8",
       "version_major": 2,
       "version_minor": 0
      },
      "text/plain": [
       "  0%|          | 0/275 [00:00<?, ?it/s]"
      ]
     },
     "metadata": {},
     "output_type": "display_data"
    },
    {
     "name": "stdout",
     "output_type": "stream",
     "text": [
      "Validation 160: nll=97.59 bpd=2.20\n"
     ]
    },
    {
     "data": {
      "application/vnd.jupyter.widget-view+json": {
       "model_id": "9f565d65c20a41c289ea4950520722a3",
       "version_major": 2,
       "version_minor": 0
      },
      "text/plain": [
       "  0%|          | 0/275 [00:00<?, ?it/s]"
      ]
     },
     "metadata": {},
     "output_type": "display_data"
    },
    {
     "name": "stdout",
     "output_type": "stream",
     "text": [
      "Validation 161: nll=97.50 bpd=2.20\n"
     ]
    },
    {
     "data": {
      "application/vnd.jupyter.widget-view+json": {
       "model_id": "1f57bafc38cf465e839edb892d9ac0df",
       "version_major": 2,
       "version_minor": 0
      },
      "text/plain": [
       "  0%|          | 0/275 [00:00<?, ?it/s]"
      ]
     },
     "metadata": {},
     "output_type": "display_data"
    },
    {
     "name": "stdout",
     "output_type": "stream",
     "text": [
      "Validation 162: nll=97.50 bpd=2.20\n"
     ]
    },
    {
     "data": {
      "application/vnd.jupyter.widget-view+json": {
       "model_id": "0070d43d0a2440c48c1a8402ae30fe0e",
       "version_major": 2,
       "version_minor": 0
      },
      "text/plain": [
       "  0%|          | 0/275 [00:00<?, ?it/s]"
      ]
     },
     "metadata": {},
     "output_type": "display_data"
    },
    {
     "name": "stdout",
     "output_type": "stream",
     "text": [
      "Validation 163: nll=97.37 bpd=2.19\n"
     ]
    },
    {
     "data": {
      "application/vnd.jupyter.widget-view+json": {
       "model_id": "6831c8b7ac0a4d48a5a9919bfa18246d",
       "version_major": 2,
       "version_minor": 0
      },
      "text/plain": [
       "  0%|          | 0/275 [00:00<?, ?it/s]"
      ]
     },
     "metadata": {},
     "output_type": "display_data"
    },
    {
     "name": "stdout",
     "output_type": "stream",
     "text": [
      "Validation 164: nll=97.24 bpd=2.19\n"
     ]
    },
    {
     "data": {
      "application/vnd.jupyter.widget-view+json": {
       "model_id": "9a9402f369724e24aaf4c7a9d514bc02",
       "version_major": 2,
       "version_minor": 0
      },
      "text/plain": [
       "  0%|          | 0/275 [00:00<?, ?it/s]"
      ]
     },
     "metadata": {},
     "output_type": "display_data"
    },
    {
     "name": "stdout",
     "output_type": "stream",
     "text": [
      "Validation 165: nll=97.50 bpd=2.20\n"
     ]
    },
    {
     "data": {
      "application/vnd.jupyter.widget-view+json": {
       "model_id": "0645e800924847dc83bd3d455660b1b2",
       "version_major": 2,
       "version_minor": 0
      },
      "text/plain": [
       "  0%|          | 0/275 [00:00<?, ?it/s]"
      ]
     },
     "metadata": {},
     "output_type": "display_data"
    },
    {
     "name": "stdout",
     "output_type": "stream",
     "text": [
      "Validation 166: nll=97.49 bpd=2.20\n"
     ]
    },
    {
     "data": {
      "application/vnd.jupyter.widget-view+json": {
       "model_id": "3b159911c82649d2bc4ad1fe6f774b26",
       "version_major": 2,
       "version_minor": 0
      },
      "text/plain": [
       "  0%|          | 0/275 [00:00<?, ?it/s]"
      ]
     },
     "metadata": {},
     "output_type": "display_data"
    },
    {
     "name": "stdout",
     "output_type": "stream",
     "text": [
      "Validation 167: nll=97.31 bpd=2.19\n"
     ]
    },
    {
     "data": {
      "application/vnd.jupyter.widget-view+json": {
       "model_id": "d09463e66f4149eea11088c0b7ef2ca3",
       "version_major": 2,
       "version_minor": 0
      },
      "text/plain": [
       "  0%|          | 0/275 [00:00<?, ?it/s]"
      ]
     },
     "metadata": {},
     "output_type": "display_data"
    },
    {
     "name": "stdout",
     "output_type": "stream",
     "text": [
      "Validation 168: nll=97.35 bpd=2.19\n"
     ]
    },
    {
     "data": {
      "application/vnd.jupyter.widget-view+json": {
       "model_id": "b165cbc9fb9e4434b5b64c6c38789ec9",
       "version_major": 2,
       "version_minor": 0
      },
      "text/plain": [
       "  0%|          | 0/275 [00:00<?, ?it/s]"
      ]
     },
     "metadata": {},
     "output_type": "display_data"
    },
    {
     "name": "stdout",
     "output_type": "stream",
     "text": [
      "Validation 169: nll=97.40 bpd=2.20\n"
     ]
    },
    {
     "data": {
      "application/vnd.jupyter.widget-view+json": {
       "model_id": "57b0bdd1e6274286a42b34cccbddbd29",
       "version_major": 2,
       "version_minor": 0
      },
      "text/plain": [
       "  0%|          | 0/275 [00:00<?, ?it/s]"
      ]
     },
     "metadata": {},
     "output_type": "display_data"
    },
    {
     "name": "stdout",
     "output_type": "stream",
     "text": [
      "Validation 170: nll=97.31 bpd=2.19\n"
     ]
    },
    {
     "data": {
      "application/vnd.jupyter.widget-view+json": {
       "model_id": "8870c3f02e99466ab61afdeb2ab82e68",
       "version_major": 2,
       "version_minor": 0
      },
      "text/plain": [
       "  0%|          | 0/275 [00:00<?, ?it/s]"
      ]
     },
     "metadata": {},
     "output_type": "display_data"
    },
    {
     "name": "stdout",
     "output_type": "stream",
     "text": [
      "Validation 171: nll=97.19 bpd=2.19\n"
     ]
    },
    {
     "data": {
      "application/vnd.jupyter.widget-view+json": {
       "model_id": "5f6521869eb64123803e3fab9404dbb5",
       "version_major": 2,
       "version_minor": 0
      },
      "text/plain": [
       "  0%|          | 0/275 [00:00<?, ?it/s]"
      ]
     },
     "metadata": {},
     "output_type": "display_data"
    },
    {
     "name": "stdout",
     "output_type": "stream",
     "text": [
      "Validation 172: nll=97.25 bpd=2.19\n"
     ]
    },
    {
     "data": {
      "application/vnd.jupyter.widget-view+json": {
       "model_id": "bd1ac3df21b14fdbb2554d7d9aa45c5c",
       "version_major": 2,
       "version_minor": 0
      },
      "text/plain": [
       "  0%|          | 0/275 [00:00<?, ?it/s]"
      ]
     },
     "metadata": {},
     "output_type": "display_data"
    },
    {
     "name": "stdout",
     "output_type": "stream",
     "text": [
      "Validation 173: nll=97.22 bpd=2.19\n"
     ]
    },
    {
     "data": {
      "application/vnd.jupyter.widget-view+json": {
       "model_id": "75eb3e0cea1b4add9efc0938168457ed",
       "version_major": 2,
       "version_minor": 0
      },
      "text/plain": [
       "  0%|          | 0/275 [00:00<?, ?it/s]"
      ]
     },
     "metadata": {},
     "output_type": "display_data"
    },
    {
     "name": "stdout",
     "output_type": "stream",
     "text": [
      "Validation 174: nll=97.25 bpd=2.19\n"
     ]
    },
    {
     "data": {
      "application/vnd.jupyter.widget-view+json": {
       "model_id": "9a7b0fa4761b45af9958a9aa4693352d",
       "version_major": 2,
       "version_minor": 0
      },
      "text/plain": [
       "  0%|          | 0/275 [00:00<?, ?it/s]"
      ]
     },
     "metadata": {},
     "output_type": "display_data"
    },
    {
     "name": "stdout",
     "output_type": "stream",
     "text": [
      "Validation 175: nll=97.26 bpd=2.19\n"
     ]
    },
    {
     "data": {
      "application/vnd.jupyter.widget-view+json": {
       "model_id": "431c438a58a343618aeb604e3598cd1c",
       "version_major": 2,
       "version_minor": 0
      },
      "text/plain": [
       "  0%|          | 0/275 [00:00<?, ?it/s]"
      ]
     },
     "metadata": {},
     "output_type": "display_data"
    },
    {
     "name": "stdout",
     "output_type": "stream",
     "text": [
      "Validation 176: nll=97.35 bpd=2.19\n"
     ]
    },
    {
     "data": {
      "application/vnd.jupyter.widget-view+json": {
       "model_id": "31bb42ac520c407fa80f24a4106ae020",
       "version_major": 2,
       "version_minor": 0
      },
      "text/plain": [
       "  0%|          | 0/275 [00:00<?, ?it/s]"
      ]
     },
     "metadata": {},
     "output_type": "display_data"
    },
    {
     "name": "stdout",
     "output_type": "stream",
     "text": [
      "Validation 177: nll=97.43 bpd=2.20\n"
     ]
    },
    {
     "data": {
      "application/vnd.jupyter.widget-view+json": {
       "model_id": "f0580a574526480e84dcebe3bdfa02f6",
       "version_major": 2,
       "version_minor": 0
      },
      "text/plain": [
       "  0%|          | 0/275 [00:00<?, ?it/s]"
      ]
     },
     "metadata": {},
     "output_type": "display_data"
    },
    {
     "name": "stdout",
     "output_type": "stream",
     "text": [
      "Validation 178: nll=97.24 bpd=2.19\n"
     ]
    },
    {
     "data": {
      "application/vnd.jupyter.widget-view+json": {
       "model_id": "5bcafb4c015744e7ac3b72ee8e02fddc",
       "version_major": 2,
       "version_minor": 0
      },
      "text/plain": [
       "  0%|          | 0/275 [00:00<?, ?it/s]"
      ]
     },
     "metadata": {},
     "output_type": "display_data"
    },
    {
     "name": "stdout",
     "output_type": "stream",
     "text": [
      "Validation 179: nll=97.11 bpd=2.19\n"
     ]
    },
    {
     "data": {
      "application/vnd.jupyter.widget-view+json": {
       "model_id": "565b9ebc03d341c1bc71f59fbba47090",
       "version_major": 2,
       "version_minor": 0
      },
      "text/plain": [
       "  0%|          | 0/275 [00:00<?, ?it/s]"
      ]
     },
     "metadata": {},
     "output_type": "display_data"
    },
    {
     "name": "stdout",
     "output_type": "stream",
     "text": [
      "Validation 180: nll=97.07 bpd=2.19\n"
     ]
    },
    {
     "data": {
      "application/vnd.jupyter.widget-view+json": {
       "model_id": "27409943954745a3878f29833da39c0d",
       "version_major": 2,
       "version_minor": 0
      },
      "text/plain": [
       "  0%|          | 0/275 [00:00<?, ?it/s]"
      ]
     },
     "metadata": {},
     "output_type": "display_data"
    },
    {
     "name": "stdout",
     "output_type": "stream",
     "text": [
      "Validation 181: nll=97.00 bpd=2.19\n"
     ]
    },
    {
     "data": {
      "application/vnd.jupyter.widget-view+json": {
       "model_id": "1748b437bc544aa1a5e2af47937036a1",
       "version_major": 2,
       "version_minor": 0
      },
      "text/plain": [
       "  0%|          | 0/275 [00:00<?, ?it/s]"
      ]
     },
     "metadata": {},
     "output_type": "display_data"
    },
    {
     "name": "stdout",
     "output_type": "stream",
     "text": [
      "Validation 182: nll=97.28 bpd=2.19\n"
     ]
    },
    {
     "data": {
      "application/vnd.jupyter.widget-view+json": {
       "model_id": "a019b8b7ef144643adcf8ae8ae73be9e",
       "version_major": 2,
       "version_minor": 0
      },
      "text/plain": [
       "  0%|          | 0/275 [00:00<?, ?it/s]"
      ]
     },
     "metadata": {},
     "output_type": "display_data"
    },
    {
     "name": "stdout",
     "output_type": "stream",
     "text": [
      "Validation 183: nll=97.12 bpd=2.19\n"
     ]
    },
    {
     "data": {
      "application/vnd.jupyter.widget-view+json": {
       "model_id": "6c6fc47c0b114b1c8a836b3ee153d6d1",
       "version_major": 2,
       "version_minor": 0
      },
      "text/plain": [
       "  0%|          | 0/275 [00:00<?, ?it/s]"
      ]
     },
     "metadata": {},
     "output_type": "display_data"
    },
    {
     "name": "stdout",
     "output_type": "stream",
     "text": [
      "Validation 184: nll=97.06 bpd=2.19\n"
     ]
    },
    {
     "data": {
      "application/vnd.jupyter.widget-view+json": {
       "model_id": "582fe34d535a46df96e1e71c70c9e8ae",
       "version_major": 2,
       "version_minor": 0
      },
      "text/plain": [
       "  0%|          | 0/275 [00:00<?, ?it/s]"
      ]
     },
     "metadata": {},
     "output_type": "display_data"
    },
    {
     "name": "stdout",
     "output_type": "stream",
     "text": [
      "Validation 185: nll=97.13 bpd=2.19\n"
     ]
    },
    {
     "data": {
      "application/vnd.jupyter.widget-view+json": {
       "model_id": "60d0d1de2d7748d299e343672e2b65b5",
       "version_major": 2,
       "version_minor": 0
      },
      "text/plain": [
       "  0%|          | 0/275 [00:00<?, ?it/s]"
      ]
     },
     "metadata": {},
     "output_type": "display_data"
    },
    {
     "name": "stdout",
     "output_type": "stream",
     "text": [
      "Validation 186: nll=97.09 bpd=2.19\n"
     ]
    },
    {
     "data": {
      "application/vnd.jupyter.widget-view+json": {
       "model_id": "eea99242e9a64c94905cbcfdde8913d1",
       "version_major": 2,
       "version_minor": 0
      },
      "text/plain": [
       "  0%|          | 0/275 [00:00<?, ?it/s]"
      ]
     },
     "metadata": {},
     "output_type": "display_data"
    },
    {
     "name": "stdout",
     "output_type": "stream",
     "text": [
      "Validation 187: nll=97.06 bpd=2.19\n"
     ]
    },
    {
     "data": {
      "application/vnd.jupyter.widget-view+json": {
       "model_id": "96b22add7334400abf39817ec231fd43",
       "version_major": 2,
       "version_minor": 0
      },
      "text/plain": [
       "  0%|          | 0/275 [00:00<?, ?it/s]"
      ]
     },
     "metadata": {},
     "output_type": "display_data"
    },
    {
     "name": "stdout",
     "output_type": "stream",
     "text": [
      "Validation 188: nll=97.15 bpd=2.19\n"
     ]
    },
    {
     "data": {
      "application/vnd.jupyter.widget-view+json": {
       "model_id": "de57a6c5559f4d189360e3bbca769b1d",
       "version_major": 2,
       "version_minor": 0
      },
      "text/plain": [
       "  0%|          | 0/275 [00:00<?, ?it/s]"
      ]
     },
     "metadata": {},
     "output_type": "display_data"
    },
    {
     "name": "stdout",
     "output_type": "stream",
     "text": [
      "Validation 189: nll=97.15 bpd=2.19\n"
     ]
    },
    {
     "data": {
      "application/vnd.jupyter.widget-view+json": {
       "model_id": "dab2185228ed40bd8d509f1650f74472",
       "version_major": 2,
       "version_minor": 0
      },
      "text/plain": [
       "  0%|          | 0/275 [00:00<?, ?it/s]"
      ]
     },
     "metadata": {},
     "output_type": "display_data"
    },
    {
     "name": "stdout",
     "output_type": "stream",
     "text": [
      "Validation 190: nll=96.92 bpd=2.18\n"
     ]
    },
    {
     "data": {
      "application/vnd.jupyter.widget-view+json": {
       "model_id": "617941a4e1e14ab995f7bac0d44eea6d",
       "version_major": 2,
       "version_minor": 0
      },
      "text/plain": [
       "  0%|          | 0/275 [00:00<?, ?it/s]"
      ]
     },
     "metadata": {},
     "output_type": "display_data"
    },
    {
     "name": "stdout",
     "output_type": "stream",
     "text": [
      "Validation 191: nll=97.01 bpd=2.19\n"
     ]
    },
    {
     "data": {
      "application/vnd.jupyter.widget-view+json": {
       "model_id": "ab772b0947424773a9ca0a36862ec1a9",
       "version_major": 2,
       "version_minor": 0
      },
      "text/plain": [
       "  0%|          | 0/275 [00:00<?, ?it/s]"
      ]
     },
     "metadata": {},
     "output_type": "display_data"
    },
    {
     "name": "stdout",
     "output_type": "stream",
     "text": [
      "Validation 192: nll=97.00 bpd=2.19\n"
     ]
    },
    {
     "data": {
      "application/vnd.jupyter.widget-view+json": {
       "model_id": "a70460cdbad04d40bd2c8bb1f54bb799",
       "version_major": 2,
       "version_minor": 0
      },
      "text/plain": [
       "  0%|          | 0/275 [00:00<?, ?it/s]"
      ]
     },
     "metadata": {},
     "output_type": "display_data"
    },
    {
     "name": "stdout",
     "output_type": "stream",
     "text": [
      "Validation 193: nll=97.05 bpd=2.19\n"
     ]
    },
    {
     "data": {
      "application/vnd.jupyter.widget-view+json": {
       "model_id": "3422fb476f7c4674b3dc207b0860887a",
       "version_major": 2,
       "version_minor": 0
      },
      "text/plain": [
       "  0%|          | 0/275 [00:00<?, ?it/s]"
      ]
     },
     "metadata": {},
     "output_type": "display_data"
    },
    {
     "name": "stdout",
     "output_type": "stream",
     "text": [
      "Validation 194: nll=96.73 bpd=2.18\n"
     ]
    },
    {
     "data": {
      "application/vnd.jupyter.widget-view+json": {
       "model_id": "d77b682e588946fe97c43680b6a25b8e",
       "version_major": 2,
       "version_minor": 0
      },
      "text/plain": [
       "  0%|          | 0/275 [00:00<?, ?it/s]"
      ]
     },
     "metadata": {},
     "output_type": "display_data"
    },
    {
     "name": "stdout",
     "output_type": "stream",
     "text": [
      "Validation 195: nll=96.98 bpd=2.19\n"
     ]
    },
    {
     "data": {
      "application/vnd.jupyter.widget-view+json": {
       "model_id": "81b3ac76060d48bd80e8affcb3fd78b0",
       "version_major": 2,
       "version_minor": 0
      },
      "text/plain": [
       "  0%|          | 0/275 [00:00<?, ?it/s]"
      ]
     },
     "metadata": {},
     "output_type": "display_data"
    },
    {
     "name": "stdout",
     "output_type": "stream",
     "text": [
      "Validation 196: nll=96.85 bpd=2.18\n"
     ]
    },
    {
     "data": {
      "application/vnd.jupyter.widget-view+json": {
       "model_id": "f9b68bc27d0f49e88e730b0f7e134f5d",
       "version_major": 2,
       "version_minor": 0
      },
      "text/plain": [
       "  0%|          | 0/275 [00:00<?, ?it/s]"
      ]
     },
     "metadata": {},
     "output_type": "display_data"
    },
    {
     "name": "stdout",
     "output_type": "stream",
     "text": [
      "Validation 197: nll=96.83 bpd=2.18\n"
     ]
    },
    {
     "data": {
      "application/vnd.jupyter.widget-view+json": {
       "model_id": "489a931c74444e529b22a57c5ab9c451",
       "version_major": 2,
       "version_minor": 0
      },
      "text/plain": [
       "  0%|          | 0/275 [00:00<?, ?it/s]"
      ]
     },
     "metadata": {},
     "output_type": "display_data"
    },
    {
     "name": "stdout",
     "output_type": "stream",
     "text": [
      "Validation 198: nll=96.87 bpd=2.18\n"
     ]
    },
    {
     "data": {
      "application/vnd.jupyter.widget-view+json": {
       "model_id": "6d71e789568948c28c91cff342855cab",
       "version_major": 2,
       "version_minor": 0
      },
      "text/plain": [
       "  0%|          | 0/275 [00:00<?, ?it/s]"
      ]
     },
     "metadata": {},
     "output_type": "display_data"
    },
    {
     "name": "stdout",
     "output_type": "stream",
     "text": [
      "Validation 199: nll=96.83 bpd=2.18\n"
     ]
    },
    {
     "data": {
      "application/vnd.jupyter.widget-view+json": {
       "model_id": "19df6608ae4b417e9347e1a17d0cedd7",
       "version_major": 2,
       "version_minor": 0
      },
      "text/plain": [
       "  0%|          | 0/275 [00:00<?, ?it/s]"
      ]
     },
     "metadata": {},
     "output_type": "display_data"
    },
    {
     "name": "stdout",
     "output_type": "stream",
     "text": [
      "Validation 200: nll=96.93 bpd=2.18\n"
     ]
    }
   ],
   "source": [
    "for epoch in range(args.epochs):\n",
    "\n",
    "    iterator = tqdm(get_batcher(train_loader, args))\n",
    "\n",
    "    for x_obs, y_obs in iterator:        \n",
    "        # [B, H*W]\n",
    "        x_obs = x_obs.reshape(-1, args.height * args.width)\n",
    "        # [B, 10]\n",
    "        context = None   \n",
    "        \n",
    "        vae.train()      \n",
    "        loss, ret = vae.loss(x_obs)\n",
    "\n",
    "        for k, v in ret.items():\n",
    "            stats_tr[k].append(v)\n",
    "                \n",
    "        p_opt.zero_grad()\n",
    "        q_opt.zero_grad()        \n",
    "        loss.backward()\n",
    "        \n",
    "        torch.nn.utils.clip_grad_norm_(\n",
    "            chain(vae.gen_parameters(), vae.inf_parameters()), \n",
    "            args.grad_clip\n",
    "        )        \n",
    "        p_opt.step()\n",
    "        q_opt.step()\n",
    "    \n",
    "        iterator.set_description(f'Epoch {epoch+1:3d}')\n",
    "        iterator.set_postfix(ret)\n",
    "    \n",
    "    val_metrics = validate(vae, get_batcher(valid_loader, args), args.num_samples)\n",
    "    stats_val['val_nll'].append(val_metrics[0])\n",
    "    stats_val['val_bpd'].append(val_metrics[1])\n",
    "    print(f'Validation {epoch+1:3d}: nll={val_metrics[0]:.2f} bpd={val_metrics[1]:.2f}')"
   ]
  },
  {
   "cell_type": "markdown",
   "metadata": {
    "id": "dz90e7lyzOwe"
   },
   "source": [
    "### Training Curves"
   ]
  },
  {
   "cell_type": "code",
   "execution_count": 34,
   "metadata": {
    "id": "1BiQHIBHwJrr"
   },
   "outputs": [],
   "source": [
    "np_stats_tr = {k: np.array(v) for k, v in stats_tr.items()}\n",
    "np_stats_val = {k: np.array(v) for k, v in stats_val.items()}"
   ]
  },
  {
   "cell_type": "code",
   "execution_count": 35,
   "metadata": {},
   "outputs": [],
   "source": [
    "def smooth(v, kernel_size=100):\n",
    "    if kernel_size is None:\n",
    "        return v\n",
    "    return np.convolve(v, np.ones(kernel_size)/kernel_size, 'valid')"
   ]
  },
  {
   "cell_type": "code",
   "execution_count": 36,
   "metadata": {
    "colab": {
     "base_uri": "https://localhost:8080/",
     "height": 1000
    },
    "id": "-y3TFeJgwrbv",
    "outputId": "f6c5d3d2-0ea0-4e1b-f309-938be21c2d44"
   },
   "outputs": [
    {
     "data": {
      "image/png": "[encoded data removed]",
      "text/plain": [
       "<Figure size 432x288 with 1 Axes>"
      ]
     },
     "metadata": {
      "needs_background": "light"
     },
     "output_type": "display_data"
    },
    {
     "data": {
      "image/png": "[encoded data removed]",
      "text/plain": [
       "<Figure size 432x288 with 1 Axes>"
      ]
     },
     "metadata": {
      "needs_background": "light"
     },
     "output_type": "display_data"
    },
    {
     "data": {
      "image/png": "[encoded data removed]",
      "text/plain": [
       "<Figure size 432x288 with 1 Axes>"
      ]
     },
     "metadata": {
      "needs_background": "light"
     },
     "output_type": "display_data"
    }
   ],
   "source": [
    "for k, v in np_stats_tr.items():\n",
    "    v = smooth(v)\n",
    "    plt.plot(np.arange(1, v.size + 1), v, '.')    \n",
    "    plt.ylabel(f'Training {k}')\n",
    "    plt.xlabel('iteration')\n",
    "    plt.show()"
   ]
  },
  {
   "cell_type": "markdown",
   "metadata": {
    "id": "FY26XI0FzUm8"
   },
   "source": [
    "### Validation Curves"
   ]
  },
  {
   "cell_type": "code",
   "execution_count": 49,
   "metadata": {},
   "outputs": [
    {
     "name": "stdout",
     "output_type": "stream",
     "text": [
      "metric        mean       min\n",
      "--------  --------  --------\n",
      "val_nll   97.8193   96.7285\n",
      "val_bpd    2.20505   2.18046\n"
     ]
    }
   ],
   "source": [
    "from tabulate import tabulate\n",
    "\n",
    "print(tabulate(\n",
    "    [(k, np.mean(v[-100:]), np.min(v[-100:])) for k, v in np_stats_val.items()],\n",
    "    headers=['metric', 'mean', 'min']\n",
    "))"
   ]
  },
  {
   "cell_type": "code",
   "execution_count": 37,
   "metadata": {
    "colab": {
     "base_uri": "https://localhost:8080/",
     "height": 541
    },
    "id": "XoLBOF45yivl",
    "outputId": "d1fa5183-3cec-428c-d8d2-cb2bf72cd44f"
   },
   "outputs": [
    {
     "data": {
      "image/png": "[encoded data removed]",
      "text/plain": [
       "<Figure size 432x288 with 1 Axes>"
      ]
     },
     "metadata": {
      "needs_background": "light"
     },
     "output_type": "display_data"
    },
    {
     "data": {
      "image/png": "[encoded data removed]",
      "text/plain": [
       "<Figure size 432x288 with 1 Axes>"
      ]
     },
     "metadata": {
      "needs_background": "light"
     },
     "output_type": "display_data"
    }
   ],
   "source": [
    "for k, v in np_stats_val.items():    \n",
    "    plt.plot(np.arange(1, v.size + 1), v, 'o')\n",
    "    plt.ylabel(f'Validation {k}')\n",
    "    plt.xlabel('epoch')\n",
    "    plt.show()"
   ]
  },
  {
   "cell_type": "markdown",
   "metadata": {
    "id": "ndBexD8IzXDi"
   },
   "source": [
    "### Analysis"
   ]
  },
  {
   "cell_type": "code",
   "execution_count": 38,
   "metadata": {
    "colab": {
     "base_uri": "https://localhost:8080/",
     "height": 1000
    },
    "id": "DasiABbHu5mc",
    "outputId": "4259154c-0094-4078-ff1c-896c02b9680e"
   },
   "outputs": [
    {
     "name": "stdout",
     "output_type": "stream",
     "text": [
      "For a trained VAE: \n",
      " 1. We want to see that KL(Z|x || Z), KL(F|x || F), and KL(Y|f,x || Y|f) are generally > 0 for any x ~ D.\n"
     ]
    },
    {
     "data": {
      "image/png": "[encoded data removed]",
      "text/plain": [
       "<Figure size 432x288 with 1 Axes>"
      ]
     },
     "metadata": {
      "needs_background": "light"
     },
     "output_type": "display_data"
    },
    {
     "name": "stdout",
     "output_type": "stream",
     "text": [
      " 2. But, marginally, we expect E_X[Z|X] ~ Z E_X[F|X] ~ F and E_FX[Y|F,X] ~ E_F[Y|F].\n"
     ]
    },
    {
     "data": {
      "image/png": "[encoded data removed]",
      "text/plain": [
       "<Figure size 432x288 with 1 Axes>"
      ]
     },
     "metadata": {
      "needs_background": "light"
     },
     "output_type": "display_data"
    }
   ],
   "source": [
    "compare_p_q(vae, get_batcher(valid_loader, args), args)"
   ]
  },
  {
   "cell_type": "code",
   "execution_count": 39,
   "metadata": {
    "colab": {
     "base_uri": "https://localhost:8080/",
     "height": 1000
    },
    "id": "kcNTB64xhrYx",
    "outputId": "94a41323-768c-4bac-cddd-1e728ab474c4"
   },
   "outputs": [
    {
     "data": {
      "image/png": "[encoded data removed]",
      "text/plain": [
       "<Figure size 720x720 with 20 Axes>"
      ]
     },
     "metadata": {
      "needs_background": "light"
     },
     "output_type": "display_data"
    },
    {
     "data": {
      "image/png": "[encoded data removed]",
      "text/plain": [
       "<Figure size 720x720 with 20 Axes>"
      ]
     },
     "metadata": {
      "needs_background": "light"
     },
     "output_type": "display_data"
    }
   ],
   "source": [
    "visualize(vae, get_batcher(valid_loader, args), args, N=5, num_figs=2)"
   ]
  },
  {
   "cell_type": "code",
   "execution_count": null,
   "metadata": {
    "id": "dpY7GkEQhrYx"
   },
   "outputs": [],
   "source": []
  },
  {
   "cell_type": "code",
   "execution_count": null,
   "metadata": {
    "id": "OSgvWiwy86Is"
   },
   "outputs": [],
   "source": []
  }
 ],
 "metadata": {
  "accelerator": "GPU",
  "colab": {
   "collapsed_sections": [],
   "include_colab_link": true,
   "name": "mixed-rv-MNIST.ipynb",
   "provenance": [],
   "toc_visible": true
  },
  "kernelspec": {
   "display_name": "Python 3",
   "language": "python",
   "name": "python3"
  },
  "language_info": {
   "codemirror_mode": {
    "name": "ipython",
    "version": 3
   },
   "file_extension": ".py",
   "mimetype": "text/x-python",
   "name": "python",
   "nbconvert_exporter": "python",
   "pygments_lexer": "ipython3",
   "version": "3.7.9"
  },
  "toc-autonumbering": false,
  "widgets": {
   "application/vnd.jupyter.widget-state+json": {
    "026c452c13f74a0aa071ab5869027a7a": {
     "model_module": "@jupyter-widgets/controls",
     "model_name": "HTMLModel",
     "state": {
      "_dom_classes": [],
      "_model_module": "@jupyter-widgets/controls",
      "_model_module_version": "1.5.0",
      "_model_name": "HTMLModel",
      "_view_count": null,
      "_view_module": "@jupyter-widgets/controls",
      "_view_module_version": "1.5.0",
      "_view_name": "HTMLView",
      "description": "",
      "description_tooltip": null,
      "layout": "IPY_MODEL_2992689582d94ea0b3e2a166461861d3",
      "placeholder": "​",
      "style": "IPY_MODEL_1158c2e933694df38bce84f1c1e4b8f7",
      "value": " 9913344/? [00:15&lt;00:00, 628891.26it/s]"
     }
    },
    "05389b71a6b545cf9b61d9f63f79c894": {
     "model_module": "@jupyter-widgets/base",
     "model_name": "LayoutModel",
     "state": {
      "_model_module": "@jupyter-widgets/base",
      "_model_module_version": "1.2.0",
      "_model_name": "LayoutModel",
      "_view_count": null,
      "_view_module": "@jupyter-widgets/base",
      "_view_module_version": "1.2.0",
      "_view_name": "LayoutView",
      "align_content": null,
      "align_items": null,
      "align_self": null,
      "border": null,
      "bottom": null,
      "display": null,
      "flex": null,
      "flex_flow": null,
      "grid_area": null,
      "grid_auto_columns": null,
      "grid_auto_flow": null,
      "grid_auto_rows": null,
      "grid_column": null,
      "grid_gap": null,
      "grid_row": null,
      "grid_template_areas": null,
      "grid_template_columns": null,
      "grid_template_rows": null,
      "height": null,
      "justify_content": null,
      "justify_items": null,
      "left": null,
      "margin": null,
      "max_height": null,
      "max_width": null,
      "min_height": null,
      "min_width": null,
      "object_fit": null,
      "object_position": null,
      "order": null,
      "overflow": null,
      "overflow_x": null,
      "overflow_y": null,
      "padding": null,
      "right": null,
      "top": null,
      "visibility": null,
      "width": null
     }
    },
    "08101fefdba5474193cae33d3418a2e8": {
     "model_module": "@jupyter-widgets/controls",
     "model_name": "ProgressStyleModel",
     "state": {
      "_model_module": "@jupyter-widgets/controls",
      "_model_module_version": "1.5.0",
      "_model_name": "ProgressStyleModel",
      "_view_count": null,
      "_view_module": "@jupyter-widgets/base",
      "_view_module_version": "1.2.0",
      "_view_name": "StyleView",
      "bar_color": null,
      "description_width": "initial"
     }
    },
    "0946de80201a4d1ba749a53cefa440a6": {
     "model_module": "@jupyter-widgets/base",
     "model_name": "LayoutModel",
     "state": {
      "_model_module": "@jupyter-widgets/base",
      "_model_module_version": "1.2.0",
      "_model_name": "LayoutModel",
      "_view_count": null,
      "_view_module": "@jupyter-widgets/base",
      "_view_module_version": "1.2.0",
      "_view_name": "LayoutView",
      "align_content": null,
      "align_items": null,
      "align_self": null,
      "border": null,
      "bottom": null,
      "display": null,
      "flex": null,
      "flex_flow": null,
      "grid_area": null,
      "grid_auto_columns": null,
      "grid_auto_flow": null,
      "grid_auto_rows": null,
      "grid_column": null,
      "grid_gap": null,
      "grid_row": null,
      "grid_template_areas": null,
      "grid_template_columns": null,
      "grid_template_rows": null,
      "height": null,
      "justify_content": null,
      "justify_items": null,
      "left": null,
      "margin": null,
      "max_height": null,
      "max_width": null,
      "min_height": null,
      "min_width": null,
      "object_fit": null,
      "object_position": null,
      "order": null,
      "overflow": null,
      "overflow_x": null,
      "overflow_y": null,
      "padding": null,
      "right": null,
      "top": null,
      "visibility": null,
      "width": null
     }
    },
    "09a30ad3b16444309a2f2591382c5735": {
     "model_module": "@jupyter-widgets/base",
     "model_name": "LayoutModel",
     "state": {
      "_model_module": "@jupyter-widgets/base",
      "_model_module_version": "1.2.0",
      "_model_name": "LayoutModel",
      "_view_count": null,
      "_view_module": "@jupyter-widgets/base",
      "_view_module_version": "1.2.0",
      "_view_name": "LayoutView",
      "align_content": null,
      "align_items": null,
      "align_self": null,
      "border": null,
      "bottom": null,
      "display": null,
      "flex": null,
      "flex_flow": null,
      "grid_area": null,
      "grid_auto_columns": null,
      "grid_auto_flow": null,
      "grid_auto_rows": null,
      "grid_column": null,
      "grid_gap": null,
      "grid_row": null,
      "grid_template_areas": null,
      "grid_template_columns": null,
      "grid_template_rows": null,
      "height": null,
      "justify_content": null,
      "justify_items": null,
      "left": null,
      "margin": null,
      "max_height": null,
      "max_width": null,
      "min_height": null,
      "min_width": null,
      "object_fit": null,
      "object_position": null,
      "order": null,
      "overflow": null,
      "overflow_x": null,
      "overflow_y": null,
      "padding": null,
      "right": null,
      "top": null,
      "visibility": null,
      "width": null
     }
    },
    "0b74813a212940708ccbe6dc9c353813": {
     "model_module": "@jupyter-widgets/controls",
     "model_name": "DescriptionStyleModel",
     "state": {
      "_model_module": "@jupyter-widgets/controls",
      "_model_module_version": "1.5.0",
      "_model_name": "DescriptionStyleModel",
      "_view_count": null,
      "_view_module": "@jupyter-widgets/base",
      "_view_module_version": "1.2.0",
      "_view_name": "StyleView",
      "description_width": ""
     }
    },
    "0e0f5d2863544ecea35d0acf4f81f267": {
     "model_module": "@jupyter-widgets/controls",
     "model_name": "FloatProgressModel",
     "state": {
      "_dom_classes": [],
      "_model_module": "@jupyter-widgets/controls",
      "_model_module_version": "1.5.0",
      "_model_name": "FloatProgressModel",
      "_view_count": null,
      "_view_module": "@jupyter-widgets/controls",
      "_view_module_version": "1.5.0",
      "_view_name": "ProgressView",
      "bar_style": "success",
      "description": "",
      "description_tooltip": null,
      "layout": "IPY_MODEL_db95898f256f474d9264009bd6f5939f",
      "max": 9912422,
      "min": 0,
      "orientation": "horizontal",
      "style": "IPY_MODEL_18c5a2181a6b4979ba35dd9bc738ddf8",
      "value": 9912422
     }
    },
    "10e2682a1219417ca2371bc15a90622c": {
     "model_module": "@jupyter-widgets/controls",
     "model_name": "FloatProgressModel",
     "state": {
      "_dom_classes": [],
      "_model_module": "@jupyter-widgets/controls",
      "_model_module_version": "1.5.0",
      "_model_name": "FloatProgressModel",
      "_view_count": null,
      "_view_module": "@jupyter-widgets/controls",
      "_view_module_version": "1.5.0",
      "_view_name": "ProgressView",
      "bar_style": "success",
      "description": "Epoch   3: 100%",
      "description_tooltip": null,
      "layout": "IPY_MODEL_cb2c5222e69d44aa8330691d61edfb61",
      "max": 275,
      "min": 0,
      "orientation": "horizontal",
      "style": "IPY_MODEL_213ac6a83e7e409cac2ee43c97e7f02d",
      "value": 275
     }
    },
    "1158c2e933694df38bce84f1c1e4b8f7": {
     "model_module": "@jupyter-widgets/controls",
     "model_name": "DescriptionStyleModel",
     "state": {
      "_model_module": "@jupyter-widgets/controls",
      "_model_module_version": "1.5.0",
      "_model_name": "DescriptionStyleModel",
      "_view_count": null,
      "_view_module": "@jupyter-widgets/base",
      "_view_module_version": "1.2.0",
      "_view_name": "StyleView",
      "description_width": ""
     }
    },
    "18c5a2181a6b4979ba35dd9bc738ddf8": {
     "model_module": "@jupyter-widgets/controls",
     "model_name": "ProgressStyleModel",
     "state": {
      "_model_module": "@jupyter-widgets/controls",
      "_model_module_version": "1.5.0",
      "_model_name": "ProgressStyleModel",
      "_view_count": null,
      "_view_module": "@jupyter-widgets/base",
      "_view_module_version": "1.2.0",
      "_view_name": "StyleView",
      "bar_color": null,
      "description_width": "initial"
     }
    },
    "1e328c49a4294095af40d05efc47b7e9": {
     "model_module": "@jupyter-widgets/controls",
     "model_name": "FloatProgressModel",
     "state": {
      "_dom_classes": [],
      "_model_module": "@jupyter-widgets/controls",
      "_model_module_version": "1.5.0",
      "_model_name": "FloatProgressModel",
      "_view_count": null,
      "_view_module": "@jupyter-widgets/controls",
      "_view_module_version": "1.5.0",
      "_view_name": "ProgressView",
      "bar_style": "success",
      "description": "Epoch   2: 100%",
      "description_tooltip": null,
      "layout": "IPY_MODEL_29788d5b56994274852a7f007ceff4aa",
      "max": 275,
      "min": 0,
      "orientation": "horizontal",
      "style": "IPY_MODEL_8c7267ec1fc54d9a9a363b3b9503d530",
      "value": 275
     }
    },
    "213ac6a83e7e409cac2ee43c97e7f02d": {
     "model_module": "@jupyter-widgets/controls",
     "model_name": "ProgressStyleModel",
     "state": {
      "_model_module": "@jupyter-widgets/controls",
      "_model_module_version": "1.5.0",
      "_model_name": "ProgressStyleModel",
      "_view_count": null,
      "_view_module": "@jupyter-widgets/base",
      "_view_module_version": "1.2.0",
      "_view_name": "StyleView",
      "bar_color": null,
      "description_width": "initial"
     }
    },
    "29788d5b56994274852a7f007ceff4aa": {
     "model_module": "@jupyter-widgets/base",
     "model_name": "LayoutModel",
     "state": {
      "_model_module": "@jupyter-widgets/base",
      "_model_module_version": "1.2.0",
      "_model_name": "LayoutModel",
      "_view_count": null,
      "_view_module": "@jupyter-widgets/base",
      "_view_module_version": "1.2.0",
      "_view_name": "LayoutView",
      "align_content": null,
      "align_items": null,
      "align_self": null,
      "border": null,
      "bottom": null,
      "display": null,
      "flex": null,
      "flex_flow": null,
      "grid_area": null,
      "grid_auto_columns": null,
      "grid_auto_flow": null,
      "grid_auto_rows": null,
      "grid_column": null,
      "grid_gap": null,
      "grid_row": null,
      "grid_template_areas": null,
      "grid_template_columns": null,
      "grid_template_rows": null,
      "height": null,
      "justify_content": null,
      "justify_items": null,
      "left": null,
      "margin": null,
      "max_height": null,
      "max_width": null,
      "min_height": null,
      "min_width": null,
      "object_fit": null,
      "object_position": null,
      "order": null,
      "overflow": null,
      "overflow_x": null,
      "overflow_y": null,
      "padding": null,
      "right": null,
      "top": null,
      "visibility": null,
      "width": null
     }
    },
    "2992689582d94ea0b3e2a166461861d3": {
     "model_module": "@jupyter-widgets/base",
     "model_name": "LayoutModel",
     "state": {
      "_model_module": "@jupyter-widgets/base",
      "_model_module_version": "1.2.0",
      "_model_name": "LayoutModel",
      "_view_count": null,
      "_view_module": "@jupyter-widgets/base",
      "_view_module_version": "1.2.0",
      "_view_name": "LayoutView",
      "align_content": null,
      "align_items": null,
      "align_self": null,
      "border": null,
      "bottom": null,
      "display": null,
      "flex": null,
      "flex_flow": null,
      "grid_area": null,
      "grid_auto_columns": null,
      "grid_auto_flow": null,
      "grid_auto_rows": null,
      "grid_column": null,
      "grid_gap": null,
      "grid_row": null,
      "grid_template_areas": null,
      "grid_template_columns": null,
      "grid_template_rows": null,
      "height": null,
      "justify_content": null,
      "justify_items": null,
      "left": null,
      "margin": null,
      "max_height": null,
      "max_width": null,
      "min_height": null,
      "min_width": null,
      "object_fit": null,
      "object_position": null,
      "order": null,
      "overflow": null,
      "overflow_x": null,
      "overflow_y": null,
      "padding": null,
      "right": null,
      "top": null,
      "visibility": null,
      "width": null
     }
    },
    "2ee410127a6540ba85b6d733f50a9df8": {
     "model_module": "@jupyter-widgets/controls",
     "model_name": "HBoxModel",
     "state": {
      "_dom_classes": [],
      "_model_module": "@jupyter-widgets/controls",
      "_model_module_version": "1.5.0",
      "_model_name": "HBoxModel",
      "_view_count": null,
      "_view_module": "@jupyter-widgets/controls",
      "_view_module_version": "1.5.0",
      "_view_name": "HBoxView",
      "box_style": "",
      "children": [
       "IPY_MODEL_687400af482f43239a161d7a6f2d7a97",
       "IPY_MODEL_5c2c665e1dfc4b2785cf4015421e2ddc"
      ],
      "layout": "IPY_MODEL_a0cd4f136d48492ba89ddc256d21ec54"
     }
    },
    "303a5282789449ca8e7ed903d268f9e1": {
     "model_module": "@jupyter-widgets/controls",
     "model_name": "DescriptionStyleModel",
     "state": {
      "_model_module": "@jupyter-widgets/controls",
      "_model_module_version": "1.5.0",
      "_model_name": "DescriptionStyleModel",
      "_view_count": null,
      "_view_module": "@jupyter-widgets/base",
      "_view_module_version": "1.2.0",
      "_view_name": "StyleView",
      "description_width": ""
     }
    },
    "3101e39990db4580877323e9ee2954ea": {
     "model_module": "@jupyter-widgets/controls",
     "model_name": "DescriptionStyleModel",
     "state": {
      "_model_module": "@jupyter-widgets/controls",
      "_model_module_version": "1.5.0",
      "_model_name": "DescriptionStyleModel",
      "_view_count": null,
      "_view_module": "@jupyter-widgets/base",
      "_view_module_version": "1.2.0",
      "_view_name": "StyleView",
      "description_width": ""
     }
    },
    "32dde89004e541a78ee6d35af5d3f14b": {
     "model_module": "@jupyter-widgets/controls",
     "model_name": "HBoxModel",
     "state": {
      "_dom_classes": [],
      "_model_module": "@jupyter-widgets/controls",
      "_model_module_version": "1.5.0",
      "_model_name": "HBoxModel",
      "_view_count": null,
      "_view_module": "@jupyter-widgets/controls",
      "_view_module_version": "1.5.0",
      "_view_name": "HBoxView",
      "box_style": "",
      "children": [
       "IPY_MODEL_642b9f5fb1624f2c97344e8e7a6c5d20",
       "IPY_MODEL_a9ff1ca678d44b0b96e0aea1541c8359"
      ],
      "layout": "IPY_MODEL_05389b71a6b545cf9b61d9f63f79c894"
     }
    },
    "3440563d925941f3891b4b1f48d45319": {
     "model_module": "@jupyter-widgets/controls",
     "model_name": "FloatProgressModel",
     "state": {
      "_dom_classes": [],
      "_model_module": "@jupyter-widgets/controls",
      "_model_module_version": "1.5.0",
      "_model_name": "FloatProgressModel",
      "_view_count": null,
      "_view_module": "@jupyter-widgets/controls",
      "_view_module_version": "1.5.0",
      "_view_name": "ProgressView",
      "bar_style": "success",
      "description": "Epoch   1: 100%",
      "description_tooltip": null,
      "layout": "IPY_MODEL_fbb3221bb61348a38e978a3031d0fefe",
      "max": 275,
      "min": 0,
      "orientation": "horizontal",
      "style": "IPY_MODEL_a60c0e8b61b74630845a0c22a30b95df",
      "value": 275
     }
    },
    "3e0fdd4d4d874e4ba72106d0ccfa263f": {
     "model_module": "@jupyter-widgets/base",
     "model_name": "LayoutModel",
     "state": {
      "_model_module": "@jupyter-widgets/base",
      "_model_module_version": "1.2.0",
      "_model_name": "LayoutModel",
      "_view_count": null,
      "_view_module": "@jupyter-widgets/base",
      "_view_module_version": "1.2.0",
      "_view_name": "LayoutView",
      "align_content": null,
      "align_items": null,
      "align_self": null,
      "border": null,
      "bottom": null,
      "display": null,
      "flex": null,
      "flex_flow": null,
      "grid_area": null,
      "grid_auto_columns": null,
      "grid_auto_flow": null,
      "grid_auto_rows": null,
      "grid_column": null,
      "grid_gap": null,
      "grid_row": null,
      "grid_template_areas": null,
      "grid_template_columns": null,
      "grid_template_rows": null,
      "height": null,
      "justify_content": null,
      "justify_items": null,
      "left": null,
      "margin": null,
      "max_height": null,
      "max_width": null,
      "min_height": null,
      "min_width": null,
      "object_fit": null,
      "object_position": null,
      "order": null,
      "overflow": null,
      "overflow_x": null,
      "overflow_y": null,
      "padding": null,
      "right": null,
      "top": null,
      "visibility": null,
      "width": null
     }
    },
    "4ed6b82f4b61457e996fc31e14789257": {
     "model_module": "@jupyter-widgets/base",
     "model_name": "LayoutModel",
     "state": {
      "_model_module": "@jupyter-widgets/base",
      "_model_module_version": "1.2.0",
      "_model_name": "LayoutModel",
      "_view_count": null,
      "_view_module": "@jupyter-widgets/base",
      "_view_module_version": "1.2.0",
      "_view_name": "LayoutView",
      "align_content": null,
      "align_items": null,
      "align_self": null,
      "border": null,
      "bottom": null,
      "display": null,
      "flex": null,
      "flex_flow": null,
      "grid_area": null,
      "grid_auto_columns": null,
      "grid_auto_flow": null,
      "grid_auto_rows": null,
      "grid_column": null,
      "grid_gap": null,
      "grid_row": null,
      "grid_template_areas": null,
      "grid_template_columns": null,
      "grid_template_rows": null,
      "height": null,
      "justify_content": null,
      "justify_items": null,
      "left": null,
      "margin": null,
      "max_height": null,
      "max_width": null,
      "min_height": null,
      "min_width": null,
      "object_fit": null,
      "object_position": null,
      "order": null,
      "overflow": null,
      "overflow_x": null,
      "overflow_y": null,
      "padding": null,
      "right": null,
      "top": null,
      "visibility": null,
      "width": null
     }
    },
    "519071893e9f4ed9be9ecb55833d7d07": {
     "model_module": "@jupyter-widgets/base",
     "model_name": "LayoutModel",
     "state": {
      "_model_module": "@jupyter-widgets/base",
      "_model_module_version": "1.2.0",
      "_model_name": "LayoutModel",
      "_view_count": null,
      "_view_module": "@jupyter-widgets/base",
      "_view_module_version": "1.2.0",
      "_view_name": "LayoutView",
      "align_content": null,
      "align_items": null,
      "align_self": null,
      "border": null,
      "bottom": null,
      "display": null,
      "flex": null,
      "flex_flow": null,
      "grid_area": null,
      "grid_auto_columns": null,
      "grid_auto_flow": null,
      "grid_auto_rows": null,
      "grid_column": null,
      "grid_gap": null,
      "grid_row": null,
      "grid_template_areas": null,
      "grid_template_columns": null,
      "grid_template_rows": null,
      "height": null,
      "justify_content": null,
      "justify_items": null,
      "left": null,
      "margin": null,
      "max_height": null,
      "max_width": null,
      "min_height": null,
      "min_width": null,
      "object_fit": null,
      "object_position": null,
      "order": null,
      "overflow": null,
      "overflow_x": null,
      "overflow_y": null,
      "padding": null,
      "right": null,
      "top": null,
      "visibility": null,
      "width": null
     }
    },
    "5b7868306345485fb17658bcfd1c25e4": {
     "model_module": "@jupyter-widgets/base",
     "model_name": "LayoutModel",
     "state": {
      "_model_module": "@jupyter-widgets/base",
      "_model_module_version": "1.2.0",
      "_model_name": "LayoutModel",
      "_view_count": null,
      "_view_module": "@jupyter-widgets/base",
      "_view_module_version": "1.2.0",
      "_view_name": "LayoutView",
      "align_content": null,
      "align_items": null,
      "align_self": null,
      "border": null,
      "bottom": null,
      "display": null,
      "flex": null,
      "flex_flow": null,
      "grid_area": null,
      "grid_auto_columns": null,
      "grid_auto_flow": null,
      "grid_auto_rows": null,
      "grid_column": null,
      "grid_gap": null,
      "grid_row": null,
      "grid_template_areas": null,
      "grid_template_columns": null,
      "grid_template_rows": null,
      "height": null,
      "justify_content": null,
      "justify_items": null,
      "left": null,
      "margin": null,
      "max_height": null,
      "max_width": null,
      "min_height": null,
      "min_width": null,
      "object_fit": null,
      "object_position": null,
      "order": null,
      "overflow": null,
      "overflow_x": null,
      "overflow_y": null,
      "padding": null,
      "right": null,
      "top": null,
      "visibility": null,
      "width": null
     }
    },
    "5c2c665e1dfc4b2785cf4015421e2ddc": {
     "model_module": "@jupyter-widgets/controls",
     "model_name": "HTMLModel",
     "state": {
      "_dom_classes": [],
      "_model_module": "@jupyter-widgets/controls",
      "_model_module_version": "1.5.0",
      "_model_name": "HTMLModel",
      "_view_count": null,
      "_view_module": "@jupyter-widgets/controls",
      "_view_module_version": "1.5.0",
      "_view_name": "HTMLView",
      "description": "",
      "description_tooltip": null,
      "layout": "IPY_MODEL_519071893e9f4ed9be9ecb55833d7d07",
      "placeholder": "​",
      "style": "IPY_MODEL_0b74813a212940708ccbe6dc9c353813",
      "value": " 29696/? [00:02&lt;00:00, 11538.00it/s]"
     }
    },
    "5c954db7e71f4a669989e1ecf0d89988": {
     "model_module": "@jupyter-widgets/controls",
     "model_name": "DescriptionStyleModel",
     "state": {
      "_model_module": "@jupyter-widgets/controls",
      "_model_module_version": "1.5.0",
      "_model_name": "DescriptionStyleModel",
      "_view_count": null,
      "_view_module": "@jupyter-widgets/base",
      "_view_module_version": "1.2.0",
      "_view_name": "StyleView",
      "description_width": ""
     }
    },
    "642b9f5fb1624f2c97344e8e7a6c5d20": {
     "model_module": "@jupyter-widgets/controls",
     "model_name": "FloatProgressModel",
     "state": {
      "_dom_classes": [],
      "_model_module": "@jupyter-widgets/controls",
      "_model_module_version": "1.5.0",
      "_model_name": "FloatProgressModel",
      "_view_count": null,
      "_view_module": "@jupyter-widgets/controls",
      "_view_module_version": "1.5.0",
      "_view_name": "ProgressView",
      "bar_style": "success",
      "description": "",
      "description_tooltip": null,
      "layout": "IPY_MODEL_f839264c20cd46feb8ce184e87e85416",
      "max": 4542,
      "min": 0,
      "orientation": "horizontal",
      "style": "IPY_MODEL_9328008d582947ee9a7dddef3d6571da",
      "value": 4542
     }
    },
    "6582cc71adc04d45b7687c571614931c": {
     "model_module": "@jupyter-widgets/controls",
     "model_name": "HTMLModel",
     "state": {
      "_dom_classes": [],
      "_model_module": "@jupyter-widgets/controls",
      "_model_module_version": "1.5.0",
      "_model_name": "HTMLModel",
      "_view_count": null,
      "_view_module": "@jupyter-widgets/controls",
      "_view_module_version": "1.5.0",
      "_view_name": "HTMLView",
      "description": "",
      "description_tooltip": null,
      "layout": "IPY_MODEL_fc73554bd1054f3b95d157ddaa22a8a9",
      "placeholder": "​",
      "style": "IPY_MODEL_3101e39990db4580877323e9ee2954ea",
      "value": " 1649664/? [00:01&lt;00:00, 1065497.77it/s]"
     }
    },
    "687400af482f43239a161d7a6f2d7a97": {
     "model_module": "@jupyter-widgets/controls",
     "model_name": "FloatProgressModel",
     "state": {
      "_dom_classes": [],
      "_model_module": "@jupyter-widgets/controls",
      "_model_module_version": "1.5.0",
      "_model_name": "FloatProgressModel",
      "_view_count": null,
      "_view_module": "@jupyter-widgets/controls",
      "_view_module_version": "1.5.0",
      "_view_name": "ProgressView",
      "bar_style": "success",
      "description": "",
      "description_tooltip": null,
      "layout": "IPY_MODEL_966328cab55848c6a9605f4828637fed",
      "max": 28881,
      "min": 0,
      "orientation": "horizontal",
      "style": "IPY_MODEL_ddfea72bf1334cc98c8f46f969ec2d50",
      "value": 28881
     }
    },
    "7f79b9e35755453c8fbd5a6f20d49498": {
     "model_module": "@jupyter-widgets/controls",
     "model_name": "HBoxModel",
     "state": {
      "_dom_classes": [],
      "_model_module": "@jupyter-widgets/controls",
      "_model_module_version": "1.5.0",
      "_model_name": "HBoxModel",
      "_view_count": null,
      "_view_module": "@jupyter-widgets/controls",
      "_view_module_version": "1.5.0",
      "_view_name": "HBoxView",
      "box_style": "",
      "children": [
       "IPY_MODEL_a286bdc1c9a6485ba77b8d79726c4c3f",
       "IPY_MODEL_6582cc71adc04d45b7687c571614931c"
      ],
      "layout": "IPY_MODEL_4ed6b82f4b61457e996fc31e14789257"
     }
    },
    "8be95b95873544a79de9124a8ed267d8": {
     "model_module": "@jupyter-widgets/controls",
     "model_name": "DescriptionStyleModel",
     "state": {
      "_model_module": "@jupyter-widgets/controls",
      "_model_module_version": "1.5.0",
      "_model_name": "DescriptionStyleModel",
      "_view_count": null,
      "_view_module": "@jupyter-widgets/base",
      "_view_module_version": "1.2.0",
      "_view_name": "StyleView",
      "description_width": ""
     }
    },
    "8c7267ec1fc54d9a9a363b3b9503d530": {
     "model_module": "@jupyter-widgets/controls",
     "model_name": "ProgressStyleModel",
     "state": {
      "_model_module": "@jupyter-widgets/controls",
      "_model_module_version": "1.5.0",
      "_model_name": "ProgressStyleModel",
      "_view_count": null,
      "_view_module": "@jupyter-widgets/base",
      "_view_module_version": "1.2.0",
      "_view_name": "StyleView",
      "bar_color": null,
      "description_width": "initial"
     }
    },
    "9049691356d04d3c9f79245a12e22c2d": {
     "model_module": "@jupyter-widgets/controls",
     "model_name": "HBoxModel",
     "state": {
      "_dom_classes": [],
      "_model_module": "@jupyter-widgets/controls",
      "_model_module_version": "1.5.0",
      "_model_name": "HBoxModel",
      "_view_count": null,
      "_view_module": "@jupyter-widgets/controls",
      "_view_module_version": "1.5.0",
      "_view_name": "HBoxView",
      "box_style": "",
      "children": [
       "IPY_MODEL_0e0f5d2863544ecea35d0acf4f81f267",
       "IPY_MODEL_026c452c13f74a0aa071ab5869027a7a"
      ],
      "layout": "IPY_MODEL_a52a3ce8dde147f6b45b684cb57c5eb5"
     }
    },
    "9328008d582947ee9a7dddef3d6571da": {
     "model_module": "@jupyter-widgets/controls",
     "model_name": "ProgressStyleModel",
     "state": {
      "_model_module": "@jupyter-widgets/controls",
      "_model_module_version": "1.5.0",
      "_model_name": "ProgressStyleModel",
      "_view_count": null,
      "_view_module": "@jupyter-widgets/base",
      "_view_module_version": "1.2.0",
      "_view_name": "StyleView",
      "bar_color": null,
      "description_width": "initial"
     }
    },
    "95c747e3a50e48089ba465949d499f61": {
     "model_module": "@jupyter-widgets/base",
     "model_name": "LayoutModel",
     "state": {
      "_model_module": "@jupyter-widgets/base",
      "_model_module_version": "1.2.0",
      "_model_name": "LayoutModel",
      "_view_count": null,
      "_view_module": "@jupyter-widgets/base",
      "_view_module_version": "1.2.0",
      "_view_name": "LayoutView",
      "align_content": null,
      "align_items": null,
      "align_self": null,
      "border": null,
      "bottom": null,
      "display": null,
      "flex": null,
      "flex_flow": null,
      "grid_area": null,
      "grid_auto_columns": null,
      "grid_auto_flow": null,
      "grid_auto_rows": null,
      "grid_column": null,
      "grid_gap": null,
      "grid_row": null,
      "grid_template_areas": null,
      "grid_template_columns": null,
      "grid_template_rows": null,
      "height": null,
      "justify_content": null,
      "justify_items": null,
      "left": null,
      "margin": null,
      "max_height": null,
      "max_width": null,
      "min_height": null,
      "min_width": null,
      "object_fit": null,
      "object_position": null,
      "order": null,
      "overflow": null,
      "overflow_x": null,
      "overflow_y": null,
      "padding": null,
      "right": null,
      "top": null,
      "visibility": null,
      "width": null
     }
    },
    "9613f82c5bee4d9889d755989607deed": {
     "model_module": "@jupyter-widgets/controls",
     "model_name": "HBoxModel",
     "state": {
      "_dom_classes": [],
      "_model_module": "@jupyter-widgets/controls",
      "_model_module_version": "1.5.0",
      "_model_name": "HBoxModel",
      "_view_count": null,
      "_view_module": "@jupyter-widgets/controls",
      "_view_module_version": "1.5.0",
      "_view_name": "HBoxView",
      "box_style": "",
      "children": [
       "IPY_MODEL_10e2682a1219417ca2371bc15a90622c",
       "IPY_MODEL_ae0ee77c9452406ea76c2012113ac46f"
      ],
      "layout": "IPY_MODEL_95c747e3a50e48089ba465949d499f61"
     }
    },
    "966328cab55848c6a9605f4828637fed": {
     "model_module": "@jupyter-widgets/base",
     "model_name": "LayoutModel",
     "state": {
      "_model_module": "@jupyter-widgets/base",
      "_model_module_version": "1.2.0",
      "_model_name": "LayoutModel",
      "_view_count": null,
      "_view_module": "@jupyter-widgets/base",
      "_view_module_version": "1.2.0",
      "_view_name": "LayoutView",
      "align_content": null,
      "align_items": null,
      "align_self": null,
      "border": null,
      "bottom": null,
      "display": null,
      "flex": null,
      "flex_flow": null,
      "grid_area": null,
      "grid_auto_columns": null,
      "grid_auto_flow": null,
      "grid_auto_rows": null,
      "grid_column": null,
      "grid_gap": null,
      "grid_row": null,
      "grid_template_areas": null,
      "grid_template_columns": null,
      "grid_template_rows": null,
      "height": null,
      "justify_content": null,
      "justify_items": null,
      "left": null,
      "margin": null,
      "max_height": null,
      "max_width": null,
      "min_height": null,
      "min_width": null,
      "object_fit": null,
      "object_position": null,
      "order": null,
      "overflow": null,
      "overflow_x": null,
      "overflow_y": null,
      "padding": null,
      "right": null,
      "top": null,
      "visibility": null,
      "width": null
     }
    },
    "9bd35ce5090d4252aa65b19d5ea37b42": {
     "model_module": "@jupyter-widgets/base",
     "model_name": "LayoutModel",
     "state": {
      "_model_module": "@jupyter-widgets/base",
      "_model_module_version": "1.2.0",
      "_model_name": "LayoutModel",
      "_view_count": null,
      "_view_module": "@jupyter-widgets/base",
      "_view_module_version": "1.2.0",
      "_view_name": "LayoutView",
      "align_content": null,
      "align_items": null,
      "align_self": null,
      "border": null,
      "bottom": null,
      "display": null,
      "flex": null,
      "flex_flow": null,
      "grid_area": null,
      "grid_auto_columns": null,
      "grid_auto_flow": null,
      "grid_auto_rows": null,
      "grid_column": null,
      "grid_gap": null,
      "grid_row": null,
      "grid_template_areas": null,
      "grid_template_columns": null,
      "grid_template_rows": null,
      "height": null,
      "justify_content": null,
      "justify_items": null,
      "left": null,
      "margin": null,
      "max_height": null,
      "max_width": null,
      "min_height": null,
      "min_width": null,
      "object_fit": null,
      "object_position": null,
      "order": null,
      "overflow": null,
      "overflow_x": null,
      "overflow_y": null,
      "padding": null,
      "right": null,
      "top": null,
      "visibility": null,
      "width": null
     }
    },
    "a0cd4f136d48492ba89ddc256d21ec54": {
     "model_module": "@jupyter-widgets/base",
     "model_name": "LayoutModel",
     "state": {
      "_model_module": "@jupyter-widgets/base",
      "_model_module_version": "1.2.0",
      "_model_name": "LayoutModel",
      "_view_count": null,
      "_view_module": "@jupyter-widgets/base",
      "_view_module_version": "1.2.0",
      "_view_name": "LayoutView",
      "align_content": null,
      "align_items": null,
      "align_self": null,
      "border": null,
      "bottom": null,
      "display": null,
      "flex": null,
      "flex_flow": null,
      "grid_area": null,
      "grid_auto_columns": null,
      "grid_auto_flow": null,
      "grid_auto_rows": null,
      "grid_column": null,
      "grid_gap": null,
      "grid_row": null,
      "grid_template_areas": null,
      "grid_template_columns": null,
      "grid_template_rows": null,
      "height": null,
      "justify_content": null,
      "justify_items": null,
      "left": null,
      "margin": null,
      "max_height": null,
      "max_width": null,
      "min_height": null,
      "min_width": null,
      "object_fit": null,
      "object_position": null,
      "order": null,
      "overflow": null,
      "overflow_x": null,
      "overflow_y": null,
      "padding": null,
      "right": null,
      "top": null,
      "visibility": null,
      "width": null
     }
    },
    "a286bdc1c9a6485ba77b8d79726c4c3f": {
     "model_module": "@jupyter-widgets/controls",
     "model_name": "FloatProgressModel",
     "state": {
      "_dom_classes": [],
      "_model_module": "@jupyter-widgets/controls",
      "_model_module_version": "1.5.0",
      "_model_name": "FloatProgressModel",
      "_view_count": null,
      "_view_module": "@jupyter-widgets/controls",
      "_view_module_version": "1.5.0",
      "_view_name": "ProgressView",
      "bar_style": "success",
      "description": "",
      "description_tooltip": null,
      "layout": "IPY_MODEL_3e0fdd4d4d874e4ba72106d0ccfa263f",
      "max": 1648877,
      "min": 0,
      "orientation": "horizontal",
      "style": "IPY_MODEL_08101fefdba5474193cae33d3418a2e8",
      "value": 1648877
     }
    },
    "a52a3ce8dde147f6b45b684cb57c5eb5": {
     "model_module": "@jupyter-widgets/base",
     "model_name": "LayoutModel",
     "state": {
      "_model_module": "@jupyter-widgets/base",
      "_model_module_version": "1.2.0",
      "_model_name": "LayoutModel",
      "_view_count": null,
      "_view_module": "@jupyter-widgets/base",
      "_view_module_version": "1.2.0",
      "_view_name": "LayoutView",
      "align_content": null,
      "align_items": null,
      "align_self": null,
      "border": null,
      "bottom": null,
      "display": null,
      "flex": null,
      "flex_flow": null,
      "grid_area": null,
      "grid_auto_columns": null,
      "grid_auto_flow": null,
      "grid_auto_rows": null,
      "grid_column": null,
      "grid_gap": null,
      "grid_row": null,
      "grid_template_areas": null,
      "grid_template_columns": null,
      "grid_template_rows": null,
      "height": null,
      "justify_content": null,
      "justify_items": null,
      "left": null,
      "margin": null,
      "max_height": null,
      "max_width": null,
      "min_height": null,
      "min_width": null,
      "object_fit": null,
      "object_position": null,
      "order": null,
      "overflow": null,
      "overflow_x": null,
      "overflow_y": null,
      "padding": null,
      "right": null,
      "top": null,
      "visibility": null,
      "width": null
     }
    },
    "a60c0e8b61b74630845a0c22a30b95df": {
     "model_module": "@jupyter-widgets/controls",
     "model_name": "ProgressStyleModel",
     "state": {
      "_model_module": "@jupyter-widgets/controls",
      "_model_module_version": "1.5.0",
      "_model_name": "ProgressStyleModel",
      "_view_count": null,
      "_view_module": "@jupyter-widgets/base",
      "_view_module_version": "1.2.0",
      "_view_name": "StyleView",
      "bar_color": null,
      "description_width": "initial"
     }
    },
    "a61874200e1c43bc93cf5f38f4d1602a": {
     "model_module": "@jupyter-widgets/base",
     "model_name": "LayoutModel",
     "state": {
      "_model_module": "@jupyter-widgets/base",
      "_model_module_version": "1.2.0",
      "_model_name": "LayoutModel",
      "_view_count": null,
      "_view_module": "@jupyter-widgets/base",
      "_view_module_version": "1.2.0",
      "_view_name": "LayoutView",
      "align_content": null,
      "align_items": null,
      "align_self": null,
      "border": null,
      "bottom": null,
      "display": null,
      "flex": null,
      "flex_flow": null,
      "grid_area": null,
      "grid_auto_columns": null,
      "grid_auto_flow": null,
      "grid_auto_rows": null,
      "grid_column": null,
      "grid_gap": null,
      "grid_row": null,
      "grid_template_areas": null,
      "grid_template_columns": null,
      "grid_template_rows": null,
      "height": null,
      "justify_content": null,
      "justify_items": null,
      "left": null,
      "margin": null,
      "max_height": null,
      "max_width": null,
      "min_height": null,
      "min_width": null,
      "object_fit": null,
      "object_position": null,
      "order": null,
      "overflow": null,
      "overflow_x": null,
      "overflow_y": null,
      "padding": null,
      "right": null,
      "top": null,
      "visibility": null,
      "width": null
     }
    },
    "a9ff1ca678d44b0b96e0aea1541c8359": {
     "model_module": "@jupyter-widgets/controls",
     "model_name": "HTMLModel",
     "state": {
      "_dom_classes": [],
      "_model_module": "@jupyter-widgets/controls",
      "_model_module_version": "1.5.0",
      "_model_name": "HTMLModel",
      "_view_count": null,
      "_view_module": "@jupyter-widgets/controls",
      "_view_module_version": "1.5.0",
      "_view_name": "HTMLView",
      "description": "",
      "description_tooltip": null,
      "layout": "IPY_MODEL_09a30ad3b16444309a2f2591382c5735",
      "placeholder": "​",
      "style": "IPY_MODEL_8be95b95873544a79de9124a8ed267d8",
      "value": " 5120/? [00:11&lt;00:00, 462.47it/s]"
     }
    },
    "ae0ee77c9452406ea76c2012113ac46f": {
     "model_module": "@jupyter-widgets/controls",
     "model_name": "HTMLModel",
     "state": {
      "_dom_classes": [],
      "_model_module": "@jupyter-widgets/controls",
      "_model_module_version": "1.5.0",
      "_model_name": "HTMLModel",
      "_view_count": null,
      "_view_module": "@jupyter-widgets/controls",
      "_view_module_version": "1.5.0",
      "_view_name": "HTMLView",
      "description": "",
      "description_tooltip": null,
      "layout": "IPY_MODEL_9bd35ce5090d4252aa65b19d5ea37b42",
      "placeholder": "​",
      "style": "IPY_MODEL_303a5282789449ca8e7ed903d268f9e1",
      "value": " 275/275 [00:22&lt;00:00, 12.43it/s, loss=167, LL=-142, KL_F=6.72, KL_Y=7.09, SFE_base_reward_mean=-149, SFE_base_reward_std=42.8, SFE_reward_mean=33.8, SFE_reward_std=42.8]"
     }
    },
    "cb2c5222e69d44aa8330691d61edfb61": {
     "model_module": "@jupyter-widgets/base",
     "model_name": "LayoutModel",
     "state": {
      "_model_module": "@jupyter-widgets/base",
      "_model_module_version": "1.2.0",
      "_model_name": "LayoutModel",
      "_view_count": null,
      "_view_module": "@jupyter-widgets/base",
      "_view_module_version": "1.2.0",
      "_view_name": "LayoutView",
      "align_content": null,
      "align_items": null,
      "align_self": null,
      "border": null,
      "bottom": null,
      "display": null,
      "flex": null,
      "flex_flow": null,
      "grid_area": null,
      "grid_auto_columns": null,
      "grid_auto_flow": null,
      "grid_auto_rows": null,
      "grid_column": null,
      "grid_gap": null,
      "grid_row": null,
      "grid_template_areas": null,
      "grid_template_columns": null,
      "grid_template_rows": null,
      "height": null,
      "justify_content": null,
      "justify_items": null,
      "left": null,
      "margin": null,
      "max_height": null,
      "max_width": null,
      "min_height": null,
      "min_width": null,
      "object_fit": null,
      "object_position": null,
      "order": null,
      "overflow": null,
      "overflow_x": null,
      "overflow_y": null,
      "padding": null,
      "right": null,
      "top": null,
      "visibility": null,
      "width": null
     }
    },
    "cc6a4b8ee959491f8e6901d4b96d0435": {
     "model_module": "@jupyter-widgets/controls",
     "model_name": "HTMLModel",
     "state": {
      "_dom_classes": [],
      "_model_module": "@jupyter-widgets/controls",
      "_model_module_version": "1.5.0",
      "_model_name": "HTMLModel",
      "_view_count": null,
      "_view_module": "@jupyter-widgets/controls",
      "_view_module_version": "1.5.0",
      "_view_name": "HTMLView",
      "description": "",
      "description_tooltip": null,
      "layout": "IPY_MODEL_f41c9d0c678c4495b043220fae491099",
      "placeholder": "​",
      "style": "IPY_MODEL_d7d526b7a18741a3a888c2421aea347c",
      "value": " 275/275 [00:57&lt;00:00,  4.82it/s, loss=268, LL=-158, KL_F=4.8, KL_Y=5.79, SFE_base_reward_mean=-164, SFE_base_reward_std=45.1, SFE_reward_mean=33.8, SFE_reward_std=45.1]"
     }
    },
    "d7d526b7a18741a3a888c2421aea347c": {
     "model_module": "@jupyter-widgets/controls",
     "model_name": "DescriptionStyleModel",
     "state": {
      "_model_module": "@jupyter-widgets/controls",
      "_model_module_version": "1.5.0",
      "_model_name": "DescriptionStyleModel",
      "_view_count": null,
      "_view_module": "@jupyter-widgets/base",
      "_view_module_version": "1.2.0",
      "_view_name": "StyleView",
      "description_width": ""
     }
    },
    "db95898f256f474d9264009bd6f5939f": {
     "model_module": "@jupyter-widgets/base",
     "model_name": "LayoutModel",
     "state": {
      "_model_module": "@jupyter-widgets/base",
      "_model_module_version": "1.2.0",
      "_model_name": "LayoutModel",
      "_view_count": null,
      "_view_module": "@jupyter-widgets/base",
      "_view_module_version": "1.2.0",
      "_view_name": "LayoutView",
      "align_content": null,
      "align_items": null,
      "align_self": null,
      "border": null,
      "bottom": null,
      "display": null,
      "flex": null,
      "flex_flow": null,
      "grid_area": null,
      "grid_auto_columns": null,
      "grid_auto_flow": null,
      "grid_auto_rows": null,
      "grid_column": null,
      "grid_gap": null,
      "grid_row": null,
      "grid_template_areas": null,
      "grid_template_columns": null,
      "grid_template_rows": null,
      "height": null,
      "justify_content": null,
      "justify_items": null,
      "left": null,
      "margin": null,
      "max_height": null,
      "max_width": null,
      "min_height": null,
      "min_width": null,
      "object_fit": null,
      "object_position": null,
      "order": null,
      "overflow": null,
      "overflow_x": null,
      "overflow_y": null,
      "padding": null,
      "right": null,
      "top": null,
      "visibility": null,
      "width": null
     }
    },
    "ddfea72bf1334cc98c8f46f969ec2d50": {
     "model_module": "@jupyter-widgets/controls",
     "model_name": "ProgressStyleModel",
     "state": {
      "_model_module": "@jupyter-widgets/controls",
      "_model_module_version": "1.5.0",
      "_model_name": "ProgressStyleModel",
      "_view_count": null,
      "_view_module": "@jupyter-widgets/base",
      "_view_module_version": "1.2.0",
      "_view_name": "StyleView",
      "bar_color": null,
      "description_width": "initial"
     }
    },
    "e6235f86d6144ccba6f6459586bf8b9b": {
     "model_module": "@jupyter-widgets/controls",
     "model_name": "HBoxModel",
     "state": {
      "_dom_classes": [],
      "_model_module": "@jupyter-widgets/controls",
      "_model_module_version": "1.5.0",
      "_model_name": "HBoxModel",
      "_view_count": null,
      "_view_module": "@jupyter-widgets/controls",
      "_view_module_version": "1.5.0",
      "_view_name": "HBoxView",
      "box_style": "",
      "children": [
       "IPY_MODEL_3440563d925941f3891b4b1f48d45319",
       "IPY_MODEL_f295266aeaca4088b34f2c9424f2a8a7"
      ],
      "layout": "IPY_MODEL_a61874200e1c43bc93cf5f38f4d1602a"
     }
    },
    "f295266aeaca4088b34f2c9424f2a8a7": {
     "model_module": "@jupyter-widgets/controls",
     "model_name": "HTMLModel",
     "state": {
      "_dom_classes": [],
      "_model_module": "@jupyter-widgets/controls",
      "_model_module_version": "1.5.0",
      "_model_name": "HTMLModel",
      "_view_count": null,
      "_view_module": "@jupyter-widgets/controls",
      "_view_module_version": "1.5.0",
      "_view_name": "HTMLView",
      "description": "",
      "description_tooltip": null,
      "layout": "IPY_MODEL_5b7868306345485fb17658bcfd1c25e4",
      "placeholder": "​",
      "style": "IPY_MODEL_5c954db7e71f4a669989e1ecf0d89988",
      "value": " 275/275 [01:25&lt;00:00,  3.22it/s, loss=384, LL=-184, KL_F=2.6, KL_Y=2.67, SFE_base_reward_mean=-187, SFE_base_reward_std=44.8, SFE_reward_mean=32.7, SFE_reward_std=44.8]"
     }
    },
    "f41c9d0c678c4495b043220fae491099": {
     "model_module": "@jupyter-widgets/base",
     "model_name": "LayoutModel",
     "state": {
      "_model_module": "@jupyter-widgets/base",
      "_model_module_version": "1.2.0",
      "_model_name": "LayoutModel",
      "_view_count": null,
      "_view_module": "@jupyter-widgets/base",
      "_view_module_version": "1.2.0",
      "_view_name": "LayoutView",
      "align_content": null,
      "align_items": null,
      "align_self": null,
      "border": null,
      "bottom": null,
      "display": null,
      "flex": null,
      "flex_flow": null,
      "grid_area": null,
      "grid_auto_columns": null,
      "grid_auto_flow": null,
      "grid_auto_rows": null,
      "grid_column": null,
      "grid_gap": null,
      "grid_row": null,
      "grid_template_areas": null,
      "grid_template_columns": null,
      "grid_template_rows": null,
      "height": null,
      "justify_content": null,
      "justify_items": null,
      "left": null,
      "margin": null,
      "max_height": null,
      "max_width": null,
      "min_height": null,
      "min_width": null,
      "object_fit": null,
      "object_position": null,
      "order": null,
      "overflow": null,
      "overflow_x": null,
      "overflow_y": null,
      "padding": null,
      "right": null,
      "top": null,
      "visibility": null,
      "width": null
     }
    },
    "f839264c20cd46feb8ce184e87e85416": {
     "model_module": "@jupyter-widgets/base",
     "model_name": "LayoutModel",
     "state": {
      "_model_module": "@jupyter-widgets/base",
      "_model_module_version": "1.2.0",
      "_model_name": "LayoutModel",
      "_view_count": null,
      "_view_module": "@jupyter-widgets/base",
      "_view_module_version": "1.2.0",
      "_view_name": "LayoutView",
      "align_content": null,
      "align_items": null,
      "align_self": null,
      "border": null,
      "bottom": null,
      "display": null,
      "flex": null,
      "flex_flow": null,
      "grid_area": null,
      "grid_auto_columns": null,
      "grid_auto_flow": null,
      "grid_auto_rows": null,
      "grid_column": null,
      "grid_gap": null,
      "grid_row": null,
      "grid_template_areas": null,
      "grid_template_columns": null,
      "grid_template_rows": null,
      "height": null,
      "justify_content": null,
      "justify_items": null,
      "left": null,
      "margin": null,
      "max_height": null,
      "max_width": null,
      "min_height": null,
      "min_width": null,
      "object_fit": null,
      "object_position": null,
      "order": null,
      "overflow": null,
      "overflow_x": null,
      "overflow_y": null,
      "padding": null,
      "right": null,
      "top": null,
      "visibility": null,
      "width": null
     }
    },
    "fa7034d83d3b43c2a181b51a88db3fec": {
     "model_module": "@jupyter-widgets/controls",
     "model_name": "HBoxModel",
     "state": {
      "_dom_classes": [],
      "_model_module": "@jupyter-widgets/controls",
      "_model_module_version": "1.5.0",
      "_model_name": "HBoxModel",
      "_view_count": null,
      "_view_module": "@jupyter-widgets/controls",
      "_view_module_version": "1.5.0",
      "_view_name": "HBoxView",
      "box_style": "",
      "children": [
       "IPY_MODEL_1e328c49a4294095af40d05efc47b7e9",
       "IPY_MODEL_cc6a4b8ee959491f8e6901d4b96d0435"
      ],
      "layout": "IPY_MODEL_0946de80201a4d1ba749a53cefa440a6"
     }
    },
    "fbb3221bb61348a38e978a3031d0fefe": {
     "model_module": "@jupyter-widgets/base",
     "model_name": "LayoutModel",
     "state": {
      "_model_module": "@jupyter-widgets/base",
      "_model_module_version": "1.2.0",
      "_model_name": "LayoutModel",
      "_view_count": null,
      "_view_module": "@jupyter-widgets/base",
      "_view_module_version": "1.2.0",
      "_view_name": "LayoutView",
      "align_content": null,
      "align_items": null,
      "align_self": null,
      "border": null,
      "bottom": null,
      "display": null,
      "flex": null,
      "flex_flow": null,
      "grid_area": null,
      "grid_auto_columns": null,
      "grid_auto_flow": null,
      "grid_auto_rows": null,
      "grid_column": null,
      "grid_gap": null,
      "grid_row": null,
      "grid_template_areas": null,
      "grid_template_columns": null,
      "grid_template_rows": null,
      "height": null,
      "justify_content": null,
      "justify_items": null,
      "left": null,
      "margin": null,
      "max_height": null,
      "max_width": null,
      "min_height": null,
      "min_width": null,
      "object_fit": null,
      "object_position": null,
      "order": null,
      "overflow": null,
      "overflow_x": null,
      "overflow_y": null,
      "padding": null,
      "right": null,
      "top": null,
      "visibility": null,
      "width": null
     }
    },
    "fc73554bd1054f3b95d157ddaa22a8a9": {
     "model_module": "@jupyter-widgets/base",
     "model_name": "LayoutModel",
     "state": {
      "_model_module": "@jupyter-widgets/base",
      "_model_module_version": "1.2.0",
      "_model_name": "LayoutModel",
      "_view_count": null,
      "_view_module": "@jupyter-widgets/base",
      "_view_module_version": "1.2.0",
      "_view_name": "LayoutView",
      "align_content": null,
      "align_items": null,
      "align_self": null,
      "border": null,
      "bottom": null,
      "display": null,
      "flex": null,
      "flex_flow": null,
      "grid_area": null,
      "grid_auto_columns": null,
      "grid_auto_flow": null,
      "grid_auto_rows": null,
      "grid_column": null,
      "grid_gap": null,
      "grid_row": null,
      "grid_template_areas": null,
      "grid_template_columns": null,
      "grid_template_rows": null,
      "height": null,
      "justify_content": null,
      "justify_items": null,
      "left": null,
      "margin": null,
      "max_height": null,
      "max_width": null,
      "min_height": null,
      "min_width": null,
      "object_fit": null,
      "object_position": null,
      "order": null,
      "overflow": null,
      "overflow_x": null,
      "overflow_y": null,
      "padding": null,
      "right": null,
      "top": null,
      "visibility": null,
      "width": null
     }
    }
   }
  }
 },
 "nbformat": 4,
 "nbformat_minor": 4
}
