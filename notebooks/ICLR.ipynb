{
 "cells": [
  {
   "cell_type": "markdown",
   "metadata": {
    "colab_type": "text",
    "id": "view-in-github"
   },
   "source": []
  },
  {
   "cell_type": "code",
   "execution_count": 1,
   "metadata": {
    "id": "27kJjsfhhrYd"
   },
   "outputs": [],
   "source": [
    "%load_ext autoreload\n",
    "%autoreload 2"
   ]
  },
  {
   "cell_type": "markdown",
   "metadata": {
    "id": "vOw649yX5KpI"
   },
   "source": [
    "On Colab, you will need to clone and install [probabll/dists.pt](https://github.com/probabll/dists.pt.git)"
   ]
  },
  {
   "cell_type": "code",
   "execution_count": 2,
   "metadata": {
    "colab": {
     "base_uri": "https://localhost:8080/",
     "height": 37
    },
    "id": "El49NgachrYj",
    "outputId": "867cd0cc-78dd-470c-c8d6-6b55d9daa8dd"
   },
   "outputs": [
    {
     "data": {
      "text/plain": [
       "'1.8.1+cu102'"
      ]
     },
     "execution_count": 2,
     "metadata": {},
     "output_type": "execute_result"
    }
   ],
   "source": [
    "import torch\n",
    "torch.__version__"
   ]
  },
  {
   "cell_type": "code",
   "execution_count": 3,
   "metadata": {
    "id": "Dumky9Ut1vHJ"
   },
   "outputs": [],
   "source": [
    "import numpy as np\n",
    "import torch\n",
    "import torch.distributions as td\n",
    "import probabll.distributions as pd\n",
    "import matplotlib.pyplot as plt\n",
    "import torch.nn as nn"
   ]
  },
  {
   "cell_type": "code",
   "execution_count": 4,
   "metadata": {},
   "outputs": [],
   "source": [
    "from collections import namedtuple, OrderedDict, defaultdict\n",
    "from tqdm.auto import tqdm\n",
    "from itertools import chain\n",
    "from tabulate import tabulate"
   ]
  },
  {
   "cell_type": "code",
   "execution_count": 5,
   "metadata": {},
   "outputs": [],
   "source": [
    "import sys\n",
    "sys.path.append(\"../\")"
   ]
  },
  {
   "cell_type": "code",
   "execution_count": 6,
   "metadata": {
    "id": "WDWb-ohmPxy_"
   },
   "outputs": [],
   "source": [
    "from components import GenerativeModel, InferenceModel, VAE\n",
    "from data import load_mnist\n",
    "from hparams import load_cfg, make_args\n",
    "from main import make_state, get_batcher, validate"
   ]
  },
  {
   "cell_type": "code",
   "execution_count": 7,
   "metadata": {},
   "outputs": [],
   "source": [
    "from analysis import probe_prior, compare_marginals, compare_samples"
   ]
  },
  {
   "cell_type": "code",
   "execution_count": 8,
   "metadata": {},
   "outputs": [],
   "source": [
    "import pathlib"
   ]
  },
  {
   "cell_type": "code",
   "execution_count": 9,
   "metadata": {},
   "outputs": [],
   "source": [
    "import random\n",
    "random.seed(0)\n",
    "np.random.seed(0)\n",
    "torch.manual_seed(0)\n",
    "rng = np.random.RandomState(0)"
   ]
  },
  {
   "cell_type": "code",
   "execution_count": 10,
   "metadata": {},
   "outputs": [],
   "source": [
    "import pickle\n",
    "knn_model = pickle.load(open('knnclassifier.pickle', 'rb'))"
   ]
  },
  {
   "cell_type": "markdown",
   "metadata": {},
   "source": [
    "# Helper code"
   ]
  },
  {
   "cell_type": "code",
   "execution_count": 11,
   "metadata": {},
   "outputs": [],
   "source": [
    "from analysis import collect_samples"
   ]
  },
  {
   "cell_type": "markdown",
   "metadata": {},
   "source": [
    "# Load model and data\n",
    "\n",
    "* Load hyperparameters\n",
    "* Load model state\n",
    "* Load MNIST data"
   ]
  },
  {
   "cell_type": "code",
   "execution_count": 12,
   "metadata": {},
   "outputs": [],
   "source": [
    "train_loader, valid_loader, test_loader = load_mnist(\n",
    "    batch_size=100, \n",
    "    save_to='../tmp', \n",
    "    height=28, \n",
    "    width=28\n",
    ")"
   ]
  },
  {
   "cell_type": "code",
   "execution_count": 13,
   "metadata": {},
   "outputs": [],
   "source": [
    "num_samples_test = 1000"
   ]
  },
  {
   "cell_type": "code",
   "execution_count": 14,
   "metadata": {},
   "outputs": [
    {
     "name": "stdout",
     "output_type": "stream",
     "text": [
      "\u001b[0m\u001b[01;34mcategorical\u001b[0m/  \u001b[01;34mgaussian\u001b[0m/           \u001b[01;34mmixed-maxent\u001b[0m/\r\n",
      "\u001b[01;34mdirichlet\u001b[0m/    \u001b[01;34mgaussiansp-maxent\u001b[0m/  \u001b[01;34monehotcat\u001b[0m/\r\n"
     ]
    }
   ],
   "source": [
    "ls ../neurips-mixed-rv/iclr/"
   ]
  },
  {
   "cell_type": "code",
   "execution_count": 15,
   "metadata": {},
   "outputs": [],
   "source": [
    "valid_results = defaultdict(list)\n",
    "test_results = defaultdict(list)"
   ]
  },
  {
   "cell_type": "code",
   "execution_count": 16,
   "metadata": {},
   "outputs": [],
   "source": [
    "dirs = [('mixed-maxent', d, True) for d in pathlib.Path('../neurips-mixed-rv/iclr/mixed-maxent/').iterdir() if d.is_dir()]\n",
    "# dirs = [('gaussian', d, False) for d in pathlib.Path('../neurips-mixed-rv/iclr/gaussian/').iterdir() if d.is_dir()]\n",
    "# dirs += [('dirichlet', d, False) for d in pathlib.Path('../neurips-mixed-rv/iclr/dirichlet/').iterdir() if d.is_dir()]\n",
    "# dirs += [('mixed-maxent', d, False) for d in pathlib.Path('../neurips-mixed-rv/iclr/mixed-maxent/').iterdir() if d.is_dir()]\n",
    "# dirs += [('onehotcat', d, False) for d in pathlib.Path('../neurips-mixed-rv/iclr/onehotcat').iterdir() if d.is_dir()]\n",
    "# dirs += [('categorical', d, True) for d in pathlib.Path('../neurips-mixed-rv/iclr/categorical').iterdir() if d.is_dir()]"
   ]
  },
  {
   "cell_type": "code",
   "execution_count": 17,
   "metadata": {},
   "outputs": [
    {
     "data": {
      "text/plain": [
       "[('mixed-maxent',\n",
       "  PosixPath('../neurips-mixed-rv/iclr/mixed-maxent/robust-wildflower-4'),\n",
       "  True),\n",
       " ('mixed-maxent',\n",
       "  PosixPath('../neurips-mixed-rv/iclr/mixed-maxent/smooth-armadillo-2'),\n",
       "  True),\n",
       " ('mixed-maxent',\n",
       "  PosixPath('../neurips-mixed-rv/iclr/mixed-maxent/leafy-sky-3'),\n",
       "  True),\n",
       " ('mixed-maxent',\n",
       "  PosixPath('../neurips-mixed-rv/iclr/mixed-maxent/electric-firefly-5'),\n",
       "  True),\n",
       " ('mixed-maxent',\n",
       "  PosixPath('../neurips-mixed-rv/iclr/mixed-maxent/lucky-grass-1'),\n",
       "  True)]"
      ]
     },
     "execution_count": 17,
     "metadata": {},
     "output_type": "execute_result"
    }
   ],
   "source": [
    "dirs"
   ]
  },
  {
   "cell_type": "code",
   "execution_count": null,
   "metadata": {
    "scrolled": false
   },
   "outputs": [
    {
     "data": {
      "application/vnd.jupyter.widget-view+json": {
       "model_id": "ba5008191e2a459b89c152126b150b09",
       "version_major": 2,
       "version_minor": 0
      },
      "text/plain": [
       "  0%|          | 0/5 [00:00<?, ?it/s]"
      ]
     },
     "metadata": {},
     "output_type": "display_data"
    },
    {
     "name": "stdout",
     "output_type": "stream",
     "text": [
      "Overriding device to user choice cuda:0\n",
      "Overriding data_dir to user choice ../tmp\n",
      "Experiment: mixed-maxent/robust-wildflower-4\n",
      "Validating...\n"
     ]
    },
    {
     "data": {
      "application/vnd.jupyter.widget-view+json": {
       "model_id": "5e0bfc824eab4cc5938329d1e39c929c",
       "version_major": 2,
       "version_minor": 0
      },
      "text/plain": [
       "  0%|          | 0/50 [00:00<?, ?it/s]"
      ]
     },
     "metadata": {},
     "output_type": "display_data"
    },
    {
     "name": "stdout",
     "output_type": "stream",
     "text": [
      "\n",
      "Testing...\n"
     ]
    },
    {
     "data": {
      "application/vnd.jupyter.widget-view+json": {
       "model_id": "a48a80f6bdca4619aec91d888618b493",
       "version_major": 2,
       "version_minor": 0
      },
      "text/plain": [
       "  0%|          | 0/100 [00:00<?, ?it/s]"
      ]
     },
     "metadata": {},
     "output_type": "display_data"
    }
   ],
   "source": [
    "for cls, directory, redo in tqdm(dirs):\n",
    "    if not redo:\n",
    "        continue\n",
    "    args = make_args(\n",
    "        load_cfg(\n",
    "            f\"{directory}/cfg.json\", \n",
    "            # use this to specify a decide for analysis\n",
    "            device='cuda:0',\n",
    "            # use this to change paths if you need\n",
    "            data_dir='../tmp',\n",
    "            # you don't really need to change the output_dir\n",
    "        )\n",
    "    )\n",
    "    experiment = directory.name\n",
    "    print(f\"Experiment: {cls}/{experiment}\")\n",
    "\n",
    "    state = make_state(\n",
    "        args, \n",
    "        device=args.device, \n",
    "        ckpt_path=f\"{directory}/ckpt.last\"\n",
    "    )\n",
    "        \n",
    "    random.seed(0)\n",
    "    np.random.seed(0)\n",
    "    torch.manual_seed(0)\n",
    "    rng = np.random.RandomState(0) \n",
    "        \n",
    "    print('Validating...')\n",
    "    val_metrics = validate(\n",
    "        state.vae, get_batcher(valid_loader, args), \n",
    "        num_samples=num_samples_test, \n",
    "        compute_DR=True,\n",
    "        progressbar=True,\n",
    "    )            \n",
    "    \n",
    "    print()\n",
    "                \n",
    "    r = [\n",
    "        val_metrics[0].numpy(),  # NLL\n",
    "        val_metrics[1].numpy(),  # BPD\n",
    "        val_metrics[2]['ELBO'].mean(),  # ELBO\n",
    "        val_metrics[2]['D'].mean(),  # D\n",
    "        val_metrics[2]['R'].mean(),  # R\n",
    "        val_metrics[2].get('R_F', np.zeros(1)).mean(),  # R\n",
    "        val_metrics[2].get('R_Y|f', np.zeros(1)).mean(),  # R\n",
    "        val_metrics[2].get('R_Y', np.zeros(1)).mean(),  # R\n",
    "        val_metrics[2].get('R_Z', np.zeros(1)).mean(),  # R\n",
    "    ]\n",
    "    valid_results[cls].append(r)\n",
    "    \n",
    "    random.seed(0)\n",
    "    np.random.seed(0)\n",
    "    torch.manual_seed(0)\n",
    "    rng = np.random.RandomState(0) \n",
    "    \n",
    "    print('Testing...')\n",
    "    test_metrics = validate(\n",
    "        state.vae, get_batcher(test_loader, args), \n",
    "        num_samples=num_samples_test, \n",
    "        compute_DR=True,\n",
    "        progressbar=True,\n",
    "    )            \n",
    "    \n",
    "    print()\n",
    "                \n",
    "    r = [\n",
    "        test_metrics[0].numpy(),  # NLL\n",
    "        test_metrics[1].numpy(),  # BPD\n",
    "        test_metrics[2]['ELBO'].mean(),  # ELBO\n",
    "        test_metrics[2]['D'].mean(),  # D\n",
    "        test_metrics[2]['R'].mean(),  # R\n",
    "        test_metrics[2].get('R_F', np.zeros(1)).mean(),  # R\n",
    "        test_metrics[2].get('R_Y|f', np.zeros(1)).mean(),  # R\n",
    "        test_metrics[2].get('R_Y', np.zeros(1)).mean(),  # R\n",
    "        test_metrics[2].get('R_Z', np.zeros(1)).mean(),  # R\n",
    "    ]\n",
    "    test_results[cls].append(r)\n",
    "    "
   ]
  },
  {
   "cell_type": "code",
   "execution_count": null,
   "metadata": {},
   "outputs": [],
   "source": [
    "from tabulate import tabulate"
   ]
  },
  {
   "cell_type": "code",
   "execution_count": null,
   "metadata": {},
   "outputs": [],
   "source": [
    "headers = ['NLL', 'BPD', 'ELBO', 'D', 'R', 'R_F', 'R_Y|f', 'R_Y', 'R_Z']\n",
    "# print(\"Validation\")\n",
    "# print(tabulate(valid_results['gaussian'], headers=headers, floatfmt='.2f'))\n",
    "# print(tabulate(valid_results['dirichlet'], headers=headers, floatfmt='.2f'))\n",
    "# print(tabulate(valid_results['mixed-maxent'], headers=headers, floatfmt='.2f'))"
   ]
  },
  {
   "cell_type": "code",
   "execution_count": null,
   "metadata": {},
   "outputs": [],
   "source": [
    "# print('mixed-dir')\n",
    "# print(tabulate(\n",
    "#     [\n",
    "#         ['mean'] + [x for x in np.mean(valid_results['mixed-maxent'], 0)],\n",
    "#         ['std'] + [x for x in np.std(valid_results['mixed-maxent'], 0)],\n",
    "#         ['min'] + [x for x in np.min(valid_results['mixed-maxent'], 0)],\n",
    "#         ['max'] + [x for x in np.max(valid_results['mixed-maxent'], 0)]\n",
    "#     ], \n",
    "#     headers=headers, floatfmt='.2f'))"
   ]
  },
  {
   "cell_type": "code",
   "execution_count": null,
   "metadata": {},
   "outputs": [],
   "source": [
    "idx = np.array([3, 4, 0], dtype=int)\n",
    "\n",
    "print(tabulate(\n",
    "    [\n",
    "        ['gaussian', 'valid'] + [x for x in np.array(valid_results['gaussian'])[:,idx].mean(0)],        \n",
    "        ['dirichlet', 'valid'] + [x for x in np.array(valid_results['dirichlet'])[:,idx].mean(0)],\n",
    "        ['mixed-dir', 'valid'] + [x for x in np.array(valid_results['mixed-maxent'])[:,idx].mean(0)],\n",
    "        ['onehotcat', 'valid'] + [x for x in np.array(valid_results['onehotcat'])[:,idx].mean(0)],\n",
    "        ['categorical', 'valid'] + [x for x in np.array(valid_results['categorical'])[:,idx].mean(0)],\n",
    "\n",
    "        ['gaussian', 'test'] + [x for x in np.array(test_results['gaussian'])[:,idx].mean(0)],\n",
    "        ['dirichlet', 'test'] + [x for x in np.array(test_results['dirichlet'])[:,idx].mean(0)],\n",
    "        ['mixed-dir', 'test'] + [x for x in np.array(test_results['mixed-maxent'])[:,idx].mean(0)],\n",
    "        ['onehotcat', 'test'] + [x for x in np.array(test_results['onehotcat'])[:,idx].mean(0)],\n",
    "        ['categorical', 'test'] + [x for x in np.array(test_results['categorical'])[:,idx].mean(0)],\n",
    "    ], \n",
    "    headers=['Model', 'Dataset', 'D', 'R', 'NLL'], floatfmt='.2f'))"
   ]
  },
  {
   "cell_type": "markdown",
   "metadata": {},
   "source": [
    "```\n",
    "Model      Dataset        D      R     NLL\n",
    "---------  ---------  -----  -----  ------\n",
    "gaussian   valid      77.05  19.93   91.68\n",
    "dirichlet  valid      79.15  20.13   94.48\n",
    "mixed-dir  valid      90.97  19.16  107.12\n",
    "gaussian   test       76.67  19.94   91.12\n",
    "dirichlet  test       78.62  19.94   93.81\n",
    "mixed-dir  test       90.34  19.39  106.59\n",
    "```"
   ]
  },
  {
   "cell_type": "code",
   "execution_count": null,
   "metadata": {},
   "outputs": [],
   "source": [
    "import pickle\n",
    "knn_model = pickle.load(open('knnclassifier.pickle', 'rb'))"
   ]
  },
  {
   "cell_type": "code",
   "execution_count": null,
   "metadata": {},
   "outputs": [],
   "source": [
    "x_gen_prior = np.concatenate(prior['x'])\n",
    "x_gen_prior.shape"
   ]
  },
  {
   "cell_type": "code",
   "execution_count": null,
   "metadata": {},
   "outputs": [],
   "source": [
    "knn_pred = knn_model.predict(x_gen_prior)"
   ]
  },
  {
   "cell_type": "code",
   "execution_count": null,
   "metadata": {},
   "outputs": [],
   "source": [
    "clustered = defaultdict(list)\n",
    "for x_, y_ in zip(x_gen_prior, knn_pred):\n",
    "    clustered[y_].append(x_)\n",
    "clustered = {cls: np.stack(digits) for cls, digits in clustered.items()}"
   ]
  },
  {
   "cell_type": "code",
   "execution_count": null,
   "metadata": {},
   "outputs": [],
   "source": [
    "p_emp = np.array([len(clustered.get(c, []))/x_gen_prior.shape[0] for c in range(10)])"
   ]
  },
  {
   "cell_type": "code",
   "execution_count": null,
   "metadata": {},
   "outputs": [],
   "source": [
    "_ = plt.plot(np.arange(10) + 1, p_emp, 'o')"
   ]
  },
  {
   "cell_type": "code",
   "execution_count": null,
   "metadata": {},
   "outputs": [],
   "source": [
    "# KL(p_emp||U) and KL(U||p_emp)\n",
    "kl1 = (p_emp * (np.log(p_emp) - np.log(0.1))).sum(0)\n",
    "kl2 = (0.1 * (np.log(0.1) - np.log(p_emp))).sum(0)\n",
    "print(tabulate([[kl1, kl2, (kl1+kl2)/2]], headers=['KL from uniform', 'KL from empirical', 'JS']))"
   ]
  },
  {
   "cell_type": "code",
   "execution_count": null,
   "metadata": {},
   "outputs": [],
   "source": [
    "fig, axs = plt.subplots(\n",
    "    2, 5, \n",
    "    sharex=True, sharey=True,\n",
    "    gridspec_kw={'hspace': 0, 'wspace': 0})\n",
    "for c in range(10):\n",
    "    axs[c // 5, c % 5].imshow(clustered.get(c, np.zeros((1, 28 * 28))).mean(0).reshape(args.height, args.width), cmap='Greys')\n",
    "    axs[c // 5, c % 5].set_xlabel(f\"({c}) {p_emp[c] * 100:.2f}\") #set_title(f\"X'|X={c}\")\n",
    "for ax in axs.flat:\n",
    "    ax.set_xticks([])\n",
    "    ax.set_yticks([])\n",
    "# Hide x labels and tick labels for top plots and y ticks for right plots.\n",
    "#for ax in axs.flat:\n",
    "#    ax.label_outer()\n",
    "_ = fig.suptitle(r'Samples from prior clustered by KNN classifier with F1=95%')"
   ]
  },
  {
   "cell_type": "code",
   "execution_count": null,
   "metadata": {},
   "outputs": [],
   "source": [
    "fig, axs = plt.subplots(\n",
    "    10, 10, \n",
    "    figsize=(15, 10),\n",
    "    sharex=True, sharey=True,\n",
    "    gridspec_kw={'hspace': 0, 'wspace': 0},\n",
    ")\n",
    "for c in range(10):\n",
    "    axs[c, 0].imshow(clustered.get(c, np.zeros((1, 28 * 28))).mean(0).reshape(args.height, args.width), cmap='Greys')    \n",
    "    for i, k in enumerate(np.random.choice(len(clustered.get(c, [])), size=9)):\n",
    "        axs[c, i + 1].imshow(clustered[c][k].reshape(args.height, args.width), cmap='Greys')\n",
    "\n",
    "for ax in axs.flat:\n",
    "    ax.set_xticks([])\n",
    "    ax.set_yticks([])\n",
    "_ = fig.suptitle(r'Samples from prior clustered by KNN classifier with F1=95%')"
   ]
  },
  {
   "cell_type": "code",
   "execution_count": null,
   "metadata": {},
   "outputs": [],
   "source": [
    "K = density_estimation(\n",
    "    state.vae, \n",
    "    get_batcher(test_loader, args),  # we MC estimate KL(q(y)||p(y)) by sampling x~dev, y|x ~ infnet\n",
    "    get_batcher(valid_loader, args),  # we estimate log q(y) via mean(log q(y|x) for x in training)\n",
    "    batch_size_y=5000, \n",
    "    progressbar=True\n",
    ")"
   ]
  },
  {
   "cell_type": "code",
   "execution_count": null,
   "metadata": {},
   "outputs": [],
   "source": [
    "_ = plt.hist(K, density=True, alpha=0.5, bins=100, label='hopeful-puddle-2')\n",
    "_ = plt.legend()"
   ]
  },
  {
   "cell_type": "code",
   "execution_count": null,
   "metadata": {},
   "outputs": [],
   "source": [
    "test_metrics = validate(state.vae, get_batcher(test_loader, args), num_samples, compute_DR=True)\n",
    "print(f'Saved ckpt - Test: nll={test_metrics[0]:.2f} bpd={test_metrics[1]:.2f}')"
   ]
  },
  {
   "cell_type": "code",
   "execution_count": null,
   "metadata": {},
   "outputs": [],
   "source": [
    "rows = [('IS-NLL', test_metrics[0], None), ('IS-BPD', test_metrics[1], None)]\n",
    "for k, v in test_metrics[2].items():\n",
    "    rows.append((k, v.mean(), v.std()))\n",
    "print(tabulate(rows, headers=['metric', 'mean', 'std']))    "
   ]
  },
  {
   "cell_type": "markdown",
   "metadata": {
    "id": "dz90e7lyzOwe"
   },
   "source": [
    "# Training Curves"
   ]
  },
  {
   "cell_type": "code",
   "execution_count": null,
   "metadata": {
    "id": "1BiQHIBHwJrr"
   },
   "outputs": [],
   "source": [
    "np_stats_tr = {k: np.array(v) for k, v in state.stats_tr.items()}\n",
    "np_stats_val = {k: np.array(v) for k, v in state.stats_val.items()}"
   ]
  },
  {
   "cell_type": "code",
   "execution_count": null,
   "metadata": {},
   "outputs": [],
   "source": [
    "def smooth(v, kernel_size=100):\n",
    "    if kernel_size is None:\n",
    "        return v\n",
    "    return np.convolve(v, np.ones(kernel_size)/kernel_size, 'valid')"
   ]
  },
  {
   "cell_type": "code",
   "execution_count": null,
   "metadata": {
    "colab": {
     "base_uri": "https://localhost:8080/",
     "height": 1000
    },
    "id": "-y3TFeJgwrbv",
    "outputId": "f6c5d3d2-0ea0-4e1b-f309-938be21c2d44",
    "scrolled": false
   },
   "outputs": [],
   "source": [
    "for k, v in np_stats_tr.items():\n",
    "    v = smooth(v)\n",
    "    plt.plot(np.arange(1, v.size + 1), v, '.')    \n",
    "    plt.ylabel(f'Training {k}')\n",
    "    plt.xlabel('iteration')\n",
    "    plt.show()"
   ]
  },
  {
   "cell_type": "markdown",
   "metadata": {
    "id": "FY26XI0FzUm8"
   },
   "source": [
    "# Validation Curves"
   ]
  },
  {
   "cell_type": "code",
   "execution_count": null,
   "metadata": {},
   "outputs": [],
   "source": [
    "print(tabulate(\n",
    "    [(k, np.mean(v[-100:]), np.min(v[-100:])) for k, v in np_stats_val.items()],\n",
    "    headers=['metric', 'mean', 'min']\n",
    "))"
   ]
  },
  {
   "cell_type": "code",
   "execution_count": null,
   "metadata": {
    "colab": {
     "base_uri": "https://localhost:8080/",
     "height": 541
    },
    "id": "XoLBOF45yivl",
    "outputId": "d1fa5183-3cec-428c-d8d2-cb2bf72cd44f",
    "scrolled": false
   },
   "outputs": [],
   "source": [
    "for k, v in np_stats_val.items():\n",
    "    plt.plot(np.arange(1, v.size + 1), v, 'o')\n",
    "    plt.ylabel(f'Validation {k}')\n",
    "    plt.xlabel('epoch')\n",
    "    plt.show()\n",
    "for k, v in np_stats_val.items():\n",
    "    v = v[v.size//2:]\n",
    "    plt.plot(np.arange(1 + v.size//2, v.size + 1 + v.size//2), v, 'o')\n",
    "    plt.ylabel(f'Validation {k}')\n",
    "    plt.xlabel('epoch')\n",
    "    plt.show()    "
   ]
  },
  {
   "cell_type": "code",
   "execution_count": null,
   "metadata": {},
   "outputs": [],
   "source": [
    "val_nll, val_bpd, val_DR = validate(\n",
    "    state.vae, get_batcher(valid_loader, args), num_samples, compute_DR=True, progressbar=True)"
   ]
  },
  {
   "cell_type": "code",
   "execution_count": null,
   "metadata": {},
   "outputs": [],
   "source": [
    "rows = [('IS-NLL', val_nll, None), ('IS-BPD', val_bpd, None)]\n",
    "for k, v in val_DR.items():\n",
    "    rows.append((k, v.mean(), v.std()))\n",
    "print(tabulate(rows, headers=['metric', 'mean', 'std']))    "
   ]
  },
  {
   "cell_type": "code",
   "execution_count": null,
   "metadata": {},
   "outputs": [],
   "source": [
    "_ = plt.hist(val_DR['D'], bins='auto')\n",
    "_ = plt.xlabel('D')\n",
    "plt.show()\n",
    "\n",
    "_ = plt.hist(val_DR['R'], bins='auto')\n",
    "_ = plt.xlabel('R')\n",
    "plt.show()\n",
    "\n",
    "if state.vae.p.z_dim:\n",
    "    _ = plt.hist(val_DR['R_Z'], bins='auto')\n",
    "    _ = plt.xlabel('R(Z)')\n",
    "    plt.show()\n",
    "    \n",
    "if state.vae.p.y_dim:\n",
    "    _ = plt.hist(val_DR['R_F'], bins='auto')\n",
    "    _ = plt.xlabel('R(F)')\n",
    "    plt.show()\n",
    "\n",
    "    _ = plt.hist(val_DR['R_Y|f'], bins='auto')\n",
    "    _ = plt.xlabel('R(Y|F)')\n",
    "    plt.show()"
   ]
  },
  {
   "cell_type": "markdown",
   "metadata": {
    "id": "ndBexD8IzXDi"
   },
   "source": [
    "# Analysis"
   ]
  },
  {
   "cell_type": "code",
   "execution_count": null,
   "metadata": {},
   "outputs": [],
   "source": [
    "import torch_two_sample as t2s\n",
    "from analysis import collect_samples"
   ]
  },
  {
   "cell_type": "code",
   "execution_count": null,
   "metadata": {},
   "outputs": [],
   "source": [
    "prior, posterior = collect_samples(state.vae, get_batcher(valid_loader, args), args, num_samples=num_samples)"
   ]
  },
  {
   "cell_type": "code",
   "execution_count": null,
   "metadata": {},
   "outputs": [],
   "source": [
    "for rv, dim in [('f', state.p.y_dim), ('y', state.p.y_dim), ('z', state.p.z_dim)]:\n",
    "    if dim == 0:\n",
    "        continue\n",
    "    p_f = np.stack(prior[rv]).reshape(-1, dim)\n",
    "    q_f = np.stack(posterior[rv]).reshape(-1, dim)\n",
    "    mmd = t2s.statistics_diff.MMDStatistic(p_f.shape[0], q_f.shape[0])\n",
    "    v = np.array([mmd(torch.tensor(p_f), torch.tensor(q_f), [alpha]).cpu().numpy() for alpha in np.random.gamma(10., 1./10, size=20)])\n",
    "\n",
    "    _ = plt.hist(v, color='blue', alpha=0.3, label='')\n",
    "    _ = plt.axvline(x=v.mean(), c='blue')\n",
    "    #_ = plt.hist(v2, color='red', alpha=0.3, label='volcanic-firefly-4')\n",
    "    #_ = plt.axvline(x=v2.mean(), c='red')\n",
    "    _ = plt.xlabel(f\"MMD {rv}\")\n",
    "    plt.show()"
   ]
  },
  {
   "cell_type": "code",
   "execution_count": null,
   "metadata": {},
   "outputs": [],
   "source": []
  },
  {
   "cell_type": "code",
   "execution_count": null,
   "metadata": {},
   "outputs": [],
   "source": [
    "#v2 = np.array([mmd(torch.tensor(p_f), torch.tensor(q_f), [alpha]).cpu().numpy() for alpha in np.random.gamma(10., 1./10, size=100)])"
   ]
  },
  {
   "cell_type": "code",
   "execution_count": null,
   "metadata": {},
   "outputs": [],
   "source": []
  },
  {
   "cell_type": "code",
   "execution_count": null,
   "metadata": {},
   "outputs": [],
   "source": []
  },
  {
   "cell_type": "markdown",
   "metadata": {},
   "source": [
    "## KL"
   ]
  },
  {
   "cell_type": "code",
   "execution_count": null,
   "metadata": {
    "colab": {
     "base_uri": "https://localhost:8080/",
     "height": 1000
    },
    "id": "DasiABbHu5mc",
    "outputId": "4259154c-0094-4078-ff1c-896c02b9680e",
    "scrolled": false
   },
   "outputs": [],
   "source": [
    "compare_marginals(state.vae, get_batcher(valid_loader, args), args, cols=5, num_samples=num_samples)"
   ]
  },
  {
   "cell_type": "markdown",
   "metadata": {},
   "source": [
    "## Posterior and Prior Samples"
   ]
  },
  {
   "cell_type": "code",
   "execution_count": null,
   "metadata": {
    "colab": {
     "base_uri": "https://localhost:8080/",
     "height": 1000
    },
    "id": "kcNTB64xhrYx",
    "outputId": "94a41323-768c-4bac-cddd-1e728ab474c4"
   },
   "outputs": [],
   "source": [
    "compare_samples(state.vae, get_batcher(valid_loader, args), args, N=5, num_figs=2, num_samples=1000)"
   ]
  },
  {
   "cell_type": "markdown",
   "metadata": {},
   "source": [
    "## TSNE"
   ]
  },
  {
   "cell_type": "code",
   "execution_count": null,
   "metadata": {
    "id": "dpY7GkEQhrYx"
   },
   "outputs": [],
   "source": [
    "from analysis import samples_per_digit"
   ]
  },
  {
   "cell_type": "code",
   "execution_count": null,
   "metadata": {
    "id": "OSgvWiwy86Is"
   },
   "outputs": [],
   "source": [
    "f, y, z, x, marginal_f, scores, concs = samples_per_digit(\n",
    "    state.vae, get_batcher(valid_loader, args, onehot=False), \n",
    "    args, return_marginal=args.y_dim > 0)"
   ]
  },
  {
   "cell_type": "code",
   "execution_count": null,
   "metadata": {},
   "outputs": [],
   "source": [
    "f.shape, f.mean(1).shape, z.shape, z.mean(1).shape, x.shape, x.mean(1).shape"
   ]
  },
  {
   "cell_type": "code",
   "execution_count": null,
   "metadata": {},
   "outputs": [],
   "source": [
    "marginal_f.shape, marginal_f.mean(1).shape, scores.shape, scores.mean(1).shape, concs.shape, concs.mean(1).shape"
   ]
  },
  {
   "cell_type": "code",
   "execution_count": null,
   "metadata": {},
   "outputs": [],
   "source": [
    "if state.vae.p.y_dim:\n",
    "    _ = plt.imshow(f.mean(1))\n",
    "    _ = plt.ylabel('Class')\n",
    "    _ = plt.xlabel(r'$k$')\n",
    "    _ = plt.title(r'$E[F_k = 1|X]$')\n",
    "    _ = plt.colorbar()\n",
    "    plt.show()\n",
    "    \n",
    "#     _ = plt.imshow(f.sum(-1).mean(1, keepdims=True))\n",
    "#     _ = plt.ylabel('Class')\n",
    "#     #_ = plt.xlabel(r'$\\max_k$')\n",
    "#     _ = plt.xticks([], [])\n",
    "#     _ = plt.title(r'mean argmax')\n",
    "#     _ = plt.colorbar()\n",
    "#     plt.show()\n",
    "    \n",
    "    for k in range(10):\n",
    "        _ = plt.hist(f[k].sum(-1), label=f'{k}')\n",
    "    _ = plt.legend()\n",
    "    plt.show()\n",
    "    \n",
    "    _ = plt.imshow(scores.mean(1))\n",
    "    _ = plt.ylabel('Class')\n",
    "    _ = plt.xlabel(r'$k$')\n",
    "    _ = plt.title(r'$E[\\omega_k|X]$')\n",
    "    _ = plt.colorbar()\n",
    "    plt.show()\n",
    "    \n",
    "    _ = plt.imshow(concs.mean(1))\n",
    "    _ = plt.ylabel('Class')\n",
    "    _ = plt.xlabel(r'$k$')\n",
    "    _ = plt.title(r'$E[\\alpha_k|X]$')\n",
    "    _ = plt.colorbar()\n",
    "    plt.show()"
   ]
  },
  {
   "cell_type": "code",
   "execution_count": null,
   "metadata": {},
   "outputs": [],
   "source": [
    "from itertools import product\n",
    "\n",
    "if state.vae.p.y_dim:\n",
    "    mc_marginal_f = f.mean(1)\n",
    "    Fs = [td.Independent(td.Bernoulli(probs=(torch.tensor(mc_marginal_f[c])*0.99 + 1e-4)), 1) for c in range(10)]\n",
    "    JS_F = np.array([[(0.5*td.kl_divergence(Fs[c], Fs[c_])+0.5*td.kl_divergence(Fs[c_], Fs[c])).numpy() for c_ in range(10)] for c in range(10)])\n",
    "    #KL_F = np.array([[td.kl_divergence(Fs[c], Fs[c_]).numpy() for c_ in range(10)] for c in range(10)])\n",
    "    _ = plt.imshow(JS_F)\n",
    "    _ = plt.ylabel('Class')\n",
    "    _ = plt.yticks(np.arange(10), np.arange(10))\n",
    "    _ = plt.xlabel('Class')\n",
    "    _ = plt.xticks(np.arange(10), np.arange(10))\n",
    "    _ = plt.title(r'KL')\n",
    "    _ = plt.colorbar()\n",
    "    plt.show()\n",
    "    \n",
    "    mc_marginal_f = marginal_f.mean(1)\n",
    "    Fs = [td.Independent(td.Bernoulli(probs=(torch.tensor(mc_marginal_f[c])*0.99 + 1e-4)), 1) for c in range(10)]\n",
    "    JS_F = np.array([[(0.5*td.kl_divergence(Fs[c], Fs[c_])+0.5*td.kl_divergence(Fs[c_], Fs[c])).numpy() for c_ in range(10)] for c in range(10)])\n",
    "    #KL_F = np.array([[td.kl_divergence(Fs[c], Fs[c_]).numpy() for c_ in range(10)] for c in range(10)])\n",
    "    _ = plt.imshow(JS_F)\n",
    "    _ = plt.ylabel('Class')\n",
    "    _ = plt.yticks(np.arange(10), np.arange(10))\n",
    "    _ = plt.xlabel('Class')\n",
    "    _ = plt.xticks(np.arange(10), np.arange(10))\n",
    "    _ = plt.title(r'KL')\n",
    "    _ = plt.colorbar()"
   ]
  },
  {
   "cell_type": "code",
   "execution_count": null,
   "metadata": {},
   "outputs": [],
   "source": [
    "from sklearn.manifold import TSNE"
   ]
  },
  {
   "cell_type": "code",
   "execution_count": null,
   "metadata": {},
   "outputs": [],
   "source": [
    "def tsne_plot(samples, title, legend=True, filename=None):\n",
    "    \"\"\"\n",
    "    :param samples: [10, N,D]\n",
    "    \"\"\"\n",
    "    assert samples.shape[0] == 10, \"I need 10 digits\"\n",
    "    D = samples.shape[-1]\n",
    "    assert D > 0, \"0-dimensional features?\"\n",
    "    tsne_results = TSNE(n_components=2, random_state=1).fit_transform(samples.reshape(-1, D)).reshape(10, -1, 2)\n",
    "    plt.figure(figsize=(6, 5))\n",
    "    colors = 'r', 'g', 'b', 'c', 'm', 'y', 'k', 'gray', 'orange', 'purple'\n",
    "    for i, c in zip(np.arange(10), colors):\n",
    "        plt.scatter(tsne_results[i, :, 0], tsne_results[i, :, 1], c=c, label=i)\n",
    "    plt.xticks([], [])    \n",
    "    plt.yticks([], [])\n",
    "    if legend:\n",
    "        #plt.legend(bbox_to_anchor=(1, 0.85), loc='upper left', framealpha=0.5)\n",
    "        plt.legend(loc='upper right', framealpha=1.0)\n",
    "    #plt.title(title)\n",
    "    \n",
    "    if filename:\n",
    "        plt.savefig(f'{filename}.pdf', bbox_inches='tight') \n",
    "    plt.show()\n",
    "\n",
    "    return tsne_results"
   ]
  },
  {
   "cell_type": "code",
   "execution_count": null,
   "metadata": {},
   "outputs": [],
   "source": [
    "if state.vae.p.y_dim:\n",
    "    _ = tsne_plot(f, r\"$f \\sim Q_{F|X=x_{obs}}$\", legend=False, filename='tsne_f')"
   ]
  },
  {
   "cell_type": "code",
   "execution_count": null,
   "metadata": {},
   "outputs": [],
   "source": [
    "if state.vae.p.y_dim:\n",
    "    _ = tsne_plot(marginal_f, r\"$ \\Pr(e_k \\in F |X_{obs})$\", legend=False, filename='tsne_mu')    "
   ]
  },
  {
   "cell_type": "code",
   "execution_count": null,
   "metadata": {},
   "outputs": [],
   "source": [
    "if state.vae.p.y_dim:\n",
    "    _ = tsne_plot(scores, r\"$ w_k \\phi_k(f) |X=x_{obs}$\", legend=False, filename='tsne_scores')    "
   ]
  },
  {
   "cell_type": "code",
   "execution_count": null,
   "metadata": {},
   "outputs": [],
   "source": [
    "if state.vae.p.y_dim:\n",
    "    #_ = tsne_plot(f, r\"$F|X_{obs}$\")\n",
    "    #_ = tsne_plot(marginal_f, r\"$\\Pr(k|X_{obs})$\")\n",
    "    _ = tsne_plot(y, r\"$y \\sim Q_{Y|X=x_{obs}}$\", legend=True, filename='tsne_y')"
   ]
  },
  {
   "cell_type": "code",
   "execution_count": null,
   "metadata": {},
   "outputs": [],
   "source": [
    "if state.vae.p.z_dim:\n",
    "    _ = tsne_plot(z, r\"$Z|X_{obs}$\")"
   ]
  },
  {
   "cell_type": "code",
   "execution_count": null,
   "metadata": {},
   "outputs": [],
   "source": [
    "if state.vae.p.z_dim:\n",
    "    _ = tsne_plot((z > 0) * 1.0, r\"$Z > 0 | X_{obs}$\")"
   ]
  },
  {
   "cell_type": "code",
   "execution_count": null,
   "metadata": {},
   "outputs": [],
   "source": [
    "#if state.vae.p.z_dim:\n",
    "#    _ = tsne_plot((z > 0.01) * 1.0, r\"$Z > 0.01 | X_{obs}$\")"
   ]
  },
  {
   "cell_type": "code",
   "execution_count": null,
   "metadata": {},
   "outputs": [],
   "source": [
    "if state.vae.p.z_dim:\n",
    "    _ = plt.hist((z > 0.).sum(-1).flatten(), label=\"0\")\n",
    "    #_ = plt.hist((z > 0.01).sum(-1).flatten(), label=\"0.01\")\n",
    "    #_ = plt.hist((z > 0.1).sum(-1).flatten(), label=\"0.1\")\n",
    "    #_ = plt.hist((z > 0.5).sum(-1).flatten(), label=\"0.5\")\n",
    "    _ = plt.legend()"
   ]
  },
  {
   "cell_type": "markdown",
   "metadata": {},
   "source": [
    "## Marginal samples per class"
   ]
  },
  {
   "cell_type": "code",
   "execution_count": null,
   "metadata": {},
   "outputs": [],
   "source": [
    "marginal_x = x.mean(1)\n",
    "fig, axs = plt.subplots(\n",
    "    2, 5, \n",
    "    sharex=True, sharey=True,\n",
    "    gridspec_kw={'hspace': 0, 'wspace': 0})\n",
    "for c in range(10):\n",
    "    axs[c // 5, c % 5].imshow(marginal_x[c].reshape(args.height, args.width), cmap='Greys')\n",
    "    #axs[c // 5, c % 5].set_title(f\"X'|X={c}\")\n",
    "for ax in axs.flat:\n",
    "    ax.set_xticks([])\n",
    "    ax.set_yticks([])\n",
    "# Hide x labels and tick labels for top plots and y ticks for right plots.\n",
    "for ax in axs.flat:\n",
    "    ax.label_outer()\n",
    "_ = fig.suptitle(r'$E[X|X_{obs}, \\lambda, \\theta]$')    "
   ]
  },
  {
   "cell_type": "code",
   "execution_count": null,
   "metadata": {},
   "outputs": [],
   "source": [
    "from analysis import probe_corners"
   ]
  },
  {
   "cell_type": "code",
   "execution_count": null,
   "metadata": {},
   "outputs": [],
   "source": [
    "corner_samples = probe_corners(state.vae, get_batcher(valid_loader, args), args)"
   ]
  },
  {
   "cell_type": "code",
   "execution_count": null,
   "metadata": {},
   "outputs": [],
   "source": [
    "corner_samples[0]['x'].shape"
   ]
  },
  {
   "cell_type": "code",
   "execution_count": null,
   "metadata": {},
   "outputs": [],
   "source": [
    "fig, axs = plt.subplots(\n",
    "    2, 5, \n",
    "    sharex=True, sharey=True,\n",
    "    gridspec_kw={'hspace': 0, 'wspace': 0})\n",
    "for c in range(10):\n",
    "    axs[c // 5, c % 5].imshow(corner_samples[c]['x'].mean(0).reshape(args.height, args.width), cmap='Greys')\n",
    "    #axs[c // 5, c % 5].set_xlabel(c) #set_title(f\"X'|X={c}\")\n",
    "for ax in axs.flat:\n",
    "    ax.set_xticks([])\n",
    "    ax.set_yticks([])\n",
    "# Hide x labels and tick labels for top plots and y ticks for right plots.\n",
    "for ax in axs.flat:\n",
    "    ax.label_outer()\n",
    "_ = fig.suptitle(r'Samples from vertices')    "
   ]
  },
  {
   "cell_type": "code",
   "execution_count": null,
   "metadata": {},
   "outputs": [],
   "source": []
  },
  {
   "cell_type": "code",
   "execution_count": null,
   "metadata": {},
   "outputs": [],
   "source": []
  },
  {
   "cell_type": "code",
   "execution_count": null,
   "metadata": {},
   "outputs": [],
   "source": []
  },
  {
   "cell_type": "code",
   "execution_count": null,
   "metadata": {},
   "outputs": [],
   "source": []
  },
  {
   "cell_type": "code",
   "execution_count": null,
   "metadata": {},
   "outputs": [],
   "source": [
    "#np.save(open('to-vlad2-f.npy', 'wb'), f)"
   ]
  },
  {
   "cell_type": "code",
   "execution_count": null,
   "metadata": {},
   "outputs": [],
   "source": [
    "#np.save(open('to-vlad2-marginal.npy', 'wb'), marginal_f)"
   ]
  },
  {
   "cell_type": "code",
   "execution_count": null,
   "metadata": {},
   "outputs": [],
   "source": [
    "#np.save(open('to-vlad2-y.npy', 'wb'), y)"
   ]
  },
  {
   "cell_type": "code",
   "execution_count": null,
   "metadata": {},
   "outputs": [],
   "source": [
    "#np.save(open('to-vlad2-scores.npy', 'wb'), scores)"
   ]
  },
  {
   "cell_type": "code",
   "execution_count": null,
   "metadata": {},
   "outputs": [],
   "source": []
  },
  {
   "cell_type": "code",
   "execution_count": null,
   "metadata": {},
   "outputs": [],
   "source": []
  },
  {
   "cell_type": "code",
   "execution_count": null,
   "metadata": {},
   "outputs": [],
   "source": [
    "#frs = t2s.statistics_nondiff.FRStatistic(p_f.shape[0], q_f.shape[0])"
   ]
  },
  {
   "cell_type": "code",
   "execution_count": null,
   "metadata": {},
   "outputs": [],
   "source": [
    "#frs(torch.tensor(p_f), torch.tensor(q_f), norm=1)"
   ]
  }
 ],
 "metadata": {
  "accelerator": "GPU",
  "colab": {
   "collapsed_sections": [],
   "include_colab_link": true,
   "name": "mixed-rv-MNIST.ipynb",
   "provenance": [],
   "toc_visible": true
  },
  "kernelspec": {
   "display_name": "Python 3",
   "language": "python",
   "name": "python3"
  },
  "language_info": {
   "codemirror_mode": {
    "name": "ipython",
    "version": 3
   },
   "file_extension": ".py",
   "mimetype": "text/x-python",
   "name": "python",
   "nbconvert_exporter": "python",
   "pygments_lexer": "ipython3",
   "version": "3.7.9"
  },
  "toc-autonumbering": false,
  "widgets": {
   "application/vnd.jupyter.widget-state+json": {
    "026c452c13f74a0aa071ab5869027a7a": {
     "model_module": "@jupyter-widgets/controls",
     "model_name": "HTMLModel",
     "state": {
      "_dom_classes": [],
      "_model_module": "@jupyter-widgets/controls",
      "_model_module_version": "1.5.0",
      "_model_name": "HTMLModel",
      "_view_count": null,
      "_view_module": "@jupyter-widgets/controls",
      "_view_module_version": "1.5.0",
      "_view_name": "HTMLView",
      "description": "",
      "description_tooltip": null,
      "layout": "IPY_MODEL_2992689582d94ea0b3e2a166461861d3",
      "placeholder": "​",
      "style": "IPY_MODEL_1158c2e933694df38bce84f1c1e4b8f7",
      "value": " 9913344/? [00:15&lt;00:00, 628891.26it/s]"
     }
    },
    "05389b71a6b545cf9b61d9f63f79c894": {
     "model_module": "@jupyter-widgets/base",
     "model_name": "LayoutModel",
     "state": {
      "_model_module": "@jupyter-widgets/base",
      "_model_module_version": "1.2.0",
      "_model_name": "LayoutModel",
      "_view_count": null,
      "_view_module": "@jupyter-widgets/base",
      "_view_module_version": "1.2.0",
      "_view_name": "LayoutView",
      "align_content": null,
      "align_items": null,
      "align_self": null,
      "border": null,
      "bottom": null,
      "display": null,
      "flex": null,
      "flex_flow": null,
      "grid_area": null,
      "grid_auto_columns": null,
      "grid_auto_flow": null,
      "grid_auto_rows": null,
      "grid_column": null,
      "grid_gap": null,
      "grid_row": null,
      "grid_template_areas": null,
      "grid_template_columns": null,
      "grid_template_rows": null,
      "height": null,
      "justify_content": null,
      "justify_items": null,
      "left": null,
      "margin": null,
      "max_height": null,
      "max_width": null,
      "min_height": null,
      "min_width": null,
      "object_fit": null,
      "object_position": null,
      "order": null,
      "overflow": null,
      "overflow_x": null,
      "overflow_y": null,
      "padding": null,
      "right": null,
      "top": null,
      "visibility": null,
      "width": null
     }
    },
    "08101fefdba5474193cae33d3418a2e8": {
     "model_module": "@jupyter-widgets/controls",
     "model_name": "ProgressStyleModel",
     "state": {
      "_model_module": "@jupyter-widgets/controls",
      "_model_module_version": "1.5.0",
      "_model_name": "ProgressStyleModel",
      "_view_count": null,
      "_view_module": "@jupyter-widgets/base",
      "_view_module_version": "1.2.0",
      "_view_name": "StyleView",
      "bar_color": null,
      "description_width": "initial"
     }
    },
    "0946de80201a4d1ba749a53cefa440a6": {
     "model_module": "@jupyter-widgets/base",
     "model_name": "LayoutModel",
     "state": {
      "_model_module": "@jupyter-widgets/base",
      "_model_module_version": "1.2.0",
      "_model_name": "LayoutModel",
      "_view_count": null,
      "_view_module": "@jupyter-widgets/base",
      "_view_module_version": "1.2.0",
      "_view_name": "LayoutView",
      "align_content": null,
      "align_items": null,
      "align_self": null,
      "border": null,
      "bottom": null,
      "display": null,
      "flex": null,
      "flex_flow": null,
      "grid_area": null,
      "grid_auto_columns": null,
      "grid_auto_flow": null,
      "grid_auto_rows": null,
      "grid_column": null,
      "grid_gap": null,
      "grid_row": null,
      "grid_template_areas": null,
      "grid_template_columns": null,
      "grid_template_rows": null,
      "height": null,
      "justify_content": null,
      "justify_items": null,
      "left": null,
      "margin": null,
      "max_height": null,
      "max_width": null,
      "min_height": null,
      "min_width": null,
      "object_fit": null,
      "object_position": null,
      "order": null,
      "overflow": null,
      "overflow_x": null,
      "overflow_y": null,
      "padding": null,
      "right": null,
      "top": null,
      "visibility": null,
      "width": null
     }
    },
    "09a30ad3b16444309a2f2591382c5735": {
     "model_module": "@jupyter-widgets/base",
     "model_name": "LayoutModel",
     "state": {
      "_model_module": "@jupyter-widgets/base",
      "_model_module_version": "1.2.0",
      "_model_name": "LayoutModel",
      "_view_count": null,
      "_view_module": "@jupyter-widgets/base",
      "_view_module_version": "1.2.0",
      "_view_name": "LayoutView",
      "align_content": null,
      "align_items": null,
      "align_self": null,
      "border": null,
      "bottom": null,
      "display": null,
      "flex": null,
      "flex_flow": null,
      "grid_area": null,
      "grid_auto_columns": null,
      "grid_auto_flow": null,
      "grid_auto_rows": null,
      "grid_column": null,
      "grid_gap": null,
      "grid_row": null,
      "grid_template_areas": null,
      "grid_template_columns": null,
      "grid_template_rows": null,
      "height": null,
      "justify_content": null,
      "justify_items": null,
      "left": null,
      "margin": null,
      "max_height": null,
      "max_width": null,
      "min_height": null,
      "min_width": null,
      "object_fit": null,
      "object_position": null,
      "order": null,
      "overflow": null,
      "overflow_x": null,
      "overflow_y": null,
      "padding": null,
      "right": null,
      "top": null,
      "visibility": null,
      "width": null
     }
    },
    "0b74813a212940708ccbe6dc9c353813": {
     "model_module": "@jupyter-widgets/controls",
     "model_name": "DescriptionStyleModel",
     "state": {
      "_model_module": "@jupyter-widgets/controls",
      "_model_module_version": "1.5.0",
      "_model_name": "DescriptionStyleModel",
      "_view_count": null,
      "_view_module": "@jupyter-widgets/base",
      "_view_module_version": "1.2.0",
      "_view_name": "StyleView",
      "description_width": ""
     }
    },
    "0e0f5d2863544ecea35d0acf4f81f267": {
     "model_module": "@jupyter-widgets/controls",
     "model_name": "FloatProgressModel",
     "state": {
      "_dom_classes": [],
      "_model_module": "@jupyter-widgets/controls",
      "_model_module_version": "1.5.0",
      "_model_name": "FloatProgressModel",
      "_view_count": null,
      "_view_module": "@jupyter-widgets/controls",
      "_view_module_version": "1.5.0",
      "_view_name": "ProgressView",
      "bar_style": "success",
      "description": "",
      "description_tooltip": null,
      "layout": "IPY_MODEL_db95898f256f474d9264009bd6f5939f",
      "max": 9912422,
      "min": 0,
      "orientation": "horizontal",
      "style": "IPY_MODEL_18c5a2181a6b4979ba35dd9bc738ddf8",
      "value": 9912422
     }
    },
    "10e2682a1219417ca2371bc15a90622c": {
     "model_module": "@jupyter-widgets/controls",
     "model_name": "FloatProgressModel",
     "state": {
      "_dom_classes": [],
      "_model_module": "@jupyter-widgets/controls",
      "_model_module_version": "1.5.0",
      "_model_name": "FloatProgressModel",
      "_view_count": null,
      "_view_module": "@jupyter-widgets/controls",
      "_view_module_version": "1.5.0",
      "_view_name": "ProgressView",
      "bar_style": "success",
      "description": "Epoch   3: 100%",
      "description_tooltip": null,
      "layout": "IPY_MODEL_cb2c5222e69d44aa8330691d61edfb61",
      "max": 275,
      "min": 0,
      "orientation": "horizontal",
      "style": "IPY_MODEL_213ac6a83e7e409cac2ee43c97e7f02d",
      "value": 275
     }
    },
    "1158c2e933694df38bce84f1c1e4b8f7": {
     "model_module": "@jupyter-widgets/controls",
     "model_name": "DescriptionStyleModel",
     "state": {
      "_model_module": "@jupyter-widgets/controls",
      "_model_module_version": "1.5.0",
      "_model_name": "DescriptionStyleModel",
      "_view_count": null,
      "_view_module": "@jupyter-widgets/base",
      "_view_module_version": "1.2.0",
      "_view_name": "StyleView",
      "description_width": ""
     }
    },
    "18c5a2181a6b4979ba35dd9bc738ddf8": {
     "model_module": "@jupyter-widgets/controls",
     "model_name": "ProgressStyleModel",
     "state": {
      "_model_module": "@jupyter-widgets/controls",
      "_model_module_version": "1.5.0",
      "_model_name": "ProgressStyleModel",
      "_view_count": null,
      "_view_module": "@jupyter-widgets/base",
      "_view_module_version": "1.2.0",
      "_view_name": "StyleView",
      "bar_color": null,
      "description_width": "initial"
     }
    },
    "1e328c49a4294095af40d05efc47b7e9": {
     "model_module": "@jupyter-widgets/controls",
     "model_name": "FloatProgressModel",
     "state": {
      "_dom_classes": [],
      "_model_module": "@jupyter-widgets/controls",
      "_model_module_version": "1.5.0",
      "_model_name": "FloatProgressModel",
      "_view_count": null,
      "_view_module": "@jupyter-widgets/controls",
      "_view_module_version": "1.5.0",
      "_view_name": "ProgressView",
      "bar_style": "success",
      "description": "Epoch   2: 100%",
      "description_tooltip": null,
      "layout": "IPY_MODEL_29788d5b56994274852a7f007ceff4aa",
      "max": 275,
      "min": 0,
      "orientation": "horizontal",
      "style": "IPY_MODEL_8c7267ec1fc54d9a9a363b3b9503d530",
      "value": 275
     }
    },
    "213ac6a83e7e409cac2ee43c97e7f02d": {
     "model_module": "@jupyter-widgets/controls",
     "model_name": "ProgressStyleModel",
     "state": {
      "_model_module": "@jupyter-widgets/controls",
      "_model_module_version": "1.5.0",
      "_model_name": "ProgressStyleModel",
      "_view_count": null,
      "_view_module": "@jupyter-widgets/base",
      "_view_module_version": "1.2.0",
      "_view_name": "StyleView",
      "bar_color": null,
      "description_width": "initial"
     }
    },
    "29788d5b56994274852a7f007ceff4aa": {
     "model_module": "@jupyter-widgets/base",
     "model_name": "LayoutModel",
     "state": {
      "_model_module": "@jupyter-widgets/base",
      "_model_module_version": "1.2.0",
      "_model_name": "LayoutModel",
      "_view_count": null,
      "_view_module": "@jupyter-widgets/base",
      "_view_module_version": "1.2.0",
      "_view_name": "LayoutView",
      "align_content": null,
      "align_items": null,
      "align_self": null,
      "border": null,
      "bottom": null,
      "display": null,
      "flex": null,
      "flex_flow": null,
      "grid_area": null,
      "grid_auto_columns": null,
      "grid_auto_flow": null,
      "grid_auto_rows": null,
      "grid_column": null,
      "grid_gap": null,
      "grid_row": null,
      "grid_template_areas": null,
      "grid_template_columns": null,
      "grid_template_rows": null,
      "height": null,
      "justify_content": null,
      "justify_items": null,
      "left": null,
      "margin": null,
      "max_height": null,
      "max_width": null,
      "min_height": null,
      "min_width": null,
      "object_fit": null,
      "object_position": null,
      "order": null,
      "overflow": null,
      "overflow_x": null,
      "overflow_y": null,
      "padding": null,
      "right": null,
      "top": null,
      "visibility": null,
      "width": null
     }
    },
    "2992689582d94ea0b3e2a166461861d3": {
     "model_module": "@jupyter-widgets/base",
     "model_name": "LayoutModel",
     "state": {
      "_model_module": "@jupyter-widgets/base",
      "_model_module_version": "1.2.0",
      "_model_name": "LayoutModel",
      "_view_count": null,
      "_view_module": "@jupyter-widgets/base",
      "_view_module_version": "1.2.0",
      "_view_name": "LayoutView",
      "align_content": null,
      "align_items": null,
      "align_self": null,
      "border": null,
      "bottom": null,
      "display": null,
      "flex": null,
      "flex_flow": null,
      "grid_area": null,
      "grid_auto_columns": null,
      "grid_auto_flow": null,
      "grid_auto_rows": null,
      "grid_column": null,
      "grid_gap": null,
      "grid_row": null,
      "grid_template_areas": null,
      "grid_template_columns": null,
      "grid_template_rows": null,
      "height": null,
      "justify_content": null,
      "justify_items": null,
      "left": null,
      "margin": null,
      "max_height": null,
      "max_width": null,
      "min_height": null,
      "min_width": null,
      "object_fit": null,
      "object_position": null,
      "order": null,
      "overflow": null,
      "overflow_x": null,
      "overflow_y": null,
      "padding": null,
      "right": null,
      "top": null,
      "visibility": null,
      "width": null
     }
    },
    "2ee410127a6540ba85b6d733f50a9df8": {
     "model_module": "@jupyter-widgets/controls",
     "model_name": "HBoxModel",
     "state": {
      "_dom_classes": [],
      "_model_module": "@jupyter-widgets/controls",
      "_model_module_version": "1.5.0",
      "_model_name": "HBoxModel",
      "_view_count": null,
      "_view_module": "@jupyter-widgets/controls",
      "_view_module_version": "1.5.0",
      "_view_name": "HBoxView",
      "box_style": "",
      "children": [
       "IPY_MODEL_687400af482f43239a161d7a6f2d7a97",
       "IPY_MODEL_5c2c665e1dfc4b2785cf4015421e2ddc"
      ],
      "layout": "IPY_MODEL_a0cd4f136d48492ba89ddc256d21ec54"
     }
    },
    "303a5282789449ca8e7ed903d268f9e1": {
     "model_module": "@jupyter-widgets/controls",
     "model_name": "DescriptionStyleModel",
     "state": {
      "_model_module": "@jupyter-widgets/controls",
      "_model_module_version": "1.5.0",
      "_model_name": "DescriptionStyleModel",
      "_view_count": null,
      "_view_module": "@jupyter-widgets/base",
      "_view_module_version": "1.2.0",
      "_view_name": "StyleView",
      "description_width": ""
     }
    },
    "3101e39990db4580877323e9ee2954ea": {
     "model_module": "@jupyter-widgets/controls",
     "model_name": "DescriptionStyleModel",
     "state": {
      "_model_module": "@jupyter-widgets/controls",
      "_model_module_version": "1.5.0",
      "_model_name": "DescriptionStyleModel",
      "_view_count": null,
      "_view_module": "@jupyter-widgets/base",
      "_view_module_version": "1.2.0",
      "_view_name": "StyleView",
      "description_width": ""
     }
    },
    "32dde89004e541a78ee6d35af5d3f14b": {
     "model_module": "@jupyter-widgets/controls",
     "model_name": "HBoxModel",
     "state": {
      "_dom_classes": [],
      "_model_module": "@jupyter-widgets/controls",
      "_model_module_version": "1.5.0",
      "_model_name": "HBoxModel",
      "_view_count": null,
      "_view_module": "@jupyter-widgets/controls",
      "_view_module_version": "1.5.0",
      "_view_name": "HBoxView",
      "box_style": "",
      "children": [
       "IPY_MODEL_642b9f5fb1624f2c97344e8e7a6c5d20",
       "IPY_MODEL_a9ff1ca678d44b0b96e0aea1541c8359"
      ],
      "layout": "IPY_MODEL_05389b71a6b545cf9b61d9f63f79c894"
     }
    },
    "3440563d925941f3891b4b1f48d45319": {
     "model_module": "@jupyter-widgets/controls",
     "model_name": "FloatProgressModel",
     "state": {
      "_dom_classes": [],
      "_model_module": "@jupyter-widgets/controls",
      "_model_module_version": "1.5.0",
      "_model_name": "FloatProgressModel",
      "_view_count": null,
      "_view_module": "@jupyter-widgets/controls",
      "_view_module_version": "1.5.0",
      "_view_name": "ProgressView",
      "bar_style": "success",
      "description": "Epoch   1: 100%",
      "description_tooltip": null,
      "layout": "IPY_MODEL_fbb3221bb61348a38e978a3031d0fefe",
      "max": 275,
      "min": 0,
      "orientation": "horizontal",
      "style": "IPY_MODEL_a60c0e8b61b74630845a0c22a30b95df",
      "value": 275
     }
    },
    "3e0fdd4d4d874e4ba72106d0ccfa263f": {
     "model_module": "@jupyter-widgets/base",
     "model_name": "LayoutModel",
     "state": {
      "_model_module": "@jupyter-widgets/base",
      "_model_module_version": "1.2.0",
      "_model_name": "LayoutModel",
      "_view_count": null,
      "_view_module": "@jupyter-widgets/base",
      "_view_module_version": "1.2.0",
      "_view_name": "LayoutView",
      "align_content": null,
      "align_items": null,
      "align_self": null,
      "border": null,
      "bottom": null,
      "display": null,
      "flex": null,
      "flex_flow": null,
      "grid_area": null,
      "grid_auto_columns": null,
      "grid_auto_flow": null,
      "grid_auto_rows": null,
      "grid_column": null,
      "grid_gap": null,
      "grid_row": null,
      "grid_template_areas": null,
      "grid_template_columns": null,
      "grid_template_rows": null,
      "height": null,
      "justify_content": null,
      "justify_items": null,
      "left": null,
      "margin": null,
      "max_height": null,
      "max_width": null,
      "min_height": null,
      "min_width": null,
      "object_fit": null,
      "object_position": null,
      "order": null,
      "overflow": null,
      "overflow_x": null,
      "overflow_y": null,
      "padding": null,
      "right": null,
      "top": null,
      "visibility": null,
      "width": null
     }
    },
    "4ed6b82f4b61457e996fc31e14789257": {
     "model_module": "@jupyter-widgets/base",
     "model_name": "LayoutModel",
     "state": {
      "_model_module": "@jupyter-widgets/base",
      "_model_module_version": "1.2.0",
      "_model_name": "LayoutModel",
      "_view_count": null,
      "_view_module": "@jupyter-widgets/base",
      "_view_module_version": "1.2.0",
      "_view_name": "LayoutView",
      "align_content": null,
      "align_items": null,
      "align_self": null,
      "border": null,
      "bottom": null,
      "display": null,
      "flex": null,
      "flex_flow": null,
      "grid_area": null,
      "grid_auto_columns": null,
      "grid_auto_flow": null,
      "grid_auto_rows": null,
      "grid_column": null,
      "grid_gap": null,
      "grid_row": null,
      "grid_template_areas": null,
      "grid_template_columns": null,
      "grid_template_rows": null,
      "height": null,
      "justify_content": null,
      "justify_items": null,
      "left": null,
      "margin": null,
      "max_height": null,
      "max_width": null,
      "min_height": null,
      "min_width": null,
      "object_fit": null,
      "object_position": null,
      "order": null,
      "overflow": null,
      "overflow_x": null,
      "overflow_y": null,
      "padding": null,
      "right": null,
      "top": null,
      "visibility": null,
      "width": null
     }
    },
    "519071893e9f4ed9be9ecb55833d7d07": {
     "model_module": "@jupyter-widgets/base",
     "model_name": "LayoutModel",
     "state": {
      "_model_module": "@jupyter-widgets/base",
      "_model_module_version": "1.2.0",
      "_model_name": "LayoutModel",
      "_view_count": null,
      "_view_module": "@jupyter-widgets/base",
      "_view_module_version": "1.2.0",
      "_view_name": "LayoutView",
      "align_content": null,
      "align_items": null,
      "align_self": null,
      "border": null,
      "bottom": null,
      "display": null,
      "flex": null,
      "flex_flow": null,
      "grid_area": null,
      "grid_auto_columns": null,
      "grid_auto_flow": null,
      "grid_auto_rows": null,
      "grid_column": null,
      "grid_gap": null,
      "grid_row": null,
      "grid_template_areas": null,
      "grid_template_columns": null,
      "grid_template_rows": null,
      "height": null,
      "justify_content": null,
      "justify_items": null,
      "left": null,
      "margin": null,
      "max_height": null,
      "max_width": null,
      "min_height": null,
      "min_width": null,
      "object_fit": null,
      "object_position": null,
      "order": null,
      "overflow": null,
      "overflow_x": null,
      "overflow_y": null,
      "padding": null,
      "right": null,
      "top": null,
      "visibility": null,
      "width": null
     }
    },
    "5b7868306345485fb17658bcfd1c25e4": {
     "model_module": "@jupyter-widgets/base",
     "model_name": "LayoutModel",
     "state": {
      "_model_module": "@jupyter-widgets/base",
      "_model_module_version": "1.2.0",
      "_model_name": "LayoutModel",
      "_view_count": null,
      "_view_module": "@jupyter-widgets/base",
      "_view_module_version": "1.2.0",
      "_view_name": "LayoutView",
      "align_content": null,
      "align_items": null,
      "align_self": null,
      "border": null,
      "bottom": null,
      "display": null,
      "flex": null,
      "flex_flow": null,
      "grid_area": null,
      "grid_auto_columns": null,
      "grid_auto_flow": null,
      "grid_auto_rows": null,
      "grid_column": null,
      "grid_gap": null,
      "grid_row": null,
      "grid_template_areas": null,
      "grid_template_columns": null,
      "grid_template_rows": null,
      "height": null,
      "justify_content": null,
      "justify_items": null,
      "left": null,
      "margin": null,
      "max_height": null,
      "max_width": null,
      "min_height": null,
      "min_width": null,
      "object_fit": null,
      "object_position": null,
      "order": null,
      "overflow": null,
      "overflow_x": null,
      "overflow_y": null,
      "padding": null,
      "right": null,
      "top": null,
      "visibility": null,
      "width": null
     }
    },
    "5c2c665e1dfc4b2785cf4015421e2ddc": {
     "model_module": "@jupyter-widgets/controls",
     "model_name": "HTMLModel",
     "state": {
      "_dom_classes": [],
      "_model_module": "@jupyter-widgets/controls",
      "_model_module_version": "1.5.0",
      "_model_name": "HTMLModel",
      "_view_count": null,
      "_view_module": "@jupyter-widgets/controls",
      "_view_module_version": "1.5.0",
      "_view_name": "HTMLView",
      "description": "",
      "description_tooltip": null,
      "layout": "IPY_MODEL_519071893e9f4ed9be9ecb55833d7d07",
      "placeholder": "​",
      "style": "IPY_MODEL_0b74813a212940708ccbe6dc9c353813",
      "value": " 29696/? [00:02&lt;00:00, 11538.00it/s]"
     }
    },
    "5c954db7e71f4a669989e1ecf0d89988": {
     "model_module": "@jupyter-widgets/controls",
     "model_name": "DescriptionStyleModel",
     "state": {
      "_model_module": "@jupyter-widgets/controls",
      "_model_module_version": "1.5.0",
      "_model_name": "DescriptionStyleModel",
      "_view_count": null,
      "_view_module": "@jupyter-widgets/base",
      "_view_module_version": "1.2.0",
      "_view_name": "StyleView",
      "description_width": ""
     }
    },
    "642b9f5fb1624f2c97344e8e7a6c5d20": {
     "model_module": "@jupyter-widgets/controls",
     "model_name": "FloatProgressModel",
     "state": {
      "_dom_classes": [],
      "_model_module": "@jupyter-widgets/controls",
      "_model_module_version": "1.5.0",
      "_model_name": "FloatProgressModel",
      "_view_count": null,
      "_view_module": "@jupyter-widgets/controls",
      "_view_module_version": "1.5.0",
      "_view_name": "ProgressView",
      "bar_style": "success",
      "description": "",
      "description_tooltip": null,
      "layout": "IPY_MODEL_f839264c20cd46feb8ce184e87e85416",
      "max": 4542,
      "min": 0,
      "orientation": "horizontal",
      "style": "IPY_MODEL_9328008d582947ee9a7dddef3d6571da",
      "value": 4542
     }
    },
    "6582cc71adc04d45b7687c571614931c": {
     "model_module": "@jupyter-widgets/controls",
     "model_name": "HTMLModel",
     "state": {
      "_dom_classes": [],
      "_model_module": "@jupyter-widgets/controls",
      "_model_module_version": "1.5.0",
      "_model_name": "HTMLModel",
      "_view_count": null,
      "_view_module": "@jupyter-widgets/controls",
      "_view_module_version": "1.5.0",
      "_view_name": "HTMLView",
      "description": "",
      "description_tooltip": null,
      "layout": "IPY_MODEL_fc73554bd1054f3b95d157ddaa22a8a9",
      "placeholder": "​",
      "style": "IPY_MODEL_3101e39990db4580877323e9ee2954ea",
      "value": " 1649664/? [00:01&lt;00:00, 1065497.77it/s]"
     }
    },
    "687400af482f43239a161d7a6f2d7a97": {
     "model_module": "@jupyter-widgets/controls",
     "model_name": "FloatProgressModel",
     "state": {
      "_dom_classes": [],
      "_model_module": "@jupyter-widgets/controls",
      "_model_module_version": "1.5.0",
      "_model_name": "FloatProgressModel",
      "_view_count": null,
      "_view_module": "@jupyter-widgets/controls",
      "_view_module_version": "1.5.0",
      "_view_name": "ProgressView",
      "bar_style": "success",
      "description": "",
      "description_tooltip": null,
      "layout": "IPY_MODEL_966328cab55848c6a9605f4828637fed",
      "max": 28881,
      "min": 0,
      "orientation": "horizontal",
      "style": "IPY_MODEL_ddfea72bf1334cc98c8f46f969ec2d50",
      "value": 28881
     }
    },
    "7f79b9e35755453c8fbd5a6f20d49498": {
     "model_module": "@jupyter-widgets/controls",
     "model_name": "HBoxModel",
     "state": {
      "_dom_classes": [],
      "_model_module": "@jupyter-widgets/controls",
      "_model_module_version": "1.5.0",
      "_model_name": "HBoxModel",
      "_view_count": null,
      "_view_module": "@jupyter-widgets/controls",
      "_view_module_version": "1.5.0",
      "_view_name": "HBoxView",
      "box_style": "",
      "children": [
       "IPY_MODEL_a286bdc1c9a6485ba77b8d79726c4c3f",
       "IPY_MODEL_6582cc71adc04d45b7687c571614931c"
      ],
      "layout": "IPY_MODEL_4ed6b82f4b61457e996fc31e14789257"
     }
    },
    "8be95b95873544a79de9124a8ed267d8": {
     "model_module": "@jupyter-widgets/controls",
     "model_name": "DescriptionStyleModel",
     "state": {
      "_model_module": "@jupyter-widgets/controls",
      "_model_module_version": "1.5.0",
      "_model_name": "DescriptionStyleModel",
      "_view_count": null,
      "_view_module": "@jupyter-widgets/base",
      "_view_module_version": "1.2.0",
      "_view_name": "StyleView",
      "description_width": ""
     }
    },
    "8c7267ec1fc54d9a9a363b3b9503d530": {
     "model_module": "@jupyter-widgets/controls",
     "model_name": "ProgressStyleModel",
     "state": {
      "_model_module": "@jupyter-widgets/controls",
      "_model_module_version": "1.5.0",
      "_model_name": "ProgressStyleModel",
      "_view_count": null,
      "_view_module": "@jupyter-widgets/base",
      "_view_module_version": "1.2.0",
      "_view_name": "StyleView",
      "bar_color": null,
      "description_width": "initial"
     }
    },
    "9049691356d04d3c9f79245a12e22c2d": {
     "model_module": "@jupyter-widgets/controls",
     "model_name": "HBoxModel",
     "state": {
      "_dom_classes": [],
      "_model_module": "@jupyter-widgets/controls",
      "_model_module_version": "1.5.0",
      "_model_name": "HBoxModel",
      "_view_count": null,
      "_view_module": "@jupyter-widgets/controls",
      "_view_module_version": "1.5.0",
      "_view_name": "HBoxView",
      "box_style": "",
      "children": [
       "IPY_MODEL_0e0f5d2863544ecea35d0acf4f81f267",
       "IPY_MODEL_026c452c13f74a0aa071ab5869027a7a"
      ],
      "layout": "IPY_MODEL_a52a3ce8dde147f6b45b684cb57c5eb5"
     }
    },
    "9328008d582947ee9a7dddef3d6571da": {
     "model_module": "@jupyter-widgets/controls",
     "model_name": "ProgressStyleModel",
     "state": {
      "_model_module": "@jupyter-widgets/controls",
      "_model_module_version": "1.5.0",
      "_model_name": "ProgressStyleModel",
      "_view_count": null,
      "_view_module": "@jupyter-widgets/base",
      "_view_module_version": "1.2.0",
      "_view_name": "StyleView",
      "bar_color": null,
      "description_width": "initial"
     }
    },
    "95c747e3a50e48089ba465949d499f61": {
     "model_module": "@jupyter-widgets/base",
     "model_name": "LayoutModel",
     "state": {
      "_model_module": "@jupyter-widgets/base",
      "_model_module_version": "1.2.0",
      "_model_name": "LayoutModel",
      "_view_count": null,
      "_view_module": "@jupyter-widgets/base",
      "_view_module_version": "1.2.0",
      "_view_name": "LayoutView",
      "align_content": null,
      "align_items": null,
      "align_self": null,
      "border": null,
      "bottom": null,
      "display": null,
      "flex": null,
      "flex_flow": null,
      "grid_area": null,
      "grid_auto_columns": null,
      "grid_auto_flow": null,
      "grid_auto_rows": null,
      "grid_column": null,
      "grid_gap": null,
      "grid_row": null,
      "grid_template_areas": null,
      "grid_template_columns": null,
      "grid_template_rows": null,
      "height": null,
      "justify_content": null,
      "justify_items": null,
      "left": null,
      "margin": null,
      "max_height": null,
      "max_width": null,
      "min_height": null,
      "min_width": null,
      "object_fit": null,
      "object_position": null,
      "order": null,
      "overflow": null,
      "overflow_x": null,
      "overflow_y": null,
      "padding": null,
      "right": null,
      "top": null,
      "visibility": null,
      "width": null
     }
    },
    "9613f82c5bee4d9889d755989607deed": {
     "model_module": "@jupyter-widgets/controls",
     "model_name": "HBoxModel",
     "state": {
      "_dom_classes": [],
      "_model_module": "@jupyter-widgets/controls",
      "_model_module_version": "1.5.0",
      "_model_name": "HBoxModel",
      "_view_count": null,
      "_view_module": "@jupyter-widgets/controls",
      "_view_module_version": "1.5.0",
      "_view_name": "HBoxView",
      "box_style": "",
      "children": [
       "IPY_MODEL_10e2682a1219417ca2371bc15a90622c",
       "IPY_MODEL_ae0ee77c9452406ea76c2012113ac46f"
      ],
      "layout": "IPY_MODEL_95c747e3a50e48089ba465949d499f61"
     }
    },
    "966328cab55848c6a9605f4828637fed": {
     "model_module": "@jupyter-widgets/base",
     "model_name": "LayoutModel",
     "state": {
      "_model_module": "@jupyter-widgets/base",
      "_model_module_version": "1.2.0",
      "_model_name": "LayoutModel",
      "_view_count": null,
      "_view_module": "@jupyter-widgets/base",
      "_view_module_version": "1.2.0",
      "_view_name": "LayoutView",
      "align_content": null,
      "align_items": null,
      "align_self": null,
      "border": null,
      "bottom": null,
      "display": null,
      "flex": null,
      "flex_flow": null,
      "grid_area": null,
      "grid_auto_columns": null,
      "grid_auto_flow": null,
      "grid_auto_rows": null,
      "grid_column": null,
      "grid_gap": null,
      "grid_row": null,
      "grid_template_areas": null,
      "grid_template_columns": null,
      "grid_template_rows": null,
      "height": null,
      "justify_content": null,
      "justify_items": null,
      "left": null,
      "margin": null,
      "max_height": null,
      "max_width": null,
      "min_height": null,
      "min_width": null,
      "object_fit": null,
      "object_position": null,
      "order": null,
      "overflow": null,
      "overflow_x": null,
      "overflow_y": null,
      "padding": null,
      "right": null,
      "top": null,
      "visibility": null,
      "width": null
     }
    },
    "9bd35ce5090d4252aa65b19d5ea37b42": {
     "model_module": "@jupyter-widgets/base",
     "model_name": "LayoutModel",
     "state": {
      "_model_module": "@jupyter-widgets/base",
      "_model_module_version": "1.2.0",
      "_model_name": "LayoutModel",
      "_view_count": null,
      "_view_module": "@jupyter-widgets/base",
      "_view_module_version": "1.2.0",
      "_view_name": "LayoutView",
      "align_content": null,
      "align_items": null,
      "align_self": null,
      "border": null,
      "bottom": null,
      "display": null,
      "flex": null,
      "flex_flow": null,
      "grid_area": null,
      "grid_auto_columns": null,
      "grid_auto_flow": null,
      "grid_auto_rows": null,
      "grid_column": null,
      "grid_gap": null,
      "grid_row": null,
      "grid_template_areas": null,
      "grid_template_columns": null,
      "grid_template_rows": null,
      "height": null,
      "justify_content": null,
      "justify_items": null,
      "left": null,
      "margin": null,
      "max_height": null,
      "max_width": null,
      "min_height": null,
      "min_width": null,
      "object_fit": null,
      "object_position": null,
      "order": null,
      "overflow": null,
      "overflow_x": null,
      "overflow_y": null,
      "padding": null,
      "right": null,
      "top": null,
      "visibility": null,
      "width": null
     }
    },
    "a0cd4f136d48492ba89ddc256d21ec54": {
     "model_module": "@jupyter-widgets/base",
     "model_name": "LayoutModel",
     "state": {
      "_model_module": "@jupyter-widgets/base",
      "_model_module_version": "1.2.0",
      "_model_name": "LayoutModel",
      "_view_count": null,
      "_view_module": "@jupyter-widgets/base",
      "_view_module_version": "1.2.0",
      "_view_name": "LayoutView",
      "align_content": null,
      "align_items": null,
      "align_self": null,
      "border": null,
      "bottom": null,
      "display": null,
      "flex": null,
      "flex_flow": null,
      "grid_area": null,
      "grid_auto_columns": null,
      "grid_auto_flow": null,
      "grid_auto_rows": null,
      "grid_column": null,
      "grid_gap": null,
      "grid_row": null,
      "grid_template_areas": null,
      "grid_template_columns": null,
      "grid_template_rows": null,
      "height": null,
      "justify_content": null,
      "justify_items": null,
      "left": null,
      "margin": null,
      "max_height": null,
      "max_width": null,
      "min_height": null,
      "min_width": null,
      "object_fit": null,
      "object_position": null,
      "order": null,
      "overflow": null,
      "overflow_x": null,
      "overflow_y": null,
      "padding": null,
      "right": null,
      "top": null,
      "visibility": null,
      "width": null
     }
    },
    "a286bdc1c9a6485ba77b8d79726c4c3f": {
     "model_module": "@jupyter-widgets/controls",
     "model_name": "FloatProgressModel",
     "state": {
      "_dom_classes": [],
      "_model_module": "@jupyter-widgets/controls",
      "_model_module_version": "1.5.0",
      "_model_name": "FloatProgressModel",
      "_view_count": null,
      "_view_module": "@jupyter-widgets/controls",
      "_view_module_version": "1.5.0",
      "_view_name": "ProgressView",
      "bar_style": "success",
      "description": "",
      "description_tooltip": null,
      "layout": "IPY_MODEL_3e0fdd4d4d874e4ba72106d0ccfa263f",
      "max": 1648877,
      "min": 0,
      "orientation": "horizontal",
      "style": "IPY_MODEL_08101fefdba5474193cae33d3418a2e8",
      "value": 1648877
     }
    },
    "a52a3ce8dde147f6b45b684cb57c5eb5": {
     "model_module": "@jupyter-widgets/base",
     "model_name": "LayoutModel",
     "state": {
      "_model_module": "@jupyter-widgets/base",
      "_model_module_version": "1.2.0",
      "_model_name": "LayoutModel",
      "_view_count": null,
      "_view_module": "@jupyter-widgets/base",
      "_view_module_version": "1.2.0",
      "_view_name": "LayoutView",
      "align_content": null,
      "align_items": null,
      "align_self": null,
      "border": null,
      "bottom": null,
      "display": null,
      "flex": null,
      "flex_flow": null,
      "grid_area": null,
      "grid_auto_columns": null,
      "grid_auto_flow": null,
      "grid_auto_rows": null,
      "grid_column": null,
      "grid_gap": null,
      "grid_row": null,
      "grid_template_areas": null,
      "grid_template_columns": null,
      "grid_template_rows": null,
      "height": null,
      "justify_content": null,
      "justify_items": null,
      "left": null,
      "margin": null,
      "max_height": null,
      "max_width": null,
      "min_height": null,
      "min_width": null,
      "object_fit": null,
      "object_position": null,
      "order": null,
      "overflow": null,
      "overflow_x": null,
      "overflow_y": null,
      "padding": null,
      "right": null,
      "top": null,
      "visibility": null,
      "width": null
     }
    },
    "a60c0e8b61b74630845a0c22a30b95df": {
     "model_module": "@jupyter-widgets/controls",
     "model_name": "ProgressStyleModel",
     "state": {
      "_model_module": "@jupyter-widgets/controls",
      "_model_module_version": "1.5.0",
      "_model_name": "ProgressStyleModel",
      "_view_count": null,
      "_view_module": "@jupyter-widgets/base",
      "_view_module_version": "1.2.0",
      "_view_name": "StyleView",
      "bar_color": null,
      "description_width": "initial"
     }
    },
    "a61874200e1c43bc93cf5f38f4d1602a": {
     "model_module": "@jupyter-widgets/base",
     "model_name": "LayoutModel",
     "state": {
      "_model_module": "@jupyter-widgets/base",
      "_model_module_version": "1.2.0",
      "_model_name": "LayoutModel",
      "_view_count": null,
      "_view_module": "@jupyter-widgets/base",
      "_view_module_version": "1.2.0",
      "_view_name": "LayoutView",
      "align_content": null,
      "align_items": null,
      "align_self": null,
      "border": null,
      "bottom": null,
      "display": null,
      "flex": null,
      "flex_flow": null,
      "grid_area": null,
      "grid_auto_columns": null,
      "grid_auto_flow": null,
      "grid_auto_rows": null,
      "grid_column": null,
      "grid_gap": null,
      "grid_row": null,
      "grid_template_areas": null,
      "grid_template_columns": null,
      "grid_template_rows": null,
      "height": null,
      "justify_content": null,
      "justify_items": null,
      "left": null,
      "margin": null,
      "max_height": null,
      "max_width": null,
      "min_height": null,
      "min_width": null,
      "object_fit": null,
      "object_position": null,
      "order": null,
      "overflow": null,
      "overflow_x": null,
      "overflow_y": null,
      "padding": null,
      "right": null,
      "top": null,
      "visibility": null,
      "width": null
     }
    },
    "a9ff1ca678d44b0b96e0aea1541c8359": {
     "model_module": "@jupyter-widgets/controls",
     "model_name": "HTMLModel",
     "state": {
      "_dom_classes": [],
      "_model_module": "@jupyter-widgets/controls",
      "_model_module_version": "1.5.0",
      "_model_name": "HTMLModel",
      "_view_count": null,
      "_view_module": "@jupyter-widgets/controls",
      "_view_module_version": "1.5.0",
      "_view_name": "HTMLView",
      "description": "",
      "description_tooltip": null,
      "layout": "IPY_MODEL_09a30ad3b16444309a2f2591382c5735",
      "placeholder": "​",
      "style": "IPY_MODEL_8be95b95873544a79de9124a8ed267d8",
      "value": " 5120/? [00:11&lt;00:00, 462.47it/s]"
     }
    },
    "ae0ee77c9452406ea76c2012113ac46f": {
     "model_module": "@jupyter-widgets/controls",
     "model_name": "HTMLModel",
     "state": {
      "_dom_classes": [],
      "_model_module": "@jupyter-widgets/controls",
      "_model_module_version": "1.5.0",
      "_model_name": "HTMLModel",
      "_view_count": null,
      "_view_module": "@jupyter-widgets/controls",
      "_view_module_version": "1.5.0",
      "_view_name": "HTMLView",
      "description": "",
      "description_tooltip": null,
      "layout": "IPY_MODEL_9bd35ce5090d4252aa65b19d5ea37b42",
      "placeholder": "​",
      "style": "IPY_MODEL_303a5282789449ca8e7ed903d268f9e1",
      "value": " 275/275 [00:22&lt;00:00, 12.43it/s, loss=167, LL=-142, KL_F=6.72, KL_Y=7.09, SFE_base_reward_mean=-149, SFE_base_reward_std=42.8, SFE_reward_mean=33.8, SFE_reward_std=42.8]"
     }
    },
    "cb2c5222e69d44aa8330691d61edfb61": {
     "model_module": "@jupyter-widgets/base",
     "model_name": "LayoutModel",
     "state": {
      "_model_module": "@jupyter-widgets/base",
      "_model_module_version": "1.2.0",
      "_model_name": "LayoutModel",
      "_view_count": null,
      "_view_module": "@jupyter-widgets/base",
      "_view_module_version": "1.2.0",
      "_view_name": "LayoutView",
      "align_content": null,
      "align_items": null,
      "align_self": null,
      "border": null,
      "bottom": null,
      "display": null,
      "flex": null,
      "flex_flow": null,
      "grid_area": null,
      "grid_auto_columns": null,
      "grid_auto_flow": null,
      "grid_auto_rows": null,
      "grid_column": null,
      "grid_gap": null,
      "grid_row": null,
      "grid_template_areas": null,
      "grid_template_columns": null,
      "grid_template_rows": null,
      "height": null,
      "justify_content": null,
      "justify_items": null,
      "left": null,
      "margin": null,
      "max_height": null,
      "max_width": null,
      "min_height": null,
      "min_width": null,
      "object_fit": null,
      "object_position": null,
      "order": null,
      "overflow": null,
      "overflow_x": null,
      "overflow_y": null,
      "padding": null,
      "right": null,
      "top": null,
      "visibility": null,
      "width": null
     }
    },
    "cc6a4b8ee959491f8e6901d4b96d0435": {
     "model_module": "@jupyter-widgets/controls",
     "model_name": "HTMLModel",
     "state": {
      "_dom_classes": [],
      "_model_module": "@jupyter-widgets/controls",
      "_model_module_version": "1.5.0",
      "_model_name": "HTMLModel",
      "_view_count": null,
      "_view_module": "@jupyter-widgets/controls",
      "_view_module_version": "1.5.0",
      "_view_name": "HTMLView",
      "description": "",
      "description_tooltip": null,
      "layout": "IPY_MODEL_f41c9d0c678c4495b043220fae491099",
      "placeholder": "​",
      "style": "IPY_MODEL_d7d526b7a18741a3a888c2421aea347c",
      "value": " 275/275 [00:57&lt;00:00,  4.82it/s, loss=268, LL=-158, KL_F=4.8, KL_Y=5.79, SFE_base_reward_mean=-164, SFE_base_reward_std=45.1, SFE_reward_mean=33.8, SFE_reward_std=45.1]"
     }
    },
    "d7d526b7a18741a3a888c2421aea347c": {
     "model_module": "@jupyter-widgets/controls",
     "model_name": "DescriptionStyleModel",
     "state": {
      "_model_module": "@jupyter-widgets/controls",
      "_model_module_version": "1.5.0",
      "_model_name": "DescriptionStyleModel",
      "_view_count": null,
      "_view_module": "@jupyter-widgets/base",
      "_view_module_version": "1.2.0",
      "_view_name": "StyleView",
      "description_width": ""
     }
    },
    "db95898f256f474d9264009bd6f5939f": {
     "model_module": "@jupyter-widgets/base",
     "model_name": "LayoutModel",
     "state": {
      "_model_module": "@jupyter-widgets/base",
      "_model_module_version": "1.2.0",
      "_model_name": "LayoutModel",
      "_view_count": null,
      "_view_module": "@jupyter-widgets/base",
      "_view_module_version": "1.2.0",
      "_view_name": "LayoutView",
      "align_content": null,
      "align_items": null,
      "align_self": null,
      "border": null,
      "bottom": null,
      "display": null,
      "flex": null,
      "flex_flow": null,
      "grid_area": null,
      "grid_auto_columns": null,
      "grid_auto_flow": null,
      "grid_auto_rows": null,
      "grid_column": null,
      "grid_gap": null,
      "grid_row": null,
      "grid_template_areas": null,
      "grid_template_columns": null,
      "grid_template_rows": null,
      "height": null,
      "justify_content": null,
      "justify_items": null,
      "left": null,
      "margin": null,
      "max_height": null,
      "max_width": null,
      "min_height": null,
      "min_width": null,
      "object_fit": null,
      "object_position": null,
      "order": null,
      "overflow": null,
      "overflow_x": null,
      "overflow_y": null,
      "padding": null,
      "right": null,
      "top": null,
      "visibility": null,
      "width": null
     }
    },
    "ddfea72bf1334cc98c8f46f969ec2d50": {
     "model_module": "@jupyter-widgets/controls",
     "model_name": "ProgressStyleModel",
     "state": {
      "_model_module": "@jupyter-widgets/controls",
      "_model_module_version": "1.5.0",
      "_model_name": "ProgressStyleModel",
      "_view_count": null,
      "_view_module": "@jupyter-widgets/base",
      "_view_module_version": "1.2.0",
      "_view_name": "StyleView",
      "bar_color": null,
      "description_width": "initial"
     }
    },
    "e6235f86d6144ccba6f6459586bf8b9b": {
     "model_module": "@jupyter-widgets/controls",
     "model_name": "HBoxModel",
     "state": {
      "_dom_classes": [],
      "_model_module": "@jupyter-widgets/controls",
      "_model_module_version": "1.5.0",
      "_model_name": "HBoxModel",
      "_view_count": null,
      "_view_module": "@jupyter-widgets/controls",
      "_view_module_version": "1.5.0",
      "_view_name": "HBoxView",
      "box_style": "",
      "children": [
       "IPY_MODEL_3440563d925941f3891b4b1f48d45319",
       "IPY_MODEL_f295266aeaca4088b34f2c9424f2a8a7"
      ],
      "layout": "IPY_MODEL_a61874200e1c43bc93cf5f38f4d1602a"
     }
    },
    "f295266aeaca4088b34f2c9424f2a8a7": {
     "model_module": "@jupyter-widgets/controls",
     "model_name": "HTMLModel",
     "state": {
      "_dom_classes": [],
      "_model_module": "@jupyter-widgets/controls",
      "_model_module_version": "1.5.0",
      "_model_name": "HTMLModel",
      "_view_count": null,
      "_view_module": "@jupyter-widgets/controls",
      "_view_module_version": "1.5.0",
      "_view_name": "HTMLView",
      "description": "",
      "description_tooltip": null,
      "layout": "IPY_MODEL_5b7868306345485fb17658bcfd1c25e4",
      "placeholder": "​",
      "style": "IPY_MODEL_5c954db7e71f4a669989e1ecf0d89988",
      "value": " 275/275 [01:25&lt;00:00,  3.22it/s, loss=384, LL=-184, KL_F=2.6, KL_Y=2.67, SFE_base_reward_mean=-187, SFE_base_reward_std=44.8, SFE_reward_mean=32.7, SFE_reward_std=44.8]"
     }
    },
    "f41c9d0c678c4495b043220fae491099": {
     "model_module": "@jupyter-widgets/base",
     "model_name": "LayoutModel",
     "state": {
      "_model_module": "@jupyter-widgets/base",
      "_model_module_version": "1.2.0",
      "_model_name": "LayoutModel",
      "_view_count": null,
      "_view_module": "@jupyter-widgets/base",
      "_view_module_version": "1.2.0",
      "_view_name": "LayoutView",
      "align_content": null,
      "align_items": null,
      "align_self": null,
      "border": null,
      "bottom": null,
      "display": null,
      "flex": null,
      "flex_flow": null,
      "grid_area": null,
      "grid_auto_columns": null,
      "grid_auto_flow": null,
      "grid_auto_rows": null,
      "grid_column": null,
      "grid_gap": null,
      "grid_row": null,
      "grid_template_areas": null,
      "grid_template_columns": null,
      "grid_template_rows": null,
      "height": null,
      "justify_content": null,
      "justify_items": null,
      "left": null,
      "margin": null,
      "max_height": null,
      "max_width": null,
      "min_height": null,
      "min_width": null,
      "object_fit": null,
      "object_position": null,
      "order": null,
      "overflow": null,
      "overflow_x": null,
      "overflow_y": null,
      "padding": null,
      "right": null,
      "top": null,
      "visibility": null,
      "width": null
     }
    },
    "f839264c20cd46feb8ce184e87e85416": {
     "model_module": "@jupyter-widgets/base",
     "model_name": "LayoutModel",
     "state": {
      "_model_module": "@jupyter-widgets/base",
      "_model_module_version": "1.2.0",
      "_model_name": "LayoutModel",
      "_view_count": null,
      "_view_module": "@jupyter-widgets/base",
      "_view_module_version": "1.2.0",
      "_view_name": "LayoutView",
      "align_content": null,
      "align_items": null,
      "align_self": null,
      "border": null,
      "bottom": null,
      "display": null,
      "flex": null,
      "flex_flow": null,
      "grid_area": null,
      "grid_auto_columns": null,
      "grid_auto_flow": null,
      "grid_auto_rows": null,
      "grid_column": null,
      "grid_gap": null,
      "grid_row": null,
      "grid_template_areas": null,
      "grid_template_columns": null,
      "grid_template_rows": null,
      "height": null,
      "justify_content": null,
      "justify_items": null,
      "left": null,
      "margin": null,
      "max_height": null,
      "max_width": null,
      "min_height": null,
      "min_width": null,
      "object_fit": null,
      "object_position": null,
      "order": null,
      "overflow": null,
      "overflow_x": null,
      "overflow_y": null,
      "padding": null,
      "right": null,
      "top": null,
      "visibility": null,
      "width": null
     }
    },
    "fa7034d83d3b43c2a181b51a88db3fec": {
     "model_module": "@jupyter-widgets/controls",
     "model_name": "HBoxModel",
     "state": {
      "_dom_classes": [],
      "_model_module": "@jupyter-widgets/controls",
      "_model_module_version": "1.5.0",
      "_model_name": "HBoxModel",
      "_view_count": null,
      "_view_module": "@jupyter-widgets/controls",
      "_view_module_version": "1.5.0",
      "_view_name": "HBoxView",
      "box_style": "",
      "children": [
       "IPY_MODEL_1e328c49a4294095af40d05efc47b7e9",
       "IPY_MODEL_cc6a4b8ee959491f8e6901d4b96d0435"
      ],
      "layout": "IPY_MODEL_0946de80201a4d1ba749a53cefa440a6"
     }
    },
    "fbb3221bb61348a38e978a3031d0fefe": {
     "model_module": "@jupyter-widgets/base",
     "model_name": "LayoutModel",
     "state": {
      "_model_module": "@jupyter-widgets/base",
      "_model_module_version": "1.2.0",
      "_model_name": "LayoutModel",
      "_view_count": null,
      "_view_module": "@jupyter-widgets/base",
      "_view_module_version": "1.2.0",
      "_view_name": "LayoutView",
      "align_content": null,
      "align_items": null,
      "align_self": null,
      "border": null,
      "bottom": null,
      "display": null,
      "flex": null,
      "flex_flow": null,
      "grid_area": null,
      "grid_auto_columns": null,
      "grid_auto_flow": null,
      "grid_auto_rows": null,
      "grid_column": null,
      "grid_gap": null,
      "grid_row": null,
      "grid_template_areas": null,
      "grid_template_columns": null,
      "grid_template_rows": null,
      "height": null,
      "justify_content": null,
      "justify_items": null,
      "left": null,
      "margin": null,
      "max_height": null,
      "max_width": null,
      "min_height": null,
      "min_width": null,
      "object_fit": null,
      "object_position": null,
      "order": null,
      "overflow": null,
      "overflow_x": null,
      "overflow_y": null,
      "padding": null,
      "right": null,
      "top": null,
      "visibility": null,
      "width": null
     }
    },
    "fc73554bd1054f3b95d157ddaa22a8a9": {
     "model_module": "@jupyter-widgets/base",
     "model_name": "LayoutModel",
     "state": {
      "_model_module": "@jupyter-widgets/base",
      "_model_module_version": "1.2.0",
      "_model_name": "LayoutModel",
      "_view_count": null,
      "_view_module": "@jupyter-widgets/base",
      "_view_module_version": "1.2.0",
      "_view_name": "LayoutView",
      "align_content": null,
      "align_items": null,
      "align_self": null,
      "border": null,
      "bottom": null,
      "display": null,
      "flex": null,
      "flex_flow": null,
      "grid_area": null,
      "grid_auto_columns": null,
      "grid_auto_flow": null,
      "grid_auto_rows": null,
      "grid_column": null,
      "grid_gap": null,
      "grid_row": null,
      "grid_template_areas": null,
      "grid_template_columns": null,
      "grid_template_rows": null,
      "height": null,
      "justify_content": null,
      "justify_items": null,
      "left": null,
      "margin": null,
      "max_height": null,
      "max_width": null,
      "min_height": null,
      "min_width": null,
      "object_fit": null,
      "object_position": null,
      "order": null,
      "overflow": null,
      "overflow_x": null,
      "overflow_y": null,
      "padding": null,
      "right": null,
      "top": null,
      "visibility": null,
      "width": null
     }
    }
   }
  }
 },
 "nbformat": 4,
 "nbformat_minor": 4
}
